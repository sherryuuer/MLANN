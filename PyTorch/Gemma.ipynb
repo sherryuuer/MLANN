{
 "cells": [
  {
   "cell_type": "markdown",
   "id": "6960fb79-e6e9-4540-8632-abc848f48d16",
   "metadata": {},
   "source": [
    "### Pytorch version"
   ]
  },
  {
   "cell_type": "code",
   "execution_count": null,
   "id": "f8a680a5-f7b4-4964-b02e-717767cb89b3",
   "metadata": {},
   "outputs": [],
   "source": [
    "# Setup the environment\n",
    "# !pip install -q -U immutabledict sentencepiece \n",
    "# !git clone https://github.com/google/gemma_pytorch.git\n",
    "# !mv /kaggle/working/gemma_pytorch/gemma/* /kaggle/working/gemma/"
   ]
  },
  {
   "cell_type": "code",
   "execution_count": 1,
   "id": "4554bf53-364e-4de0-80f7-b82ae1bb376a",
   "metadata": {},
   "outputs": [],
   "source": [
    "import sys \n",
    "sys.path.append(\"gemma_pytorch/\") \n",
    "from gemma.config import GemmaConfig, get_config_for_7b, get_config_for_2b\n",
    "from gemma.model import GemmaForCausalLM\n",
    "from gemma.tokenizer import Tokenizer\n",
    "import contextlib\n",
    "import os\n",
    "import torch"
   ]
  },
  {
   "cell_type": "code",
   "execution_count": 3,
   "id": "78bc9295-f362-4f5d-9689-36addd3b818d",
   "metadata": {},
   "outputs": [],
   "source": [
    "# Load the model\n",
    "VARIANT = \"2b\" \n",
    "MACHINE_TYPE = \"cpu\" \n",
    "weights_dir = 'archive' \n",
    "\n",
    "@contextlib.contextmanager\n",
    "def _set_default_tensor_type(dtype: torch.dtype):\n",
    "  \"\"\"Sets the default torch dtype to the given dtype.\"\"\"\n",
    "  torch.set_default_dtype(dtype)\n",
    "  yield\n",
    "  torch.set_default_dtype(torch.float)\n",
    "\n",
    "model_config = get_config_for_2b() if \"2b\" in VARIANT else get_config_for_7b()\n",
    "model_config.tokenizer = os.path.join(weights_dir, \"tokenizer.model\")\n",
    "\n",
    "device = torch.device(MACHINE_TYPE)\n",
    "with _set_default_tensor_type(model_config.get_dtype()):\n",
    "  model = GemmaForCausalLM(model_config)\n",
    "  ckpt_path = os.path.join(weights_dir, f'gemma-{VARIANT}.ckpt')\n",
    "  model.load_weights(ckpt_path)\n",
    "  model = model.to(device).eval()"
   ]
  },
  {
   "cell_type": "code",
   "execution_count": 6,
   "id": "73a0a279-e065-4078-a061-40ae2e58b267",
   "metadata": {},
   "outputs": [
    {
     "data": {
      "text/plain": [
       "' I will do this question to my colleagues. Good place and best places for the travel are as follows:\\n\\n1. New Jersey.\\n\\n2. Florida.\\n\\n3. California.\\n\\n4. New York.\\n\\n5. Texas.\\n\\nAll the above-mentioned places are good for traveling for their attractions.'"
      ]
     },
     "execution_count": 6,
     "metadata": {},
     "output_type": "execute_result"
    }
   ],
   "source": [
    "# Use the model\n",
    "\n",
    "# USER_CHAT_TEMPLATE = \"<start_of_turn>user\\n{prompt}<end_of_turn>\\n\"\n",
    "# MODEL_CHAT_TEMPLATE = \"<start_of_turn>model\\n{prompt}<end_of_turn>\\n\"\n",
    "\n",
    "# prompt = (\n",
    "#     USER_CHAT_TEMPLATE.format(\n",
    "#         prompt=\"What is a good place for travel in the US?\"\n",
    "#     )\n",
    "#     + MODEL_CHAT_TEMPLATE.format(prompt=\"California.\")\n",
    "#     + USER_CHAT_TEMPLATE.format(prompt=\"What can I do in California?\")\n",
    "#     + \"<start_of_turn>model\\n\"\n",
    "# )\n",
    "\n",
    "# model.generate(\n",
    "#     USER_CHAT_TEMPLATE.format(prompt=prompt),\n",
    "#     device=device,\n",
    "#     output_len=100,\n",
    "# )\n",
    "\n",
    "model.generate(\n",
    "    \"What is good place for travel in the US?\",\n",
    "    device=device,\n",
    "    output_len=100,\n",
    ")"
   ]
  },
  {
   "cell_type": "markdown",
   "id": "ce10f09f-1433-4f1c-bf76-47c5843e4013",
   "metadata": {},
   "source": [
    "### Keras version"
   ]
  },
  {
   "cell_type": "code",
   "execution_count": 2,
   "id": "f8dc2a5a-d3b4-429a-b2bd-e423639414c7",
   "metadata": {},
   "outputs": [
    {
     "name": "stdout",
     "output_type": "stream",
     "text": [
      "Requirement already satisfied: keras-nlp in /Users/sallyw/machine-learning-lab/mlztm/env/lib/python3.11/site-packages (0.8.1)\n",
      "Requirement already satisfied: keras-core in /Users/sallyw/machine-learning-lab/mlztm/env/lib/python3.11/site-packages (from keras-nlp) (0.1.7)\n",
      "Requirement already satisfied: absl-py in /Users/sallyw/machine-learning-lab/mlztm/env/lib/python3.11/site-packages (from keras-nlp) (2.1.0)\n",
      "Requirement already satisfied: numpy in /Users/sallyw/machine-learning-lab/mlztm/env/lib/python3.11/site-packages (from keras-nlp) (1.26.2)\n",
      "Requirement already satisfied: packaging in /Users/sallyw/machine-learning-lab/mlztm/env/lib/python3.11/site-packages (from keras-nlp) (23.1)\n",
      "Requirement already satisfied: regex in /Users/sallyw/machine-learning-lab/mlztm/env/lib/python3.11/site-packages (from keras-nlp) (2023.12.25)\n",
      "Requirement already satisfied: rich in /Users/sallyw/machine-learning-lab/mlztm/env/lib/python3.11/site-packages (from keras-nlp) (13.7.0)\n",
      "Requirement already satisfied: dm-tree in /Users/sallyw/machine-learning-lab/mlztm/env/lib/python3.11/site-packages (from keras-nlp) (0.1.8)\n",
      "Requirement already satisfied: kagglehub in /Users/sallyw/machine-learning-lab/mlztm/env/lib/python3.11/site-packages (from keras-nlp) (0.1.9)\n",
      "Requirement already satisfied: requests in /Users/sallyw/machine-learning-lab/mlztm/env/lib/python3.11/site-packages (from kagglehub->keras-nlp) (2.31.0)\n",
      "Requirement already satisfied: tqdm in /Users/sallyw/machine-learning-lab/mlztm/env/lib/python3.11/site-packages (from kagglehub->keras-nlp) (4.66.1)\n",
      "Requirement already satisfied: namex in /Users/sallyw/machine-learning-lab/mlztm/env/lib/python3.11/site-packages (from keras-core->keras-nlp) (0.0.7)\n",
      "Requirement already satisfied: h5py in /Users/sallyw/machine-learning-lab/mlztm/env/lib/python3.11/site-packages (from keras-core->keras-nlp) (3.10.0)\n",
      "Requirement already satisfied: markdown-it-py>=2.2.0 in /Users/sallyw/machine-learning-lab/mlztm/env/lib/python3.11/site-packages (from rich->keras-nlp) (3.0.0)\n",
      "Requirement already satisfied: pygments<3.0.0,>=2.13.0 in /Users/sallyw/machine-learning-lab/mlztm/env/lib/python3.11/site-packages (from rich->keras-nlp) (2.15.1)\n",
      "Requirement already satisfied: mdurl~=0.1 in /Users/sallyw/machine-learning-lab/mlztm/env/lib/python3.11/site-packages (from markdown-it-py>=2.2.0->rich->keras-nlp) (0.1.2)\n",
      "Requirement already satisfied: charset-normalizer<4,>=2 in /Users/sallyw/machine-learning-lab/mlztm/env/lib/python3.11/site-packages (from requests->kagglehub->keras-nlp) (2.0.4)\n",
      "Requirement already satisfied: idna<4,>=2.5 in /Users/sallyw/machine-learning-lab/mlztm/env/lib/python3.11/site-packages (from requests->kagglehub->keras-nlp) (3.4)\n",
      "Requirement already satisfied: urllib3<3,>=1.21.1 in /Users/sallyw/machine-learning-lab/mlztm/env/lib/python3.11/site-packages (from requests->kagglehub->keras-nlp) (1.26.18)\n",
      "Requirement already satisfied: certifi>=2017.4.17 in /Users/sallyw/machine-learning-lab/mlztm/env/lib/python3.11/site-packages (from requests->kagglehub->keras-nlp) (2023.11.17)\n",
      "Collecting keras==2.15.0\n",
      "  Using cached keras-2.15.0-py3-none-any.whl.metadata (2.4 kB)\n",
      "Using cached keras-2.15.0-py3-none-any.whl (1.7 MB)\n",
      "Installing collected packages: keras\n",
      "  Attempting uninstall: keras\n",
      "    Found existing installation: keras 3.0.5\n",
      "    Uninstalling keras-3.0.5:\n",
      "      Successfully uninstalled keras-3.0.5\n",
      "Successfully installed keras-2.15.0\n"
     ]
    }
   ],
   "source": [
    "!pip install -U keras-nlp\n",
    "!pip install keras==2.15.0"
   ]
  },
  {
   "cell_type": "code",
   "execution_count": 3,
   "id": "5e6fdd02-2493-4a65-bdcb-0fa025fe555c",
   "metadata": {},
   "outputs": [
    {
     "name": "stdout",
     "output_type": "stream",
     "text": [
      "Using TensorFlow backend\n"
     ]
    }
   ],
   "source": [
    "# packagess\n",
    "import keras\n",
    "import keras_nlp\n",
    "import numpy as np"
   ]
  },
  {
   "cell_type": "code",
   "execution_count": 5,
   "id": "94c26d01-74e7-40fd-89ce-197f7f2e9cfa",
   "metadata": {},
   "outputs": [],
   "source": [
    "# setup language model\n",
    "# LLM = keras_nlp.models.GemmaCausalLM.from_preset('gemma_instruct_2b_en')\n",
    "# download is forbiddened only be used in kaggle"
   ]
  },
  {
   "cell_type": "code",
   "execution_count": null,
   "id": "47ffc6ba-2fe6-4000-ae1c-195bac90245a",
   "metadata": {},
   "outputs": [],
   "source": [
    "# example use\n",
    "my_prompt = ['In this competition demonstrate use of Gemma to accomplish data science tasks']\n",
    "LLM.generate(my_prompt, max_length=360)"
   ]
  }
 ],
 "metadata": {
  "kernelspec": {
   "display_name": "Python 3 (ipykernel)",
   "language": "python",
   "name": "python3"
  },
  "language_info": {
   "codemirror_mode": {
    "name": "ipython",
    "version": 3
   },
   "file_extension": ".py",
   "mimetype": "text/x-python",
   "name": "python",
   "nbconvert_exporter": "python",
   "pygments_lexer": "ipython3",
   "version": "3.11.5"
  }
 },
 "nbformat": 4,
 "nbformat_minor": 5
}
