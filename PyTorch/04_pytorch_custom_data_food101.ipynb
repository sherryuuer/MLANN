{
 "cells": [
  {
   "cell_type": "markdown",
   "id": "0c75c7cf-1d26-4555-b32d-cc312644e1b3",
   "metadata": {},
   "source": [
    "pytorch有很多自己的框架比如torchvision，torchtext他们是用于不同问题任务的库，而他们的内部都有自己的dataset。"
   ]
  },
  {
   "cell_type": "code",
   "execution_count": 1,
   "id": "e85dbd9a-96dd-4d20-b7fd-cfa16dc367ba",
   "metadata": {},
   "outputs": [
    {
     "data": {
      "text/plain": [
       "'2.1.2'"
      ]
     },
     "execution_count": 1,
     "metadata": {},
     "output_type": "execute_result"
    }
   ],
   "source": [
    "import torch\n",
    "from torch import nn\n",
    "torch.__version__"
   ]
  },
  {
   "cell_type": "code",
   "execution_count": 2,
   "id": "eb1a69bf-e2b4-473f-87d7-0bfbf9e56dfb",
   "metadata": {},
   "outputs": [
    {
     "data": {
      "text/plain": [
       "'cpu'"
      ]
     },
     "execution_count": 2,
     "metadata": {},
     "output_type": "execute_result"
    }
   ],
   "source": [
    "# setup device agnostic code\n",
    "device = \"cuda\" if torch.cuda.is_available() else \"cpu\"\n",
    "device"
   ]
  },
  {
   "cell_type": "markdown",
   "id": "3c9dc641-36eb-43a7-b909-886da8e9c7f3",
   "metadata": {},
   "source": [
    "首先从一个小的数据集开始，比如不是101种而是3种分类的问题，底层原理是一样的但是却可以更清晰的更快捷的进行实验。Let's Experiment!"
   ]
  },
  {
   "cell_type": "code",
   "execution_count": null,
   "id": "e05a06f7-54c1-4a97-a9a3-74c7cab555b2",
   "metadata": {},
   "outputs": [],
   "source": [
    "import requests\n",
    "import zipfile\n",
    "from pathlib import Path\n",
    "\n",
    "# setup path to data folder\n",
    "data_path = Path(\"data/\")\n",
    "image_path = data_path / \"pizza_steak_sushi\"\n",
    "\n",
    "# if the image folder does's exsit, download it\n",
    "if image_path.is_dir():\n",
    "    print(f\"{image_path} directory exsits.\")\n",
    "else:\n",
    "    print(f\"{image_path} does't exsits, creating one...\")\n",
    "    image_path.mkdir(parent=True, exsit_ok=True)\n",
    "    # download pizza, steak, sushi data\n",
    "    with open(data_path / \"pizza_steak_sushi.zip\", \"wb\") as f:\n",
    "        request = requests.get(\"https//github.com/mrdbourke/pytorch-deep-learning/raw/main/data/pizza_steak_sushi.zip\")\n",
    "        print(\"Downloading pizza, steak, sushi data...\")\n",
    "        f.write(request.content)\n",
    "    # unzip pizza, steak, sushi data\n",
    "    with zipfile.ZipFile(data_path / \"pizza_steak_sushi.zip\", \"r\") as zip_ref:\n",
    "        print(\"Unzipping pizza, steak, sushi data...\")\n",
    "        zip_ref.extractall(image_path)"
   ]
  },
  {
   "cell_type": "markdown",
   "id": "36d39c63-ce2b-4261-b106-f29a97e9b8ee",
   "metadata": {},
   "source": [
    "用大量的时间进行数据准备！查看数据集的结构，将它准备为pytorch可以处理的张量，batch，dataloader。"
   ]
  },
  {
   "cell_type": "code",
   "execution_count": null,
   "id": "3759fb49-43c1-4aaa-a6de-f69ba22d1ecd",
   "metadata": {},
   "outputs": [],
   "source": [
    "# use os.walk()\n",
    "import os\n",
    "def walk_through_dir(dir_path):\n",
    "    \"\"\"\n",
    "    Walks through dir_path returning its contents\n",
    "    Args:\n",
    "    -----\n",
    "        dir_path (str or pathlib.Path):target directory\n",
    "\n",
    "    Returns:\n",
    "    -----\n",
    "        A print out of:\n",
    "        number of subdiretories in dir_path\n",
    "        number of images files in each subdirectory\n",
    "        name of each subdirectory\n",
    "    \"\"\"\n",
    "    for dirpath, dirnames, filenames in os.walk(dir_path):\n",
    "        print(f\"There are {len(dirnames)} directories and {len(filenames)} images in {dirpath}.\")"
   ]
  },
  {
   "cell_type": "code",
   "execution_count": null,
   "id": "91f3a0a4-f545-42c5-8bd4-81658ff584f0",
   "metadata": {},
   "outputs": [],
   "source": [
    "# setup train and testing paths\n",
    "train_dir = image_path / \"train\"\n",
    "test_dir = image_path / \"test\"\n",
    "\n",
    "train_dir, test_dir"
   ]
  },
  {
   "cell_type": "markdown",
   "id": "b5d9dec0-66f1-4f84-ab01-6c01b9bffa87",
   "metadata": {},
   "source": [
    "可视化总是很重要！\n",
    "使用pathlib.Path.glob()找到所有的图片文件。\n",
    "\n",
    "---\n",
    "`pathlib.Path.glob()`是 `pathlib` 模組提供的一個方法，用於通過樣式匹配返回符合條件的文件或目錄的生成器。\n",
    "\n",
    "具體來說，`glob()` 方法接受一個模式字符串作為參數，該模式字符串可以包含通配符（例如 `*` 和 `?`），並且它會返回一個生成器，該生成器生成與模式匹配的所有文件或目錄的 `Path` 對象。\n",
    "\n",
    "以下是一個簡單的示例：\n",
    "\n",
    "```python\n",
    "from pathlib import Path\n",
    "\n",
    "# 在當前目錄中查找所有以 .txt 結尾的文件\n",
    "for file_path in Path('.').glob('*.txt'):\n",
    "    print(file_path)\n",
    "```\n",
    "\n",
    "上面的例子會列印出當前目錄中所有以 `.txt` 結尾的文件的路徑。 `glob()` 方法的主要用途是方便地遍歷符合特定模式的文件或目錄。\n",
    "\n",
    "---\n",
    "返回类名的方法：\n",
    "`parent` 屬性是 `pathlib.Path` 對象的一個屬性，它返回該路徑對象的父目錄。而 `stem` 屬性則是返回不帶有文件擴展名的文件名部分。\n",
    "\n",
    "如果你使用 `parent.stem`，則代表取得該路徑的父目錄的文件名部分（不包括擴展名）。\n",
    "\n",
    "以下是一個簡單的示例：\n",
    "\n",
    "```python\n",
    "from pathlib import Path\n",
    "\n",
    "file_path = Path('/path/to/parent/file.txt')\n",
    "\n",
    "# 取得父目錄的文件名部分\n",
    "parent_stem = file_path.parent.stem\n",
    "\n",
    "print(parent_stem)\n",
    "```\n",
    "\n",
    "在這個例子中，`file_path.parent` 將是 `/path/to/parent`，而 `file_path.parent.stem` 將返回 `parent`。這是由於 `parent` 返回的是一個 `Path` 對象，而 `stem` 返回該路徑的文件名部分。\n",
    "\n",
    "---\n",
    "\n",
    "打开文件使用`PIL.Image.open()`"
   ]
  },
  {
   "cell_type": "code",
   "execution_count": 4,
   "id": "e8451a56-d48d-4c28-aa66-3ab101ba40c4",
   "metadata": {},
   "outputs": [
    {
     "name": "stdout",
     "output_type": "stream",
     "text": [
      "parent\n"
     ]
    }
   ],
   "source": [
    "# exsample\n",
    "from pathlib import Path\n",
    "\n",
    "file_path = Path('/path/to/parent/file.txt')\n",
    "\n",
    "# 取得父目錄的文件名部分\n",
    "parent_stem = file_path.parent.stem\n",
    "\n",
    "print(parent_stem)"
   ]
  },
  {
   "cell_type": "code",
   "execution_count": null,
   "id": "e5c20cdd-26fd-4cdc-b1e4-0209eac966e7",
   "metadata": {},
   "outputs": [],
   "source": [
    "import random\n",
    "from PIL import Image\n",
    "\n",
    "# seed seed\n",
    "random.seed(42)\n",
    "\n",
    "# 1, get all image paths\n",
    "image_path_list = list(image_path.glob(\"*/*/*.jpg\"))\n",
    "\n",
    "# 2, get random image path\n",
    "random_image_path = random.choice(image_path_list)\n",
    "\n",
    "# 3, get image class from path name\n",
    "image_class = random_image_path.parent.stem\n",
    "\n",
    "# 4, open image\n",
    "img = Image.open(random_image_path)\n",
    "\n",
    "# 5, print metadata\n",
    "print(f\"Random image path: {random_image_path}\")\n",
    "print(f\"Image class: {image_class}\")\n",
    "print(f\"Image height: {img.height}\")\n",
    "print(f\"Image width: {img.width}\")\n",
    "img"
   ]
  },
  {
   "cell_type": "code",
   "execution_count": null,
   "id": "4fb28a44-c2dc-4be8-8927-e23c4bb8be6f",
   "metadata": {},
   "outputs": [],
   "source": [
    "# can user matplotlib as well, have to convert the image to numpy array\n",
    "import numpy as np\n",
    "import matplotlib.pyplot as plt\n",
    "\n",
    "# turn the image into an array\n",
    "img_as_array = np.asarray(img)\n",
    "\n",
    "# plot the image with matplotlib\n",
    "plt.figure(figsize=(10, 7))\n",
    "plt.imshow(img_as_array)\n",
    "plt.title(f\"Image class: {image_class} | Image shape: {img_as_array.shape} -> [height, width, color_channels]\")\n",
    "plt.axis(False);"
   ]
  },
  {
   "cell_type": "markdown",
   "id": "56838e7a-278c-4ba5-9d1f-aacb762bab58",
   "metadata": {},
   "source": [
    "数据转换！要将图片数据加载进pytorch，需要进行张量转换，以及用dataloader将图片打成批次以便后续进行训练。"
   ]
  },
  {
   "cell_type": "code",
   "execution_count": 5,
   "id": "e1c5e9a1-9b62-4d9d-aa19-042029995dfd",
   "metadata": {},
   "outputs": [],
   "source": [
    "import torch\n",
    "from torch.utils.data import DataLoader\n",
    "from torchvision import datasets, transforms"
   ]
  },
  {
   "cell_type": "code",
   "execution_count": null,
   "id": "01b7d0a7-6e5e-492a-90ca-4af3f6ec9465",
   "metadata": {},
   "outputs": [],
   "source": [
    "# transform data with torchvision.transfroms\n"
   ]
  }
 ],
 "metadata": {
  "kernelspec": {
   "display_name": "Python 3 (ipykernel)",
   "language": "python",
   "name": "python3"
  },
  "language_info": {
   "codemirror_mode": {
    "name": "ipython",
    "version": 3
   },
   "file_extension": ".py",
   "mimetype": "text/x-python",
   "name": "python",
   "nbconvert_exporter": "python",
   "pygments_lexer": "ipython3",
   "version": "3.11.5"
  }
 },
 "nbformat": 4,
 "nbformat_minor": 5
}
