{
 "cells": [
  {
   "cell_type": "code",
   "execution_count": 1,
   "id": "a932a9ec-6d4a-4e41-aa3f-41c64008cc84",
   "metadata": {},
   "outputs": [],
   "source": [
    "what_were_covering = {\n",
    "    1: \"data (prepare and load)\",\n",
    "    2: \"build model\",\n",
    "    3: \"fitting the model to data (training)\",\n",
    "    4: \"making predictions and evaluating a model (inference)\",\n",
    "    5: \"saving and loading a model\",\n",
    "    6: \"putting it all together\"\n",
    "}"
   ]
  },
  {
   "cell_type": "code",
   "execution_count": 2,
   "id": "94731569-a815-4791-b29e-0ab7bd2539c2",
   "metadata": {},
   "outputs": [
    {
     "data": {
      "text/plain": [
       "'2.1.2'"
      ]
     },
     "execution_count": 2,
     "metadata": {},
     "output_type": "execute_result"
    }
   ],
   "source": [
    "import torch\n",
    "from torch import nn\n",
    "\n",
    "torch.__version__"
   ]
  },
  {
   "cell_type": "code",
   "execution_count": 19,
   "id": "00c0dda8-9c75-4943-9e52-63d119ee2929",
   "metadata": {},
   "outputs": [],
   "source": [
    "# set up random data set"
   ]
  },
  {
   "cell_type": "code",
   "execution_count": 5,
   "id": "824e2941-a18a-49f2-919f-b86f4493a6d4",
   "metadata": {},
   "outputs": [
    {
     "data": {
      "text/plain": [
       "(50,\n",
       " tensor([[0.3000],\n",
       "         [0.3140],\n",
       "         [0.3280],\n",
       "         [0.3420],\n",
       "         [0.3560],\n",
       "         [0.3700],\n",
       "         [0.3840],\n",
       "         [0.3980],\n",
       "         [0.4120],\n",
       "         [0.4260]]))"
      ]
     },
     "execution_count": 5,
     "metadata": {},
     "output_type": "execute_result"
    }
   ],
   "source": [
    "# practise with known parameter\n",
    "weight = 0.7\n",
    "bias = 0.3\n",
    "\n",
    "start = 0\n",
    "end = 1\n",
    "step = 0.02\n",
    "X = torch.arange(start, end, step).unsqueeze(dim=1)\n",
    "y = X * weight + bias\n",
    "\n",
    "len(X), y[:10]"
   ]
  },
  {
   "cell_type": "code",
   "execution_count": 7,
   "id": "93261466-b933-4e0d-a715-43cddd201805",
   "metadata": {},
   "outputs": [
    {
     "data": {
      "text/plain": [
       "(40, 40, 10, 10)"
      ]
     },
     "execution_count": 7,
     "metadata": {},
     "output_type": "execute_result"
    }
   ],
   "source": [
    "# split data set to train and test data\n",
    "train_split = int(0.8 * len(X))\n",
    "X_train, X_test = X[:train_split], X[train_split:]\n",
    "y_train, y_test = y[:train_split], y[train_split:]\n",
    "len(X_train), len(y_train), len(X_test), len(y_test)"
   ]
  },
  {
   "cell_type": "code",
   "execution_count": 17,
   "id": "a590cfdc-1e8d-45a0-8dd7-440c71f19e94",
   "metadata": {},
   "outputs": [],
   "source": [
    "# create visualize function\n",
    "import matplotlib.pyplot as plt\n",
    "def plot_predictions(train_data=X_train,\n",
    "                     train_labels=y_train,\n",
    "                     test_data=X_test,\n",
    "                     test_labels=y_test,\n",
    "                     predictions=None):\n",
    "    \"\"\"Plot training data, test data, compares predictions\"\"\"\n",
    "    plt.figure(figsize=(10, 7))\n",
    "\n",
    "    # plot training data in blue\n",
    "    plt.scatter(train_data, train_labels, c=\"b\", s=4, label=\"train_data\")\n",
    "    # plot test data in green\n",
    "    plt.scatter(test_data, test_labels, c=\"g\", s=4, label=\"test_data\")\n",
    "\n",
    "    if predictions is not None:\n",
    "        plt.scatter(test_data, predictions, c=\"r\", s=4, label=\"predictions\")\n",
    "\n",
    "    # show the legend\n",
    "    plt.legend(prop={\"size\":12});"
   ]
  },
  {
   "cell_type": "code",
   "execution_count": 18,
   "id": "2e292ba7-b85f-4e15-b00d-0bdb261861a3",
   "metadata": {},
   "outputs": [
    {
     "data": {
      "image/png": "[encoded data removed]",
      "text/plain": [
       "<Figure size 1000x700 with 1 Axes>"
      ]
     },
     "metadata": {},
     "output_type": "display_data"
    }
   ],
   "source": [
    "plot_predictions()"
   ]
  },
  {
   "cell_type": "code",
   "execution_count": 21,
   "id": "fc55e515-afc1-48f7-b77c-ccafd9d255e5",
   "metadata": {},
   "outputs": [],
   "source": [
    "# build a model with pytorch"
   ]
  },
  {
   "cell_type": "code",
   "execution_count": 31,
   "id": "88ba877e-a0ae-42fa-93ad-8ae0a4c26f24",
   "metadata": {},
   "outputs": [],
   "source": [
    "from torch import nn\n",
    "class LinearRegressionModel(nn.Module):\n",
    "    def __init__(self):\n",
    "        super().__init__()\n",
    "        self.weight = nn.Parameter(torch.randn(1, dtype=torch.float), requires_grad=True)\n",
    "        self.bias = nn.Parameter(torch.randn(1, dtype=torch.float), requires_grad=True)\n",
    "\n",
    "    def forward(self, x:torch.Tensor) -> torch.Tensor:\n",
    "        return self.weight * x + self.bias"
   ]
  },
  {
   "cell_type": "code",
   "execution_count": 28,
   "id": "898dcb44-dddc-459f-acfd-e153cf8eaabf",
   "metadata": {},
   "outputs": [],
   "source": [
    "# 通过梯度下降和反向传播更新初始随机参数\n",
    "# require_grad: torch.autograd\n",
    "# forward: define the method of computation\n",
    "# torch.optim: pytorch optimizers\n",
    "# torch.Parameter: all the tensors saved with nn.Module\n",
    "# torch.nn: all the blocks in there\n",
    "# pytorch cheat sheet:\n",
    "# https://pytorch.org/tutorials/beginner/ptcheat.html"
   ]
  },
  {
   "cell_type": "code",
   "execution_count": 52,
   "id": "1823a891-8df0-475c-8faf-3871857e69bb",
   "metadata": {},
   "outputs": [
    {
     "data": {
      "text/plain": [
       "[Parameter containing:\n",
       " tensor([0.3367], requires_grad=True),\n",
       " Parameter containing:\n",
       " tensor([0.1288], requires_grad=True)]"
      ]
     },
     "execution_count": 52,
     "metadata": {},
     "output_type": "execute_result"
    }
   ],
   "source": [
    "# create a model instance by the class made above\n",
    "torch.manual_seed(42)\n",
    "model_0 = LinearRegressionModel()\n",
    "list(model_0.parameters())"
   ]
  },
  {
   "cell_type": "code",
   "execution_count": 53,
   "id": "b75d30ce-feb7-41c0-b2ff-ab0fd1954739",
   "metadata": {},
   "outputs": [
    {
     "data": {
      "text/plain": [
       "OrderedDict([('weight', tensor([0.3367])), ('bias', tensor([0.1288]))])"
      ]
     },
     "execution_count": 53,
     "metadata": {},
     "output_type": "execute_result"
    }
   ],
   "source": [
    "model_0.state_dict()  # check the weight and bias"
   ]
  },
  {
   "cell_type": "code",
   "execution_count": 54,
   "id": "754af103-dc40-40ae-8eca-4b3a6ae53aef",
   "metadata": {},
   "outputs": [],
   "source": [
    "# with the model_0, how to predict data\n",
    "with torch.inference_mode():\n",
    "    y_preds = model_0(X_test)"
   ]
  },
  {
   "cell_type": "code",
   "execution_count": 55,
   "id": "697a3edd-2350-43f8-902c-f5ec6647b8fe",
   "metadata": {},
   "outputs": [
    {
     "data": {
      "text/plain": [
       "(tensor([[0.3982],\n",
       "         [0.4049],\n",
       "         [0.4116],\n",
       "         [0.4184],\n",
       "         [0.4251],\n",
       "         [0.4318],\n",
       "         [0.4386],\n",
       "         [0.4453],\n",
       "         [0.4520],\n",
       "         [0.4588]]),\n",
       " tensor([[0.8000],\n",
       "         [0.8200],\n",
       "         [0.8400],\n",
       "         [0.8600],\n",
       "         [0.8800],\n",
       "         [0.9000],\n",
       "         [0.9200],\n",
       "         [0.9400],\n",
       "         [0.9600],\n",
       "         [0.9800]]))"
      ]
     },
     "execution_count": 55,
     "metadata": {},
     "output_type": "execute_result"
    }
   ],
   "source": [
    "y_preds, X_test"
   ]
  },
  {
   "cell_type": "code",
   "execution_count": 56,
   "id": "5ecd0dec-7ac8-4b85-81ac-fba2a54a5ab9",
   "metadata": {},
   "outputs": [
    {
     "data": {
      "image/png": "[encoded data removed]",
      "text/plain": [
       "<Figure size 1000x700 with 1 Axes>"
      ]
     },
     "metadata": {},
     "output_type": "display_data"
    }
   ],
   "source": [
    "plot_predictions(predictions=y_preds)"
   ]
  },
  {
   "cell_type": "code",
   "execution_count": 57,
   "id": "64955431-a682-41d9-bf7c-ee8cf390da87",
   "metadata": {},
   "outputs": [],
   "source": [
    "# let's train it!\n",
    "# create loss function\n",
    "loss_fn = nn.L1Loss() # mae loss\n",
    "\n",
    "# create optimizer\n",
    "optimizer = torch.optim.SGD(params=model_0.parameters(), lr=0.01)  # gradient: 下山的梯度，导数，坡度，导数为0，loss也为0了"
   ]
  },
  {
   "cell_type": "code",
   "execution_count": 58,
   "id": "a9104767-8afb-4d42-9ba4-61fc833daccd",
   "metadata": {},
   "outputs": [],
   "source": [
    "# model有很多mode\n",
    "# torch.inference_mode()推理模式\n",
    "# model.train()训练模式\n",
    "# model.eval()测试模式"
   ]
  },
  {
   "cell_type": "code",
   "execution_count": 59,
   "id": "ccec761c-c857-4ff3-9b70-4595b347d2d8",
   "metadata": {},
   "outputs": [
    {
     "name": "stdout",
     "output_type": "stream",
     "text": [
      "Epoch: 0, MAE loss: 0.31288138031959534, MAE test loss: 0.48106518387794495\n",
      "Epoch: 10, MAE loss: 0.1976713240146637, MAE test loss: 0.3463551998138428\n",
      "Epoch: 20, MAE loss: 0.08908725529909134, MAE test loss: 0.21729660034179688\n",
      "Epoch: 30, MAE loss: 0.053148526698350906, MAE test loss: 0.14464017748832703\n",
      "Epoch: 40, MAE loss: 0.04543796554207802, MAE test loss: 0.11360953003168106\n",
      "Epoch: 50, MAE loss: 0.04167863354086876, MAE test loss: 0.09919948130846024\n",
      "Epoch: 60, MAE loss: 0.03818932920694351, MAE test loss: 0.08886633068323135\n",
      "Epoch: 70, MAE loss: 0.03476089984178543, MAE test loss: 0.0805937647819519\n",
      "Epoch: 80, MAE loss: 0.03132382780313492, MAE test loss: 0.07232122868299484\n",
      "Epoch: 90, MAE loss: 0.02788740023970604, MAE test loss: 0.06473556160926819\n",
      "Epoch: 100, MAE loss: 0.024458957836031914, MAE test loss: 0.05646304413676262\n",
      "Epoch: 110, MAE loss: 0.021020209416747093, MAE test loss: 0.04819049686193466\n",
      "Epoch: 120, MAE loss: 0.01758546754717827, MAE test loss: 0.04060482233762741\n",
      "Epoch: 130, MAE loss: 0.014155392535030842, MAE test loss: 0.03233227878808975\n",
      "Epoch: 140, MAE loss: 0.010716588236391544, MAE test loss: 0.024059748277068138\n",
      "Epoch: 150, MAE loss: 0.0072835348546504974, MAE test loss: 0.016474086791276932\n",
      "Epoch: 160, MAE loss: 0.003851778106763959, MAE test loss: 0.008201557211577892\n",
      "Epoch: 170, MAE loss: 0.00893248151987791, MAE test loss: 0.005023092031478882\n",
      "Epoch: 180, MAE loss: 0.00893248151987791, MAE test loss: 0.005023092031478882\n",
      "Epoch: 190, MAE loss: 0.00893248151987791, MAE test loss: 0.005023092031478882\n"
     ]
    }
   ],
   "source": [
    "# create train loop and test loop\n",
    "torch.manual_seed(42)\n",
    "\n",
    "train_loss_values = []\n",
    "test_loss_values = []\n",
    "epoch_count = []\n",
    "\n",
    "epochs = 200\n",
    "\n",
    "for epoch in range(epochs):\n",
    "    # set to train mode\n",
    "    model_0.train()\n",
    "    \n",
    "    # five steps to train\n",
    "    # 1. train\n",
    "    y_pred = model_0(X_train)\n",
    "    # 2. calculate the loss\n",
    "    loss = loss_fn(y_pred, y_train)\n",
    "    # 3. set the gradient to zero\n",
    "    optimizer.zero_grad()\n",
    "    # 4. backward the loss\n",
    "    loss.backward()\n",
    "    # 5. update weights\n",
    "    optimizer.step()\n",
    "\n",
    "    # set to evaluation mode\n",
    "    model_0.eval()\n",
    "    with torch.inference_mode():\n",
    "        # 1. forward pass the test data\n",
    "        test_pred = model_0(X_test)\n",
    "        # 2. calculate loss on test data\n",
    "        test_loss = loss_fn(test_pred, y_test.type(torch.float))\n",
    "        # print out what happens\n",
    "        if epoch % 10 == 0:\n",
    "            print(f\"Epoch: {epoch}, MAE loss: {loss}, MAE test loss: {test_loss}\")\n",
    "            epoch_count.append(epoch)\n",
    "            train_loss_values.append(loss.detach().numpy())\n",
    "            test_loss_values.append(test_loss.detach().numpy())"
   ]
  },
  {
   "cell_type": "code",
   "execution_count": 60,
   "id": "3f4a7290-a770-447f-934e-191cf4ad6cbb",
   "metadata": {},
   "outputs": [
    {
     "data": {
      "text/plain": [
       "OrderedDict([('weight', tensor([0.6990])), ('bias', tensor([0.3093]))])"
      ]
     },
     "execution_count": 60,
     "metadata": {},
     "output_type": "execute_result"
    }
   ],
   "source": [
    "model_0.state_dict()"
   ]
  },
  {
   "cell_type": "code",
   "execution_count": 70,
   "id": "2c7a418c-22b0-4c77-95a9-179b5988f1b1",
   "metadata": {},
   "outputs": [
    {
     "data": {
      "image/png": "[encoded data removed]",
      "text/plain": [
       "<Figure size 1000x700 with 1 Axes>"
      ]
     },
     "metadata": {},
     "output_type": "display_data"
    }
   ],
   "source": [
    "model_0.eval()\n",
    "with torch.inference_mode():\n",
    "    y_preds = model_0(X_test)\n",
    "plot_predictions(predictions=y_preds)"
   ]
  },
  {
   "cell_type": "code",
   "execution_count": 71,
   "id": "aede9d63-5824-46a9-9997-374902c04291",
   "metadata": {},
   "outputs": [
    {
     "data": {
      "image/png": "[encoded data removed]",
      "text/plain": [
       "<Figure size 640x480 with 1 Axes>"
      ]
     },
     "metadata": {},
     "output_type": "display_data"
    }
   ],
   "source": [
    "# plot the loss curve\n",
    "plt.plot(epoch_count, train_loss_values, label=\"train_loss\")\n",
    "plt.plot(epoch_count, test_loss_values, label=\"test_loss\")\n",
    "plt.xlabel(\"Epochs\")\n",
    "plt.ylabel(\"Loss\")\n",
    "plt.title(\"Training and test loss curve\")\n",
    "plt.legend();"
   ]
  },
  {
   "cell_type": "code",
   "execution_count": 73,
   "id": "3677e2fc-d806-41c3-b3e6-77d748e226f5",
   "metadata": {},
   "outputs": [
    {
     "name": "stdout",
     "output_type": "stream",
     "text": [
      "Saving model parameters to models/01_pytorch_wf_model_0.pth...\n"
     ]
    }
   ],
   "source": [
    "# save models\n",
    "from pathlib import Path\n",
    "\n",
    "# create model directory\n",
    "MODEL_PATH = Path(\"models\")\n",
    "MODEL_PATH.mkdir(parents=True, exist_ok=True)\n",
    "\n",
    "# create model save path\n",
    "MODEL_NAME = \"01_pytorch_wf_model_0.pth\"\n",
    "MODEL_SAVE_PATH = MODEL_PATH / MODEL_NAME\n",
    "\n",
    "# save the model state dict\n",
    "print(f\"Saving model parameters to {MODEL_SAVE_PATH}...\")\n",
    "torch.save(obj=model_0.state_dict(), f=MODEL_SAVE_PATH)"
   ]
  },
  {
   "cell_type": "code",
   "execution_count": 74,
   "id": "4bb9a9c9-47c0-4d88-8bfe-4d84882241dd",
   "metadata": {},
   "outputs": [
    {
     "data": {
      "text/plain": [
       "<All keys matched successfully>"
      ]
     },
     "execution_count": 74,
     "metadata": {},
     "output_type": "execute_result"
    }
   ],
   "source": [
    "# load model using torch.nn.Module.load_state_dict(torch.load(f))\n",
    "# load model parameters, create a new model instance and pass the parameters to it.\n",
    "loaded_model_0 = LinearRegressionModel()\n",
    "loaded_model_0.load_state_dict(torch.load(f=MODEL_SAVE_PATH))"
   ]
  },
  {
   "cell_type": "code",
   "execution_count": 76,
   "id": "5bf74828-3cdc-4ed7-aa61-27917c40dacd",
   "metadata": {},
   "outputs": [
    {
     "data": {
      "text/plain": [
       "tensor([[True],\n",
       "        [True],\n",
       "        [True],\n",
       "        [True],\n",
       "        [True],\n",
       "        [True],\n",
       "        [True],\n",
       "        [True],\n",
       "        [True],\n",
       "        [True]])"
      ]
     },
     "execution_count": 76,
     "metadata": {},
     "output_type": "execute_result"
    }
   ],
   "source": [
    "loaded_model_0.eval()\n",
    "with torch.inference_mode():\n",
    "    loaded_model_preds = loaded_model_0(X_test)\n",
    "loaded_model_preds == y_preds"
   ]
  },
  {
   "cell_type": "code",
   "execution_count": 77,
   "id": "65187c34-6878-4206-a431-0f075e3e82e4",
   "metadata": {},
   "outputs": [],
   "source": [
    "# they are the same"
   ]
  },
  {
   "cell_type": "code",
   "execution_count": 78,
   "id": "45baaa9c-c025-45ac-ba74-1b8a3e0bc382",
   "metadata": {},
   "outputs": [],
   "source": [
    "# use another module : nn.Linear(in_features, out_features)\n",
    "from torch import nn\n",
    "class LinearRegressionModelV2(nn.Module):\n",
    "    def __init__(self):\n",
    "        super().__init__()\n",
    "        self.linear_layer = nn.Linear(in_features=1, out_features=1)\n",
    "\n",
    "    def forward(self, x:torch.Tensor) -> torch.Tensor:\n",
    "        return self.linear_layer(x)"
   ]
  },
  {
   "cell_type": "code",
   "execution_count": 93,
   "id": "ce9a5960-3fea-492d-b631-6442bd40f635",
   "metadata": {},
   "outputs": [
    {
     "data": {
      "text/plain": [
       "OrderedDict([('linear_layer.weight', tensor([[0.7645]])),\n",
       "             ('linear_layer.bias', tensor([0.8300]))])"
      ]
     },
     "execution_count": 93,
     "metadata": {},
     "output_type": "execute_result"
    }
   ],
   "source": [
    "torch.manual_seed(42)\n",
    "model_1 = LinearRegressionModelV2()\n",
    "model_1.state_dict()"
   ]
  },
  {
   "cell_type": "code",
   "execution_count": 85,
   "id": "8c5e1d77-f777-4aa7-9e86-799946037dc7",
   "metadata": {},
   "outputs": [
    {
     "data": {
      "text/plain": [
       "device(type='cpu')"
      ]
     },
     "execution_count": 85,
     "metadata": {},
     "output_type": "execute_result"
    }
   ],
   "source": [
    "# put the model on gpu device if i have, but i don't so\n",
    "# check model device\n",
    "next(model_1.parameters()).device\n",
    "# set to gpu\n",
    "# model_1.to(device)"
   ]
  },
  {
   "cell_type": "code",
   "execution_count": 94,
   "id": "25efeaf5-554f-472e-99f8-466c1129c934",
   "metadata": {},
   "outputs": [],
   "source": [
    "loss_fn = nn.L1Loss()\n",
    "optimizer = torch.optim.SGD(params=model_1.parameters(), lr=0.01)"
   ]
  },
  {
   "cell_type": "code",
   "execution_count": 95,
   "id": "8ef740ef-36f0-4a27-afc7-b0f152631a42",
   "metadata": {},
   "outputs": [
    {
     "name": "stdout",
     "output_type": "stream",
     "text": [
      "Epoch: 0 | Train_loss: 0.5551779866218567 | Test loss: 0.5739762187004089\n",
      "Epoch: 100 | Train_loss: 0.006215679459273815 | Test loss: 0.014086711220443249\n",
      "Epoch: 200 | Train_loss: 0.0012645028764382005 | Test loss: 0.013801807537674904\n",
      "Epoch: 300 | Train_loss: 0.0012645028764382005 | Test loss: 0.013801807537674904\n",
      "Epoch: 400 | Train_loss: 0.0012645028764382005 | Test loss: 0.013801807537674904\n",
      "Epoch: 500 | Train_loss: 0.0012645028764382005 | Test loss: 0.013801807537674904\n",
      "Epoch: 600 | Train_loss: 0.0012645028764382005 | Test loss: 0.013801807537674904\n",
      "Epoch: 700 | Train_loss: 0.0012645028764382005 | Test loss: 0.013801807537674904\n",
      "Epoch: 800 | Train_loss: 0.0012645028764382005 | Test loss: 0.013801807537674904\n",
      "Epoch: 900 | Train_loss: 0.0012645028764382005 | Test loss: 0.013801807537674904\n"
     ]
    }
   ],
   "source": [
    "# train model_1\n",
    "torch.manual_seed(42)\n",
    "epochs = 1000\n",
    "for epoch in range(epochs):\n",
    "    # train model\n",
    "    model_1.train()\n",
    "    y_pred = model_1(X_train)\n",
    "    loss = loss_fn(y_pred, y_train)\n",
    "    optimizer.zero_grad()\n",
    "    loss.backward()\n",
    "    optimizer.step()\n",
    "    # eval model\n",
    "    model_1.eval()\n",
    "    with torch.inference_mode():\n",
    "        test_pred = model_1(X_test)\n",
    "        test_loss = loss_fn(test_pred, y_test)\n",
    "    if epoch % 100 == 0:\n",
    "        print(f\"Epoch: {epoch} | Train_loss: {loss} | Test loss: {test_loss}\")"
   ]
  },
  {
   "cell_type": "code",
   "execution_count": 96,
   "id": "be340975-75bd-4192-9185-cf84b09ca22d",
   "metadata": {},
   "outputs": [
    {
     "data": {
      "text/plain": [
       "OrderedDict([('linear_layer.weight', tensor([[0.6968]])),\n",
       "             ('linear_layer.bias', tensor([0.3025]))])"
      ]
     },
     "execution_count": 96,
     "metadata": {},
     "output_type": "execute_result"
    }
   ],
   "source": [
    "model_1.state_dict()"
   ]
  },
  {
   "cell_type": "code",
   "execution_count": 98,
   "id": "43edd811-f0d2-473f-bdf8-ec1fb37567cb",
   "metadata": {},
   "outputs": [],
   "source": [
    "# make predictions\n",
    "model_1.eval()\n",
    "with torch.inference_mode():\n",
    "    model_1_preds = model_1(X_test)"
   ]
  },
  {
   "cell_type": "code",
   "execution_count": 100,
   "id": "48548a47-a288-4692-9400-f551f364e154",
   "metadata": {},
   "outputs": [
    {
     "data": {
      "image/png": "[encoded data removed]",
      "text/plain": [
       "<Figure size 1000x700 with 1 Axes>"
      ]
     },
     "metadata": {},
     "output_type": "display_data"
    }
   ],
   "source": [
    "plot_predictions(predictions=model_1_preds)\n",
    "# plot_predictions(predictions=y_preds) # -> won't work... data not on CPU\n",
    "\n",
    "# Put data on the CPU and plot it\n",
    "# plot_predictions(predictions=y_preds.cpu())"
   ]
  },
  {
   "cell_type": "code",
   "execution_count": 101,
   "id": "1bfa297c-137f-4d90-be23-a03db200682a",
   "metadata": {},
   "outputs": [
    {
     "name": "stdout",
     "output_type": "stream",
     "text": [
      "Saving model parameters to models/01_pytorch_wf_model_1.pth...\n"
     ]
    }
   ],
   "source": [
    "# save models\n",
    "from pathlib import Path\n",
    "\n",
    "# create model directory\n",
    "MODEL_PATH = Path(\"models\")\n",
    "MODEL_PATH.mkdir(parents=True, exist_ok=True)\n",
    "\n",
    "# create model save path\n",
    "MODEL_NAME = \"01_pytorch_wf_model_1.pth\"\n",
    "MODEL_SAVE_PATH = MODEL_PATH / MODEL_NAME\n",
    "\n",
    "# save the model state dict\n",
    "print(f\"Saving model parameters to {MODEL_SAVE_PATH}...\")\n",
    "torch.save(obj=model_1.state_dict(), f=MODEL_SAVE_PATH)"
   ]
  },
  {
   "cell_type": "code",
   "execution_count": null,
   "id": "a20a05f8-2511-49ac-8972-f98e0dd74ca2",
   "metadata": {},
   "outputs": [],
   "source": []
  }
 ],
 "metadata": {
  "kernelspec": {
   "display_name": "Python 3 (ipykernel)",
   "language": "python",
   "name": "python3"
  },
  "language_info": {
   "codemirror_mode": {
    "name": "ipython",
    "version": 3
   },
   "file_extension": ".py",
   "mimetype": "text/x-python",
   "name": "python",
   "nbconvert_exporter": "python",
   "pygments_lexer": "ipython3",
   "version": "3.11.5"
  }
 },
 "nbformat": 4,
 "nbformat_minor": 5
}
