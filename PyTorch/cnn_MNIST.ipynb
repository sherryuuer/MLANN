{
 "cells": [
  {
   "cell_type": "code",
   "execution_count": 1,
   "id": "9436a2e1-e4be-4bc1-91b3-fdc126c14893",
   "metadata": {},
   "outputs": [],
   "source": [
    "import torch\n",
    "import torch.nn as nn\n",
    "import torch.optim as optim\n",
    "import torch.nn.functional as F\n",
    "from torchvision import datasets, transforms\n",
    "import matplotlib.pyplot as plt\n",
    "import numpy as np\n",
    "%matplotlib inline"
   ]
  },
  {
   "cell_type": "code",
   "execution_count": 3,
   "id": "0b8ebb53-ae27-497a-aaaf-c7a26e79e234",
   "metadata": {},
   "outputs": [
    {
     "name": "stdout",
     "output_type": "stream",
     "text": [
      "Downloading http://yann.lecun.com/exdb/mnist/train-images-idx3-ubyte.gz\n",
      "Downloading http://yann.lecun.com/exdb/mnist/train-images-idx3-ubyte.gz to data/MNIST/raw/train-images-idx3-ubyte.gz\n"
     ]
    },
    {
     "name": "stderr",
     "output_type": "stream",
     "text": [
      "100%|████████████████████████████| 9912422/9912422 [00:01<00:00, 5419813.07it/s]\n"
     ]
    },
    {
     "name": "stdout",
     "output_type": "stream",
     "text": [
      "Extracting data/MNIST/raw/train-images-idx3-ubyte.gz to data/MNIST/raw\n",
      "\n",
      "Downloading http://yann.lecun.com/exdb/mnist/train-labels-idx1-ubyte.gz\n",
      "Downloading http://yann.lecun.com/exdb/mnist/train-labels-idx1-ubyte.gz to data/MNIST/raw/train-labels-idx1-ubyte.gz\n"
     ]
    },
    {
     "name": "stderr",
     "output_type": "stream",
     "text": [
      "100%|████████████████████████████████| 28881/28881 [00:00<00:00, 3491847.85it/s]"
     ]
    },
    {
     "name": "stdout",
     "output_type": "stream",
     "text": [
      "Extracting data/MNIST/raw/train-labels-idx1-ubyte.gz to data/MNIST/raw\n",
      "\n",
      "Downloading http://yann.lecun.com/exdb/mnist/t10k-images-idx3-ubyte.gz\n",
      "Downloading http://yann.lecun.com/exdb/mnist/t10k-images-idx3-ubyte.gz to data/MNIST/raw/t10k-images-idx3-ubyte.gz\n"
     ]
    },
    {
     "name": "stderr",
     "output_type": "stream",
     "text": [
      "\n",
      "100%|████████████████████████████| 1648877/1648877 [00:00<00:00, 5195344.10it/s]\n"
     ]
    },
    {
     "name": "stdout",
     "output_type": "stream",
     "text": [
      "Extracting data/MNIST/raw/t10k-images-idx3-ubyte.gz to data/MNIST/raw\n",
      "\n",
      "Downloading http://yann.lecun.com/exdb/mnist/t10k-labels-idx1-ubyte.gz\n",
      "Downloading http://yann.lecun.com/exdb/mnist/t10k-labels-idx1-ubyte.gz to data/MNIST/raw/t10k-labels-idx1-ubyte.gz\n"
     ]
    },
    {
     "name": "stderr",
     "output_type": "stream",
     "text": [
      "100%|██████████████████████████████████| 4542/4542 [00:00<00:00, 4015710.11it/s]\n"
     ]
    },
    {
     "name": "stdout",
     "output_type": "stream",
     "text": [
      "Extracting data/MNIST/raw/t10k-labels-idx1-ubyte.gz to data/MNIST/raw\n",
      "\n"
     ]
    }
   ],
   "source": [
    "# define hyper parameters\n",
    "# size is 28 x 28\n",
    "input_size = 28\n",
    "num_class = 10\n",
    "num_epochs = 3\n",
    "# one batch will train 64 datas\n",
    "batch_size = 64\n",
    "\n",
    "# train dataset\n",
    "train_dataset = datasets.MNIST(\n",
    "    root=\"data\",\n",
    "    train=True,\n",
    "    transform=transforms.ToTensor(),\n",
    "    download=True\n",
    ")\n",
    "\n",
    "# test dataset\n",
    "test_dataset = datasets.MNIST(\n",
    "    root=\"data\",\n",
    "    train=False,\n",
    "    transform=transforms.ToTensor(),\n",
    "    download=True\n",
    ")\n",
    "\n",
    "# create data batch by data loader\n",
    "train_loader = torch.utils.data.DataLoader(\n",
    "    dataset=train_dataset,\n",
    "    batch_size=batch_size,\n",
    "    shuffle=True\n",
    ")\n",
    "\n",
    "test_loader = torch.utils.data.DataLoader(\n",
    "    dataset=test_dataset,\n",
    "    batch_size=batch_size,\n",
    "    shuffle=False\n",
    ")"
   ]
  },
  {
   "cell_type": "code",
   "execution_count": 8,
   "id": "b5de65af-2703-4ff1-a22c-fdcc3b2555b6",
   "metadata": {},
   "outputs": [],
   "source": [
    "# create model\n",
    "class CNN(nn.Module):\n",
    "    def __init__(self):\n",
    "        super(CNN, self).__init__()\n",
    "        self.conv1 = nn.Sequential(       # input size is (1, 28, 28) (channel, height, width)\n",
    "            nn.Conv2d(\n",
    "                in_channels=1,            # only one channel\n",
    "                out_channels=16,          # output is 16 channel means 16 feature image (num of kernels)\n",
    "                kernel_size=5,            # filter kernel size is 5 x 5\n",
    "                stride=1,                 # step be 1\n",
    "                padding=2,                # padding the image with 2 pixel size will become 28 + 4 = 32\n",
    "            ),                            # output size is (16, 28, 28) \n",
    "            nn.ReLU(),                    # relu function\n",
    "            nn.MaxPool2d(kernel_size=2),  # every 2 x 2 area will get one value so 28 / 2 = 14\n",
    "        )                                 # output size is (16, 14, 14)\n",
    "        self.conv2 = nn.Sequential(       # input size is (16, 14, 14)\n",
    "            nn.Conv2d(16, 32, 5, 1, 2),   # output will be (32, 14, 14)\n",
    "            nn.ReLU(),                    # relu function\n",
    "            nn.MaxPool2d(kernel_size=2),  # output is (32, 7, 7)\n",
    "        )\n",
    "        self.out = nn.Linear(32 * 7 * 7, 10) # fully connect layer output\n",
    "\n",
    "    def forward(self, x):\n",
    "        x = self.conv1(x)\n",
    "        x = self.conv2(x)\n",
    "        x = x.view(x.size(0), -1)        # flatten x, size(0) is batch size, -1 is all rest, here will be (batch_size, 32 * 7 * 7)\n",
    "        output = self.out(x)\n",
    "        return output"
   ]
  },
  {
   "cell_type": "code",
   "execution_count": 9,
   "id": "7c701c6f-89c3-4ab0-b9bf-45faf356b774",
   "metadata": {},
   "outputs": [],
   "source": [
    "# define accuracy function\n",
    "def accuracy(predictions, labels):\n",
    "    pred = torch.max(predictions.data, 1)[1]\n",
    "    rights = pred.eq(labels.data.view_as(pred)).sum()\n",
    "    return rights, len(labels)"
   ]
  },
  {
   "cell_type": "code",
   "execution_count": 11,
   "id": "d45ec49c-682b-4cb2-a242-bf2cab43ff49",
   "metadata": {},
   "outputs": [
    {
     "name": "stdout",
     "output_type": "stream",
     "text": [
      "Epoch: 0, 0/60000| Loss: 2.3169734477996826 | Acc of train data: 3.125 | Acc of val data: 9.87\n",
      "Epoch: 0, 6400/60000| Loss: 0.3007182478904724 | Acc of train data: 76.39232673267327 | Acc of val data: 92.5\n",
      "Epoch: 0, 12800/60000| Loss: 0.13541360199451447 | Acc of train data: 84.81032338308458 | Acc of val data: 94.9\n",
      "Epoch: 0, 19200/60000| Loss: 0.14530989527702332 | Acc of train data: 88.35132890365449 | Acc of val data: 96.37\n",
      "Epoch: 0, 25600/60000| Loss: 0.0494905561208725 | Acc of train data: 90.32107231920199 | Acc of val data: 97.23\n",
      "Epoch: 0, 32000/60000| Loss: 0.029833775013685226 | Acc of train data: 91.59181636726547 | Acc of val data: 97.18\n",
      "Epoch: 0, 38400/60000| Loss: 0.06421170383691788 | Acc of train data: 92.47868136439268 | Acc of val data: 97.95\n",
      "Epoch: 0, 44800/60000| Loss: 0.026181388646364212 | Acc of train data: 93.23956847360913 | Acc of val data: 98.12\n",
      "Epoch: 0, 51200/60000| Loss: 0.07353786379098892 | Acc of train data: 93.79486579275905 | Acc of val data: 98.16\n",
      "Epoch: 0, 57600/60000| Loss: 0.16572797298431396 | Acc of train data: 94.20435627081021 | Acc of val data: 98.15\n",
      "Epoch: 1, 0/60000| Loss: 0.03292549401521683 | Acc of train data: 98.4375 | Acc of val data: 98.02\n",
      "Epoch: 1, 6400/60000| Loss: 0.11858346313238144 | Acc of train data: 98.03527227722772 | Acc of val data: 98.26\n",
      "Epoch: 1, 12800/60000| Loss: 0.02400895021855831 | Acc of train data: 98.0410447761194 | Acc of val data: 98.35\n",
      "Epoch: 1, 19200/60000| Loss: 0.10869136452674866 | Acc of train data: 98.08970099667773 | Acc of val data: 98.39\n",
      "Epoch: 1, 25600/60000| Loss: 0.04552365094423294 | Acc of train data: 98.11019326683292 | Acc of val data: 98.57\n",
      "Epoch: 1, 32000/60000| Loss: 0.08532629162073135 | Acc of train data: 98.12250499001996 | Acc of val data: 98.6\n",
      "Epoch: 1, 38400/60000| Loss: 0.07830418646335602 | Acc of train data: 98.18011647254576 | Acc of val data: 98.48\n",
      "Epoch: 1, 44800/60000| Loss: 0.032548822462558746 | Acc of train data: 98.19454350927246 | Acc of val data: 98.5\n",
      "Epoch: 1, 51200/60000| Loss: 0.015460990369319916 | Acc of train data: 98.22877652933833 | Acc of val data: 98.35\n",
      "Epoch: 1, 57600/60000| Loss: 0.045012976974248886 | Acc of train data: 98.25367647058823 | Acc of val data: 98.63\n",
      "Epoch: 2, 0/60000| Loss: 0.018726781010627747 | Acc of train data: 98.4375 | Acc of val data: 98.65\n",
      "Epoch: 2, 6400/60000| Loss: 0.014315847307443619 | Acc of train data: 98.74690594059406 | Acc of val data: 98.62\n",
      "Epoch: 2, 12800/60000| Loss: 0.029080238193273544 | Acc of train data: 98.78731343283582 | Acc of val data: 98.51\n",
      "Epoch: 2, 19200/60000| Loss: 0.02643062174320221 | Acc of train data: 98.68666943521595 | Acc of val data: 98.77\n",
      "Epoch: 2, 25600/60000| Loss: 0.0777924507856369 | Acc of train data: 98.65570448877806 | Acc of val data: 98.68\n",
      "Epoch: 2, 32000/60000| Loss: 0.015544263646006584 | Acc of train data: 98.67140718562874 | Acc of val data: 98.77\n",
      "Epoch: 2, 38400/60000| Loss: 0.05917234346270561 | Acc of train data: 98.681884359401 | Acc of val data: 98.89\n",
      "Epoch: 2, 44800/60000| Loss: 0.0801539197564125 | Acc of train data: 98.68714336661911 | Acc of val data: 98.9\n",
      "Epoch: 2, 51200/60000| Loss: 0.05197770148515701 | Acc of train data: 98.69108926342072 | Acc of val data: 98.95\n",
      "Epoch: 2, 57600/60000| Loss: 0.028886009007692337 | Acc of train data: 98.69589345172031 | Acc of val data: 98.68\n"
     ]
    }
   ],
   "source": [
    "# create model instance\n",
    "model = CNN()\n",
    "# loss function\n",
    "criterion = nn.CrossEntropyLoss()\n",
    "# optimizer\n",
    "optimizer = optim.Adam(model.parameters(), lr=0.001)\n",
    "\n",
    "# train loop\n",
    "for epoch in range(num_epochs):\n",
    "    train_acc_list = []\n",
    "\n",
    "    for idx, (train_data, label) in enumerate(train_loader):\n",
    "        model.train()\n",
    "        output = model(train_data)\n",
    "        loss = criterion(output, label)\n",
    "        optimizer.zero_grad()\n",
    "        loss.backward()\n",
    "        optimizer.step()\n",
    "        train_acc = accuracy(output, label)\n",
    "        train_acc_list.append(train_acc)\n",
    "\n",
    "        if idx % 100 == 0:\n",
    "            model.eval()\n",
    "            val_acc_list = []\n",
    "\n",
    "            for (val_data, label) in test_loader:\n",
    "                output = model(val_data)\n",
    "                val_acc = accuracy(output, label)\n",
    "                val_acc_list.append(val_acc)\n",
    "\n",
    "            # calculate the acc\n",
    "            train_r = (sum([tup[0] for tup in train_acc_list]), sum([tup[1] for tup in train_acc_list]))\n",
    "            val_r = (sum([tup[0] for tup in val_acc_list]), sum([tup[1] for tup in val_acc_list]))\n",
    "\n",
    "            print(f\"Epoch: {epoch}, {idx * batch_size}/{len(train_loader.dataset)}| Loss: {loss.data} | Acc of train data: {100. * train_r[0].numpy() / train_r[1]} | Acc of val data: {100. * val_r[0].numpy() / val_r[1]}\")"
   ]
  },
  {
   "cell_type": "code",
   "execution_count": null,
   "id": "05d9ff72-5621-456e-852f-aec29ac26411",
   "metadata": {},
   "outputs": [],
   "source": []
  }
 ],
 "metadata": {
  "kernelspec": {
   "display_name": "Python 3 (ipykernel)",
   "language": "python",
   "name": "python3"
  },
  "language_info": {
   "codemirror_mode": {
    "name": "ipython",
    "version": 3
   },
   "file_extension": ".py",
   "mimetype": "text/x-python",
   "name": "python",
   "nbconvert_exporter": "python",
   "pygments_lexer": "ipython3",
   "version": "3.11.5"
  }
 },
 "nbformat": 4,
 "nbformat_minor": 5
}
