{
 "cells": [
  {
   "cell_type": "markdown",
   "id": "b0363ff7-50f2-46b8-a48a-620828fb976e",
   "metadata": {},
   "source": [
    "### tensor"
   ]
  },
  {
   "cell_type": "code",
   "execution_count": 1,
   "id": "45b0d877-9957-432c-9bee-e9a828f565ad",
   "metadata": {},
   "outputs": [],
   "source": [
    "# user tensorflow installed env"
   ]
  },
  {
   "cell_type": "code",
   "execution_count": 1,
   "id": "a0f7e95f-3cf6-4976-b7d8-3a502cbe93c5",
   "metadata": {},
   "outputs": [
    {
     "name": "stdout",
     "output_type": "stream",
     "text": [
      "2.15.0\n"
     ]
    }
   ],
   "source": [
    "# Import Tensorflow\n",
    "import tensorflow as tf\n",
    "print(tf.__version__)"
   ]
  },
  {
   "cell_type": "code",
   "execution_count": null,
   "id": "52a8cade-d075-4544-9758-d18f6517b0fa",
   "metadata": {},
   "outputs": [],
   "source": [
    "# create tensor\n",
    "scalar = tf.constant(7)\n",
    "scalar"
   ]
  },
  {
   "cell_type": "code",
   "execution_count": null,
   "id": "d2d42903-bad5-4850-a295-e12ced99bf9a",
   "metadata": {},
   "outputs": [],
   "source": [
    "# number of dimensions\n",
    "scalar.ndim"
   ]
  },
  {
   "cell_type": "code",
   "execution_count": null,
   "id": "033d04b6-1c72-4e36-9efa-cb6dfb8e773a",
   "metadata": {},
   "outputs": [],
   "source": [
    "# create a vector\n",
    "vector = tf.constant([10, 10])\n",
    "vector"
   ]
  },
  {
   "cell_type": "code",
   "execution_count": null,
   "id": "c33803f1-5b0a-4053-a264-fd9ab398055f",
   "metadata": {},
   "outputs": [],
   "source": [
    "vector.ndim"
   ]
  },
  {
   "cell_type": "code",
   "execution_count": 37,
   "id": "f1d78c8c-a00b-4e4e-b03d-7cbe8c1efffe",
   "metadata": {},
   "outputs": [
    {
     "data": {
      "text/plain": [
       "<tf.Tensor: shape=(2, 3), dtype=int32, numpy=\n",
       "array([[10,  7,  6],\n",
       "       [ 1,  7, 10]], dtype=int32)>"
      ]
     },
     "execution_count": 37,
     "metadata": {},
     "output_type": "execute_result"
    }
   ],
   "source": [
    "# create a matrix\n",
    "matrix = tf.constant([[10, 7, 6], [1, 7, 10]])\n",
    "matrix"
   ]
  },
  {
   "cell_type": "code",
   "execution_count": 38,
   "id": "a8402fc2-80fa-4186-ba22-044293b98e7d",
   "metadata": {},
   "outputs": [
    {
     "data": {
      "text/plain": [
       "2"
      ]
     },
     "execution_count": 38,
     "metadata": {},
     "output_type": "execute_result"
    }
   ],
   "source": [
    "matrix.ndim"
   ]
  },
  {
   "cell_type": "code",
   "execution_count": null,
   "id": "b4eb062b-c11e-4c03-8c14-1620bedeb275",
   "metadata": {},
   "outputs": [],
   "source": [
    "# another matrix\n",
    "another_matrix = tf.constant([[10., 7.], [12., 7.], [1., 6.]], dtype = tf.float16)\n",
    "another_matrix"
   ]
  },
  {
   "cell_type": "code",
   "execution_count": null,
   "id": "d13e8ded-6fbb-41e1-a0ef-b358feb651f7",
   "metadata": {},
   "outputs": [],
   "source": [
    "another_matrix.ndim"
   ]
  },
  {
   "cell_type": "code",
   "execution_count": null,
   "id": "05428c25-8bcf-4931-bd30-eb4c7dd00f61",
   "metadata": {},
   "outputs": [],
   "source": [
    "tensor.ndim  # tensor实质是一个n维数组"
   ]
  },
  {
   "cell_type": "markdown",
   "id": "2950ea2c-680c-42f2-b449-ce0c3df1c86f",
   "metadata": {},
   "source": [
    "### tf.variable"
   ]
  },
  {
   "cell_type": "code",
   "execution_count": 2,
   "id": "16a7c291-674d-4166-b6ce-1fc4572cf014",
   "metadata": {},
   "outputs": [
    {
     "data": {
      "text/plain": [
       "(<tf.Variable 'Variable:0' shape=(2,) dtype=int32, numpy=array([10,  7], dtype=int32)>,\n",
       " <tf.Tensor: shape=(2,), dtype=int32, numpy=array([10,  7], dtype=int32)>)"
      ]
     },
     "execution_count": 2,
     "metadata": {},
     "output_type": "execute_result"
    }
   ],
   "source": [
    "# create tensor with tf.variable\n",
    "changeable_tensor = tf.Variable([10, 7])\n",
    "unchangeable_tensor = tf.constant([10, 7])\n",
    "changeable_tensor,  unchangeable_tensor"
   ]
  },
  {
   "cell_type": "code",
   "execution_count": 4,
   "id": "41620cfc-0ac5-4e31-b480-8ca030f374cf",
   "metadata": {},
   "outputs": [
    {
     "data": {
      "text/plain": [
       "<tf.Variable 'Variable:0' shape=(2,) dtype=int32, numpy=array([7, 7], dtype=int32)>"
      ]
     },
     "execution_count": 4,
     "metadata": {},
     "output_type": "execute_result"
    }
   ],
   "source": [
    "# change value with .assign()\n",
    "changeable_tensor[0].assign(7)\n",
    "changeable_tensor\n",
    "# unchangeable_tensor can not be change"
   ]
  },
  {
   "cell_type": "markdown",
   "id": "5a56f021-a7f6-431f-9608-d4b35f06dbed",
   "metadata": {},
   "source": [
    "大部分时候适用constant就好了，当需要改变的时候重新创建就好"
   ]
  },
  {
   "cell_type": "code",
   "execution_count": 139,
   "id": "9c6d9868-1171-45cc-89f7-dc5e30b12228",
   "metadata": {},
   "outputs": [
    {
     "data": {
      "text/plain": [
       "<tf.Variable 'Variable:0' shape=(2,) dtype=int32, numpy=array([3, 4], dtype=int32)>"
      ]
     },
     "execution_count": 139,
     "metadata": {},
     "output_type": "execute_result"
    }
   ],
   "source": [
    "changeable_tensor.assign([3, 4])\n",
    "changeable_tensor"
   ]
  },
  {
   "cell_type": "code",
   "execution_count": 141,
   "id": "8eda1a52-2bef-4843-828d-b692ddbbfc16",
   "metadata": {},
   "outputs": [
    {
     "data": {
      "text/plain": [
       "<tf.Variable 'Variable:0' shape=(2,) dtype=int32, numpy=array([13, 14], dtype=int32)>"
      ]
     },
     "execution_count": 141,
     "metadata": {},
     "output_type": "execute_result"
    }
   ],
   "source": [
    "changeable_tensor.assign_add([10, 10])\n",
    "changeable_tensor"
   ]
  },
  {
   "cell_type": "markdown",
   "id": "1c45db20-9e00-42bb-a59e-bf832bc1a263",
   "metadata": {},
   "source": [
    "### random tensor"
   ]
  },
  {
   "cell_type": "code",
   "execution_count": 6,
   "id": "daa6883d-477a-4aba-9ac5-f6e9f4772451",
   "metadata": {},
   "outputs": [
    {
     "data": {
      "text/plain": [
       "<tf.Tensor: shape=(3, 2), dtype=float32, numpy=\n",
       "array([[-0.7565803 , -0.06854702],\n",
       "       [ 0.07595026, -1.2573844 ],\n",
       "       [-0.23193763, -1.8107855 ]], dtype=float32)>"
      ]
     },
     "execution_count": 6,
     "metadata": {},
     "output_type": "execute_result"
    }
   ],
   "source": [
    "# create random tensor\n",
    "random_g = tf.random.Generator.from_seed(42) # This is a random num generator\n",
    "random_1 = random_g.normal(shape=(3, 2))\n",
    "random_1"
   ]
  },
  {
   "cell_type": "markdown",
   "id": "ea523bcc-fb2d-4dfb-9ac2-44137b7c8d5e",
   "metadata": {},
   "source": [
    "### shuffle"
   ]
  },
  {
   "cell_type": "code",
   "execution_count": 7,
   "id": "846dc839-a369-4905-bc98-65730a064a75",
   "metadata": {},
   "outputs": [
    {
     "data": {
      "text/plain": [
       "2"
      ]
     },
     "execution_count": 7,
     "metadata": {},
     "output_type": "execute_result"
    }
   ],
   "source": [
    "# shuffle the order of elements in a tensor\n",
    "no_shuffled = tf.constant([\n",
    "    [10, 7],\n",
    "    [3, 40],\n",
    "    [23, 9]\n",
    "])\n",
    "no_shuffled.ndim "
   ]
  },
  {
   "cell_type": "code",
   "execution_count": 28,
   "id": "13984ef9-0991-49ff-84ca-a61e7fb97d53",
   "metadata": {},
   "outputs": [
    {
     "data": {
      "text/plain": [
       "<tf.Tensor: shape=(3, 2), dtype=int32, numpy=\n",
       "array([[10,  7],\n",
       "       [ 3, 40],\n",
       "       [23,  9]], dtype=int32)>"
      ]
     },
     "execution_count": 28,
     "metadata": {},
     "output_type": "execute_result"
    }
   ],
   "source": [
    "tf.random.set_seed(42) # global seed\n",
    "tf.random.shuffle(no_shuffled, seed=42) # operation level random seed\n",
    "# no_shuffled"
   ]
  },
  {
   "cell_type": "markdown",
   "id": "597941c4-c50d-45cf-8e39-8a86707a10b4",
   "metadata": {},
   "source": [
    "两个seed都需要使用来固定顺序"
   ]
  },
  {
   "cell_type": "markdown",
   "id": "edfec40b-8eff-4e87-b411-0aa7c495da73",
   "metadata": {},
   "source": [
    "### Numpy to tensors"
   ]
  },
  {
   "cell_type": "code",
   "execution_count": 29,
   "id": "1fd3eb24-c9ed-4317-a413-b807a57bb85b",
   "metadata": {},
   "outputs": [
    {
     "data": {
      "text/plain": [
       "<tf.Tensor: shape=(10, 7), dtype=float32, numpy=\n",
       "array([[1., 1., 1., 1., 1., 1., 1.],\n",
       "       [1., 1., 1., 1., 1., 1., 1.],\n",
       "       [1., 1., 1., 1., 1., 1., 1.],\n",
       "       [1., 1., 1., 1., 1., 1., 1.],\n",
       "       [1., 1., 1., 1., 1., 1., 1.],\n",
       "       [1., 1., 1., 1., 1., 1., 1.],\n",
       "       [1., 1., 1., 1., 1., 1., 1.],\n",
       "       [1., 1., 1., 1., 1., 1., 1.],\n",
       "       [1., 1., 1., 1., 1., 1., 1.],\n",
       "       [1., 1., 1., 1., 1., 1., 1.]], dtype=float32)>"
      ]
     },
     "execution_count": 29,
     "metadata": {},
     "output_type": "execute_result"
    }
   ],
   "source": [
    "# create tensor with ones, zeros\n",
    "tf.ones([10, 7])"
   ]
  },
  {
   "cell_type": "code",
   "execution_count": 30,
   "id": "7a9a4ba5-2334-49ec-bbd9-5acdd03a3d7b",
   "metadata": {},
   "outputs": [
    {
     "data": {
      "text/plain": [
       "<tf.Tensor: shape=(10, 7), dtype=float32, numpy=\n",
       "array([[0., 0., 0., 0., 0., 0., 0.],\n",
       "       [0., 0., 0., 0., 0., 0., 0.],\n",
       "       [0., 0., 0., 0., 0., 0., 0.],\n",
       "       [0., 0., 0., 0., 0., 0., 0.],\n",
       "       [0., 0., 0., 0., 0., 0., 0.],\n",
       "       [0., 0., 0., 0., 0., 0., 0.],\n",
       "       [0., 0., 0., 0., 0., 0., 0.],\n",
       "       [0., 0., 0., 0., 0., 0., 0.],\n",
       "       [0., 0., 0., 0., 0., 0., 0.],\n",
       "       [0., 0., 0., 0., 0., 0., 0.]], dtype=float32)>"
      ]
     },
     "execution_count": 30,
     "metadata": {},
     "output_type": "execute_result"
    }
   ],
   "source": [
    "tf.zeros([10, 7])"
   ]
  },
  {
   "cell_type": "code",
   "execution_count": 31,
   "id": "89fb1253-e7a4-4303-89fa-14f86a8352d4",
   "metadata": {},
   "outputs": [
    {
     "data": {
      "text/plain": [
       "<tf.Tensor: shape=(2, 3), dtype=float32, numpy=\n",
       "array([[0., 0., 0.],\n",
       "       [0., 0., 0.]], dtype=float32)>"
      ]
     },
     "execution_count": 31,
     "metadata": {},
     "output_type": "execute_result"
    }
   ],
   "source": [
    "tf.zeros(shape=(2, 3))"
   ]
  },
  {
   "cell_type": "code",
   "execution_count": 32,
   "id": "7dad5198-2f1a-48f3-8172-164520d17bfb",
   "metadata": {},
   "outputs": [
    {
     "data": {
      "text/plain": [
       "array([ 1,  2,  3,  4,  5,  6,  7,  8,  9, 10, 11, 12, 13, 14, 15, 16, 17,\n",
       "       18, 19, 20, 21, 22, 23, 24], dtype=int32)"
      ]
     },
     "execution_count": 32,
     "metadata": {},
     "output_type": "execute_result"
    }
   ],
   "source": [
    "# turn numpy array into tensor\n",
    "# tensor vs numpy arrays difference: can be run on gpu and very fast\n",
    "import numpy as np\n",
    "numpy_a = np.arange(1, 25, dtype=np.int32)\n",
    "numpy_a"
   ]
  },
  {
   "cell_type": "code",
   "execution_count": 33,
   "id": "c09e615c-5062-4d8c-a343-22752bb69ff1",
   "metadata": {},
   "outputs": [
    {
     "data": {
      "text/plain": [
       "(<tf.Tensor: shape=(24,), dtype=int32, numpy=\n",
       " array([ 1,  2,  3,  4,  5,  6,  7,  8,  9, 10, 11, 12, 13, 14, 15, 16, 17,\n",
       "        18, 19, 20, 21, 22, 23, 24], dtype=int32)>,\n",
       " <tf.Tensor: shape=(2, 3, 4), dtype=int32, numpy=\n",
       " array([[[ 1,  2,  3,  4],\n",
       "         [ 5,  6,  7,  8],\n",
       "         [ 9, 10, 11, 12]],\n",
       " \n",
       "        [[13, 14, 15, 16],\n",
       "         [17, 18, 19, 20],\n",
       "         [21, 22, 23, 24]]], dtype=int32)>)"
      ]
     },
     "execution_count": 33,
     "metadata": {},
     "output_type": "execute_result"
    }
   ],
   "source": [
    "A = tf.constant(numpy_a)\n",
    "B = tf.constant(numpy_a, shape=(2, 3, 4))\n",
    "A, B"
   ]
  },
  {
   "cell_type": "code",
   "execution_count": 34,
   "id": "7ed121a5-97b6-47d2-8a4a-0e0ccda97055",
   "metadata": {},
   "outputs": [
    {
     "data": {
      "text/plain": [
       "3"
      ]
     },
     "execution_count": 34,
     "metadata": {},
     "output_type": "execute_result"
    }
   ],
   "source": [
    "B.ndim"
   ]
  },
  {
   "cell_type": "markdown",
   "id": "6c6ed697-4a78-4fe7-8de7-044d70f994c3",
   "metadata": {},
   "source": [
    "### tensor attributes (getting info from tensor)\n",
    "* shape:  tensor.shape\n",
    "* rank:   tensor.ndim\n",
    "* axis or dimession:  slice a tensor\n",
    "* size: tf.size(tensor)"
   ]
  },
  {
   "cell_type": "code",
   "execution_count": 40,
   "id": "d82bbee5-68c3-4113-9cf3-07fca863b765",
   "metadata": {},
   "outputs": [
    {
     "data": {
      "text/plain": [
       "<tf.Tensor: shape=(2, 1, 3, 2), dtype=float32, numpy=\n",
       "array([[[[1., 1.],\n",
       "         [1., 1.],\n",
       "         [1., 1.]]],\n",
       "\n",
       "\n",
       "       [[[1., 1.],\n",
       "         [1., 1.],\n",
       "         [1., 1.]]]], dtype=float32)>"
      ]
     },
     "execution_count": 40,
     "metadata": {},
     "output_type": "execute_result"
    }
   ],
   "source": [
    "# create a rank 4 tensor\n",
    "rank_4_tensor = tf.ones(shape=(2, 1, 3, 2))\n",
    "rank_4_tensor"
   ]
  },
  {
   "cell_type": "code",
   "execution_count": 41,
   "id": "2568553a-192c-477e-b1dc-96a1779e36f3",
   "metadata": {},
   "outputs": [
    {
     "data": {
      "text/plain": [
       "4"
      ]
     },
     "execution_count": 41,
     "metadata": {},
     "output_type": "execute_result"
    }
   ],
   "source": [
    "rank_4_tensor.ndim"
   ]
  },
  {
   "cell_type": "code",
   "execution_count": 42,
   "id": "1673063c-4b5e-4a9f-8c13-15d5c1e2a667",
   "metadata": {},
   "outputs": [
    {
     "data": {
      "text/plain": [
       "<tf.Tensor: shape=(1, 3, 2), dtype=float32, numpy=\n",
       "array([[[1., 1.],\n",
       "        [1., 1.],\n",
       "        [1., 1.]]], dtype=float32)>"
      ]
     },
     "execution_count": 42,
     "metadata": {},
     "output_type": "execute_result"
    }
   ],
   "source": [
    "rank_4_tensor[0]"
   ]
  },
  {
   "cell_type": "code",
   "execution_count": 48,
   "id": "6985e9f0-7b5c-497f-b413-c601f7d091cb",
   "metadata": {},
   "outputs": [
    {
     "data": {
      "text/plain": [
       "TensorShape([2, 1, 3, 2])"
      ]
     },
     "execution_count": 48,
     "metadata": {},
     "output_type": "execute_result"
    }
   ],
   "source": [
    "rank_4_tensor.shape\n",
    "# rank_4_tensor.shape[0]  # 2"
   ]
  },
  {
   "cell_type": "code",
   "execution_count": 52,
   "id": "753249ab-715e-4ec4-ae38-d791d4ef4173",
   "metadata": {},
   "outputs": [
    {
     "data": {
      "text/plain": [
       "12"
      ]
     },
     "execution_count": 52,
     "metadata": {},
     "output_type": "execute_result"
    }
   ],
   "source": [
    "tf.size(rank_4_tensor)\n",
    "tf.size(rank_4_tensor).numpy()"
   ]
  },
  {
   "cell_type": "code",
   "execution_count": 45,
   "id": "4ded452a-787c-4352-9c7a-175ac83ade6a",
   "metadata": {},
   "outputs": [
    {
     "data": {
      "text/plain": [
       "tf.float32"
      ]
     },
     "execution_count": 45,
     "metadata": {},
     "output_type": "execute_result"
    }
   ],
   "source": [
    "rank_4_tensor.dtype"
   ]
  },
  {
   "cell_type": "markdown",
   "id": "82e72d9e-5f75-40df-864a-b23cf0a275f0",
   "metadata": {},
   "source": [
    "### index & expand"
   ]
  },
  {
   "cell_type": "code",
   "execution_count": 53,
   "id": "2b554c8e-14ab-4528-9dc9-dd5363acf52f",
   "metadata": {},
   "outputs": [
    {
     "data": {
      "text/plain": [
       "<tf.Tensor: shape=(2, 1, 2, 2), dtype=float32, numpy=\n",
       "array([[[[1., 1.],\n",
       "         [1., 1.]]],\n",
       "\n",
       "\n",
       "       [[[1., 1.],\n",
       "         [1., 1.]]]], dtype=float32)>"
      ]
     },
     "execution_count": 53,
     "metadata": {},
     "output_type": "execute_result"
    }
   ],
   "source": [
    "rank_4_tensor[:2, :1, :2, :]"
   ]
  },
  {
   "cell_type": "code",
   "execution_count": 61,
   "id": "6c09d2cc-4c85-4d26-b4eb-0c982161ebc8",
   "metadata": {},
   "outputs": [
    {
     "data": {
      "text/plain": [
       "<tf.Tensor: shape=(2,), dtype=float32, numpy=array([1., 1.], dtype=float32)>"
      ]
     },
     "execution_count": 61,
     "metadata": {},
     "output_type": "execute_result"
    }
   ],
   "source": [
    "# get the first element from every dimension except the final dimension\n",
    "rank_4_tensor[0, 0, 0, :]"
   ]
  },
  {
   "cell_type": "code",
   "execution_count": 62,
   "id": "da061d54-7b0c-46f2-bae2-20841a42aba5",
   "metadata": {},
   "outputs": [
    {
     "data": {
      "text/plain": [
       "<tf.Tensor: shape=(1, 1, 1, 2), dtype=float32, numpy=array([[[[1., 1.]]]], dtype=float32)>"
      ]
     },
     "execution_count": 62,
     "metadata": {},
     "output_type": "execute_result"
    }
   ],
   "source": [
    "rank_4_tensor[:1, :1, :1]"
   ]
  },
  {
   "cell_type": "code",
   "execution_count": 55,
   "id": "ff7d3e4a-fe5f-429d-8aa3-93ed2c145cd9",
   "metadata": {},
   "outputs": [
    {
     "data": {
      "text/plain": [
       "<tf.Tensor: shape=(2, 1, 3, 2), dtype=float32, numpy=\n",
       "array([[[[1., 1.],\n",
       "         [1., 1.],\n",
       "         [1., 1.]]],\n",
       "\n",
       "\n",
       "       [[[1., 1.],\n",
       "         [1., 1.],\n",
       "         [1., 1.]]]], dtype=float32)>"
      ]
     },
     "execution_count": 55,
     "metadata": {},
     "output_type": "execute_result"
    }
   ],
   "source": [
    "rank_4_tensor"
   ]
  },
  {
   "cell_type": "code",
   "execution_count": 64,
   "id": "2f7c583e-7b2b-4857-8a7f-82a66ebbbb5a",
   "metadata": {},
   "outputs": [
    {
     "data": {
      "text/plain": [
       "<tf.Tensor: shape=(2, 2, 1), dtype=int32, numpy=\n",
       "array([[[10],\n",
       "        [ 7]],\n",
       "\n",
       "       [[ 3],\n",
       "        [ 4]]], dtype=int32)>"
      ]
     },
     "execution_count": 64,
     "metadata": {},
     "output_type": "execute_result"
    }
   ],
   "source": [
    "rank_2_tensor = tf.constant([[10, 7],\n",
    "                             [3, 4]])\n",
    "rank_3_tensor = rank_2_tensor[..., tf.newaxis]\n",
    "rank_3_tensor"
   ]
  },
  {
   "cell_type": "code",
   "execution_count": 65,
   "id": "74dccfdc-1519-470e-9139-798bfb057f77",
   "metadata": {},
   "outputs": [
    {
     "data": {
      "text/plain": [
       "<tf.Tensor: shape=(2, 2, 1), dtype=int32, numpy=\n",
       "array([[[10],\n",
       "        [ 7]],\n",
       "\n",
       "       [[ 3],\n",
       "        [ 4]]], dtype=int32)>"
      ]
     },
     "execution_count": 65,
     "metadata": {},
     "output_type": "execute_result"
    }
   ],
   "source": [
    "rank_3_tensor = rank_2_tensor[:, :, tf.newaxis]\n",
    "rank_3_tensor"
   ]
  },
  {
   "cell_type": "code",
   "execution_count": 66,
   "id": "0a90e965-1561-458a-9aef-ffcf1785caaf",
   "metadata": {},
   "outputs": [
    {
     "data": {
      "text/plain": [
       "<tf.Tensor: shape=(2, 2, 1), dtype=int32, numpy=\n",
       "array([[[10],\n",
       "        [ 7]],\n",
       "\n",
       "       [[ 3],\n",
       "        [ 4]]], dtype=int32)>"
      ]
     },
     "execution_count": 66,
     "metadata": {},
     "output_type": "execute_result"
    }
   ],
   "source": [
    "# newaxis\n",
    "# tf.expand_dims\n",
    "tf.expand_dims(rank_2_tensor, axis=-1) # -1 means expand the last dimension"
   ]
  },
  {
   "cell_type": "code",
   "execution_count": 68,
   "id": "69ea8a73-b50e-40d6-b7ec-a3ade880c002",
   "metadata": {},
   "outputs": [
    {
     "data": {
      "text/plain": [
       "<tf.Tensor: shape=(1, 2, 2), dtype=int32, numpy=\n",
       "array([[[10,  7],\n",
       "        [ 3,  4]]], dtype=int32)>"
      ]
     },
     "execution_count": 68,
     "metadata": {},
     "output_type": "execute_result"
    }
   ],
   "source": [
    "tf.expand_dims(rank_2_tensor, axis=0) # 0 means expand the 0-axis dimension"
   ]
  },
  {
   "cell_type": "markdown",
   "id": "eac80366-ca0c-4473-a32c-df4885312cb5",
   "metadata": {},
   "source": [
    "### tensor operations\n",
    "* matmul\n",
    "* reshape\n",
    "* transpose\n",
    "* tensordot"
   ]
  },
  {
   "cell_type": "code",
   "execution_count": 69,
   "id": "b01f7313-4ecd-41b9-a9c7-1402d3915d17",
   "metadata": {},
   "outputs": [
    {
     "data": {
      "text/plain": [
       "<tf.Tensor: shape=(2, 2), dtype=int32, numpy=\n",
       "array([[20, 17],\n",
       "       [13, 14]], dtype=int32)>"
      ]
     },
     "execution_count": 69,
     "metadata": {},
     "output_type": "execute_result"
    }
   ],
   "source": [
    "# python basic operations\n",
    "tensor1 = tf.constant([[10, 7], [3, 4]])\n",
    "tensor1 + 10"
   ]
  },
  {
   "cell_type": "code",
   "execution_count": 70,
   "id": "666c83de-7965-491f-a0cc-703772e835cf",
   "metadata": {},
   "outputs": [
    {
     "data": {
      "text/plain": [
       "<tf.Tensor: shape=(2, 2), dtype=int32, numpy=\n",
       "array([[100,  70],\n",
       "       [ 30,  40]], dtype=int32)>"
      ]
     },
     "execution_count": 70,
     "metadata": {},
     "output_type": "execute_result"
    }
   ],
   "source": [
    "tf.multiply(tensor1, 10)"
   ]
  },
  {
   "cell_type": "code",
   "execution_count": 71,
   "id": "a5fda72b-0eaa-4ef2-996f-b02371ea4076",
   "metadata": {},
   "outputs": [
    {
     "data": {
      "text/plain": [
       "<tf.Tensor: shape=(2, 2), dtype=int32, numpy=\n",
       "array([[10,  7],\n",
       "       [ 3,  4]], dtype=int32)>"
      ]
     },
     "execution_count": 71,
     "metadata": {},
     "output_type": "execute_result"
    }
   ],
   "source": [
    "tensor1"
   ]
  },
  {
   "cell_type": "code",
   "execution_count": 72,
   "id": "24c40d2e-3d4d-4503-b058-21c88c91d347",
   "metadata": {},
   "outputs": [
    {
     "data": {
      "text/plain": [
       "<tf.Tensor: shape=(2, 2), dtype=int32, numpy=\n",
       "array([[121,  98],\n",
       "       [ 42,  37]], dtype=int32)>"
      ]
     },
     "execution_count": 72,
     "metadata": {},
     "output_type": "execute_result"
    }
   ],
   "source": [
    "# matrix dot operations\n",
    "tf.matmul(tensor1, tensor1)"
   ]
  },
  {
   "cell_type": "code",
   "execution_count": 73,
   "id": "1d92168b-c7d8-43d5-bf18-d86106afba7e",
   "metadata": {},
   "outputs": [
    {
     "data": {
      "text/plain": [
       "<tf.Tensor: shape=(2, 2), dtype=int32, numpy=\n",
       "array([[121,  98],\n",
       "       [ 42,  37]], dtype=int32)>"
      ]
     },
     "execution_count": 73,
     "metadata": {},
     "output_type": "execute_result"
    }
   ],
   "source": [
    "tensor1 @ tensor1"
   ]
  },
  {
   "cell_type": "code",
   "execution_count": 86,
   "id": "428ab43a-691f-437d-8922-841a6eec3c71",
   "metadata": {},
   "outputs": [],
   "source": [
    "# create two (2, 3) tensor\n",
    "tensor2 = tf.constant([[10, 7, 8],\n",
    "                        [2, 3, 6]])\n",
    "tensor3 = tf.constant([[10, 1, 8],\n",
    "                        [0, 5, 6]])"
   ]
  },
  {
   "cell_type": "code",
   "execution_count": 84,
   "id": "8c1ef35c-69ae-440f-b975-cf6dd04251b9",
   "metadata": {},
   "outputs": [
    {
     "data": {
      "text/plain": [
       "<tf.Tensor: shape=(2, 2), dtype=int32, numpy=\n",
       "array([[171,  83],\n",
       "       [ 71,  51]], dtype=int32)>"
      ]
     },
     "execution_count": 84,
     "metadata": {},
     "output_type": "execute_result"
    }
   ],
   "source": [
    "tensor2 @ tensor3  # will cause error"
   ]
  },
  {
   "cell_type": "code",
   "execution_count": 87,
   "id": "00c2de57-1b2b-4923-9531-a4434d59992e",
   "metadata": {},
   "outputs": [],
   "source": [
    "# reshape\n",
    "tensor3 = tf.reshape(tensor3, shape=(3, 2))"
   ]
  },
  {
   "cell_type": "code",
   "execution_count": 88,
   "id": "94b2e34a-1108-4b1a-8070-2fe88f41a1af",
   "metadata": {},
   "outputs": [
    {
     "data": {
      "text/plain": [
       "<tf.Tensor: shape=(3, 2), dtype=int32, numpy=\n",
       "array([[10,  1],\n",
       "       [ 8,  0],\n",
       "       [ 5,  6]], dtype=int32)>"
      ]
     },
     "execution_count": 88,
     "metadata": {},
     "output_type": "execute_result"
    }
   ],
   "source": [
    "tensor3"
   ]
  },
  {
   "cell_type": "code",
   "execution_count": 83,
   "id": "c08702ce-d868-4540-a8d3-b5569f03d49e",
   "metadata": {},
   "outputs": [],
   "source": [
    "# tanspose\n",
    "tensor3 = tf.transpose(tensor3)"
   ]
  },
  {
   "cell_type": "code",
   "execution_count": 85,
   "id": "8650ea41-3b04-4a06-9b12-e63ec82fcd82",
   "metadata": {},
   "outputs": [
    {
     "data": {
      "text/plain": [
       "<tf.Tensor: shape=(3, 2), dtype=int32, numpy=\n",
       "array([[10,  0],\n",
       "       [ 1,  5],\n",
       "       [ 8,  6]], dtype=int32)>"
      ]
     },
     "execution_count": 85,
     "metadata": {},
     "output_type": "execute_result"
    }
   ],
   "source": [
    "tensor3"
   ]
  },
  {
   "cell_type": "code",
   "execution_count": 89,
   "id": "a5c08c58-816c-4fd8-8a7d-91a4a8d7b1ab",
   "metadata": {},
   "outputs": [],
   "source": [
    "# notice reshape and transpose are different!!!"
   ]
  },
  {
   "cell_type": "markdown",
   "id": "7bd80841-189a-43cf-9a64-221e15ff51dc",
   "metadata": {},
   "source": [
    "This can be explained by the default behaviour of each method:\n",
    "\n",
    "* tf.reshape() - change the shape of the given tensor (first) and then insert values in order they appear (in our case, 7, 8, 9, 10, 11, 12).\n",
    "* tf.transpose() - swap the order of the axes, by default the last axis becomes the first, however the order can be changed using the perm parameter."
   ]
  },
  {
   "cell_type": "code",
   "execution_count": 94,
   "id": "ff43168c-d537-4e0e-a7aa-14b8a58a0042",
   "metadata": {},
   "outputs": [
    {
     "data": {
      "text/plain": [
       "<tf.Tensor: shape=(3, 3), dtype=int32, numpy=\n",
       "array([[102,  73,  86],\n",
       "       [ 80,  56,  64],\n",
       "       [ 62,  53,  76]], dtype=int32)>"
      ]
     },
     "execution_count": 94,
     "metadata": {},
     "output_type": "execute_result"
    }
   ],
   "source": [
    "tf.tensordot(tensor3, tensor2, axes=1)"
   ]
  },
  {
   "cell_type": "code",
   "execution_count": 92,
   "id": "2488673a-8287-4429-b907-01da3b9e1e44",
   "metadata": {},
   "outputs": [
    {
     "data": {
      "text/plain": [
       "<tf.Tensor: shape=(2, 3), dtype=int32, numpy=\n",
       "array([[10,  7,  8],\n",
       "       [ 2,  3,  6]], dtype=int32)>"
      ]
     },
     "execution_count": 92,
     "metadata": {},
     "output_type": "execute_result"
    }
   ],
   "source": [
    "tensor2"
   ]
  },
  {
   "cell_type": "code",
   "execution_count": 93,
   "id": "0811acac-094d-4094-9278-cf0e2dd13eeb",
   "metadata": {},
   "outputs": [
    {
     "data": {
      "text/plain": [
       "<tf.Tensor: shape=(3, 2), dtype=int32, numpy=\n",
       "array([[10,  1],\n",
       "       [ 8,  0],\n",
       "       [ 5,  6]], dtype=int32)>"
      ]
     },
     "execution_count": 93,
     "metadata": {},
     "output_type": "execute_result"
    }
   ],
   "source": [
    "tensor3"
   ]
  },
  {
   "cell_type": "markdown",
   "id": "a8b7ecd8-9314-4a68-967a-1d766b93c894",
   "metadata": {},
   "source": [
    "### change data type\n",
    "tf.cast()"
   ]
  },
  {
   "cell_type": "code",
   "execution_count": 96,
   "id": "9268a6e3-3a29-495c-bf3d-5362c2c44968",
   "metadata": {},
   "outputs": [
    {
     "data": {
      "text/plain": [
       "(<tf.Tensor: shape=(2,), dtype=int32, numpy=array([10,  7], dtype=int32)>,\n",
       " <tf.Tensor: shape=(2,), dtype=float32, numpy=array([10.1,  7.1], dtype=float32)>)"
      ]
     },
     "execution_count": 96,
     "metadata": {},
     "output_type": "execute_result"
    }
   ],
   "source": [
    "tensor_int = tf.constant([10, 7])\n",
    "tensor_float = tf.constant([10.1, 7.1])\n",
    "tensor_int, tensor_float"
   ]
  },
  {
   "cell_type": "code",
   "execution_count": 98,
   "id": "4cd6df4d-91ad-4198-81a6-3313ecdd7782",
   "metadata": {},
   "outputs": [
    {
     "data": {
      "text/plain": [
       "<tf.Tensor: shape=(2,), dtype=float32, numpy=array([10.,  7.], dtype=float32)>"
      ]
     },
     "execution_count": 98,
     "metadata": {},
     "output_type": "execute_result"
    }
   ],
   "source": [
    "tf.cast(tensor_int, dtype=tf.float32)"
   ]
  },
  {
   "cell_type": "code",
   "execution_count": 101,
   "id": "3c27de18-681d-4b01-b2a1-e869665aa2dd",
   "metadata": {},
   "outputs": [],
   "source": [
    "new = tf.cast(tensor_float, dtype=tf.int32)"
   ]
  },
  {
   "cell_type": "code",
   "execution_count": 100,
   "id": "592cfa6c-dfcd-4a87-b44c-f05b5f1b5018",
   "metadata": {},
   "outputs": [
    {
     "data": {
      "text/plain": [
       "<tf.Tensor: shape=(2,), dtype=float32, numpy=array([10.1,  7.1], dtype=float32)>"
      ]
     },
     "execution_count": 100,
     "metadata": {},
     "output_type": "execute_result"
    }
   ],
   "source": [
    "tensor_float"
   ]
  },
  {
   "cell_type": "code",
   "execution_count": 102,
   "id": "afbebd4d-9949-4440-ba19-ac0dea52c02f",
   "metadata": {},
   "outputs": [
    {
     "data": {
      "text/plain": [
       "<tf.Tensor: shape=(2,), dtype=int32, numpy=array([10,  7], dtype=int32)>"
      ]
     },
     "execution_count": 102,
     "metadata": {},
     "output_type": "execute_result"
    }
   ],
   "source": [
    "new"
   ]
  },
  {
   "cell_type": "markdown",
   "id": "d0ca3e57-0349-4831-b714-79f5fd8f39dc",
   "metadata": {},
   "source": [
    "### get the absolute value\n",
    "tf.abs()"
   ]
  },
  {
   "cell_type": "code",
   "execution_count": 103,
   "id": "c609331d-b9c0-44b8-8988-aef3f026c983",
   "metadata": {},
   "outputs": [],
   "source": [
    "tensor_ = tf.constant([-10, -7])"
   ]
  },
  {
   "cell_type": "code",
   "execution_count": 104,
   "id": "23fcf6b8-a9e9-45f7-9d06-379ded54ca05",
   "metadata": {},
   "outputs": [
    {
     "data": {
      "text/plain": [
       "<tf.Tensor: shape=(2,), dtype=int32, numpy=array([10,  7], dtype=int32)>"
      ]
     },
     "execution_count": 104,
     "metadata": {},
     "output_type": "execute_result"
    }
   ],
   "source": [
    "tf.abs(tensor_)"
   ]
  },
  {
   "cell_type": "markdown",
   "id": "092c06f9-c615-4fae-a177-f841d9cc8c37",
   "metadata": {},
   "source": [
    "### find min, max, mean, sum\n",
    "* from tf.math.reduce_xxx()\n",
    "* tf.reduce_min()\n",
    "* tf.reduce_max()\n",
    "* tf.reduce_mean()\n",
    "* tf.reduce_sum()\n",
    "* tf.reduce_std()\n",
    "* tf.reduce_variance()"
   ]
  },
  {
   "cell_type": "code",
   "execution_count": 105,
   "id": "d332996b-6daf-4c6c-98ae-cda0b992288f",
   "metadata": {},
   "outputs": [],
   "source": [
    "random_tensor = tf.constant(np.random.randint(0, 100, 50))"
   ]
  },
  {
   "cell_type": "code",
   "execution_count": 106,
   "id": "b06f1d86-1704-4290-9346-97e6000f90d2",
   "metadata": {},
   "outputs": [
    {
     "data": {
      "text/plain": [
       "<tf.Tensor: shape=(50,), dtype=int64, numpy=\n",
       "array([52, 55, 69, 40, 89, 94, 85,  6, 95, 19, 94, 61, 94, 68, 55, 58, 45,\n",
       "       98, 80, 25, 32, 68, 73, 78, 28, 24, 97, 14, 47, 51, 27, 91, 40, 95,\n",
       "       70, 19, 90, 87, 67, 55, 42, 73, 78, 42, 38,  0, 34, 86, 57, 46])>"
      ]
     },
     "execution_count": 106,
     "metadata": {},
     "output_type": "execute_result"
    }
   ],
   "source": [
    "random_tensor"
   ]
  },
  {
   "cell_type": "code",
   "execution_count": 107,
   "id": "12c1ae05-c907-453e-a5dc-4e0ac71c61cf",
   "metadata": {},
   "outputs": [
    {
     "data": {
      "text/plain": [
       "<tf.Tensor: shape=(), dtype=int64, numpy=0>"
      ]
     },
     "execution_count": 107,
     "metadata": {},
     "output_type": "execute_result"
    }
   ],
   "source": [
    "tf.reduce_min(random_tensor)"
   ]
  },
  {
   "cell_type": "code",
   "execution_count": 108,
   "id": "b948e705-65b9-44cc-b746-d78077932f6b",
   "metadata": {},
   "outputs": [
    {
     "data": {
      "text/plain": [
       "<tf.Tensor: shape=(), dtype=int64, numpy=98>"
      ]
     },
     "execution_count": 108,
     "metadata": {},
     "output_type": "execute_result"
    }
   ],
   "source": [
    "tf.reduce_max(random_tensor)"
   ]
  },
  {
   "cell_type": "code",
   "execution_count": 109,
   "id": "d7a6995b-8441-4e30-a041-8594ed86970c",
   "metadata": {},
   "outputs": [
    {
     "data": {
      "text/plain": [
       "<tf.Tensor: shape=(), dtype=int64, numpy=58>"
      ]
     },
     "execution_count": 109,
     "metadata": {},
     "output_type": "execute_result"
    }
   ],
   "source": [
    "tf.reduce_mean(random_tensor)"
   ]
  },
  {
   "cell_type": "code",
   "execution_count": 110,
   "id": "1f2cd6f9-6b6a-4163-a28e-34ddc4046fab",
   "metadata": {},
   "outputs": [
    {
     "data": {
      "text/plain": [
       "<tf.Tensor: shape=(), dtype=int64, numpy=2931>"
      ]
     },
     "execution_count": 110,
     "metadata": {},
     "output_type": "execute_result"
    }
   ],
   "source": [
    "tf.reduce_sum(random_tensor)"
   ]
  },
  {
   "cell_type": "code",
   "execution_count": 116,
   "id": "05aeed2d-fce0-4678-817e-84995899407c",
   "metadata": {},
   "outputs": [
    {
     "data": {
      "text/plain": [
       "<tf.Tensor: shape=(), dtype=float32, numpy=26.81633>"
      ]
     },
     "execution_count": 116,
     "metadata": {},
     "output_type": "execute_result"
    }
   ],
   "source": [
    "random_tensor = tf.cast(random_tensor, dtype=tf.float32)  # because int is not work to std\n",
    "tf.math.reduce_std(random_tensor)"
   ]
  },
  {
   "cell_type": "markdown",
   "id": "55c95c63-8e4a-4ac5-b3c0-7ccf5d1aaa2c",
   "metadata": {},
   "source": [
    "### find the max, min index\n",
    "* tf.argmax()\n",
    "* tf.argmin()"
   ]
  },
  {
   "cell_type": "code",
   "execution_count": 117,
   "id": "7e00c084-19aa-4463-b86e-9c855fda9c63",
   "metadata": {},
   "outputs": [],
   "source": [
    "random_tensor = tf.constant(np.random.random(50))"
   ]
  },
  {
   "cell_type": "code",
   "execution_count": 118,
   "id": "ea8ac42f-cdcc-41e8-afc5-6561d6e711a9",
   "metadata": {},
   "outputs": [
    {
     "data": {
      "text/plain": [
       "<tf.Tensor: shape=(), dtype=int64, numpy=36>"
      ]
     },
     "execution_count": 118,
     "metadata": {},
     "output_type": "execute_result"
    }
   ],
   "source": [
    "tf.argmax(random_tensor)"
   ]
  },
  {
   "cell_type": "code",
   "execution_count": 119,
   "id": "8869dfff-84e9-451c-a821-d652a1465741",
   "metadata": {},
   "outputs": [
    {
     "data": {
      "text/plain": [
       "<tf.Tensor: shape=(), dtype=int64, numpy=35>"
      ]
     },
     "execution_count": 119,
     "metadata": {},
     "output_type": "execute_result"
    }
   ],
   "source": [
    "tf.argmin(random_tensor)"
   ]
  },
  {
   "cell_type": "code",
   "execution_count": 120,
   "id": "8225d774-6944-4aa4-843a-76db5713a05d",
   "metadata": {},
   "outputs": [
    {
     "data": {
      "text/plain": [
       "<tf.Tensor: shape=(50,), dtype=float64, numpy=\n",
       "array([0.99433939, 0.46798262, 0.56385065, 0.42093954, 0.0960791 ,\n",
       "       0.36561938, 0.15127308, 0.99405325, 0.54951177, 0.60874238,\n",
       "       0.64866918, 0.42343701, 0.99160359, 0.92339033, 0.02854912,\n",
       "       0.68536135, 0.75026027, 0.16364865, 0.25199088, 0.7234455 ,\n",
       "       0.4738062 , 0.21511352, 0.52121858, 0.25727528, 0.71211302,\n",
       "       0.24708778, 0.52665457, 0.55816951, 0.58391553, 0.64099157,\n",
       "       0.24714591, 0.09963376, 0.33819233, 0.76812369, 0.93371074,\n",
       "       0.00140184, 0.99720311, 0.68051155, 0.98840578, 0.23203409,\n",
       "       0.72252426, 0.1721251 , 0.65458933, 0.9795604 , 0.74025807,\n",
       "       0.75056962, 0.60818075, 0.80601582, 0.3240222 , 0.03712957])>"
      ]
     },
     "execution_count": 120,
     "metadata": {},
     "output_type": "execute_result"
    }
   ],
   "source": [
    "random_tensor"
   ]
  },
  {
   "cell_type": "code",
   "execution_count": 121,
   "id": "35404faf-c675-4bd1-b1bb-2e078dc3ddac",
   "metadata": {},
   "outputs": [
    {
     "data": {
      "text/plain": [
       "(<tf.Tensor: shape=(), dtype=float64, numpy=0.9972031148053582>,\n",
       " <tf.Tensor: shape=(), dtype=float64, numpy=0.0014018436427726266>)"
      ]
     },
     "execution_count": 121,
     "metadata": {},
     "output_type": "execute_result"
    }
   ],
   "source": [
    "tf.reduce_max(random_tensor), tf.reduce_min(random_tensor)"
   ]
  },
  {
   "cell_type": "markdown",
   "id": "7a6f802f-6a8b-4c8b-800c-84de9de13671",
   "metadata": {},
   "source": [
    "### squeeze a tensor (remove all 1 dimensions)\n",
    "* tf.squeeze()"
   ]
  },
  {
   "cell_type": "code",
   "execution_count": 123,
   "id": "9fb5b567-cfbc-432b-b3a8-494a97ba2095",
   "metadata": {},
   "outputs": [
    {
     "data": {
      "text/plain": [
       "<tf.Tensor: shape=(1, 1, 1, 1, 50), dtype=float64, numpy=\n",
       "array([[[[[0.46662083, 0.74485828, 0.19484158, 0.86228505, 0.26865369,\n",
       "           0.56624874, 0.00252844, 0.78395048, 0.50343137, 0.45197186,\n",
       "           0.69273832, 0.44685618, 0.00610448, 0.49369957, 0.73922951,\n",
       "           0.99390168, 0.52029985, 0.63548457, 0.19725428, 0.74087717,\n",
       "           0.79743011, 0.82955856, 0.91661717, 0.62800892, 0.19592114,\n",
       "           0.23397409, 0.48875095, 0.23492552, 0.49789256, 0.00595176,\n",
       "           0.02088629, 0.71065363, 0.16207963, 0.41368192, 0.89980507,\n",
       "           0.37926038, 0.36207171, 0.10642786, 0.58919348, 0.91766644,\n",
       "           0.78801996, 0.77334086, 0.63897667, 0.88725268, 0.65493875,\n",
       "           0.24888088, 0.77544552, 0.91854825, 0.68020752, 0.60521488]]]]])>"
      ]
     },
     "execution_count": 123,
     "metadata": {},
     "output_type": "execute_result"
    }
   ],
   "source": [
    "random_tensor = tf.constant(np.random.random(50), shape=(1, 1, 1, 1, 50))\n",
    "random_tensor"
   ]
  },
  {
   "cell_type": "code",
   "execution_count": 124,
   "id": "05b494e2-f392-4b86-8f42-302f4ead7fa7",
   "metadata": {},
   "outputs": [
    {
     "data": {
      "text/plain": [
       "<tf.Tensor: shape=(50,), dtype=float64, numpy=\n",
       "array([0.46662083, 0.74485828, 0.19484158, 0.86228505, 0.26865369,\n",
       "       0.56624874, 0.00252844, 0.78395048, 0.50343137, 0.45197186,\n",
       "       0.69273832, 0.44685618, 0.00610448, 0.49369957, 0.73922951,\n",
       "       0.99390168, 0.52029985, 0.63548457, 0.19725428, 0.74087717,\n",
       "       0.79743011, 0.82955856, 0.91661717, 0.62800892, 0.19592114,\n",
       "       0.23397409, 0.48875095, 0.23492552, 0.49789256, 0.00595176,\n",
       "       0.02088629, 0.71065363, 0.16207963, 0.41368192, 0.89980507,\n",
       "       0.37926038, 0.36207171, 0.10642786, 0.58919348, 0.91766644,\n",
       "       0.78801996, 0.77334086, 0.63897667, 0.88725268, 0.65493875,\n",
       "       0.24888088, 0.77544552, 0.91854825, 0.68020752, 0.60521488])>"
      ]
     },
     "execution_count": 124,
     "metadata": {},
     "output_type": "execute_result"
    }
   ],
   "source": [
    "squee_tensor = tf.squeeze(random_tensor)\n",
    "squee_tensor"
   ]
  },
  {
   "cell_type": "markdown",
   "id": "a69725dc-c5aa-43c2-822d-68559520c1ec",
   "metadata": {},
   "source": [
    "### one hot encoder\n",
    "tf.one_hot(depth, on_value, off_value) "
   ]
  },
  {
   "cell_type": "code",
   "execution_count": 130,
   "id": "33fdc977-2811-4150-b007-edfe3d548b71",
   "metadata": {},
   "outputs": [
    {
     "data": {
      "text/plain": [
       "<tf.Tensor: shape=(3, 5), dtype=string, numpy=\n",
       "array([[b'--', b'hello', b'--', b'--', b'--'],\n",
       "       [b'--', b'--', b'hello', b'--', b'--'],\n",
       "       [b'--', b'--', b'--', b'--', b'hello']], dtype=object)>"
      ]
     },
     "execution_count": 130,
     "metadata": {},
     "output_type": "execute_result"
    }
   ],
   "source": [
    "somelist = [1, 2, 4]\n",
    "tensor = tf.one_hot(somelist, depth=5, on_value='hello', off_value='--')\n",
    "tensor"
   ]
  },
  {
   "cell_type": "markdown",
   "id": "74ddaed0-d4a2-48a9-94f1-0d539cdec36d",
   "metadata": {},
   "source": [
    "### Squaring, log, square root\n",
    "* tf.square() - get the square of every value in a tensor.\n",
    "* tf.sqrt() - get the squareroot of every value in a tensor (note: the elements need to be floats or this will error).\n",
    "* tf.math.log() - get the natural log of every value in a tensor (elements need to floats)."
   ]
  },
  {
   "cell_type": "code",
   "execution_count": 131,
   "id": "eca73fa6-2a94-42e9-af14-2dd9def34117",
   "metadata": {},
   "outputs": [
    {
     "data": {
      "text/plain": [
       "<tf.Tensor: shape=(9,), dtype=int64, numpy=array([1, 2, 3, 4, 5, 6, 7, 8, 9])>"
      ]
     },
     "execution_count": 131,
     "metadata": {},
     "output_type": "execute_result"
    }
   ],
   "source": [
    "tensor = tf.constant(np.arange(1, 10))\n",
    "tensor"
   ]
  },
  {
   "cell_type": "code",
   "execution_count": 132,
   "id": "7d2b72c1-eb72-49d2-8ffe-770001336ad2",
   "metadata": {},
   "outputs": [
    {
     "data": {
      "text/plain": [
       "<tf.Tensor: shape=(9,), dtype=int64, numpy=array([ 1,  4,  9, 16, 25, 36, 49, 64, 81])>"
      ]
     },
     "execution_count": 132,
     "metadata": {},
     "output_type": "execute_result"
    }
   ],
   "source": [
    "tf.square(tensor)"
   ]
  },
  {
   "cell_type": "code",
   "execution_count": 135,
   "id": "44588b5e-ca3f-4a8e-b92f-940efa857ee3",
   "metadata": {},
   "outputs": [
    {
     "data": {
      "text/plain": [
       "<tf.Tensor: shape=(9,), dtype=float32, numpy=\n",
       "array([1.       , 1.4142135, 1.7320508, 2.       , 2.236068 , 2.4494898,\n",
       "       2.6457512, 2.828427 , 3.       ], dtype=float32)>"
      ]
     },
     "execution_count": 135,
     "metadata": {},
     "output_type": "execute_result"
    }
   ],
   "source": [
    "tensor2 = tf.cast(tensor, dtype=tf.float32)\n",
    "tf.sqrt(tensor2)"
   ]
  },
  {
   "cell_type": "code",
   "execution_count": 137,
   "id": "910375c3-1b46-41e8-93ae-77e154900d40",
   "metadata": {},
   "outputs": [
    {
     "data": {
      "text/plain": [
       "<tf.Tensor: shape=(9,), dtype=float32, numpy=\n",
       "array([0.       , 0.6931472, 1.0986123, 1.3862944, 1.609438 , 1.7917595,\n",
       "       1.9459102, 2.0794415, 2.1972246], dtype=float32)>"
      ]
     },
     "execution_count": 137,
     "metadata": {},
     "output_type": "execute_result"
    }
   ],
   "source": [
    "tf.math.log(tensor2)"
   ]
  },
  {
   "cell_type": "markdown",
   "id": "443e8144-3c8f-4c75-ba2d-f91a85845366",
   "metadata": {},
   "source": [
    "### tensor to numpy\n",
    "* np.array() - pass a tensor to convert to an ndarray (NumPy's main datatype).\n",
    "* tensor.numpy() - call on a tensor to convert to an ndarray."
   ]
  },
  {
   "cell_type": "code",
   "execution_count": 142,
   "id": "30a5fc16-ad60-4a3f-941d-2ea554fa62a2",
   "metadata": {},
   "outputs": [
    {
     "data": {
      "text/plain": [
       "<tf.Tensor: shape=(2,), dtype=int32, numpy=array([10,  7], dtype=int32)>"
      ]
     },
     "execution_count": 142,
     "metadata": {},
     "output_type": "execute_result"
    }
   ],
   "source": [
    "tensor = tf.constant([10, 7])\n",
    "tensor"
   ]
  },
  {
   "cell_type": "code",
   "execution_count": 143,
   "id": "1b54e0bf-298a-4b09-8005-c83af9d91d6e",
   "metadata": {},
   "outputs": [
    {
     "data": {
      "text/plain": [
       "array([10,  7], dtype=int32)"
      ]
     },
     "execution_count": 143,
     "metadata": {},
     "output_type": "execute_result"
    }
   ],
   "source": [
    "np.array(tensor)"
   ]
  },
  {
   "cell_type": "code",
   "execution_count": 144,
   "id": "67ada93e-8cff-49ff-8820-7ba610518a02",
   "metadata": {},
   "outputs": [
    {
     "data": {
      "text/plain": [
       "array([10,  7], dtype=int32)"
      ]
     },
     "execution_count": 144,
     "metadata": {},
     "output_type": "execute_result"
    }
   ],
   "source": [
    "tensor.numpy()"
   ]
  },
  {
   "cell_type": "markdown",
   "id": "046fc93c-70e5-4c11-a6ca-a5d01968bec2",
   "metadata": {},
   "source": [
    "### use @tf.function can speed up"
   ]
  },
  {
   "cell_type": "code",
   "execution_count": 150,
   "id": "2915fee0-402a-4389-a5fa-5965919ad71c",
   "metadata": {},
   "outputs": [
    {
     "data": {
      "text/plain": [
       "<tf.Tensor: shape=(5,), dtype=int64, numpy=array([35, 47, 61, 77, 95])>"
      ]
     },
     "execution_count": 150,
     "metadata": {},
     "output_type": "execute_result"
    }
   ],
   "source": [
    "@tf.function\n",
    "def function(x, y):\n",
    "    return x ** 2 + y\n",
    "\n",
    "x = tf.constant(np.arange(5, 10))\n",
    "y = tf.constant(np.arange(10, 15))\n",
    "function(x, y)"
   ]
  },
  {
   "cell_type": "markdown",
   "id": "845afc71-42cd-4bd7-91d3-829d1fc43e75",
   "metadata": {},
   "source": [
    "### finding access to gpus\n",
    "check if you've got access to a GPU using tf.config.list_physical_devices()"
   ]
  },
  {
   "cell_type": "code",
   "execution_count": 154,
   "id": "6488a121-f467-41f7-9e3e-d27feb134bfc",
   "metadata": {},
   "outputs": [
    {
     "name": "stdout",
     "output_type": "stream",
     "text": [
      "[PhysicalDevice(name='/physical_device:CPU:0', device_type='CPU')]\n"
     ]
    }
   ],
   "source": [
    "print(tf.config.list_physical_devices('CPU'))"
   ]
  },
  {
   "cell_type": "code",
   "execution_count": 152,
   "id": "a3296975-98ed-49ce-82e0-abcd40a6297c",
   "metadata": {},
   "outputs": [
    {
     "name": "stdout",
     "output_type": "stream",
     "text": [
      "zsh:1: command not found: nvidia-smi\n"
     ]
    }
   ],
   "source": [
    "# find information about your GPU using !nvidia-smi\n",
    "!nvidia-smi"
   ]
  },
  {
   "cell_type": "code",
   "execution_count": 155,
   "id": "87f199ec-b2a1-4061-86f0-751d3bf3465b",
   "metadata": {},
   "outputs": [],
   "source": [
    "# seems i don't have gpu to use"
   ]
  },
  {
   "cell_type": "code",
   "execution_count": null,
   "id": "9f46c2de-9395-456b-8f1e-c55897dac2f8",
   "metadata": {},
   "outputs": [],
   "source": []
  }
 ],
 "metadata": {
  "kernelspec": {
   "display_name": "Python 3 (ipykernel)",
   "language": "python",
   "name": "python3"
  },
  "language_info": {
   "codemirror_mode": {
    "name": "ipython",
    "version": 3
   },
   "file_extension": ".py",
   "mimetype": "text/x-python",
   "name": "python",
   "nbconvert_exporter": "python",
   "pygments_lexer": "ipython3",
   "version": "3.11.5"
  }
 },
 "nbformat": 4,
 "nbformat_minor": 5
}
