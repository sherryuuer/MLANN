{
 "cells": [
  {
   "cell_type": "code",
   "execution_count": 1,
   "id": "39f8c47d-a18c-455b-99b8-7caa67d669e4",
   "metadata": {},
   "outputs": [],
   "source": [
    "# user tensorflow installed env"
   ]
  },
  {
   "cell_type": "code",
   "execution_count": 2,
   "id": "a0f7e95f-3cf6-4976-b7d8-3a502cbe93c5",
   "metadata": {},
   "outputs": [
    {
     "name": "stdout",
     "output_type": "stream",
     "text": [
      "2.15.0\n"
     ]
    }
   ],
   "source": [
    "# Import Tensorflow\n",
    "import tensorflow as tf\n",
    "print(tf.__version__)"
   ]
  },
  {
   "cell_type": "code",
   "execution_count": null,
   "id": "52a8cade-d075-4544-9758-d18f6517b0fa",
   "metadata": {},
   "outputs": [],
   "source": [
    "# create tensor\n",
    "scalar = tf.constant(7)\n",
    "scalar"
   ]
  },
  {
   "cell_type": "code",
   "execution_count": null,
   "id": "d2d42903-bad5-4850-a295-e12ced99bf9a",
   "metadata": {},
   "outputs": [],
   "source": [
    "# number of dimensions\n",
    "scalar.ndim"
   ]
  },
  {
   "cell_type": "code",
   "execution_count": null,
   "id": "033d04b6-1c72-4e36-9efa-cb6dfb8e773a",
   "metadata": {},
   "outputs": [],
   "source": [
    "# create a vector\n",
    "vector = tf.constant([10, 10])\n",
    "vector"
   ]
  },
  {
   "cell_type": "code",
   "execution_count": null,
   "id": "c33803f1-5b0a-4053-a264-fd9ab398055f",
   "metadata": {},
   "outputs": [],
   "source": [
    "vector.ndim"
   ]
  },
  {
   "cell_type": "code",
   "execution_count": null,
   "id": "f1d78c8c-a00b-4e4e-b03d-7cbe8c1efffe",
   "metadata": {},
   "outputs": [],
   "source": [
    "# create a matrix\n",
    "matrix = tf.constant([[10, 7], [7, 10]])\n",
    "matrix"
   ]
  },
  {
   "cell_type": "code",
   "execution_count": null,
   "id": "a8402fc2-80fa-4186-ba22-044293b98e7d",
   "metadata": {},
   "outputs": [],
   "source": [
    "matrix.ndim"
   ]
  },
  {
   "cell_type": "code",
   "execution_count": null,
   "id": "b4eb062b-c11e-4c03-8c14-1620bedeb275",
   "metadata": {},
   "outputs": [],
   "source": [
    "# another matrix\n",
    "another_matrix = tf.constant([[10., 7.], [12., 7.], [1., 6.]], dtype = tf.float16)\n",
    "another_matrix"
   ]
  },
  {
   "cell_type": "code",
   "execution_count": null,
   "id": "d13e8ded-6fbb-41e1-a0ef-b358feb651f7",
   "metadata": {},
   "outputs": [],
   "source": [
    "another_matrix.ndim"
   ]
  },
  {
   "cell_type": "code",
   "execution_count": null,
   "id": "05428c25-8bcf-4931-bd30-eb4c7dd00f61",
   "metadata": {},
   "outputs": [],
   "source": [
    "tensor.ndim  # tensor实质是一个n维数组"
   ]
  }
 ],
 "metadata": {
  "kernelspec": {
   "display_name": "Python 3 (ipykernel)",
   "language": "python",
   "name": "python3"
  },
  "language_info": {
   "codemirror_mode": {
    "name": "ipython",
    "version": 3
   },
   "file_extension": ".py",
   "mimetype": "text/x-python",
   "name": "python",
   "nbconvert_exporter": "python",
   "pygments_lexer": "ipython3",
   "version": "3.11.5"
  }
 },
 "nbformat": 4,
 "nbformat_minor": 5
}
