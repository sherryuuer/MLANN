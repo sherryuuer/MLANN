{
 "cells": [
  {
   "cell_type": "markdown",
   "id": "bd9beb6a-2380-42e8-bdca-a11f409b565e",
   "metadata": {},
   "source": [
    "### 自然语言处理的任务\n",
    "1. 文本分类：垃圾邮件，信息分类等\n",
    "2. 机器翻译\n",
    "3. 信息提取：情感分析，语音识别，文本摘要\n",
    "4. 文本生成：生成式AI"
   ]
  },
  {
   "cell_type": "markdown",
   "id": "1a1a21f1-bea6-42ff-a003-585e8bf7d5fd",
   "metadata": {},
   "source": [
    "### workflow\n",
    "1. 数据\n",
    "2. 可视化数据\n",
    "3. 词处理：词向量化vectorization,tokenization\n",
    "4. 词关系：嵌入（Embedding） 是一种将离散的符号（如单词）映射到连续向量空间的技术。这个映射过程可以将单词表示成实数向量，使得具有相似语义的单词在向量空间中的距离也是相似的。Word2Vec、GloVe 和 FastText 是一些常用的词嵌入模型的例子。King - Man + Women = Queen\n",
    "5. baseline-models:RNN(SimpleRNN, LSTM, GRU)，激励函数tanh\n",
    "6. 模型比较\n",
    "7. 集成模型ensemble\n",
    "8. save&load\n",
    "9. 找到错误的预测进行模型优化"
   ]
  },
  {
   "cell_type": "markdown",
   "id": "e13143d3-6ebe-40eb-b97c-e69758043e25",
   "metadata": {},
   "source": [
    "### 自然语言处理（NLP）的流程通常包括以下步骤：\n",
    "\n",
    "1. **文本收集：** 获取包含自然语言文本的数据，可以是从互联网、数据库、文本文件等各种来源收集而来。\n",
    "\n",
    "2. **文本清理：** 对文本进行预处理，包括去除特殊字符、标点符号、停用词（在某些情况下）、处理大小写等。这一步骤有助于提高模型的准确性和效果。\n",
    "\n",
    "3. **分词：** 将文本分割成单词或词汇单元，以便计算机能够理解和处理。分词是 NLP 流程中的一个重要步骤，尤其对于处理中文等不使用空格分隔词汇的语言。\n",
    "\n",
    "4. **词干提取和词形还原：** 将单词转化为它们的基本形式，以减少词汇的复杂性和提高模型的泛化能力。\n",
    "\n",
    "5. **词性标注：** 对每个单词标注其在句子中的词性，如名词、动词、形容词等。这对于理解句子的语法结构很有帮助。\n",
    "\n",
    "6. **实体识别：** 识别文本中的命名实体，如人名、地名、组织机构等。这有助于更深入地理解文本中的信息。\n",
    "\n",
    "7. **特征提取：** 从文本中提取有用的特征，以供后续的建模和分析使用。特征可以包括词频、句子长度、情感分数等。\n",
    "\n",
    "8. **模型建立：** 选择适当的模型来处理特定的 NLP 任务，例如文本分类、命名实体识别、情感分析等。常见的模型包括循环神经网络（RNN）、长短时记忆网络（LSTM）、卷积神经网络（CNN）和预训练的语言模型（如BERT）。\n",
    "\n",
    "9. **模型训练：** 使用带有标签的训练数据对选择的模型进行训练，以使其能够对新的文本数据做出准确的预测。\n",
    "\n",
    "10. **评估和调优：** 使用测试数据集对训练好的模型进行评估，根据评估结果对模型进行调优，以提高其性能。\n",
    "\n",
    "11. **应用部署：** 将训练好的模型应用到实际场景中，进行实时的文本处理、分析和应用。\n",
    "\n",
    "整个 NLP 流程可以根据具体的任务和需求进行调整和扩展。随着深度学习和预训练模型的发展，NLP 在处理自然语言文本方面取得了显著的进展。"
   ]
  },
  {
   "cell_type": "code",
   "execution_count": 2,
   "id": "e7d815f0-fda7-4718-a08b-494a2e119ce4",
   "metadata": {},
   "outputs": [
    {
     "data": {
      "text/plain": [
       "datetime.datetime(2024, 1, 8, 13, 31, 22, 403388)"
      ]
     },
     "execution_count": 2,
     "metadata": {},
     "output_type": "execute_result"
    }
   ],
   "source": [
    "import datetime\n",
    "datetime.datetime.now()"
   ]
  },
  {
   "cell_type": "code",
   "execution_count": 9,
   "id": "68bb8cf3-d104-4e8b-a1d0-5207641f7dd7",
   "metadata": {},
   "outputs": [],
   "source": [
    "# Import series of helper functions for the notebook\n",
    "from helper_functions import unzip_data, create_tensorboard_callback, plot_loss_curves, compare_historys"
   ]
  },
  {
   "cell_type": "code",
   "execution_count": 10,
   "id": "bceb0a4c-f5ad-4fe6-8d14-fdcdde6fd00c",
   "metadata": {},
   "outputs": [],
   "source": [
    "unzip_data(\"nlp_getting_started.zip\")"
   ]
  },
  {
   "cell_type": "markdown",
   "id": "35b369d5-8ad4-4cf8-a183-ce93af3e2c68",
   "metadata": {},
   "source": [
    "https://www.kaggle.com/competitions/nlp-getting-started"
   ]
  },
  {
   "cell_type": "code",
   "execution_count": 11,
   "id": "a75633cd-3c3f-4cb0-a4a8-ac0819f55ca8",
   "metadata": {},
   "outputs": [
    {
     "name": "stdout",
     "output_type": "stream",
     "text": [
      "sample_submission.csv test.csv              train.csv\n"
     ]
    }
   ],
   "source": [
    "!ls nlp_data/"
   ]
  },
  {
   "cell_type": "code",
   "execution_count": 14,
   "id": "49c54c69-7241-4c36-b3af-7dcccb070fe3",
   "metadata": {},
   "outputs": [
    {
     "data": {
      "text/html": [
       "<div>\n",
       "<style scoped>\n",
       "    .dataframe tbody tr th:only-of-type {\n",
       "        vertical-align: middle;\n",
       "    }\n",
       "\n",
       "    .dataframe tbody tr th {\n",
       "        vertical-align: top;\n",
       "    }\n",
       "\n",
       "    .dataframe thead th {\n",
       "        text-align: right;\n",
       "    }\n",
       "</style>\n",
       "<table border=\"1\" class=\"dataframe\">\n",
       "  <thead>\n",
       "    <tr style=\"text-align: right;\">\n",
       "      <th></th>\n",
       "      <th>id</th>\n",
       "      <th>keyword</th>\n",
       "      <th>location</th>\n",
       "      <th>text</th>\n",
       "      <th>target</th>\n",
       "    </tr>\n",
       "  </thead>\n",
       "  <tbody>\n",
       "    <tr>\n",
       "      <th>0</th>\n",
       "      <td>1</td>\n",
       "      <td>NaN</td>\n",
       "      <td>NaN</td>\n",
       "      <td>Our Deeds are the Reason of this #earthquake M...</td>\n",
       "      <td>1</td>\n",
       "    </tr>\n",
       "    <tr>\n",
       "      <th>1</th>\n",
       "      <td>4</td>\n",
       "      <td>NaN</td>\n",
       "      <td>NaN</td>\n",
       "      <td>Forest fire near La Ronge Sask. Canada</td>\n",
       "      <td>1</td>\n",
       "    </tr>\n",
       "    <tr>\n",
       "      <th>2</th>\n",
       "      <td>5</td>\n",
       "      <td>NaN</td>\n",
       "      <td>NaN</td>\n",
       "      <td>All residents asked to 'shelter in place' are ...</td>\n",
       "      <td>1</td>\n",
       "    </tr>\n",
       "    <tr>\n",
       "      <th>3</th>\n",
       "      <td>6</td>\n",
       "      <td>NaN</td>\n",
       "      <td>NaN</td>\n",
       "      <td>13,000 people receive #wildfires evacuation or...</td>\n",
       "      <td>1</td>\n",
       "    </tr>\n",
       "    <tr>\n",
       "      <th>4</th>\n",
       "      <td>7</td>\n",
       "      <td>NaN</td>\n",
       "      <td>NaN</td>\n",
       "      <td>Just got sent this photo from Ruby #Alaska as ...</td>\n",
       "      <td>1</td>\n",
       "    </tr>\n",
       "  </tbody>\n",
       "</table>\n",
       "</div>"
      ],
      "text/plain": [
       "   id keyword location                                               text  \\\n",
       "0   1     NaN      NaN  Our Deeds are the Reason of this #earthquake M...   \n",
       "1   4     NaN      NaN             Forest fire near La Ronge Sask. Canada   \n",
       "2   5     NaN      NaN  All residents asked to 'shelter in place' are ...   \n",
       "3   6     NaN      NaN  13,000 people receive #wildfires evacuation or...   \n",
       "4   7     NaN      NaN  Just got sent this photo from Ruby #Alaska as ...   \n",
       "\n",
       "   target  \n",
       "0       1  \n",
       "1       1  \n",
       "2       1  \n",
       "3       1  \n",
       "4       1  "
      ]
     },
     "execution_count": 14,
     "metadata": {},
     "output_type": "execute_result"
    }
   ],
   "source": [
    "# use pandas to check data\n",
    "import pandas as pd\n",
    "train_df = pd.read_csv(\"nlp_data/train.csv\")\n",
    "test_df = pd.read_csv(\"nlp_data/test.csv\")\n",
    "train_df.head()"
   ]
  },
  {
   "cell_type": "code",
   "execution_count": 17,
   "id": "f82739e9-f9f6-4e66-890e-0a931aa773d6",
   "metadata": {},
   "outputs": [
    {
     "data": {
      "text/html": [
       "<div>\n",
       "<style scoped>\n",
       "    .dataframe tbody tr th:only-of-type {\n",
       "        vertical-align: middle;\n",
       "    }\n",
       "\n",
       "    .dataframe tbody tr th {\n",
       "        vertical-align: top;\n",
       "    }\n",
       "\n",
       "    .dataframe thead th {\n",
       "        text-align: right;\n",
       "    }\n",
       "</style>\n",
       "<table border=\"1\" class=\"dataframe\">\n",
       "  <thead>\n",
       "    <tr style=\"text-align: right;\">\n",
       "      <th></th>\n",
       "      <th>id</th>\n",
       "      <th>keyword</th>\n",
       "      <th>location</th>\n",
       "      <th>text</th>\n",
       "      <th>target</th>\n",
       "    </tr>\n",
       "  </thead>\n",
       "  <tbody>\n",
       "    <tr>\n",
       "      <th>2644</th>\n",
       "      <td>3796</td>\n",
       "      <td>destruction</td>\n",
       "      <td>NaN</td>\n",
       "      <td>So you have a new weapon that can cause un-ima...</td>\n",
       "      <td>1</td>\n",
       "    </tr>\n",
       "    <tr>\n",
       "      <th>2227</th>\n",
       "      <td>3185</td>\n",
       "      <td>deluge</td>\n",
       "      <td>NaN</td>\n",
       "      <td>The f$&amp;amp;@ing things I do for #GISHWHES Just...</td>\n",
       "      <td>0</td>\n",
       "    </tr>\n",
       "    <tr>\n",
       "      <th>5448</th>\n",
       "      <td>7769</td>\n",
       "      <td>police</td>\n",
       "      <td>UK</td>\n",
       "      <td>DT @georgegalloway: RT @Galloway4Mayor: ÛÏThe...</td>\n",
       "      <td>1</td>\n",
       "    </tr>\n",
       "    <tr>\n",
       "      <th>132</th>\n",
       "      <td>191</td>\n",
       "      <td>aftershock</td>\n",
       "      <td>NaN</td>\n",
       "      <td>Aftershock back to school kick off was great. ...</td>\n",
       "      <td>0</td>\n",
       "    </tr>\n",
       "    <tr>\n",
       "      <th>6845</th>\n",
       "      <td>9810</td>\n",
       "      <td>trauma</td>\n",
       "      <td>Montgomery County, MD</td>\n",
       "      <td>in response to trauma Children of Addicts deve...</td>\n",
       "      <td>0</td>\n",
       "    </tr>\n",
       "  </tbody>\n",
       "</table>\n",
       "</div>"
      ],
      "text/plain": [
       "        id      keyword               location  \\\n",
       "2644  3796  destruction                    NaN   \n",
       "2227  3185       deluge                    NaN   \n",
       "5448  7769       police                     UK   \n",
       "132    191   aftershock                    NaN   \n",
       "6845  9810       trauma  Montgomery County, MD   \n",
       "\n",
       "                                                   text  target  \n",
       "2644  So you have a new weapon that can cause un-ima...       1  \n",
       "2227  The f$&amp;@ing things I do for #GISHWHES Just...       0  \n",
       "5448  DT @georgegalloway: RT @Galloway4Mayor: ÛÏThe...       1  \n",
       "132   Aftershock back to school kick off was great. ...       0  \n",
       "6845  in response to trauma Children of Addicts deve...       0  "
      ]
     },
     "execution_count": 17,
     "metadata": {},
     "output_type": "execute_result"
    }
   ],
   "source": [
    "# shuffled data frac=1，1是百分比表示抽取整个样本\n",
    "train_df_shuffled = train_df.sample(frac=1, random_state=42)\n",
    "train_df_shuffled.head()"
   ]
  },
  {
   "cell_type": "code",
   "execution_count": 18,
   "id": "b8594c55-ad66-4f71-85f4-560681385531",
   "metadata": {},
   "outputs": [
    {
     "data": {
      "text/plain": [
       "target\n",
       "0    4342\n",
       "1    3271\n",
       "Name: count, dtype: int64"
      ]
     },
     "execution_count": 18,
     "metadata": {},
     "output_type": "execute_result"
    }
   ],
   "source": [
    "train_df.target.value_counts()"
   ]
  },
  {
   "cell_type": "code",
   "execution_count": 21,
   "id": "bd7def3f-a817-432a-af18-e8cec7a6fa18",
   "metadata": {},
   "outputs": [
    {
     "data": {
      "text/plain": [
       "(7613, 3263)"
      ]
     },
     "execution_count": 21,
     "metadata": {},
     "output_type": "execute_result"
    }
   ],
   "source": [
    "len(train_df), len(test_df)"
   ]
  },
  {
   "cell_type": "code",
   "execution_count": 31,
   "id": "e5403bc9-ddf6-418c-a8c2-e008cbc3143b",
   "metadata": {},
   "outputs": [
    {
     "name": "stdout",
     "output_type": "stream",
     "text": [
      "Target: 1 (real disaster)\n",
      "Text:\n",
      "Georgia sinkhole closes road swallows whole pond http://t.co/cPEQv52LNA\n",
      "\n",
      "---\n",
      "\n",
      "Target: 0 (not real disaster)\n",
      "Text:\n",
      "One Direction is taking a break after this next album. My heart has sunk it hurts and I'm very upset. They deserve a break. My heart hurts\n",
      "\n",
      "---\n",
      "\n",
      "Target: 1 (real disaster)\n",
      "Text:\n",
      "Rly tragedy in MP: Some live to recount horror: ÛÏWhen I saw coaches of my train plunging into water I called ... http://t.co/72ix7vM87w\n",
      "\n",
      "---\n",
      "\n",
      "Target: 0 (not real disaster)\n",
      "Text:\n",
      "@ariabrisard @leiaorganasolo Good. Play along with her. You may begin your operation with the death star. The evacuation is nearly complete.\n",
      "\n",
      "---\n",
      "\n",
      "Target: 0 (not real disaster)\n",
      "Text:\n",
      "@AGeekyFangirl14 's things she looks in a significant other:\n",
      "1. Beautiful eyes.\n",
      "2. Humor.\n",
      "3. Farts that creates an earthquake.\n",
      "\n",
      "????????\n",
      "\n",
      "---\n",
      "\n"
     ]
    }
   ],
   "source": [
    "# visualize some random training examples\n",
    "import random\n",
    "random_index = random.randint(0, len(train_df)-5) # create random indexes not higher than the total number of samples\n",
    "for row in train_df_shuffled[[\"text\", \"target\"]][random_index:random_index+5].itertuples():\n",
    "  _, text, target = row\n",
    "  print(f\"Target: {target}\", \"(real disaster)\" if target > 0 else \"(not real disaster)\")\n",
    "  print(f\"Text:\\n{text}\\n\")\n",
    "  print(\"---\\n\")"
   ]
  },
  {
   "cell_type": "markdown",
   "id": "02855a0c-ddc6-4be7-ae9f-6b6371444cdb",
   "metadata": {},
   "source": [
    "数据集切割，由于test数据没有标签，所以需要将训练集分为训练和测试集进行调试"
   ]
  },
  {
   "cell_type": "code",
   "execution_count": 32,
   "id": "e223ad32-2350-45a9-910e-181badd85a3c",
   "metadata": {},
   "outputs": [],
   "source": [
    "# split data by sklearn train_test_split\n",
    "from sklearn.model_selection import train_test_split\n",
    "train_sentences, val_sentences, train_labels, val_labels = train_test_split(train_df_shuffled[\"text\"].to_numpy(),\n",
    "                                                                            train_df_shuffled[\"target\"].to_numpy(),\n",
    "                                                                            test_size=0.1,\n",
    "                                                                            random_state=42)"
   ]
  },
  {
   "cell_type": "code",
   "execution_count": 33,
   "id": "d5e2a9d7-f3a0-4cd5-a67d-03a3469cca3a",
   "metadata": {},
   "outputs": [
    {
     "data": {
      "text/plain": [
       "(6851, 762, 6851, 762)"
      ]
     },
     "execution_count": 33,
     "metadata": {},
     "output_type": "execute_result"
    }
   ],
   "source": [
    "# check len of each data set\n",
    "len(train_sentences), len(val_sentences), len(train_labels), len(val_labels)"
   ]
  },
  {
   "cell_type": "code",
   "execution_count": 34,
   "id": "94111173-0c32-4bc4-acc3-9cf8f1b19808",
   "metadata": {},
   "outputs": [
    {
     "data": {
      "text/plain": [
       "(array(['@mogacola @zamtriossu i screamed after hitting tweet',\n",
       "        'Imagine getting flattened by Kurt Zouma',\n",
       "        '@Gurmeetramrahim #MSGDoing111WelfareWorks Green S welfare force ke appx 65000 members har time disaster victim ki help ke liye tyar hai....',\n",
       "        \"@shakjn @C7 @Magnums im shaking in fear he's gonna hack the planet\",\n",
       "        'Somehow find you and I collide http://t.co/Ee8RpOahPk',\n",
       "        '@EvaHanderek @MarleyKnysh great times until the bus driver held us hostage in the mall parking lot lmfao',\n",
       "        'destroy the free fandom honestly',\n",
       "        'Weapons stolen from National Guard Armory in New Albany still missing #Gunsense http://t.co/lKNU8902JE',\n",
       "        '@wfaaweather Pete when will the heat wave pass? Is it really going to be mid month? Frisco Boy Scouts have a canoe trip in Okla.',\n",
       "        'Patient-reported outcomes in long-term survivors of metastatic colorectal cancer - British Journal of Surgery http://t.co/5Yl4DC1Tqt'],\n",
       "       dtype=object),\n",
       " array([0, 0, 1, 0, 0, 1, 1, 0, 1, 1]))"
      ]
     },
     "execution_count": 34,
     "metadata": {},
     "output_type": "execute_result"
    }
   ],
   "source": [
    "# check data sample\n",
    "train_sentences[:10], train_labels[:10]"
   ]
  },
  {
   "cell_type": "markdown",
   "id": "9973e7c8-22c6-4b38-a900-cc77ad9da34b",
   "metadata": {},
   "source": [
    "### Tokenization & Embedding\n",
    "自然语言处理（NLP）中两个将文本转化为数字表示的主要概念：\n",
    "\n",
    "1. **Tokenization（标记化）**\n",
    "   - **Word-level Tokenization（词级标记化）**：将单词直接映射到数字值。例如，使用句子\"I love TensorFlow\"的词级标记化可能将\"I\"映射为0，\"love\"映射为1，\"TensorFlow\"映射为2。在这种情况下，序列中的每个单词都被视为一个单独的标记。\n",
    "   - **Character-level Tokenization（字符级标记化）**：将字母A-Z转换为数值1-26。在这种情况下，序列中的每个字符都被视为一个单独的标记。\n",
    "   - **Sub-word Tokenization（子词级标记化）**：介于词级和字符级标记化之间。它涉及将单词拆分为较小的部分，然后将这些部分转换为数字。例如，\"my favourite food is pineapple pizza\"可能会被拆分为\"my, fav, avour, rite, fo, oo, od, is, pin, ine, app, le, piz, za\"。然后，这些子词将被映射到数字值。在这种情况下，每个单词可能被视为多个标记。\n",
    "\n",
    "2. **Embeddings（嵌入）**\n",
    "   - **Embedding（嵌入）**是自然语言的一种表示，可以通过学习得到。表示采用特征向量的形式。例如，单词\"dance\"可能被表示为5维向量[-0.8547, 0.4559, -0.3332, 0.9877, 0.1112]。需要注意的是，特征向量的大小是可以调整的。\n",
    "   - **创建自己的嵌入**：一旦文本被转化为数字（嵌入所需的形式），可以通过嵌入层（例如`tf.keras.layers.Embedding`）将它们传递，并且在模型训练期间将学习嵌入表示。\n",
    "   - **重用预先学习的嵌入**：许多在线上存在预先训练的嵌入。这些预训练的嵌入通常是在大量文本语料库（如维基百科）上学到的，因此具有对自然语言的良好基础表示。可以使用预先训练的嵌入来初始化模型，并对其进行微调以适应特定任务。\n",
    "  \n",
    "阅读资源：\n",
    "\n",
    "https://jalammar.github.io/illustrated-word2vec/\n",
    "\n",
    "https://nlp.stanford.edu/projects/glove/"
   ]
  },
  {
   "cell_type": "markdown",
   "id": "ed9c229b-26f4-4276-972a-b324575c3f64",
   "metadata": {},
   "source": [
    "### 一些重要的概念\n",
    "\n",
    "**Word2Vec**：将词变成向量。就像是人的五维人格一样，词也可以被表达为维度。还有十六型人格也是，通过各个维度的大小组合，4乘以4，人类被分为16种人格。词语也是他们的向量维度在空间中的表示。https://jalammar.github.io/illustrated-word2vec/\n",
    "\n",
    "**余弦相似性**：[cosine_similarity](https://zh.wikipedia.org/wiki/%E4%BD%99%E5%BC%A6%E7%9B%B8%E4%BC%BC%E6%80%A7)用来表示向量之间是否相似，是他们空间位置的计算方式。\n",
    "\n",
    "**神经网络语言建模**：窗口滑动；根据前文猜测接下来的词；根据前后文猜测中间的词（连续词袋构架skipgram）；\n",
    "\n",
    "**负采样**（Negative Sampling）是一种用于训练词嵌入模型的技术，主要应用于Word2Vec等模型中。其主要目的是缓解训练中的计算负担和提高训练效率。\n",
    "在Word2Vec等模型中，通常使用Skip-gram或CBOW（Continuous Bag of Words）来学习单词的分布式表示。在这些模型中，每次更新模型参数时，需要考虑目标单词及其上下文单词的组合，形成一个正例（positive example）。\n",
    "**问题**： 在大规模语料库中，考虑所有单词组合的计算成本非常高昂，因为词汇表可能非常庞大。因此，为了提高效率，引入了负采样的概念。\n",
    "**原理**： 负采样的核心思想是，对于每个正例，只选择一小部分负例进行训练，而不是考虑全部的负例。具体地说，对于给定的正例（目标单词及其上下文），从词汇表中随机选择一些单词作为负例。这样，每个训练实例只需要更新一小部分参数，从而大大降低了计算成本。\n",
    "\n",
    "---\n",
    "\n",
    "**嵌入矩阵和上下文矩阵**：在Word2Vec等词嵌入模型中，训练过程中涉及到两个关键矩阵：嵌入矩阵（Embedding Matrix）和上下文矩阵（Context Matrix）。\n",
    "\n",
    "1. **嵌入矩阵（Embedding Matrix）：**\n",
    "   - **作用：** 嵌入矩阵用于将单词映射到分布式表示，也即词嵌入空间。每个单词都被表示为一个向量，而这个向量的维度通常是事先定义好的，比如100维或300维。\n",
    "   - **训练过程：** 在训练过程中，模型会不断更新嵌入矩阵的参数，使得相似的单词在嵌入空间中更加接近。这样，语义上相近的单词在词嵌入空间中的表示也更加接近。\n",
    "\n",
    "2. **上下文矩阵（Context Matrix）：**\n",
    "   - **作用：** 上下文矩阵用于表示上下文单词的分布式表示。在Skip-gram模型中，给定目标单词，上下文矩阵负责表示其上下文中的单词。在CBOW模型中，上下文矩阵表示目标单词的上下文。\n",
    "   - **训练过程：** 与嵌入矩阵类似，模型也会不断更新上下文矩阵的参数，使得上下文单词在表示空间中更加接近。\n",
    "\n",
    "**关系：**\n",
    "- 在训练过程中，通过最小化损失函数，模型调整嵌入矩阵和上下文矩阵的参数，使得模型能够更好地捕捉单词之间的语义关系。\n",
    "- 具体来说，对于Skip-gram模型，目标是预测上下文单词，而嵌入矩阵的行表示单词的嵌入，上下文矩阵的行表示上下文单词的嵌入。在CBOW模型中，目标是预测目标单词，嵌入矩阵和上下文矩阵的行同样表示对应的单词嵌入。\n",
    "\n",
    "总体而言，嵌入矩阵和上下文矩阵的优化过程使得模型学到了在嵌入空间中有意义的表示，使得相似的单词具有相近的表示。这些学到的表示可以被用于各种自然语言处理任务，如情感分析、命名实体识别等。\n",
    "\n",
    "---\n",
    "\n",
    "**GloVe**（Global Vectors for Word Representation）是一种用于学习词嵌入（Word Embeddings）的模型。它的目标是通过学习全局上下文中单词的分布来获得高质量的词向量表示。\n",
    "\n",
    "以下是关于GloVe的主要特点和工作原理：\n",
    "\n",
    "1. **全局上下文信息：** GloVe的设计灵感来自于全局语料库中的全局统计信息。它不同于Word2Vec等模型，这些模型通常在局部上下文窗口内学习。GloVe尝试捕捉整个语料库中单词之间的全局语义关系。\n",
    "\n",
    "2. **共现矩阵：** GloVe利用单词在上下文中的共现信息。首先，构建一个共现矩阵，其中矩阵的元素(i, j)表示单词i和单词j在同一上下文中出现的次数。这个矩阵捕捉了全局上下文中的单词共现统计。\n",
    "\n",
    "3. **损失函数：** GloVe的损失函数旨在最小化单词向量的点乘与对数共现概率的差异。通过调整词向量，使得模型在全局上下文中更好地预测单词共现概率。\n",
    "\n",
    "4. **词向量表示：** 模型学到的词向量表示在空间中捕获了单词之间的语义关系。相似的单词在词向量空间中距离较近，反之则较远。\n",
    "\n",
    "GloVe的优势在于它不依赖于局部上下文窗口，而是通过全局共现矩阵学习单词之间的关系。这使得它在一些语义推理任务上表现出色，同时具有很好的稳定性和可扩展性。GloVe生成的词向量在自然语言处理任务中广泛应用，包括文本分类、情感分析、语言模型等。\n",
    "\n",
    "---\n",
    "\n",
    "**TF-IDF**（Term Frequency-Inverse Document Frequency）是一种用于信息检索和文本挖掘的常用技术，它用于评估一个单词对于文档集合中特定文档的重要性。\n",
    "\n",
    "TF（Term Frequency）表示一个单词在文档中出现的频率，计算方式为：\n",
    "\n",
    "单词 t 在文档 d 中出现的次数 / 文档 d 的总词数\n",
    "\n",
    "IDF（Inverse Document Frequency）表示逆文档频率，用于衡量一个单词在整个文档集合中的重要性。计算方式为：\n",
    "\n",
    "log（文档集合 D 的总文档数 / （包含单词 t 的文档数 + 1））\n",
    "\n",
    "最后，TF-IDF 的计算方式为 TF 与 IDF 的乘积。\n",
    "\n",
    "TF-IDF 的思想是，一个单词在文档中的频繁出现（高 TF）并且在整个文档集合中的出现相对较少（高 IDF），说明这个单词对于该文档的重要性较高。TF-IDF 值越大，表示单词在文档中的重要性越高。\n",
    "\n",
    "TF-IDF 在文本挖掘中常用于特征提取、文本相似度计算、信息检索等任务。"
   ]
  },
  {
   "cell_type": "markdown",
   "id": "dab0c9a2-852f-432f-a90d-0f90072912a7",
   "metadata": {},
   "source": [
    "使用 `tf.keras.layers.experimental.preprocessing.TextVectorization` 层来进行标记化。\n",
    "\n",
    "**TextVectorization 层的参数：**\n",
    "\n",
    "1. **max_tokens：** 词汇表中的最大单词数。这个参数可以设置为一个整数，例如 20000，或者设置为文本中的唯一单词数。它还包括一个值用于表示词汇表之外的单词（OOV，即未登录词）。\n",
    "\n",
    "2. **standardize：** 用于标准化文本的方法。默认值是 \"lower_and_strip_punctuation\"，它将文本转换为小写并去除所有标点符号。\n",
    "\n",
    "3. **split：** 文本如何分割的方式，默认是 \"whitespace\"，即按空格进行分割。\n",
    "\n",
    "4. **ngrams：** 每个标记拆分中包含多少个单词。例如，ngrams=2 将标记拆分为连续的 2 个单词序列。\n",
    "\n",
    "5. **output_mode：** 输出标记的方式，可以是 \"int\"（整数映射）、\"binary\"（one-hot 编码）、\"count\" 或 \"tf-idf\"。具体请参阅文档以获取更多信息。\n",
    "\n",
    "6. **output_sequence_length：** 输出的标记化序列的长度。例如，如果 output_sequence_length=150，则所有标记化序列将包含 150 个标记。\n",
    "\n",
    "7. **pad_to_max_tokens：** 默认值为 False。如果为 True，则即使词汇表中的唯一标记数少于 max_tokens，输出特征轴也将被填充到 max_tokens。这仅在某些模式下有效，详细信息请参阅文档。"
   ]
  },
  {
   "cell_type": "code",
   "execution_count": 35,
   "id": "fd620210-b5e7-4470-bbed-638161ca94fe",
   "metadata": {},
   "outputs": [],
   "source": [
    "import tensorflow as tf\n",
    "from tensorflow.keras.layers import TextVectorization\n",
    "\n",
    "# Use the default TextVectorization variables\n",
    "text_vectorizer = TextVectorization(max_tokens=None, # how many words in the vocabulary (all of the different words in your text)\n",
    "                                    standardize=\"lower_and_strip_punctuation\", # how to process text\n",
    "                                    split=\"whitespace\", # how to split tokens\n",
    "                                    ngrams=None, # create groups of n-words?\n",
    "                                    output_mode=\"int\", # how to map tokens to numbers\n",
    "                                    output_sequence_length=None) # how long should the output sequence of tokens be?\n",
    "                                    # pad_to_max_tokens=True) # Not valid if using max_tokens=None"
   ]
  },
  {
   "cell_type": "code",
   "execution_count": 39,
   "id": "f85d25ef-70a4-4a14-9188-53a14904b0f5",
   "metadata": {},
   "outputs": [
    {
     "data": {
      "text/plain": [
       "15"
      ]
     },
     "execution_count": 39,
     "metadata": {},
     "output_type": "execute_result"
    }
   ],
   "source": [
    "# find avarage number of tokens in training tweets\n",
    "round(sum([len(i.split()) for i in train_sentences]) / len(train_sentences))"
   ]
  },
  {
   "cell_type": "code",
   "execution_count": 40,
   "id": "2ed219f7-66dd-4f67-a328-d273373b07a2",
   "metadata": {},
   "outputs": [],
   "source": [
    "# Setup text vectorization with custom variables\n",
    "max_vocab_length = 10000 # max number of words to have in our vocabulary\n",
    "max_length = 15 # max length our sequences will be (e.g. how many words from a Tweet does our model see?)\n",
    "\n",
    "text_vectorizer = TextVectorization(max_tokens=max_vocab_length,\n",
    "                                    output_mode=\"int\",\n",
    "                                    output_sequence_length=max_length)"
   ]
  },
  {
   "cell_type": "code",
   "execution_count": 41,
   "id": "56321082-1373-4ae9-910e-66976032a4fa",
   "metadata": {},
   "outputs": [],
   "source": [
    "# fit the text_vectorizer to the train data\n",
    "text_vectorizer.adapt(train_sentences)"
   ]
  },
  {
   "cell_type": "code",
   "execution_count": 42,
   "id": "600ffae3-a2e4-4f82-bba8-a16b3ead2bc8",
   "metadata": {},
   "outputs": [
    {
     "data": {
      "text/plain": [
       "<tf.Tensor: shape=(1, 15), dtype=int64, numpy=\n",
       "array([[   2, 1427,    9,   28, 2144,    0,    0,    0,    0,    0,    0,\n",
       "           0,    0,    0,    0]])>"
      ]
     },
     "execution_count": 42,
     "metadata": {},
     "output_type": "execute_result"
    }
   ],
   "source": [
    "# get a sample sentence to test the result\n",
    "sample_sentence = \"The cat is so cute.\"\n",
    "text_vectorizer([sample_sentence])"
   ]
  },
  {
   "cell_type": "code",
   "execution_count": 43,
   "id": "62bdab87-29f2-426f-865c-9f188ae703ab",
   "metadata": {},
   "outputs": [
    {
     "name": "stdout",
     "output_type": "stream",
     "text": [
      "@realhotcullen I agree but I knew we'd be going to the deep roads again because they found Blight in red lyrium. It ain't over yet &gt;_&gt;\n"
     ]
    },
    {
     "data": {
      "text/plain": [
       "<tf.Tensor: shape=(1, 15), dtype=int64, numpy=\n",
       "array([[9314,    8, 1331,   30,    8, 1826, 1924,   21,  104,    5,    2,\n",
       "        1088, 1774,  282,  152]])>"
      ]
     },
     "execution_count": 43,
     "metadata": {},
     "output_type": "execute_result"
    }
   ],
   "source": [
    "# get a train data to test the result\n",
    "import random\n",
    "random_sentence = random.choice(train_sentences)\n",
    "print(random_sentence)\n",
    "text_vectorizer([random_sentence])"
   ]
  },
  {
   "cell_type": "code",
   "execution_count": 44,
   "id": "b849ccf3-a63a-47e1-8baf-ca9ed6df9558",
   "metadata": {},
   "outputs": [],
   "source": [
    "# get the unique words in the vocabulary\n",
    "words_in_vocab = text_vectorizer.get_vocabulary()\n",
    "top_5_words = words_in_vocab[:5]\n",
    "bottom_5_words = words_in_vocab[-5:]"
   ]
  },
  {
   "cell_type": "code",
   "execution_count": 45,
   "id": "bdbd15ce-9163-4835-b314-141dcecc7517",
   "metadata": {},
   "outputs": [
    {
     "name": "stdout",
     "output_type": "stream",
     "text": [
      "the total number of the words is: 10000\n",
      "the top 5 common words in the vocab are: ['', '[UNK]', 'the', 'a', 'in']\n",
      "the bottom 5 least common words are: ['pages', 'paeds', 'pads', 'padres', 'paddytomlinson1']\n"
     ]
    }
   ],
   "source": [
    "print(f\"the total number of the words is: {len(words_in_vocab)}\")\n",
    "print(f\"the top 5 common words in the vocab are: {top_5_words}\")\n",
    "print(f\"the bottom 5 least common words are: {bottom_5_words}\")"
   ]
  },
  {
   "cell_type": "code",
   "execution_count": 46,
   "id": "6eff8b72-cacc-4027-964d-245e96fb0b71",
   "metadata": {},
   "outputs": [
    {
     "data": {
      "text/plain": [
       "<keras.src.layers.core.embedding.Embedding at 0x10b5428d0>"
      ]
     },
     "execution_count": 46,
     "metadata": {},
     "output_type": "execute_result"
    }
   ],
   "source": [
    "tf.random.set_seed(42)\n",
    "from tensorflow.keras import layers\n",
    "\n",
    "embedding = layers.Embedding(input_dim=max_vocab_length, # set input shape\n",
    "                             output_dim=128, # set size of embedding vector\n",
    "                             embeddings_initializer=\"uniform\", # default, intialize randomly\n",
    "                             input_length=max_length, # how long is each input\n",
    "                             name=\"embedding_1\") \n",
    "\n",
    "embedding"
   ]
  },
  {
   "cell_type": "code",
   "execution_count": 47,
   "id": "ba9b757f-9120-4f10-8b65-a02638bf60b1",
   "metadata": {},
   "outputs": [
    {
     "name": "stdout",
     "output_type": "stream",
     "text": [
      "Original text:\n",
      "@ByTorrecilla Torrecilla We Always info the Secret on LoL Game Check the Secret to get 600.000 Riot Points on my Bio      \n",
      "\n",
      "Embedded version:\n"
     ]
    },
    {
     "data": {
      "text/plain": [
       "<tf.Tensor: shape=(1, 15, 128), dtype=float32, numpy=\n",
       "array([[[-0.03786143,  0.02469479,  0.00552089, ..., -0.04610553,\n",
       "          0.02159682, -0.04707317],\n",
       "        [-0.00311521,  0.01456409,  0.02950853, ...,  0.04632549,\n",
       "         -0.0384796 ,  0.00401785],\n",
       "        [ 0.01923886,  0.02964666,  0.04396402, ..., -0.0226709 ,\n",
       "         -0.04243758,  0.01670768],\n",
       "        ...,\n",
       "        [-0.01432749,  0.00708263, -0.0341474 , ...,  0.02289588,\n",
       "         -0.02308621,  0.02538295],\n",
       "        [-0.0268571 , -0.00318781,  0.00433818, ...,  0.01621182,\n",
       "         -0.04837196,  0.04559746],\n",
       "        [-0.00617265, -0.03967998,  0.01654157, ...,  0.00256742,\n",
       "          0.0079922 , -0.03846903]]], dtype=float32)>"
      ]
     },
     "execution_count": 47,
     "metadata": {},
     "output_type": "execute_result"
    }
   ],
   "source": [
    "# Get a random sentence from training set\n",
    "random_sentence = random.choice(train_sentences)\n",
    "print(f\"Original text:\\n{random_sentence}\\\n",
    "      \\n\\nEmbedded version:\")\n",
    "\n",
    "# Embed the random sentence (turn it into numerical representation)\n",
    "sample_embed = embedding(text_vectorizer([random_sentence]))\n",
    "sample_embed"
   ]
  },
  {
   "cell_type": "code",
   "execution_count": 48,
   "id": "a93f47b0-44df-4cd5-8428-67ff561dc348",
   "metadata": {},
   "outputs": [
    {
     "data": {
      "text/plain": [
       "TensorShape([1, 15, 128])"
      ]
     },
     "execution_count": 48,
     "metadata": {},
     "output_type": "execute_result"
    }
   ],
   "source": [
    "sample_embed.shape"
   ]
  },
  {
   "cell_type": "code",
   "execution_count": 49,
   "id": "604a2ac0-b65b-443b-b1a4-9f399f3aaa1d",
   "metadata": {},
   "outputs": [
    {
     "data": {
      "text/plain": [
       "<tf.Tensor: shape=(128,), dtype=float32, numpy=\n",
       "array([-0.03786143,  0.02469479,  0.00552089, -0.03859855, -0.02488308,\n",
       "       -0.03468745, -0.01568149,  0.00782009,  0.01796513,  0.00414251,\n",
       "        0.00674753,  0.04288575, -0.00204714, -0.00906641,  0.02674712,\n",
       "        0.03777872,  0.04013022,  0.03812117, -0.03138405, -0.0149086 ,\n",
       "        0.01142117, -0.00219616, -0.00163418,  0.02007487, -0.04940355,\n",
       "        0.03368454,  0.04493035, -0.00843809, -0.04294149,  0.03851023,\n",
       "       -0.03461064, -0.03676579, -0.01339189, -0.03143309, -0.02952812,\n",
       "       -0.04908363, -0.00679747, -0.04600887,  0.0260709 ,  0.00071676,\n",
       "        0.02266928,  0.00788967,  0.00479132,  0.00107355,  0.00306034,\n",
       "       -0.03725827, -0.04134085, -0.00360804,  0.04004946, -0.02121229,\n",
       "        0.00392667, -0.02918711,  0.0105006 , -0.0034311 , -0.02339181,\n",
       "        0.00641735, -0.04714614,  0.04774186,  0.01008346,  0.04516622,\n",
       "       -0.00193799, -0.04933887,  0.03757492,  0.01205264,  0.0095604 ,\n",
       "        0.00324183, -0.03754323,  0.00180603,  0.01046874, -0.0320728 ,\n",
       "       -0.02288686, -0.01997639, -0.04478973, -0.01437883, -0.03553758,\n",
       "       -0.02918769,  0.03619901,  0.00938047, -0.04711375, -0.02181602,\n",
       "       -0.01966499,  0.00498607,  0.00450728,  0.02739156,  0.01056848,\n",
       "       -0.01233066,  0.01167982, -0.01952211, -0.02476972, -0.0088285 ,\n",
       "       -0.0325469 ,  0.04723402,  0.02324209, -0.01410483, -0.00691689,\n",
       "       -0.02041911, -0.00291486,  0.03274483, -0.0365488 , -0.03605509,\n",
       "        0.00538899, -0.00613711,  0.00147371, -0.01769419, -0.03907621,\n",
       "       -0.0133628 , -0.0347024 ,  0.03945545,  0.04076734,  0.044179  ,\n",
       "        0.01009255, -0.00152599,  0.02939445,  0.00537127,  0.00377961,\n",
       "       -0.04367315, -0.01615883,  0.04531833, -0.04930096,  0.00241519,\n",
       "       -0.04831209,  0.005605  ,  0.03071834, -0.01197137,  0.02480353,\n",
       "       -0.04610553,  0.02159682, -0.04707317], dtype=float32)>"
      ]
     },
     "execution_count": 49,
     "metadata": {},
     "output_type": "execute_result"
    }
   ],
   "source": [
    "sample_embed[0][0]"
   ]
  },
  {
   "cell_type": "markdown",
   "id": "68c71acc-9ddc-4241-bd57-8de61a654f66",
   "metadata": {},
   "source": [
    "### 7 models to build\n",
    "* Model 0: Naive Bayes (baseline)\n",
    "* Model 1: Feed-forward neural network (dense model)\n",
    "* Model 2: LSTM model\n",
    "* Model 3: GRU model\n",
    "* Model 4: Bidirectional-LSTM model\n",
    "* Model 5: 1D Convolutional Neural Network\n",
    "* Model 6: TensorFlow Hub Pretrained Feature Extractor\n",
    "* Model 7: Same as model 6 with 10% of training data\n",
    "* Each experiment will go through the following steps:\n",
    "    1. Construct the model\n",
    "    2. Train the model\n",
    "    3. Make predictions with the model\n",
    "    4. Track prediction evaluation metrics for later comparison"
   ]
  },
  {
   "cell_type": "markdown",
   "id": "87b49785-93b6-4e4c-9edb-5a4e7b99259a",
   "metadata": {},
   "source": [
    "### Model 0: Naive Bayes (baseline)"
   ]
  },
  {
   "cell_type": "code",
   "execution_count": 51,
   "id": "22dff897-4cc6-46a4-a7a8-8af2629ac9a6",
   "metadata": {},
   "outputs": [
    {
     "data": {
      "text/html": [
       "<style>#sk-container-id-1 {color: black;}#sk-container-id-1 pre{padding: 0;}#sk-container-id-1 div.sk-toggleable {background-color: white;}#sk-container-id-1 label.sk-toggleable__label {cursor: pointer;display: block;width: 100%;margin-bottom: 0;padding: 0.3em;box-sizing: border-box;text-align: center;}#sk-container-id-1 label.sk-toggleable__label-arrow:before {content: \"▸\";float: left;margin-right: 0.25em;color: #696969;}#sk-container-id-1 label.sk-toggleable__label-arrow:hover:before {color: black;}#sk-container-id-1 div.sk-estimator:hover label.sk-toggleable__label-arrow:before {color: black;}#sk-container-id-1 div.sk-toggleable__content {max-height: 0;max-width: 0;overflow: hidden;text-align: left;background-color: #f0f8ff;}#sk-container-id-1 div.sk-toggleable__content pre {margin: 0.2em;color: black;border-radius: 0.25em;background-color: #f0f8ff;}#sk-container-id-1 input.sk-toggleable__control:checked~div.sk-toggleable__content {max-height: 200px;max-width: 100%;overflow: auto;}#sk-container-id-1 input.sk-toggleable__control:checked~label.sk-toggleable__label-arrow:before {content: \"▾\";}#sk-container-id-1 div.sk-estimator input.sk-toggleable__control:checked~label.sk-toggleable__label {background-color: #d4ebff;}#sk-container-id-1 div.sk-label input.sk-toggleable__control:checked~label.sk-toggleable__label {background-color: #d4ebff;}#sk-container-id-1 input.sk-hidden--visually {border: 0;clip: rect(1px 1px 1px 1px);clip: rect(1px, 1px, 1px, 1px);height: 1px;margin: -1px;overflow: hidden;padding: 0;position: absolute;width: 1px;}#sk-container-id-1 div.sk-estimator {font-family: monospace;background-color: #f0f8ff;border: 1px dotted black;border-radius: 0.25em;box-sizing: border-box;margin-bottom: 0.5em;}#sk-container-id-1 div.sk-estimator:hover {background-color: #d4ebff;}#sk-container-id-1 div.sk-parallel-item::after {content: \"\";width: 100%;border-bottom: 1px solid gray;flex-grow: 1;}#sk-container-id-1 div.sk-label:hover label.sk-toggleable__label {background-color: #d4ebff;}#sk-container-id-1 div.sk-serial::before {content: \"\";position: absolute;border-left: 1px solid gray;box-sizing: border-box;top: 0;bottom: 0;left: 50%;z-index: 0;}#sk-container-id-1 div.sk-serial {display: flex;flex-direction: column;align-items: center;background-color: white;padding-right: 0.2em;padding-left: 0.2em;position: relative;}#sk-container-id-1 div.sk-item {position: relative;z-index: 1;}#sk-container-id-1 div.sk-parallel {display: flex;align-items: stretch;justify-content: center;background-color: white;position: relative;}#sk-container-id-1 div.sk-item::before, #sk-container-id-1 div.sk-parallel-item::before {content: \"\";position: absolute;border-left: 1px solid gray;box-sizing: border-box;top: 0;bottom: 0;left: 50%;z-index: -1;}#sk-container-id-1 div.sk-parallel-item {display: flex;flex-direction: column;z-index: 1;position: relative;background-color: white;}#sk-container-id-1 div.sk-parallel-item:first-child::after {align-self: flex-end;width: 50%;}#sk-container-id-1 div.sk-parallel-item:last-child::after {align-self: flex-start;width: 50%;}#sk-container-id-1 div.sk-parallel-item:only-child::after {width: 0;}#sk-container-id-1 div.sk-dashed-wrapped {border: 1px dashed gray;margin: 0 0.4em 0.5em 0.4em;box-sizing: border-box;padding-bottom: 0.4em;background-color: white;}#sk-container-id-1 div.sk-label label {font-family: monospace;font-weight: bold;display: inline-block;line-height: 1.2em;}#sk-container-id-1 div.sk-label-container {text-align: center;}#sk-container-id-1 div.sk-container {/* jupyter's `normalize.less` sets `[hidden] { display: none; }` but bootstrap.min.css set `[hidden] { display: none !important; }` so we also need the `!important` here to be able to override the default hidden behavior on the sphinx rendered scikit-learn.org. See: https://github.com/scikit-learn/scikit-learn/issues/21755 */display: inline-block !important;position: relative;}#sk-container-id-1 div.sk-text-repr-fallback {display: none;}</style><div id=\"sk-container-id-1\" class=\"sk-top-container\"><div class=\"sk-text-repr-fallback\"><pre>Pipeline(steps=[(&#x27;tfidf&#x27;, TfidfVectorizer()), (&#x27;clf&#x27;, MultinomialNB())])</pre><b>In a Jupyter environment, please rerun this cell to show the HTML representation or trust the notebook. <br />On GitHub, the HTML representation is unable to render, please try loading this page with nbviewer.org.</b></div><div class=\"sk-container\" hidden><div class=\"sk-item sk-dashed-wrapped\"><div class=\"sk-label-container\"><div class=\"sk-label sk-toggleable\"><input class=\"sk-toggleable__control sk-hidden--visually\" id=\"sk-estimator-id-1\" type=\"checkbox\" ><label for=\"sk-estimator-id-1\" class=\"sk-toggleable__label sk-toggleable__label-arrow\">Pipeline</label><div class=\"sk-toggleable__content\"><pre>Pipeline(steps=[(&#x27;tfidf&#x27;, TfidfVectorizer()), (&#x27;clf&#x27;, MultinomialNB())])</pre></div></div></div><div class=\"sk-serial\"><div class=\"sk-item\"><div class=\"sk-estimator sk-toggleable\"><input class=\"sk-toggleable__control sk-hidden--visually\" id=\"sk-estimator-id-2\" type=\"checkbox\" ><label for=\"sk-estimator-id-2\" class=\"sk-toggleable__label sk-toggleable__label-arrow\">TfidfVectorizer</label><div class=\"sk-toggleable__content\"><pre>TfidfVectorizer()</pre></div></div></div><div class=\"sk-item\"><div class=\"sk-estimator sk-toggleable\"><input class=\"sk-toggleable__control sk-hidden--visually\" id=\"sk-estimator-id-3\" type=\"checkbox\" ><label for=\"sk-estimator-id-3\" class=\"sk-toggleable__label sk-toggleable__label-arrow\">MultinomialNB</label><div class=\"sk-toggleable__content\"><pre>MultinomialNB()</pre></div></div></div></div></div></div></div>"
      ],
      "text/plain": [
       "Pipeline(steps=[('tfidf', TfidfVectorizer()), ('clf', MultinomialNB())])"
      ]
     },
     "execution_count": 51,
     "metadata": {},
     "output_type": "execute_result"
    }
   ],
   "source": [
    "# create a Scikit-Learn Pipeline using the TF-IDF (term frequency-inverse document frequency) formula \n",
    "# to convert our words to numbers and then model them with the Multinomial Naive Bayes algorithm. \n",
    "from sklearn.feature_extraction.text import TfidfVectorizer\n",
    "from sklearn.naive_bayes import MultinomialNB\n",
    "from sklearn.pipeline import Pipeline\n",
    "# tokenization and modeling pipeline\n",
    "model_0 = Pipeline([\n",
    "    (\"tfidf\", TfidfVectorizer()),\n",
    "    (\"clf\", MultinomialNB())\n",
    "])\n",
    "# fit the pipeline to the training data\n",
    "model_0.fit(train_sentences, train_labels)"
   ]
  },
  {
   "cell_type": "code",
   "execution_count": 53,
   "id": "d77e93df-9a8f-4404-bfbf-d706efabaec7",
   "metadata": {},
   "outputs": [
    {
     "data": {
      "text/plain": [
       "79.26509186351706"
      ]
     },
     "execution_count": 53,
     "metadata": {},
     "output_type": "execute_result"
    }
   ],
   "source": [
    "baseline_score = model_0.score(val_sentences, val_labels)\n",
    "baseline_score * 100"
   ]
  },
  {
   "cell_type": "code",
   "execution_count": 54,
   "id": "6d913460-72bf-4aeb-9c73-0ae29b4550e5",
   "metadata": {},
   "outputs": [
    {
     "data": {
      "text/plain": [
       "array([1, 1, 1, 0, 0, 1, 1, 1, 1, 0])"
      ]
     },
     "execution_count": 54,
     "metadata": {},
     "output_type": "execute_result"
    }
   ],
   "source": [
    "# make predictions\n",
    "baseline_preds = model_0.predict(val_sentences)\n",
    "baseline_preds[:10]"
   ]
  },
  {
   "cell_type": "code",
   "execution_count": 55,
   "id": "e33b5d8c-72ff-4f00-8e1a-f71f2985680d",
   "metadata": {},
   "outputs": [],
   "source": [
    "# function to evaluate acuracy, precision, recall, f1-score\n",
    "from sklearn.metrics import accuracy_score, precision_recall_fscore_support\n",
    "\n",
    "def calculate_results(y_true, y_pred):\n",
    "    \"\"\"\n",
    "    Calculates models accuracy, precision, recall and f1 score of a binary classification problem.\n",
    "    \n",
    "    Args:\n",
    "    -----\n",
    "    y_true = true labels in the form of a 1D array\n",
    "    y_pred = predicted labels in the form of a 1D array\n",
    "\n",
    "    Returns a dictionary of accracy, precision, recall, f1-score.\n",
    "    \"\"\"\n",
    "    # Calculates model accuracy\n",
    "    model_accuracy = accuracy_score(y_true, y_pred) * 100\n",
    "    # Calculate model precision, recall and f1 score using \"weighted\" average\n",
    "    model_precision, model_recall, model_f1, _ = precision_recall_fscore_support(y_true, y_pred, average=\"weighted\")\n",
    "    model_results = {\"accuracy\": model_accuracy,\n",
    "                     \"precision\": model_precision,\n",
    "                     \"recall\": model_recall,\n",
    "                     \"f1\": model_f1}\n",
    "    return model_results"
   ]
  },
  {
   "cell_type": "code",
   "execution_count": 56,
   "id": "0934e025-ebc3-4a5c-a889-c40e601604de",
   "metadata": {},
   "outputs": [
    {
     "data": {
      "text/plain": [
       "{'accuracy': 79.26509186351706,\n",
       " 'precision': 0.8111390004213173,\n",
       " 'recall': 0.7926509186351706,\n",
       " 'f1': 0.7862189758049549}"
      ]
     },
     "execution_count": 56,
     "metadata": {},
     "output_type": "execute_result"
    }
   ],
   "source": [
    "# get baseline results\n",
    "baseline_results = calculate_results(y_true=val_labels,\n",
    "                                     y_pred=baseline_preds)\n",
    "baseline_results"
   ]
  },
  {
   "cell_type": "markdown",
   "id": "944eb21e-8c1f-4926-8ed2-7d0f827a43b1",
   "metadata": {},
   "source": [
    "### Model 1: Feed-forward neural network (dense model)"
   ]
  },
  {
   "cell_type": "code",
   "execution_count": 57,
   "id": "25170b59-164c-448d-88dc-dad44aeb5d36",
   "metadata": {},
   "outputs": [],
   "source": [
    "# create tensorboard callback \n",
    "from helper_functions import create_tensorboard_callback\n",
    "SAVE_DIR = \"model_logs\""
   ]
  },
  {
   "cell_type": "code",
   "execution_count": 60,
   "id": "ce297c3b-957f-4aa1-aaa5-cb8cbaea84e7",
   "metadata": {},
   "outputs": [],
   "source": [
    "# build model with the functional API\n",
    "from tensorflow.keras import layers\n",
    "inputs = layers.Input(shape=(1,), dtype=\"string\")\n",
    "x = text_vectorizer(inputs)\n",
    "x = embedding(x)\n",
    "x = layers.GlobalAveragePooling1D()(x)\n",
    "outputs = layers.Dense(1, activation=\"sigmoid\")(x)\n",
    "model_1 = tf.keras.Model(inputs, outputs, name=\"model_1_dense\")"
   ]
  },
  {
   "cell_type": "code",
   "execution_count": 61,
   "id": "9d4f02dc-30c0-4da7-b11d-adf59ef248b8",
   "metadata": {},
   "outputs": [],
   "source": [
    "# compile model\n",
    "model_1.compile(loss=\"binary_crossentropy\",\n",
    "                optimizer=tf.keras.optimizers.legacy.Adam(),\n",
    "                metrics=[\"accuracy\"])"
   ]
  },
  {
   "cell_type": "code",
   "execution_count": 62,
   "id": "017d7edf-c317-4b58-871a-8ae4ffc0865e",
   "metadata": {},
   "outputs": [
    {
     "name": "stdout",
     "output_type": "stream",
     "text": [
      "Model: \"model_1_dense\"\n",
      "_________________________________________________________________\n",
      " Layer (type)                Output Shape              Param #   \n",
      "=================================================================\n",
      " input_3 (InputLayer)        [(None, 1)]               0         \n",
      "                                                                 \n",
      " text_vectorization_1 (Text  (None, 15)                0         \n",
      " Vectorization)                                                  \n",
      "                                                                 \n",
      " embedding_1 (Embedding)     (None, 15, 128)           1280000   \n",
      "                                                                 \n",
      " global_average_pooling1d_1  (None, 128)               0         \n",
      "  (GlobalAveragePooling1D)                                       \n",
      "                                                                 \n",
      " dense_2 (Dense)             (None, 1)                 129       \n",
      "                                                                 \n",
      "=================================================================\n",
      "Total params: 1280129 (4.88 MB)\n",
      "Trainable params: 1280129 (4.88 MB)\n",
      "Non-trainable params: 0 (0.00 Byte)\n",
      "_________________________________________________________________\n"
     ]
    }
   ],
   "source": [
    "model_1.summary()"
   ]
  },
  {
   "cell_type": "code",
   "execution_count": 63,
   "id": "a2b18a93-5ad2-4b31-8d49-edc698d132af",
   "metadata": {},
   "outputs": [
    {
     "name": "stdout",
     "output_type": "stream",
     "text": [
      "Saving TensorBoard log files to: model_logs/simple_dense_model/20240108-203102\n",
      "Epoch 1/5\n",
      "215/215 [==============================] - 2s 5ms/step - loss: 0.6092 - accuracy: 0.6979 - val_loss: 0.5359 - val_accuracy: 0.7559\n",
      "Epoch 2/5\n",
      "215/215 [==============================] - 1s 5ms/step - loss: 0.4412 - accuracy: 0.8193 - val_loss: 0.4689 - val_accuracy: 0.7861\n",
      "Epoch 3/5\n",
      "215/215 [==============================] - 1s 5ms/step - loss: 0.3464 - accuracy: 0.8610 - val_loss: 0.4586 - val_accuracy: 0.7900\n",
      "Epoch 4/5\n",
      "215/215 [==============================] - 1s 5ms/step - loss: 0.2849 - accuracy: 0.8923 - val_loss: 0.4636 - val_accuracy: 0.7887\n",
      "Epoch 5/5\n",
      "215/215 [==============================] - 1s 5ms/step - loss: 0.2380 - accuracy: 0.9118 - val_loss: 0.4760 - val_accuracy: 0.7861\n"
     ]
    }
   ],
   "source": [
    "# fit the model\n",
    "model_1_history = model_1.fit(train_sentences,\n",
    "                              train_labels,\n",
    "                              epochs=5,\n",
    "                              validation_data=(val_sentences, val_labels),\n",
    "                              callbacks=[create_tensorboard_callback(dir_name=SAVE_DIR, \n",
    "                                                                     experiment_name=\"simple_dense_model\")])"
   ]
  },
  {
   "cell_type": "code",
   "execution_count": 64,
   "id": "154ad4ab-1a2b-4e68-86c9-66fdbd79a3fe",
   "metadata": {},
   "outputs": [
    {
     "name": "stdout",
     "output_type": "stream",
     "text": [
      "24/24 [==============================] - 0s 758us/step - loss: 0.4760 - accuracy: 0.7861\n"
     ]
    },
    {
     "data": {
      "text/plain": [
       "[0.47601747512817383, 0.7860892415046692]"
      ]
     },
     "execution_count": 64,
     "metadata": {},
     "output_type": "execute_result"
    }
   ],
   "source": [
    "# check results\n",
    "model_1.evaluate(val_sentences, val_labels)"
   ]
  },
  {
   "cell_type": "code",
   "execution_count": 65,
   "id": "8a340680-1130-463e-bfd9-5e3ae7c06a7a",
   "metadata": {},
   "outputs": [
    {
     "data": {
      "text/plain": [
       "[<tf.Variable 'embedding_1/embeddings:0' shape=(10000, 128) dtype=float32, numpy=\n",
       " array([[ 0.01830097,  0.03010901,  0.00917771, ...,  0.03495432,\n",
       "         -0.03364892,  0.03193014],\n",
       "        [-0.03139919,  0.01727595, -0.00152172, ..., -0.05221777,\n",
       "          0.01404815, -0.04213613],\n",
       "        [-0.00424546,  0.03140461,  0.03059582, ..., -0.00089368,\n",
       "         -0.00042127,  0.01217488],\n",
       "        ...,\n",
       "        [ 0.02429528,  0.03161602,  0.00530255, ...,  0.00750678,\n",
       "         -0.03184666,  0.04938593],\n",
       "        [ 0.06639511, -0.03843633, -0.00301275, ..., -0.08221517,\n",
       "         -0.07300323,  0.06508769],\n",
       "        [ 0.1141476 , -0.10934363, -0.08398926, ..., -0.08518396,\n",
       "         -0.03546708,  0.04021456]], dtype=float32)>]"
      ]
     },
     "execution_count": 65,
     "metadata": {},
     "output_type": "execute_result"
    }
   ],
   "source": [
    "embedding.weights"
   ]
  },
  {
   "cell_type": "code",
   "execution_count": 66,
   "id": "f290fc0b-bb2e-4edb-bc3d-cee0a85771c5",
   "metadata": {},
   "outputs": [
    {
     "name": "stdout",
     "output_type": "stream",
     "text": [
      "(10000, 128)\n"
     ]
    }
   ],
   "source": [
    "embed_weights = model_1.get_layer(\"embedding_1\").get_weights()[0]\n",
    "print(embed_weights.shape)"
   ]
  },
  {
   "cell_type": "code",
   "execution_count": 67,
   "id": "0bf08b50-e350-40da-9d13-bf9824672f6e",
   "metadata": {},
   "outputs": [
    {
     "name": "stdout",
     "output_type": "stream",
     "text": [
      "24/24 [==============================] - 0s 650us/step\n"
     ]
    },
    {
     "data": {
      "text/plain": [
       "array([[0.40145206],\n",
       "       [0.7454532 ],\n",
       "       [0.9978452 ],\n",
       "       [0.10959579],\n",
       "       [0.11012715],\n",
       "       [0.93604726],\n",
       "       [0.9085009 ],\n",
       "       [0.99289614],\n",
       "       [0.9691374 ],\n",
       "       [0.25824368]], dtype=float32)"
      ]
     },
     "execution_count": 67,
     "metadata": {},
     "output_type": "execute_result"
    }
   ],
   "source": [
    "model_1_pred_probs = model_1.predict(val_sentences)\n",
    "model_1_pred_probs[:10]"
   ]
  },
  {
   "cell_type": "code",
   "execution_count": 68,
   "id": "8edcd044-3bc6-46cf-9427-9be66f54a8fa",
   "metadata": {},
   "outputs": [
    {
     "data": {
      "text/plain": [
       "<tf.Tensor: shape=(10,), dtype=float32, numpy=array([0., 1., 1., 0., 0., 1., 1., 1., 1., 0.], dtype=float32)>"
      ]
     },
     "execution_count": 68,
     "metadata": {},
     "output_type": "execute_result"
    }
   ],
   "source": [
    "model_1_preds = tf.squeeze(tf.round(model_1_pred_probs))\n",
    "model_1_preds[:10]"
   ]
  },
  {
   "cell_type": "code",
   "execution_count": 69,
   "id": "504d0dba-3800-4614-b591-e041298c109e",
   "metadata": {},
   "outputs": [
    {
     "data": {
      "text/plain": [
       "{'accuracy': 78.60892388451444,\n",
       " 'precision': 0.7903277546022673,\n",
       " 'recall': 0.7860892388451444,\n",
       " 'f1': 0.7832971347503846}"
      ]
     },
     "execution_count": 69,
     "metadata": {},
     "output_type": "execute_result"
    }
   ],
   "source": [
    "model_1_results = calculate_results(y_true=val_labels,\n",
    "                                    y_pred=model_1_preds)\n",
    "model_1_results"
   ]
  },
  {
   "cell_type": "code",
   "execution_count": 70,
   "id": "df02021d-ad81-45cd-94a7-5f6f87c09e49",
   "metadata": {},
   "outputs": [
    {
     "data": {
      "text/plain": [
       "{'accuracy': 79.26509186351706,\n",
       " 'precision': 0.8111390004213173,\n",
       " 'recall': 0.7926509186351706,\n",
       " 'f1': 0.7862189758049549}"
      ]
     },
     "execution_count": 70,
     "metadata": {},
     "output_type": "execute_result"
    }
   ],
   "source": [
    "baseline_results"
   ]
  },
  {
   "cell_type": "code",
   "execution_count": 71,
   "id": "3f7d9913-0743-4ceb-a0be-9b089b4b7022",
   "metadata": {},
   "outputs": [
    {
     "name": "stdout",
     "output_type": "stream",
     "text": [
      "Baseline accuracy: 79.27, New accuracy: 78.61, Difference: -0.66\n",
      "Baseline precision: 0.81, New precision: 0.79, Difference: -0.02\n",
      "Baseline recall: 0.79, New recall: 0.79, Difference: -0.01\n",
      "Baseline f1: 0.79, New f1: 0.78, Difference: -0.00\n"
     ]
    }
   ],
   "source": [
    "# Create a helper function to compare our baseline results to new model results\n",
    "def compare_baseline_to_new_results(baseline_results, new_model_results):\n",
    "  for key, value in baseline_results.items():\n",
    "    print(f\"Baseline {key}: {value:.2f}, New {key}: {new_model_results[key]:.2f}, Difference: {new_model_results[key]-value:.2f}\")\n",
    "\n",
    "compare_baseline_to_new_results(baseline_results=baseline_results, \n",
    "                                new_model_results=model_1_results)"
   ]
  },
  {
   "cell_type": "code",
   "execution_count": 73,
   "id": "5c301feb-884b-4a2e-bc6f-67009d1560f5",
   "metadata": {},
   "outputs": [],
   "source": [
    "# projector files 通过官方代码取得tsv文件上传到projector网站可视化！\n",
    "# Code below is adapted from: https://www.tensorflow.org/tutorials/text/word_embeddings#retrieve_the_trained_word_embeddings_and_save_them_to_disk\n",
    "# import io\n",
    "\n",
    "# # Create output writers\n",
    "# out_v = io.open(\"embedding_vectors.tsv\", \"w\", encoding=\"utf-8\")\n",
    "# out_m = io.open(\"embedding_metadata.tsv\", \"w\", encoding=\"utf-8\")\n",
    "\n",
    "# # Write embedding vectors and words to file\n",
    "# for num, word in enumerate(words_in_vocab):\n",
    "#   if num == 0: \n",
    "#      continue # skip padding token\n",
    "#   vec = embed_weights[num]\n",
    "#   out_m.write(word + \"\\n\") # write words to file\n",
    "#   out_v.write(\"\\t\".join([str(x) for x in vec]) + \"\\n\") # write corresponding word vector to file\n",
    "# out_v.close()\n",
    "# out_m.close()\n",
    "\n",
    "# # Download files locally to upload to Embedding Projector\n",
    "# try:\n",
    "#   from google.colab import files\n",
    "# except ImportError:\n",
    "#   pass\n",
    "# else:\n",
    "#   files.download(\"embedding_vectors.tsv\")\n",
    "#   files.download(\"embedding_metadata.tsv\")"
   ]
  },
  {
   "cell_type": "markdown",
   "id": "d9df0be2-f575-4e02-a706-aebcd405b5f5",
   "metadata": {},
   "source": [
    "### 循环神经网络\n",
    "循环神经网络（Recurrent Neural Network，RNN）是一类用于处理序列数据的神经网络。与传统神经网络不同，RNN 具有一种记忆功能，可以在处理序列数据时保留先前的信息。\n",
    "\n",
    "主要特点包括：\n",
    "\n",
    "1. **序列建模：** RNN 主要用于处理序列数据，例如时间序列、自然语言文本等。它们在处理序列数据时表现出色，因为它们在网络的内部维持一个状态，可以记忆过去的信息。\n",
    "\n",
    "2. **循环结构：** RNN 的网络结构包含循环连接，使得信息可以在网络内部传递。这意味着网络可以考虑先前时间步的输入，并将其纳入当前时间步的计算中。\n",
    "\n",
    "3. **参数共享：** RNN 在每个时间步都使用相同的参数，这种参数共享使得网络可以处理任意长度的序列。\n",
    "\n",
    "然而，传统的 RNN 也存在一些问题，如梯度消失和梯度爆炸，导致难以学习长期依赖关系。为了解决这些问题，出现了一些改进型的循环神经网络，包括长短时记忆网络（LSTM）和门控循环单元（GRU）等。\n",
    "\n",
    "**LSTM（长短时记忆网络）：** LSTM 是一种改进型的 RNN，通过引入门控机制，有效地解决了梯度消失和梯度爆炸的问题。它包含一个记忆单元和三个门：输入门、遗忘门和输出门，这些门控制着信息的流动。\n",
    "\n",
    "**GRU（门控循环单元）：** GRU 是另一种改进型的 RNN，相比于LSTM，它只包含两个门：更新门和重置门。GRU的结构相对简单，但在某些任务上与LSTM一样表现出色。\n",
    "\n",
    "总体而言，循环神经网络在处理序列数据时具有广泛的应用，但也需要注意梯度消失和梯度爆炸等问题。"
   ]
  },
  {
   "cell_type": "markdown",
   "id": "6630d735-a7bc-4244-957d-5aab16392d35",
   "metadata": {},
   "source": [
    "阅读资源\n",
    "\n",
    "https://colah.github.io/posts/2015-08-Understanding-LSTMs/"
   ]
  },
  {
   "cell_type": "markdown",
   "id": "380b0d3c-a72b-42a9-8986-170df486c01f",
   "metadata": {},
   "source": [
    "### Model 2: LSTM model\n",
    "为了便于比较，每次创建新的嵌入层。"
   ]
  },
  {
   "cell_type": "code",
   "execution_count": 87,
   "id": "52e1bebf-e586-40ce-921b-1e71066e8d23",
   "metadata": {},
   "outputs": [
    {
     "name": "stdout",
     "output_type": "stream",
     "text": [
      "(None, 15, 128)\n",
      "(None, 64)\n"
     ]
    }
   ],
   "source": [
    "tf.random.set_seed(42)\n",
    "from tensorflow.keras import layers\n",
    "model_2_embedding = layers.Embedding(\n",
    "    input_dim=max_vocab_length,\n",
    "    output_dim=128,\n",
    "    embeddings_initializer=\"uniform\",\n",
    "    input_length=max_length,\n",
    "    name=\"embedding_2\"\n",
    ")\n",
    "# create model\n",
    "inputs = layers.Input(shape=(1,), dtype=\"string\")\n",
    "x = text_vectorizer(inputs)\n",
    "x = model_2_embedding(x)\n",
    "print(x.shape)\n",
    "# x = layers.LSTM(64, return_sequences=True)(x)\n",
    "# print(x.shape)\n",
    "x = layers.LSTM(64)(x)\n",
    "print(x.shape)\n",
    "outputs = layers.Dense(1, activation=\"sigmoid\")(x)\n",
    "model_2 = tf.keras.Model(inputs, outputs, name=\"model_2_LSTM\")"
   ]
  },
  {
   "cell_type": "markdown",
   "id": "a27e631c-3cd6-4714-98ee-d1447c0b1b69",
   "metadata": {},
   "source": [
    "就算是加上了上面#掉的一层，还是没有朴素贝叶苏基准模型精度高。。"
   ]
  },
  {
   "cell_type": "code",
   "execution_count": 88,
   "id": "9e77ad1d-d48a-42c1-8433-1ed14d9836a8",
   "metadata": {},
   "outputs": [],
   "source": [
    "# compile model\n",
    "model_2.compile(loss=\"binary_crossentropy\",\n",
    "                optimizer=tf.keras.optimizers.legacy.Adam(),\n",
    "                metrics=[\"accuracy\"])"
   ]
  },
  {
   "cell_type": "code",
   "execution_count": 89,
   "id": "a8478280-90da-494b-b220-2d322dfcda2f",
   "metadata": {},
   "outputs": [
    {
     "name": "stdout",
     "output_type": "stream",
     "text": [
      "Model: \"model_2_LSTM\"\n",
      "_________________________________________________________________\n",
      " Layer (type)                Output Shape              Param #   \n",
      "=================================================================\n",
      " input_8 (InputLayer)        [(None, 1)]               0         \n",
      "                                                                 \n",
      " text_vectorization_1 (Text  (None, 15)                0         \n",
      " Vectorization)                                                  \n",
      "                                                                 \n",
      " embedding_2 (Embedding)     (None, 15, 128)           1280000   \n",
      "                                                                 \n",
      " lstm_6 (LSTM)               (None, 15, 64)            49408     \n",
      "                                                                 \n",
      " lstm_7 (LSTM)               (None, 64)                33024     \n",
      "                                                                 \n",
      " dense_7 (Dense)             (None, 1)                 65        \n",
      "                                                                 \n",
      "=================================================================\n",
      "Total params: 1362497 (5.20 MB)\n",
      "Trainable params: 1362497 (5.20 MB)\n",
      "Non-trainable params: 0 (0.00 Byte)\n",
      "_________________________________________________________________\n"
     ]
    }
   ],
   "source": [
    "model_2.summary()"
   ]
  },
  {
   "cell_type": "code",
   "execution_count": 90,
   "id": "a343e3bb-8f48-4b50-aa2b-4f2c9c72a192",
   "metadata": {},
   "outputs": [
    {
     "name": "stdout",
     "output_type": "stream",
     "text": [
      "Saving TensorBoard log files to: model_logs/LSTM/20240109-142923\n",
      "Epoch 1/5\n",
      "215/215 [==============================] - 6s 19ms/step - loss: 0.5060 - accuracy: 0.7485 - val_loss: 0.4531 - val_accuracy: 0.7940\n",
      "Epoch 2/5\n",
      "215/215 [==============================] - 4s 17ms/step - loss: 0.3199 - accuracy: 0.8729 - val_loss: 0.5061 - val_accuracy: 0.7822\n",
      "Epoch 3/5\n",
      "215/215 [==============================] - 4s 17ms/step - loss: 0.2216 - accuracy: 0.9145 - val_loss: 0.5998 - val_accuracy: 0.7598\n",
      "Epoch 4/5\n",
      "215/215 [==============================] - 4s 17ms/step - loss: 0.1549 - accuracy: 0.9434 - val_loss: 0.6217 - val_accuracy: 0.7769\n",
      "Epoch 5/5\n",
      "215/215 [==============================] - 4s 17ms/step - loss: 0.1055 - accuracy: 0.9584 - val_loss: 0.8202 - val_accuracy: 0.7651\n"
     ]
    }
   ],
   "source": [
    "# fit model\n",
    "model_2_history = model_2.fit(train_sentences,\n",
    "                              train_labels,\n",
    "                              epochs=5,\n",
    "                              validation_data=(val_sentences, val_labels),\n",
    "                              callbacks=[create_tensorboard_callback(SAVE_DIR, \"LSTM\")])"
   ]
  },
  {
   "cell_type": "code",
   "execution_count": 91,
   "id": "02e8c218-c6e2-432e-a3ef-5282a01fd563",
   "metadata": {},
   "outputs": [
    {
     "name": "stdout",
     "output_type": "stream",
     "text": [
      "24/24 [==============================] - 1s 4ms/step\n"
     ]
    },
    {
     "data": {
      "text/plain": [
       "<tf.Tensor: shape=(10,), dtype=float32, numpy=array([0., 1., 1., 0., 0., 1., 1., 1., 1., 0.], dtype=float32)>"
      ]
     },
     "execution_count": 91,
     "metadata": {},
     "output_type": "execute_result"
    }
   ],
   "source": [
    "# predict\n",
    "model_2_pred_probs = model_2.predict(val_sentences)\n",
    "# model_2_pred_probs.shape, model_2_pred_probs[:10]\n",
    "model_2_preds = tf.squeeze(tf.round(model_2_pred_probs))\n",
    "model_2_preds[:10]"
   ]
  },
  {
   "cell_type": "code",
   "execution_count": 92,
   "id": "65721a8e-a954-4360-ac63-88382b221e04",
   "metadata": {},
   "outputs": [
    {
     "data": {
      "text/plain": [
       "{'accuracy': 76.50918635170603,\n",
       " 'precision': 0.769637074539757,\n",
       " 'recall': 0.7650918635170604,\n",
       " 'f1': 0.7615420797930578}"
      ]
     },
     "execution_count": 92,
     "metadata": {},
     "output_type": "execute_result"
    }
   ],
   "source": [
    "model_2_results = calculate_results(y_true=val_labels, y_pred=model_2_preds)\n",
    "model_2_results"
   ]
  },
  {
   "cell_type": "code",
   "execution_count": 93,
   "id": "e9f3523b-fca8-41f3-9758-5e32e15185a4",
   "metadata": {},
   "outputs": [
    {
     "name": "stdout",
     "output_type": "stream",
     "text": [
      "Baseline accuracy: 79.27, New accuracy: 76.51, Difference: -2.76\n",
      "Baseline precision: 0.81, New precision: 0.77, Difference: -0.04\n",
      "Baseline recall: 0.79, New recall: 0.77, Difference: -0.03\n",
      "Baseline f1: 0.79, New f1: 0.76, Difference: -0.02\n"
     ]
    }
   ],
   "source": [
    "compare_baseline_to_new_results(baseline_results, model_2_results)"
   ]
  },
  {
   "cell_type": "markdown",
   "id": "da0a837c-c086-4ab1-a27a-94d208c6783c",
   "metadata": {},
   "source": [
    "### Model 3: GRU model"
   ]
  },
  {
   "cell_type": "code",
   "execution_count": 94,
   "id": "fa5c3140-c4e6-47ba-9e09-4c83a3382a78",
   "metadata": {},
   "outputs": [
    {
     "name": "stdout",
     "output_type": "stream",
     "text": [
      "(None, 15, 128)\n",
      "(None, 64)\n"
     ]
    }
   ],
   "source": [
    "tf.random.set_seed(42)\n",
    "from tensorflow.keras import layers\n",
    "model_3_embedding = layers.Embedding(\n",
    "    input_dim=max_vocab_length,\n",
    "    output_dim=128,\n",
    "    embeddings_initializer=\"uniform\",\n",
    "    input_length=max_length,\n",
    "    name=\"embedding_3\"\n",
    ")\n",
    "# create model\n",
    "inputs = layers.Input(shape=(1,), dtype=\"string\")\n",
    "x = text_vectorizer(inputs)\n",
    "x = model_3_embedding(x)\n",
    "print(x.shape)\n",
    "# x = layers.GRU(64, return_sequences=True)(x)\n",
    "# print(x.shape)\n",
    "x = layers.GRU(64)(x)\n",
    "# optional dense layer\n",
    "# x = layers.Dense(64, activation=\"relu\")(x)\n",
    "print(x.shape)\n",
    "outputs = layers.Dense(1, activation=\"sigmoid\")(x)\n",
    "model_3 = tf.keras.Model(inputs, outputs, name=\"model_3_GRU\")"
   ]
  },
  {
   "cell_type": "code",
   "execution_count": 95,
   "id": "589d13e6-8dda-4c7a-b52c-6b33a16968fa",
   "metadata": {},
   "outputs": [],
   "source": [
    "# compile\n",
    "model_3.compile(loss=\"binary_crossentropy\",\n",
    "                optimizer=tf.keras.optimizers.legacy.Adam(),\n",
    "                metrics=[\"accuracy\"])"
   ]
  },
  {
   "cell_type": "code",
   "execution_count": 96,
   "id": "5cb8926d-7d7a-4b57-88f9-5031b57edef8",
   "metadata": {},
   "outputs": [
    {
     "name": "stdout",
     "output_type": "stream",
     "text": [
      "Model: \"model_3_GRU\"\n",
      "_________________________________________________________________\n",
      " Layer (type)                Output Shape              Param #   \n",
      "=================================================================\n",
      " input_9 (InputLayer)        [(None, 1)]               0         \n",
      "                                                                 \n",
      " text_vectorization_1 (Text  (None, 15)                0         \n",
      " Vectorization)                                                  \n",
      "                                                                 \n",
      " embedding_3 (Embedding)     (None, 15, 128)           1280000   \n",
      "                                                                 \n",
      " gru (GRU)                   (None, 64)                37248     \n",
      "                                                                 \n",
      " dense_8 (Dense)             (None, 1)                 65        \n",
      "                                                                 \n",
      "=================================================================\n",
      "Total params: 1317313 (5.03 MB)\n",
      "Trainable params: 1317313 (5.03 MB)\n",
      "Non-trainable params: 0 (0.00 Byte)\n",
      "_________________________________________________________________\n"
     ]
    }
   ],
   "source": [
    "model_3.summary()"
   ]
  },
  {
   "cell_type": "code",
   "execution_count": 97,
   "id": "99ea96d4-e0d4-486d-a931-20f8c4384ba6",
   "metadata": {},
   "outputs": [
    {
     "name": "stdout",
     "output_type": "stream",
     "text": [
      "Saving TensorBoard log files to: model_logs/GRU/20240109-153512\n",
      "Epoch 1/5\n",
      "215/215 [==============================] - 3s 11ms/step - loss: 0.5240 - accuracy: 0.7352 - val_loss: 0.4530 - val_accuracy: 0.7835\n",
      "Epoch 2/5\n",
      "215/215 [==============================] - 2s 10ms/step - loss: 0.3187 - accuracy: 0.8673 - val_loss: 0.4898 - val_accuracy: 0.7782\n",
      "Epoch 3/5\n",
      "215/215 [==============================] - 2s 9ms/step - loss: 0.2188 - accuracy: 0.9190 - val_loss: 0.5591 - val_accuracy: 0.7690\n",
      "Epoch 4/5\n",
      "215/215 [==============================] - 2s 10ms/step - loss: 0.1573 - accuracy: 0.9454 - val_loss: 0.6137 - val_accuracy: 0.7795\n",
      "Epoch 5/5\n",
      "215/215 [==============================] - 2s 9ms/step - loss: 0.1197 - accuracy: 0.9587 - val_loss: 0.5978 - val_accuracy: 0.7703\n"
     ]
    }
   ],
   "source": [
    "# fit\n",
    "model_3_history = model_3.fit(train_sentences,\n",
    "                              train_labels,\n",
    "                              epochs=5,\n",
    "                              validation_data=(val_sentences, val_labels),\n",
    "                              callbacks=[create_tensorboard_callback(SAVE_DIR, \"GRU\")])"
   ]
  },
  {
   "cell_type": "code",
   "execution_count": 98,
   "id": "d7238f33-27dd-4c15-acd8-3c8971c749cf",
   "metadata": {},
   "outputs": [
    {
     "name": "stdout",
     "output_type": "stream",
     "text": [
      "24/24 [==============================] - 0s 2ms/step\n"
     ]
    },
    {
     "data": {
      "text/plain": [
       "((762, 1),\n",
       " array([[0.34162205],\n",
       "        [0.8969644 ],\n",
       "        [0.99700165],\n",
       "        [0.13210176],\n",
       "        [0.02233351],\n",
       "        [0.9913    ],\n",
       "        [0.71050173],\n",
       "        [0.9962854 ],\n",
       "        [0.9969065 ],\n",
       "        [0.7509043 ]], dtype=float32))"
      ]
     },
     "execution_count": 98,
     "metadata": {},
     "output_type": "execute_result"
    }
   ],
   "source": [
    "# predict\n",
    "model_3_pred_probs = model_3.predict(val_sentences)\n",
    "model_3_pred_probs.shape, model_3_pred_probs[:10]"
   ]
  },
  {
   "cell_type": "code",
   "execution_count": 99,
   "id": "e9b76ff1-d724-460a-9530-d24d811022d3",
   "metadata": {},
   "outputs": [
    {
     "data": {
      "text/plain": [
       "<tf.Tensor: shape=(10,), dtype=float32, numpy=array([0., 1., 1., 0., 0., 1., 1., 1., 1., 1.], dtype=float32)>"
      ]
     },
     "execution_count": 99,
     "metadata": {},
     "output_type": "execute_result"
    }
   ],
   "source": [
    "model_3_preds = tf.squeeze(tf.round(model_3_pred_probs))\n",
    "model_3_preds[:10]"
   ]
  },
  {
   "cell_type": "code",
   "execution_count": 100,
   "id": "e3ee68f5-3f9a-40de-8c9c-f66cb8fd6e79",
   "metadata": {},
   "outputs": [
    {
     "data": {
      "text/plain": [
       "{'accuracy': 77.03412073490814,\n",
       " 'precision': 0.7701965974536404,\n",
       " 'recall': 0.7703412073490814,\n",
       " 'f1': 0.7694283709964855}"
      ]
     },
     "execution_count": 100,
     "metadata": {},
     "output_type": "execute_result"
    }
   ],
   "source": [
    "model_3_results = calculate_results(y_true=val_labels, y_pred=model_3_preds)\n",
    "model_3_results"
   ]
  },
  {
   "cell_type": "code",
   "execution_count": 101,
   "id": "e36eccb5-8a53-4463-aade-d8d5c3699571",
   "metadata": {},
   "outputs": [
    {
     "name": "stdout",
     "output_type": "stream",
     "text": [
      "Baseline accuracy: 79.27, New accuracy: 77.03, Difference: -2.23\n",
      "Baseline precision: 0.81, New precision: 0.77, Difference: -0.04\n",
      "Baseline recall: 0.79, New recall: 0.77, Difference: -0.02\n",
      "Baseline f1: 0.79, New f1: 0.77, Difference: -0.02\n"
     ]
    }
   ],
   "source": [
    "compare_baseline_to_new_results(baseline_results, model_3_results)"
   ]
  },
  {
   "cell_type": "markdown",
   "id": "abc9690b-1a64-44a8-8198-86f705d71372",
   "metadata": {},
   "source": [
    "### Model 4: Bidirectional-LSTM model"
   ]
  },
  {
   "cell_type": "markdown",
   "id": "d44d72e6-518f-4867-b68b-4577f288c1d5",
   "metadata": {},
   "source": [
    "Bidirectional LSTM (BiLSTM) 是一种循环神经网络（LSTM）的变体，它在处理序列数据时不仅考虑过去的信息（从序列的起始位置到当前位置），还考虑未来的信息（从当前位置到序列的末尾）。这是通过在模型中引入两个方向的信息流来实现的：一个方向从序列的起始位置到末尾（正向），另一个方向从序列的末尾到起始位置（逆向）。\n",
    "\n",
    "在 Bidirectional LSTM 中，每个时刻的隐藏状态由两个部分组成，一个是正向 LSTM 的隐藏状态，另一个是逆向 LSTM 的隐藏状态。这样，每个时刻的输出都包含了当前时刻的正向和逆向信息。\n",
    "\n",
    "这种双向的设计使得模型能够更全面地理解和捕捉序列中的上下文信息。在自然语言处理（NLP）等任务中，BiLSTM 在处理句子时能够更好地理解词语之间的关系，尤其是对于那些依赖于上下文的任务，如命名实体识别、情感分析等。\n",
    "\n",
    "在 Keras 中，你可以使用 `Bidirectional` 层来构建 BiLSTM 模型，如下所示：\n",
    "\n",
    "```python\n",
    "from keras.layers import Bidirectional, LSTM\n",
    "\n",
    "model = Sequential()\n",
    "model.add(Bidirectional(LSTM(64), input_shape=(timesteps, features)))\n",
    "# 添加其他层和配置...\n",
    "```\n",
    "\n",
    "其中，`LSTM(64)` 是一个包含 64 个隐藏单元的 LSTM 层，`Bidirectional` 将其包装在两个方向上。"
   ]
  },
  {
   "cell_type": "code",
   "execution_count": 102,
   "id": "56052f32-4f9e-454a-a20a-306de4026727",
   "metadata": {},
   "outputs": [
    {
     "name": "stdout",
     "output_type": "stream",
     "text": [
      "(None, 15, 128)\n",
      "(None, 128)\n"
     ]
    }
   ],
   "source": [
    "tf.random.set_seed(42)\n",
    "from tensorflow.keras import layers\n",
    "model_4_embedding = layers.Embedding(\n",
    "    input_dim=max_vocab_length,\n",
    "    output_dim=128,\n",
    "    embeddings_initializer=\"uniform\",\n",
    "    input_length=max_length,\n",
    "    name=\"embedding_4\"\n",
    ")\n",
    "# create model\n",
    "inputs = layers.Input(shape=(1,), dtype=\"string\")\n",
    "x = text_vectorizer(inputs)\n",
    "x = model_4_embedding(x)\n",
    "print(x.shape)\n",
    "# x = layers.Bidirectional(layers.LSTM(64, return_sequences=True))(x)\n",
    "# print(x.shape)\n",
    "x = layers.Bidirectional(layers.LSTM(64))(x)\n",
    "print(x.shape)\n",
    "outputs = layers.Dense(1, activation=\"sigmoid\")(x)\n",
    "model_4 = tf.keras.Model(inputs, outputs, name=\"model_4_Bidirectional\")"
   ]
  },
  {
   "cell_type": "code",
   "execution_count": 104,
   "id": "099621ec-fd53-4fa6-ab69-5599eb87331e",
   "metadata": {},
   "outputs": [
    {
     "name": "stdout",
     "output_type": "stream",
     "text": [
      "Model: \"model_4_Bidirectional\"\n",
      "_________________________________________________________________\n",
      " Layer (type)                Output Shape              Param #   \n",
      "=================================================================\n",
      " input_10 (InputLayer)       [(None, 1)]               0         \n",
      "                                                                 \n",
      " text_vectorization_1 (Text  (None, 15)                0         \n",
      " Vectorization)                                                  \n",
      "                                                                 \n",
      " embedding_4 (Embedding)     (None, 15, 128)           1280000   \n",
      "                                                                 \n",
      " bidirectional (Bidirection  (None, 128)               98816     \n",
      " al)                                                             \n",
      "                                                                 \n",
      " dense_9 (Dense)             (None, 1)                 129       \n",
      "                                                                 \n",
      "=================================================================\n",
      "Total params: 1378945 (5.26 MB)\n",
      "Trainable params: 1378945 (5.26 MB)\n",
      "Non-trainable params: 0 (0.00 Byte)\n",
      "_________________________________________________________________\n"
     ]
    }
   ],
   "source": [
    "model_4.summary()\n",
    "# 64 x left and right directions = 128 dims"
   ]
  },
  {
   "cell_type": "code",
   "execution_count": 105,
   "id": "80d6edf2-b1df-4d8e-8259-b8607f8e6fbf",
   "metadata": {},
   "outputs": [],
   "source": [
    "# compile\n",
    "model_4.compile(\n",
    "    loss=\"binary_crossentropy\",\n",
    "    optimizer=tf.keras.optimizers.legacy.Adam(),\n",
    "    metrics=[\"accuracy\"]\n",
    ")"
   ]
  },
  {
   "cell_type": "code",
   "execution_count": 107,
   "id": "bdd59c49-4eb1-433e-9d0e-4622f3b6400c",
   "metadata": {},
   "outputs": [
    {
     "name": "stdout",
     "output_type": "stream",
     "text": [
      "Saving TensorBoard log files to: model_logs/bidirectional/20240109-210455\n",
      "Epoch 1/5\n",
      "215/215 [==============================] - 5s 16ms/step - loss: 0.5074 - accuracy: 0.7486 - val_loss: 0.4584 - val_accuracy: 0.7782\n",
      "Epoch 2/5\n",
      "215/215 [==============================] - 3s 14ms/step - loss: 0.3131 - accuracy: 0.8716 - val_loss: 0.5157 - val_accuracy: 0.7756\n",
      "Epoch 3/5\n",
      "215/215 [==============================] - 3s 14ms/step - loss: 0.2150 - accuracy: 0.9164 - val_loss: 0.5674 - val_accuracy: 0.7730\n",
      "Epoch 4/5\n",
      "215/215 [==============================] - 3s 14ms/step - loss: 0.1525 - accuracy: 0.9467 - val_loss: 0.6360 - val_accuracy: 0.7822\n",
      "Epoch 5/5\n",
      "215/215 [==============================] - 3s 14ms/step - loss: 0.1076 - accuracy: 0.9650 - val_loss: 0.6623 - val_accuracy: 0.7651\n"
     ]
    }
   ],
   "source": [
    "# fit\n",
    "model_4_history = model_4.fit(train_sentences,\n",
    "                              train_labels,\n",
    "                              epochs=5,\n",
    "                              validation_data=(val_sentences, val_labels),\n",
    "                              callbacks=[create_tensorboard_callback(SAVE_DIR, \"bidirectional\")])"
   ]
  },
  {
   "cell_type": "code",
   "execution_count": 108,
   "id": "2710f76f-336e-471c-9304-eac4e093c800",
   "metadata": {},
   "outputs": [
    {
     "name": "stdout",
     "output_type": "stream",
     "text": [
      "24/24 [==============================] - 0s 3ms/step\n"
     ]
    },
    {
     "data": {
      "text/plain": [
       "array([[0.02022472],\n",
       "       [0.8162836 ],\n",
       "       [0.9981679 ],\n",
       "       [0.1633043 ],\n",
       "       [0.00256105],\n",
       "       [0.9943281 ],\n",
       "       [0.80397236],\n",
       "       [0.9993561 ],\n",
       "       [0.99936306],\n",
       "       [0.41950485]], dtype=float32)"
      ]
     },
     "execution_count": 108,
     "metadata": {},
     "output_type": "execute_result"
    }
   ],
   "source": [
    "# predict\n",
    "model_4_pred_prob = model_4.predict(val_sentences)\n",
    "model_4_pred_prob[:10]"
   ]
  },
  {
   "cell_type": "code",
   "execution_count": 109,
   "id": "9e29a4ac-13c3-4137-8761-1d566d523531",
   "metadata": {},
   "outputs": [
    {
     "data": {
      "text/plain": [
       "<tf.Tensor: shape=(10,), dtype=float32, numpy=array([0., 1., 1., 0., 0., 1., 1., 1., 1., 0.], dtype=float32)>"
      ]
     },
     "execution_count": 109,
     "metadata": {},
     "output_type": "execute_result"
    }
   ],
   "source": [
    "model_4_preds = tf.squeeze(tf.round(model_4_pred_prob))\n",
    "model_4_preds[:10]"
   ]
  },
  {
   "cell_type": "code",
   "execution_count": 111,
   "id": "e5cf63b5-70ac-429b-b846-614f7864da79",
   "metadata": {},
   "outputs": [
    {
     "data": {
      "text/plain": [
       "{'accuracy': 76.50918635170603,\n",
       " 'precision': 0.7648043600988953,\n",
       " 'recall': 0.7650918635170604,\n",
       " 'f1': 0.7648832159800715}"
      ]
     },
     "execution_count": 111,
     "metadata": {},
     "output_type": "execute_result"
    }
   ],
   "source": [
    "model_4_results = calculate_results(val_labels, model_4_preds)\n",
    "model_4_results"
   ]
  },
  {
   "cell_type": "code",
   "execution_count": 112,
   "id": "e1580882-5677-44e7-820e-b473b2d27c7d",
   "metadata": {},
   "outputs": [
    {
     "name": "stdout",
     "output_type": "stream",
     "text": [
      "Baseline accuracy: 79.27, New accuracy: 76.51, Difference: -2.76\n",
      "Baseline precision: 0.81, New precision: 0.76, Difference: -0.05\n",
      "Baseline recall: 0.79, New recall: 0.77, Difference: -0.03\n",
      "Baseline f1: 0.79, New f1: 0.76, Difference: -0.02\n"
     ]
    }
   ],
   "source": [
    "compare_baseline_to_new_results(baseline_results, model_4_results)"
   ]
  },
  {
   "cell_type": "markdown",
   "id": "a9a98ff9-3ab5-4e86-8df3-dbb31c8f2f48",
   "metadata": {},
   "source": [
    "### Model 5: 1D Convolutional Neural Network"
   ]
  },
  {
   "cell_type": "markdown",
   "id": "21af3be3-af9c-4b4e-a0d8-1b6184e61be4",
   "metadata": {},
   "source": [
    "一维卷积神经网络（1D CNN）是卷积神经网络的一种，专门设计用于处理一维序列数据，比如时间序列数据或文本数据。在文本处理中，1D CNN 可以用于学习局部特征和模式，捕捉单词或字符之间的关系，从而在文本分类、情感分析等任务中取得良好的性能。\n",
    "\n",
    "以下是 1D CNN 在文本处理上的运作方式：\n",
    "\n",
    "1. **输入表示：** 文本数据首先需要被转换成数字表示，例如，可以使用词嵌入（word embeddings）将单词映射到高维空间中的向量。每个单词或字符在输入序列中被表示为一个向量。\n",
    "\n",
    "2. **卷积操作：** 1D CNN 使用一维卷积核（filter）在输入序列上进行卷积操作。卷积核的大小可以设置为不同的窗口大小，用于捕捉不同长度的局部特征。卷积操作通过滑动卷积核在序列上进行计算，生成一系列特征映射。\n",
    "\n",
    "3. **池化操作：** 通常，在卷积之后，会进行池化操作，如最大池化或平均池化。池化操作有助于减少特征映射的维度，保留最重要的信息。\n",
    "\n",
    "4. **全连接层：** 之后，可以将得到的特征映射输入到全连接层中，用于学习更高层次的抽象表示。\n",
    "\n",
    "5. **输出层：** 最后，通过输出层进行分类或回归任务，生成模型的预测结果。\n",
    "\n",
    "1D CNN 的优势在于它能够自动学习局部特征，并且可以捕捉输入序列中的关联性。这在文本处理中特别有用，例如在情感分析中，1D CNN 可以识别句子中的关键短语或模式，从而判断情感倾向。"
   ]
  },
  {
   "cell_type": "code",
   "execution_count": 114,
   "id": "b82d1536-e6c5-4dfc-91e9-abc5986bb3f6",
   "metadata": {},
   "outputs": [
    {
     "data": {
      "text/plain": [
       "(TensorShape([1, 15, 128]), TensorShape([1, 11, 32]), TensorShape([1, 32]))"
      ]
     },
     "execution_count": 114,
     "metadata": {},
     "output_type": "execute_result"
    }
   ],
   "source": [
    "# test out the embedding,1D convolutional and max pooling\n",
    "embedding_test = embedding(text_vectorizer([\"this is a test sentence, see how it works.\"]))\n",
    "conv_1d = layers.Conv1D(filters=32, kernel_size=5, activation=\"relu\")\n",
    "conv_1d_output = conv_1d(embedding_test)\n",
    "max_pool = layers.GlobalMaxPool1D()\n",
    "max_pool_output = max_pool(conv_1d_output)\n",
    "embedding_test.shape, conv_1d_output.shape, max_pool_output.shape"
   ]
  },
  {
   "cell_type": "code",
   "execution_count": 115,
   "id": "a1347dde-dfca-404e-ae0e-58bad3de6e5b",
   "metadata": {},
   "outputs": [
    {
     "data": {
      "text/plain": [
       "(<tf.Tensor: shape=(1, 15, 128), dtype=float32, numpy=\n",
       " array([[[-0.02767112, -0.00051027, -0.02258056, ...,  0.02603185,\n",
       "           0.04409264,  0.04421708],\n",
       "         [ 0.05740053,  0.01286216, -0.02211907, ..., -0.0599389 ,\n",
       "           0.01323113,  0.02704864],\n",
       "         [-0.0332444 , -0.03242368, -0.03313738, ...,  0.02462634,\n",
       "           0.03379283,  0.03264284],\n",
       "         ...,\n",
       "         [ 0.01830097,  0.03010901,  0.00917771, ...,  0.03495432,\n",
       "          -0.03364892,  0.03193014],\n",
       "         [ 0.01830097,  0.03010901,  0.00917771, ...,  0.03495432,\n",
       "          -0.03364892,  0.03193014],\n",
       "         [ 0.01830097,  0.03010901,  0.00917771, ...,  0.03495432,\n",
       "          -0.03364892,  0.03193014]]], dtype=float32)>,\n",
       " <tf.Tensor: shape=(1, 11, 32), dtype=float32, numpy=\n",
       " array([[[0.        , 0.        , 0.        , 0.08195084, 0.        ,\n",
       "          0.05261675, 0.        , 0.        , 0.        , 0.02666739,\n",
       "          0.        , 0.08552877, 0.04242158, 0.05676322, 0.00538524,\n",
       "          0.        , 0.0130874 , 0.        , 0.01491235, 0.        ,\n",
       "          0.02284307, 0.        , 0.0765108 , 0.        , 0.02678062,\n",
       "          0.04579829, 0.        , 0.03759681, 0.        , 0.01833156,\n",
       "          0.10054868, 0.08071426],\n",
       "         [0.        , 0.0041029 , 0.1180249 , 0.14184126, 0.00700133,\n",
       "          0.04875318, 0.01038545, 0.00318983, 0.00839905, 0.        ,\n",
       "          0.        , 0.07373791, 0.09343161, 0.        , 0.04019613,\n",
       "          0.00853266, 0.        , 0.        , 0.        , 0.09065901,\n",
       "          0.04074612, 0.11047364, 0.030243  , 0.        , 0.09214887,\n",
       "          0.        , 0.02671337, 0.        , 0.        , 0.        ,\n",
       "          0.00894115, 0.        ],\n",
       "         [0.        , 0.01684707, 0.        , 0.1462062 , 0.        ,\n",
       "          0.06543773, 0.        , 0.        , 0.00884075, 0.03463618,\n",
       "          0.        , 0.01784426, 0.12741166, 0.00141773, 0.09675644,\n",
       "          0.05161002, 0.07050252, 0.        , 0.        , 0.02957985,\n",
       "          0.06048191, 0.        , 0.01481459, 0.        , 0.        ,\n",
       "          0.05381444, 0.        , 0.        , 0.04493121, 0.        ,\n",
       "          0.00487544, 0.        ],\n",
       "         [0.01083662, 0.0684744 , 0.        , 0.10900975, 0.08574338,\n",
       "          0.02987452, 0.        , 0.        , 0.        , 0.04807828,\n",
       "          0.        , 0.        , 0.04801502, 0.        , 0.04024194,\n",
       "          0.        , 0.        , 0.02352191, 0.        , 0.        ,\n",
       "          0.        , 0.12172198, 0.        , 0.        , 0.03923183,\n",
       "          0.01785478, 0.        , 0.        , 0.0874894 , 0.        ,\n",
       "          0.        , 0.04271482],\n",
       "         [0.        , 0.09029162, 0.        , 0.1790781 , 0.        ,\n",
       "          0.10083425, 0.        , 0.        , 0.        , 0.        ,\n",
       "          0.02653364, 0.02668451, 0.        , 0.        , 0.08375905,\n",
       "          0.00946139, 0.        , 0.        , 0.        , 0.1033999 ,\n",
       "          0.        , 0.        , 0.10090264, 0.        , 0.05660221,\n",
       "          0.03562031, 0.00143589, 0.        , 0.04251192, 0.        ,\n",
       "          0.        , 0.        ],\n",
       "         [0.        , 0.        , 0.        , 0.06609045, 0.        ,\n",
       "          0.05417664, 0.        , 0.        , 0.        , 0.        ,\n",
       "          0.        , 0.00720026, 0.0716085 , 0.        , 0.02456614,\n",
       "          0.        , 0.        , 0.        , 0.        , 0.00886115,\n",
       "          0.01666498, 0.        , 0.08873328, 0.        , 0.06725612,\n",
       "          0.02677316, 0.        , 0.03889834, 0.07133205, 0.        ,\n",
       "          0.0713953 , 0.        ],\n",
       "         [0.02379399, 0.03997559, 0.05803316, 0.12856068, 0.02579101,\n",
       "          0.07284109, 0.        , 0.        , 0.        , 0.        ,\n",
       "          0.        , 0.0609872 , 0.05049265, 0.        , 0.04722756,\n",
       "          0.        , 0.        , 0.        , 0.        , 0.        ,\n",
       "          0.04869793, 0.04078947, 0.00108382, 0.        , 0.05795017,\n",
       "          0.07613724, 0.        , 0.        , 0.07985999, 0.        ,\n",
       "          0.00132286, 0.        ],\n",
       "         [0.02833058, 0.00816347, 0.        , 0.1409878 , 0.04371249,\n",
       "          0.04631626, 0.        , 0.        , 0.01234397, 0.04864366,\n",
       "          0.        , 0.04323754, 0.06913759, 0.        , 0.07580272,\n",
       "          0.        , 0.        , 0.        , 0.        , 0.        ,\n",
       "          0.04025625, 0.00245167, 0.05327361, 0.        , 0.00157372,\n",
       "          0.02655355, 0.        , 0.01267479, 0.0308267 , 0.        ,\n",
       "          0.04006072, 0.        ],\n",
       "         [0.        , 0.        , 0.01379602, 0.09882467, 0.15009843,\n",
       "          0.0301939 , 0.04416808, 0.        , 0.        , 0.05775717,\n",
       "          0.        , 0.        , 0.02616403, 0.        , 0.01981656,\n",
       "          0.00186201, 0.        , 0.        , 0.        , 0.        ,\n",
       "          0.        , 0.08682332, 0.        , 0.01086466, 0.05865156,\n",
       "          0.0010775 , 0.        , 0.        , 0.07764219, 0.        ,\n",
       "          0.01755896, 0.        ],\n",
       "         [0.00362792, 0.        , 0.01336457, 0.06548209, 0.03462587,\n",
       "          0.02313224, 0.        , 0.        , 0.        , 0.06812871,\n",
       "          0.        , 0.02513566, 0.03304809, 0.        , 0.        ,\n",
       "          0.04043795, 0.        , 0.        , 0.        , 0.        ,\n",
       "          0.011922  , 0.        , 0.        , 0.        , 0.06888343,\n",
       "          0.01757402, 0.        , 0.01026997, 0.03698618, 0.        ,\n",
       "          0.01978136, 0.        ],\n",
       "         [0.00362792, 0.        , 0.01336457, 0.06548209, 0.03462587,\n",
       "          0.02313224, 0.        , 0.        , 0.        , 0.06812871,\n",
       "          0.        , 0.02513566, 0.03304809, 0.        , 0.        ,\n",
       "          0.04043795, 0.        , 0.        , 0.        , 0.        ,\n",
       "          0.011922  , 0.        , 0.        , 0.        , 0.06888343,\n",
       "          0.01757402, 0.        , 0.01026997, 0.03698618, 0.        ,\n",
       "          0.01978136, 0.        ]]], dtype=float32)>,\n",
       " <tf.Tensor: shape=(1, 32), dtype=float32, numpy=\n",
       " array([[0.02833058, 0.09029162, 0.1180249 , 0.1790781 , 0.15009843,\n",
       "         0.10083425, 0.04416808, 0.00318983, 0.01234397, 0.06812871,\n",
       "         0.02653364, 0.08552877, 0.12741166, 0.05676322, 0.09675644,\n",
       "         0.05161002, 0.07050252, 0.02352191, 0.01491235, 0.1033999 ,\n",
       "         0.06048191, 0.12172198, 0.10090264, 0.01086466, 0.09214887,\n",
       "         0.07613724, 0.02671337, 0.03889834, 0.0874894 , 0.01833156,\n",
       "         0.10054868, 0.08071426]], dtype=float32)>)"
      ]
     },
     "execution_count": 115,
     "metadata": {},
     "output_type": "execute_result"
    }
   ],
   "source": [
    "# check the transformation of the data\n",
    "embedding_test[:1], conv_1d_output[:1], max_pool_output[:1]"
   ]
  },
  {
   "cell_type": "code",
   "execution_count": 116,
   "id": "bada7acc-1c48-4428-bead-c162cef1cbe7",
   "metadata": {},
   "outputs": [
    {
     "name": "stdout",
     "output_type": "stream",
     "text": [
      "(None, 15, 128)\n"
     ]
    }
   ],
   "source": [
    "# build the model 5\n",
    "tf.random.set_seed(42)\n",
    "from tensorflow.keras import layers\n",
    "model_5_embedding = layers.Embedding(\n",
    "    input_dim=max_vocab_length,\n",
    "    output_dim=128,\n",
    "    embeddings_initializer=\"uniform\",\n",
    "    input_length=max_length,\n",
    "    name=\"embedding_5\"\n",
    ")\n",
    "# create model\n",
    "inputs = layers.Input(shape=(1,), dtype=\"string\")\n",
    "x = text_vectorizer(inputs)\n",
    "x = model_5_embedding(x)\n",
    "print(x.shape)\n",
    "x = layers.Conv1D(filters=32, kernel_size=5, activation=\"relu\")(x)\n",
    "x = layers.GlobalMaxPool1D()(x)\n",
    "# optional dense layer\n",
    "# x = layers.Dense(64, actication=\"relu\")(x)\n",
    "outputs = layers.Dense(1, activation=\"sigmoid\")(x)\n",
    "model_5 = tf.keras.Model(inputs, outputs, name=\"model_5_Conv1D\")"
   ]
  },
  {
   "cell_type": "code",
   "execution_count": 117,
   "id": "efb1aa52-6718-4ec1-9933-b0601a172e8f",
   "metadata": {},
   "outputs": [],
   "source": [
    "# compile\n",
    "model_5.compile(\n",
    "    loss=\"binary_crossentropy\",\n",
    "    optimizer=tf.keras.optimizers.legacy.Adam(),\n",
    "    metrics=[\"accuracy\"]\n",
    ")"
   ]
  },
  {
   "cell_type": "code",
   "execution_count": 118,
   "id": "b99488cd-88ad-4eb1-8d4e-b53f320211e9",
   "metadata": {},
   "outputs": [
    {
     "name": "stdout",
     "output_type": "stream",
     "text": [
      "Model: \"model_5_Conv1D\"\n",
      "_________________________________________________________________\n",
      " Layer (type)                Output Shape              Param #   \n",
      "=================================================================\n",
      " input_11 (InputLayer)       [(None, 1)]               0         \n",
      "                                                                 \n",
      " text_vectorization_1 (Text  (None, 15)                0         \n",
      " Vectorization)                                                  \n",
      "                                                                 \n",
      " embedding_5 (Embedding)     (None, 15, 128)           1280000   \n",
      "                                                                 \n",
      " conv1d_1 (Conv1D)           (None, 11, 32)            20512     \n",
      "                                                                 \n",
      " global_max_pooling1d_1 (Gl  (None, 32)                0         \n",
      " obalMaxPooling1D)                                               \n",
      "                                                                 \n",
      " dense_10 (Dense)            (None, 1)                 33        \n",
      "                                                                 \n",
      "=================================================================\n",
      "Total params: 1300545 (4.96 MB)\n",
      "Trainable params: 1300545 (4.96 MB)\n",
      "Non-trainable params: 0 (0.00 Byte)\n",
      "_________________________________________________________________\n"
     ]
    }
   ],
   "source": [
    "model_5.summary()"
   ]
  },
  {
   "cell_type": "code",
   "execution_count": 119,
   "id": "75ca2c46-bd36-4d48-8f89-35084fbe82fe",
   "metadata": {},
   "outputs": [
    {
     "name": "stdout",
     "output_type": "stream",
     "text": [
      "Saving TensorBoard log files to: model_logs/Conv1D/20240109-212222\n",
      "Epoch 1/5\n",
      "215/215 [==============================] - 2s 7ms/step - loss: 0.5601 - accuracy: 0.7196 - val_loss: 0.4709 - val_accuracy: 0.7717\n",
      "Epoch 2/5\n",
      "215/215 [==============================] - 1s 6ms/step - loss: 0.3369 - accuracy: 0.8644 - val_loss: 0.4767 - val_accuracy: 0.7900\n",
      "Epoch 3/5\n",
      "215/215 [==============================] - 1s 6ms/step - loss: 0.2098 - accuracy: 0.9226 - val_loss: 0.5299 - val_accuracy: 0.7690\n",
      "Epoch 4/5\n",
      "215/215 [==============================] - 1s 7ms/step - loss: 0.1341 - accuracy: 0.9568 - val_loss: 0.6142 - val_accuracy: 0.7730\n",
      "Epoch 5/5\n",
      "215/215 [==============================] - 1s 7ms/step - loss: 0.0962 - accuracy: 0.9683 - val_loss: 0.6553 - val_accuracy: 0.7900\n"
     ]
    }
   ],
   "source": [
    "# fit the model\n",
    "model_5_history = model_5.fit(train_sentences,\n",
    "                              train_labels,\n",
    "                              epochs=5,\n",
    "                              validation_data=(val_sentences, val_labels),\n",
    "                              callbacks=[create_tensorboard_callback(SAVE_DIR, \"Conv1D\")])"
   ]
  },
  {
   "cell_type": "code",
   "execution_count": 120,
   "id": "2fb2e214-a28b-46ec-a01f-5d64a07fdca1",
   "metadata": {},
   "outputs": [
    {
     "name": "stdout",
     "output_type": "stream",
     "text": [
      "24/24 [==============================] - 0s 1ms/step\n"
     ]
    },
    {
     "data": {
      "text/plain": [
       "array([[0.43198448],\n",
       "       [0.6699236 ],\n",
       "       [0.9998782 ],\n",
       "       [0.06706743],\n",
       "       [0.00492346],\n",
       "       [0.9926361 ],\n",
       "       [0.9549318 ],\n",
       "       [0.9979761 ],\n",
       "       [0.9991233 ],\n",
       "       [0.19122595]], dtype=float32)"
      ]
     },
     "execution_count": 120,
     "metadata": {},
     "output_type": "execute_result"
    }
   ],
   "source": [
    "# predict\n",
    "model_5_pred_probs = model_5.predict(val_sentences)\n",
    "model_5_pred_probs[:10]"
   ]
  },
  {
   "cell_type": "code",
   "execution_count": 121,
   "id": "931100ba-846f-4d0e-9835-51ea3e3ef73c",
   "metadata": {},
   "outputs": [
    {
     "data": {
      "text/plain": [
       "<tf.Tensor: shape=(5,), dtype=float32, numpy=array([0., 1., 1., 0., 0.], dtype=float32)>"
      ]
     },
     "execution_count": 121,
     "metadata": {},
     "output_type": "execute_result"
    }
   ],
   "source": [
    "model_5_preds = tf.squeeze(tf.round(model_5_pred_probs))\n",
    "model_5_preds[:5]"
   ]
  },
  {
   "cell_type": "code",
   "execution_count": 122,
   "id": "93761901-9182-4eba-ac82-9e04c5ad2fd2",
   "metadata": {},
   "outputs": [
    {
     "data": {
      "text/plain": [
       "{'accuracy': 79.00262467191601,\n",
       " 'precision': 0.795059849830577,\n",
       " 'recall': 0.7900262467191601,\n",
       " 'f1': 0.7870730838048355}"
      ]
     },
     "execution_count": 122,
     "metadata": {},
     "output_type": "execute_result"
    }
   ],
   "source": [
    "model_5_results = calculate_results(val_labels, model_5_preds)\n",
    "model_5_results"
   ]
  },
  {
   "cell_type": "code",
   "execution_count": 123,
   "id": "45e3cc4f-8c31-4a53-81c3-3307d9842cf9",
   "metadata": {},
   "outputs": [
    {
     "name": "stdout",
     "output_type": "stream",
     "text": [
      "Baseline accuracy: 79.27, New accuracy: 79.00, Difference: -0.26\n",
      "Baseline precision: 0.81, New precision: 0.80, Difference: -0.02\n",
      "Baseline recall: 0.79, New recall: 0.79, Difference: -0.00\n",
      "Baseline f1: 0.79, New f1: 0.79, Difference: 0.00\n"
     ]
    }
   ],
   "source": [
    "compare_baseline_to_new_results(baseline_results, model_5_results)"
   ]
  },
  {
   "cell_type": "markdown",
   "id": "1b059f56-2101-41ce-b740-656ecbcd1c00",
   "metadata": {},
   "source": [
    "### Model 6: TensorFlow Hub Pretrained Feature Extractor\n",
    "\n",
    "官网资源和解释\n",
    "https://www.tensorflow.org/hub/tutorials/semantic_similarity_with_tf_hub_universal_encoder?hl=zh-cn\n",
    "\n",
    "kaggle model\n",
    "https://www.kaggle.com/models/google/universal-sentence-encoder/frameworks/tensorFlow2/variations/universal-sentence-encoder"
   ]
  },
  {
   "cell_type": "code",
   "execution_count": 130,
   "id": "a0ecaaeb-26e7-4fd8-b94f-a3384378b6aa",
   "metadata": {},
   "outputs": [
    {
     "name": "stdout",
     "output_type": "stream",
     "text": [
      "tf.Tensor(\n",
      "[ 0.02674707  0.03456723  0.00133555  0.03014715  0.07115773  0.02969174\n",
      " -0.09955006  0.07442233  0.05651775  0.02818986  0.09223077  0.09836281\n",
      "  0.03148507 -0.00082735  0.04802478 -0.02998843  0.00766647  0.01503006\n",
      " -0.03767349 -0.06071939  0.00317576  0.02050227  0.05221831  0.0333948\n",
      " -0.03609224 -0.01098082 -0.01693167 -0.02476249 -0.01848781 -0.03957228\n",
      "  0.01578699 -0.02332516 -0.00217157 -0.02205304 -0.01721504 -0.01490441\n",
      " -0.04802933 -0.01023786 -0.02385599 -0.00410037  0.03637249  0.03812126\n",
      "  0.03504257 -0.01009926 -0.0996696   0.04671066  0.02447771  0.0588498\n",
      " -0.02703739 -0.03858674], shape=(50,), dtype=float32)\n"
     ]
    }
   ],
   "source": [
    "# Example of pretrained embedding with universal sentence encoder - https://tfhub.dev/google/universal-sentence-encoder/4\n",
    "import tensorflow_hub as hub\n",
    "embed = hub.load(\"https://tfhub.dev/google/universal-sentence-encoder/4\") # load Universal Sentence Encoder\n",
    "embed_samples = embed([sample_sentence,\n",
    "                      \"When you call the universal sentence encoder on a sentence, it turns it into numbers.\"])\n",
    "\n",
    "print(embed_samples[0][:50])"
   ]
  },
  {
   "cell_type": "code",
   "execution_count": 131,
   "id": "65796aa1-f6ac-49b8-bd13-df0f2555589e",
   "metadata": {},
   "outputs": [
    {
     "data": {
      "text/plain": [
       "TensorShape([512])"
      ]
     },
     "execution_count": 131,
     "metadata": {},
     "output_type": "execute_result"
    }
   ],
   "source": [
    "# Each sentence has been encoded into a 512 dimension vector\n",
    "embed_samples[0].shape"
   ]
  },
  {
   "cell_type": "code",
   "execution_count": 132,
   "id": "ef763e2c-a6b4-46b9-b9c2-96c187a5b5b1",
   "metadata": {},
   "outputs": [],
   "source": [
    "sentence_encoder_layer = hub.KerasLayer(\"https://tfhub.dev/google/universal-sentence-encoder/4\",\n",
    "                                        input_shape=[], # shape of inputs coming to our model \n",
    "                                        dtype=tf.string, # data type of inputs coming to the USE layer\n",
    "                                        trainable=False, # keep the pretrained weights (we'll create a feature extractor)\n",
    "                                        name=\"USE\") "
   ]
  },
  {
   "cell_type": "code",
   "execution_count": 133,
   "id": "44f4e075-b1cb-42e3-9c4b-1d4e3973686d",
   "metadata": {},
   "outputs": [
    {
     "name": "stdout",
     "output_type": "stream",
     "text": [
      "Model: \"model_6_USE\"\n",
      "_________________________________________________________________\n",
      " Layer (type)                Output Shape              Param #   \n",
      "=================================================================\n",
      " USE (KerasLayer)            (None, 512)               256797824 \n",
      "                                                                 \n",
      " dense_11 (Dense)            (None, 64)                32832     \n",
      "                                                                 \n",
      " dense_12 (Dense)            (None, 1)                 65        \n",
      "                                                                 \n",
      "=================================================================\n",
      "Total params: 256830721 (979.73 MB)\n",
      "Trainable params: 32897 (128.50 KB)\n",
      "Non-trainable params: 256797824 (979.61 MB)\n",
      "_________________________________________________________________\n"
     ]
    }
   ],
   "source": [
    "# create model 6\n",
    "model_6 = tf.keras.Sequential([\n",
    "    sentence_encoder_layer,\n",
    "    layers.Dense(64, activation=\"relu\"),\n",
    "    layers.Dense(1, activation=\"sigmoid\")\n",
    "], name=\"model_6_USE\")\n",
    "\n",
    "model_6.compile(\n",
    "    loss=\"binary_crossentropy\",\n",
    "    optimizer=tf.keras.optimizers.legacy.Adam(),\n",
    "    metrics=[\"accuracy\"]\n",
    ")\n",
    "\n",
    "model_6.summary()"
   ]
  },
  {
   "cell_type": "code",
   "execution_count": 134,
   "id": "54da65a3-511f-4eea-834b-85e891f1835b",
   "metadata": {},
   "outputs": [
    {
     "name": "stdout",
     "output_type": "stream",
     "text": [
      "Saving TensorBoard log files to: model_logs/tf_hub_sentence_encoder/20240109-220901\n",
      "Epoch 1/5\n",
      "215/215 [==============================] - 3s 6ms/step - loss: 0.5034 - accuracy: 0.7882 - val_loss: 0.4480 - val_accuracy: 0.8005\n",
      "Epoch 2/5\n",
      "215/215 [==============================] - 1s 4ms/step - loss: 0.4149 - accuracy: 0.8145 - val_loss: 0.4375 - val_accuracy: 0.8110\n",
      "Epoch 3/5\n",
      "215/215 [==============================] - 1s 4ms/step - loss: 0.4007 - accuracy: 0.8227 - val_loss: 0.4333 - val_accuracy: 0.8136\n",
      "Epoch 4/5\n",
      "215/215 [==============================] - 1s 4ms/step - loss: 0.3937 - accuracy: 0.8260 - val_loss: 0.4293 - val_accuracy: 0.8163\n",
      "Epoch 5/5\n",
      "215/215 [==============================] - 1s 4ms/step - loss: 0.3878 - accuracy: 0.8285 - val_loss: 0.4312 - val_accuracy: 0.8176\n"
     ]
    }
   ],
   "source": [
    "model_6_history = model_6.fit(train_sentences,\n",
    "                              train_labels,\n",
    "                              epochs=5,\n",
    "                              validation_data=(val_sentences, val_labels),\n",
    "                              callbacks=[create_tensorboard_callback(SAVE_DIR, \"tf_hub_sentence_encoder\")])"
   ]
  },
  {
   "cell_type": "code",
   "execution_count": 135,
   "id": "db830ef9-5d1f-4885-afd3-e2756ac85f7c",
   "metadata": {},
   "outputs": [
    {
     "name": "stdout",
     "output_type": "stream",
     "text": [
      "24/24 [==============================] - 0s 4ms/step\n"
     ]
    },
    {
     "data": {
      "text/plain": [
       "array([[0.14890112],\n",
       "       [0.7429585 ],\n",
       "       [0.98385584],\n",
       "       [0.1954496 ],\n",
       "       [0.74798626],\n",
       "       [0.67092997],\n",
       "       [0.9786346 ],\n",
       "       [0.97619563],\n",
       "       [0.9223662 ],\n",
       "       [0.08359253]], dtype=float32)"
      ]
     },
     "execution_count": 135,
     "metadata": {},
     "output_type": "execute_result"
    }
   ],
   "source": [
    "# predict\n",
    "model_6_pred_probs = model_6.predict(val_sentences)\n",
    "model_6_pred_probs[:10]"
   ]
  },
  {
   "cell_type": "code",
   "execution_count": 137,
   "id": "644e6801-e5e6-4eb4-94e1-03e14dc9732b",
   "metadata": {},
   "outputs": [
    {
     "data": {
      "text/plain": [
       "<tf.Tensor: shape=(10,), dtype=float32, numpy=array([0., 1., 1., 0., 1., 1., 1., 1., 1., 0.], dtype=float32)>"
      ]
     },
     "execution_count": 137,
     "metadata": {},
     "output_type": "execute_result"
    }
   ],
   "source": [
    "model_6_preds = tf.squeeze(tf.round(model_6_pred_probs))\n",
    "model_6_preds[:10]"
   ]
  },
  {
   "cell_type": "code",
   "execution_count": 138,
   "id": "eefad487-f9e6-4176-bb8d-5f8834fc2aa3",
   "metadata": {},
   "outputs": [
    {
     "data": {
      "text/plain": [
       "{'accuracy': 81.75853018372703,\n",
       " 'precision': 0.8202616926815424,\n",
       " 'recall': 0.8175853018372703,\n",
       " 'f1': 0.8159820561172786}"
      ]
     },
     "execution_count": 138,
     "metadata": {},
     "output_type": "execute_result"
    }
   ],
   "source": [
    "model_6_results = calculate_results(val_labels, model_6_preds)\n",
    "model_6_results"
   ]
  },
  {
   "cell_type": "code",
   "execution_count": 139,
   "id": "1aaac491-2031-4670-99a6-9d48eb1f3a3d",
   "metadata": {},
   "outputs": [
    {
     "name": "stdout",
     "output_type": "stream",
     "text": [
      "Baseline accuracy: 79.27, New accuracy: 81.76, Difference: 2.49\n",
      "Baseline precision: 0.81, New precision: 0.82, Difference: 0.01\n",
      "Baseline recall: 0.79, New recall: 0.82, Difference: 0.02\n",
      "Baseline f1: 0.79, New f1: 0.82, Difference: 0.03\n"
     ]
    }
   ],
   "source": [
    "compare_baseline_to_new_results(baseline_results, model_6_results)"
   ]
  },
  {
   "cell_type": "markdown",
   "id": "33aa342b-c554-4562-9fdc-28a398581a42",
   "metadata": {},
   "source": [
    "### Model 7: Same as model 6 with 10% of training data\n",
    "当你没有很大的数据集的时候，迁移学习就非常有用。"
   ]
  },
  {
   "cell_type": "markdown",
   "id": "ecebdabd-654c-4b78-8a59-e26ae95088b6",
   "metadata": {},
   "source": [
    "数据泄露（Data Leakage）指的是在建立和评估机器学习模型时，模型在训练集和测试集之间或在训练过程中意外地接触到了本应该是未知的信息，从而影响了模型的性能评估和泛化能力。数据泄露可能导致模型在实际应用中的性能不如预期，因为它已经过多地了解了测试数据，而不是真实未知的数据。\n",
    "\n",
    "数据泄露的主要形式包括：\n",
    "\n",
    "1. **训练集中包含测试集信息：** 在构建训练集时，可能会包含来自测试集的信息，这样模型在学习时就能够“看到”测试集中的样本，导致模型在测试阶段性能过于乐观。\n",
    "\n",
    "2. **使用未来信息：** 在构建特征时，可能使用了未来时间点的信息，这会使模型在预测过去的数据时获得不现实的性能。\n",
    "\n",
    "3. **标签泄露：** 在训练集中使用了本应该是在测试时才能获得的标签信息，这样模型就能够过于轻松地学习到目标。\n",
    "\n",
    "避免数据泄露对于模型的建立和评估至关重要，以确保模型在真实场景中的泛化性能。在处理数据时，需要注意确保训练集和测试集的独立性，以及不向模型提供未来的信息。"
   ]
  },
  {
   "cell_type": "code",
   "execution_count": 143,
   "id": "c1e1c0b8-3d73-404e-82d4-16fd83f530dd",
   "metadata": {},
   "outputs": [],
   "source": [
    "import numpy as np\n",
    "train_sentences_90_percent, train_sentences_10_percent, train_labels_90_percent, train_labels_10_percent = train_test_split(\n",
    "    np.array(train_sentences), np.array(train_labels))"
   ]
  },
  {
   "cell_type": "code",
   "execution_count": 145,
   "id": "d65d3b96-6cf0-4cfb-9e7d-a11beaf3e915",
   "metadata": {},
   "outputs": [
    {
     "data": {
      "text/plain": [
       "(6851, 5138)"
      ]
     },
     "execution_count": 145,
     "metadata": {},
     "output_type": "execute_result"
    }
   ],
   "source": [
    "len(train_sentences), len(train_sentences_90_percent)"
   ]
  },
  {
   "cell_type": "code",
   "execution_count": 147,
   "id": "ba2295df-c158-4c85-85e7-94167a276bc6",
   "metadata": {},
   "outputs": [
    {
     "data": {
      "text/plain": [
       "0    992\n",
       "1    721\n",
       "Name: count, dtype: int64"
      ]
     },
     "execution_count": 147,
     "metadata": {},
     "output_type": "execute_result"
    }
   ],
   "source": [
    "import pandas as pd\n",
    "pd.Series(train_labels_10_percent).value_counts()"
   ]
  },
  {
   "cell_type": "code",
   "execution_count": 148,
   "id": "6393a570-66fe-451b-8215-56ef4b739622",
   "metadata": {},
   "outputs": [
    {
     "name": "stdout",
     "output_type": "stream",
     "text": [
      "Model: \"model_6_USE\"\n",
      "_________________________________________________________________\n",
      " Layer (type)                Output Shape              Param #   \n",
      "=================================================================\n",
      " USE (KerasLayer)            (None, 512)               256797824 \n",
      "                                                                 \n",
      " dense_11 (Dense)            (None, 64)                32832     \n",
      "                                                                 \n",
      " dense_12 (Dense)            (None, 1)                 65        \n",
      "                                                                 \n",
      "=================================================================\n",
      "Total params: 256830721 (979.73 MB)\n",
      "Trainable params: 32897 (128.50 KB)\n",
      "Non-trainable params: 256797824 (979.61 MB)\n",
      "_________________________________________________________________\n"
     ]
    }
   ],
   "source": [
    "# clone model 6 to be model 7\n",
    "model_7 = tf.keras.models.clone_model(model_6)\n",
    "\n",
    "# compile model\n",
    "model_7.compile(\n",
    "    loss=\"binary_crossentropy\",\n",
    "    optimizer=tf.keras.optimizers.legacy.Adam(),\n",
    "    metrics=[\"accuracy\"]\n",
    ")\n",
    "\n",
    "model_7.summary()"
   ]
  },
  {
   "cell_type": "code",
   "execution_count": 149,
   "id": "f6bc05b7-41cc-4cc8-b5f1-372cfa5486b6",
   "metadata": {},
   "outputs": [
    {
     "name": "stdout",
     "output_type": "stream",
     "text": [
      "Saving TensorBoard log files to: model_logs/10_percent_tf_hub_sentence_encoder/20240109-222319\n",
      "Epoch 1/5\n",
      "54/54 [==============================] - 2s 13ms/step - loss: 0.6298 - accuracy: 0.7665 - val_loss: 0.5585 - val_accuracy: 0.7835\n",
      "Epoch 2/5\n",
      "54/54 [==============================] - 0s 6ms/step - loss: 0.4838 - accuracy: 0.8179 - val_loss: 0.4763 - val_accuracy: 0.7808\n",
      "Epoch 3/5\n",
      "54/54 [==============================] - 0s 6ms/step - loss: 0.4157 - accuracy: 0.8266 - val_loss: 0.4612 - val_accuracy: 0.7835\n",
      "Epoch 4/5\n",
      "54/54 [==============================] - 0s 6ms/step - loss: 0.3857 - accuracy: 0.8336 - val_loss: 0.4607 - val_accuracy: 0.7900\n",
      "Epoch 5/5\n",
      "54/54 [==============================] - 0s 6ms/step - loss: 0.3660 - accuracy: 0.8471 - val_loss: 0.4641 - val_accuracy: 0.7874\n"
     ]
    }
   ],
   "source": [
    "# fit the model\n",
    "model_7_history = model_7.fit(train_sentences_10_percent,\n",
    "                              train_labels_10_percent,\n",
    "                              epochs=5,\n",
    "                              validation_data=(val_sentences, val_labels),\n",
    "                              callbacks=[create_tensorboard_callback(SAVE_DIR, \"10_percent_tf_hub_sentence_encoder\")])"
   ]
  },
  {
   "cell_type": "code",
   "execution_count": 150,
   "id": "f034a7e4-0006-4c85-b5a5-bc1e468b1e4c",
   "metadata": {},
   "outputs": [
    {
     "name": "stdout",
     "output_type": "stream",
     "text": [
      "24/24 [==============================] - 0s 4ms/step\n"
     ]
    },
    {
     "data": {
      "text/plain": [
       "array([[0.19157624],\n",
       "       [0.7261811 ],\n",
       "       [0.96673036],\n",
       "       [0.1320454 ],\n",
       "       [0.6312708 ],\n",
       "       [0.84272575],\n",
       "       [0.9715738 ],\n",
       "       [0.9622773 ],\n",
       "       [0.92393166],\n",
       "       [0.12129314]], dtype=float32)"
      ]
     },
     "execution_count": 150,
     "metadata": {},
     "output_type": "execute_result"
    }
   ],
   "source": [
    "# predict\n",
    "model_7_pred_probs = model_7.predict(val_sentences)\n",
    "model_7_pred_probs[:10]"
   ]
  },
  {
   "cell_type": "code",
   "execution_count": 152,
   "id": "47429774-eb0c-4dc6-a417-2f3b8ef634e2",
   "metadata": {},
   "outputs": [
    {
     "data": {
      "text/plain": [
       "<tf.Tensor: shape=(10,), dtype=float32, numpy=array([0., 1., 1., 0., 1., 1., 1., 1., 1., 0.], dtype=float32)>"
      ]
     },
     "execution_count": 152,
     "metadata": {},
     "output_type": "execute_result"
    }
   ],
   "source": [
    "model_7_preds = tf.squeeze(tf.round(model_7_pred_probs))\n",
    "model_7_preds[:10]"
   ]
  },
  {
   "cell_type": "code",
   "execution_count": 153,
   "id": "64d42c27-8e4d-404f-8452-2cbdcf72d954",
   "metadata": {},
   "outputs": [
    {
     "data": {
      "text/plain": [
       "{'accuracy': 78.74015748031496,\n",
       " 'precision': 0.7882556026650515,\n",
       " 'recall': 0.7874015748031497,\n",
       " 'f1': 0.7860325697924123}"
      ]
     },
     "execution_count": 153,
     "metadata": {},
     "output_type": "execute_result"
    }
   ],
   "source": [
    "model_7_results = calculate_results(val_labels, model_7_preds)\n",
    "model_7_results"
   ]
  },
  {
   "cell_type": "code",
   "execution_count": 154,
   "id": "39150188-c8bc-4184-a21d-529e27f7d782",
   "metadata": {},
   "outputs": [
    {
     "name": "stdout",
     "output_type": "stream",
     "text": [
      "Baseline accuracy: 79.27, New accuracy: 78.74, Difference: -0.52\n",
      "Baseline precision: 0.81, New precision: 0.79, Difference: -0.02\n",
      "Baseline recall: 0.79, New recall: 0.79, Difference: -0.01\n",
      "Baseline f1: 0.79, New f1: 0.79, Difference: -0.00\n"
     ]
    }
   ],
   "source": [
    "compare_baseline_to_new_results(baseline_results, model_7_results)"
   ]
  },
  {
   "cell_type": "markdown",
   "id": "487b2940-94aa-431d-8931-fd91f5dcb3c9",
   "metadata": {},
   "source": [
    "### 全模型比较"
   ]
  },
  {
   "cell_type": "code",
   "execution_count": 156,
   "id": "18d36377-fcb5-4fde-8e4c-a35b0fc092c7",
   "metadata": {},
   "outputs": [],
   "source": [
    "# compare models\n",
    "all_model_results = pd.DataFrame({\"0_baseline\": baseline_results,\n",
    "                                  \"1_simple_dense\": model_1_results,\n",
    "                                  \"2_lstm\": model_2_results,\n",
    "                                  \"3_gru\": model_3_results,\n",
    "                                  \"4_bidirectional\": model_4_results,\n",
    "                                  \"5_conv1d\": model_5_results,\n",
    "                                  \"6_tf_hub_encoder\": model_6_results,\n",
    "                                  \"7_tf_hub_encoder_10p\": model_7_results})\n",
    "all_model_results = all_model_results.transpose()"
   ]
  },
  {
   "cell_type": "code",
   "execution_count": 157,
   "id": "cdd2dc06-aec6-4843-a984-76d3af1ddc6a",
   "metadata": {},
   "outputs": [
    {
     "data": {
      "text/html": [
       "<div>\n",
       "<style scoped>\n",
       "    .dataframe tbody tr th:only-of-type {\n",
       "        vertical-align: middle;\n",
       "    }\n",
       "\n",
       "    .dataframe tbody tr th {\n",
       "        vertical-align: top;\n",
       "    }\n",
       "\n",
       "    .dataframe thead th {\n",
       "        text-align: right;\n",
       "    }\n",
       "</style>\n",
       "<table border=\"1\" class=\"dataframe\">\n",
       "  <thead>\n",
       "    <tr style=\"text-align: right;\">\n",
       "      <th></th>\n",
       "      <th>accuracy</th>\n",
       "      <th>precision</th>\n",
       "      <th>recall</th>\n",
       "      <th>f1</th>\n",
       "    </tr>\n",
       "  </thead>\n",
       "  <tbody>\n",
       "    <tr>\n",
       "      <th>0_baseline</th>\n",
       "      <td>79.265092</td>\n",
       "      <td>0.811139</td>\n",
       "      <td>0.792651</td>\n",
       "      <td>0.786219</td>\n",
       "    </tr>\n",
       "    <tr>\n",
       "      <th>1_simple_dense</th>\n",
       "      <td>78.608924</td>\n",
       "      <td>0.790328</td>\n",
       "      <td>0.786089</td>\n",
       "      <td>0.783297</td>\n",
       "    </tr>\n",
       "    <tr>\n",
       "      <th>2_lstm</th>\n",
       "      <td>76.509186</td>\n",
       "      <td>0.769637</td>\n",
       "      <td>0.765092</td>\n",
       "      <td>0.761542</td>\n",
       "    </tr>\n",
       "    <tr>\n",
       "      <th>3_gru</th>\n",
       "      <td>77.034121</td>\n",
       "      <td>0.770197</td>\n",
       "      <td>0.770341</td>\n",
       "      <td>0.769428</td>\n",
       "    </tr>\n",
       "    <tr>\n",
       "      <th>4_bidirectional</th>\n",
       "      <td>76.509186</td>\n",
       "      <td>0.764804</td>\n",
       "      <td>0.765092</td>\n",
       "      <td>0.764883</td>\n",
       "    </tr>\n",
       "    <tr>\n",
       "      <th>5_conv1d</th>\n",
       "      <td>79.002625</td>\n",
       "      <td>0.795060</td>\n",
       "      <td>0.790026</td>\n",
       "      <td>0.787073</td>\n",
       "    </tr>\n",
       "    <tr>\n",
       "      <th>6_tf_hub_encoder</th>\n",
       "      <td>81.758530</td>\n",
       "      <td>0.820262</td>\n",
       "      <td>0.817585</td>\n",
       "      <td>0.815982</td>\n",
       "    </tr>\n",
       "    <tr>\n",
       "      <th>7_tf_hub_encoder_10p</th>\n",
       "      <td>78.740157</td>\n",
       "      <td>0.788256</td>\n",
       "      <td>0.787402</td>\n",
       "      <td>0.786033</td>\n",
       "    </tr>\n",
       "  </tbody>\n",
       "</table>\n",
       "</div>"
      ],
      "text/plain": [
       "                       accuracy  precision    recall        f1\n",
       "0_baseline            79.265092   0.811139  0.792651  0.786219\n",
       "1_simple_dense        78.608924   0.790328  0.786089  0.783297\n",
       "2_lstm                76.509186   0.769637  0.765092  0.761542\n",
       "3_gru                 77.034121   0.770197  0.770341  0.769428\n",
       "4_bidirectional       76.509186   0.764804  0.765092  0.764883\n",
       "5_conv1d              79.002625   0.795060  0.790026  0.787073\n",
       "6_tf_hub_encoder      81.758530   0.820262  0.817585  0.815982\n",
       "7_tf_hub_encoder_10p  78.740157   0.788256  0.787402  0.786033"
      ]
     },
     "execution_count": 157,
     "metadata": {},
     "output_type": "execute_result"
    }
   ],
   "source": [
    "all_model_results"
   ]
  },
  {
   "cell_type": "code",
   "execution_count": 159,
   "id": "eae94e5f-2641-431c-b762-f6cfe05e508e",
   "metadata": {},
   "outputs": [],
   "source": [
    "all_model_results[\"accuracy\"] = all_model_results[\"accuracy\"] / 100"
   ]
  },
  {
   "cell_type": "code",
   "execution_count": 162,
   "id": "40691b34-394d-4961-8ebb-4af508de2acf",
   "metadata": {},
   "outputs": [
    {
     "data": {
      "image/png": "[encoded data removed]",
      "text/plain": [
       "<Figure size 1000x700 with 1 Axes>"
      ]
     },
     "metadata": {},
     "output_type": "display_data"
    }
   ],
   "source": [
    "all_model_results.plot(kind=\"bar\", figsize=(10, 7)).legend(bbox_to_anchor=(1.0, 1.0));"
   ]
  },
  {
   "cell_type": "code",
   "execution_count": 163,
   "id": "6ae45f99-f0be-46cb-82ed-12b7bbb39803",
   "metadata": {},
   "outputs": [
    {
     "data": {
      "image/png": "[encoded data removed]",
      "text/plain": [
       "<Figure size 1000x700 with 1 Axes>"
      ]
     },
     "metadata": {},
     "output_type": "display_data"
    }
   ],
   "source": [
    "# compare the f1\n",
    "all_model_results.sort_values(\"f1\", ascending=False)[\"f1\"].plot(kind=\"bar\", figsize=(10, 7));"
   ]
  },
  {
   "cell_type": "markdown",
   "id": "7a5a53de-cf3a-44d8-a936-629e3b3ae770",
   "metadata": {},
   "source": [
    "### 模型集成\n",
    "模型集成（model ensembling/stacking）是指将多个不同的模型结合在一起，以便进行预测。在实际生产系统中，使用模型集成的方法可以提高预测的鲁棒性和性能。\n",
    "\n",
    "**关键概念：**\n",
    "\n",
    "1. **模型集成的动机：** 模型集成的核心思想是，如果多个不相关的模型对某个预测达成一致，那么这个预测可能比由单一模型做出的预测更为稳健。这里的关键词是“不相关”，即不同类型的模型。\n",
    "\n",
    "2. **不同类型的模型：** 在模型集成中，选择不同类型的模型是关键。即使这些模型都在相同的数据上训练，它们仍然以不同的方式发现模式。例如，在这个案例中，可以结合基线模型、双向模型和TensorFlow Hub USE模型。\n",
    "\n",
    "3. **模型集成的方法：**\n",
    "   - **平均法（Averaging）：** 将每个模型对每个样本的输出预测概率相加，然后取平均值。\n",
    "   - **多数投票法（Majority vote / mode）：** 每个模型对所有样本进行类别预测，选择被多数模型预测为类别的结果作为最终的预测标签。\n",
    "   - **模型堆叠法（Model stacking）：** 将每个选择的模型的输出作为另一个模型的输入。\n",
    "\n",
    "4. **案例解释：** 以决定去哪里吃饭为例，如果你和朋友们口味相似，可能会选择同一个餐馆。但如果大家口味各异，却依然选择了同一家餐馆，那么这家餐馆可能就是不错的选择。同理，模型集成通过结合不同类型的模型，提高了整体预测的可靠性。\n",
    "\n",
    "5. **资源推荐：** 引用了机器学习工程师Andriy Burkov的著作《Machine Learning Engineering Book》中第6章的内容，该书涵盖了机器学习工程领域的实践知识，推荐阅读。"
   ]
  },
  {
   "cell_type": "code",
   "execution_count": 166,
   "id": "33737e25-c8bb-4c04-beb7-744d15c4fbe2",
   "metadata": {},
   "outputs": [],
   "source": [
    "# get mean pred prob for 3 models\n",
    "baseline_pred_probs = np.max(model_0.predict_proba(val_sentences), axis=1)\n",
    "combined_pred_probs = baseline_pred_probs + tf.squeeze(model_2_pred_probs, axis=1) + tf.squeeze(model_6_pred_probs, axis=1)\n",
    "combined_preds = tf.round(combined_pred_probs / 3)"
   ]
  },
  {
   "cell_type": "code",
   "execution_count": 167,
   "id": "f39fe77a-d0c5-4960-9b06-77cba94d484b",
   "metadata": {},
   "outputs": [
    {
     "data": {
      "text/plain": [
       "{'accuracy': 78.60892388451444,\n",
       " 'precision': 0.7862161422078583,\n",
       " 'recall': 0.7860892388451444,\n",
       " 'f1': 0.7851501923128148}"
      ]
     },
     "execution_count": 167,
     "metadata": {},
     "output_type": "execute_result"
    }
   ],
   "source": [
    "ensamble_results = calculate_results(val_labels, combined_preds)\n",
    "ensamble_results"
   ]
  },
  {
   "cell_type": "code",
   "execution_count": 169,
   "id": "987533bf-acf4-4617-a0e7-728eac75b7c8",
   "metadata": {},
   "outputs": [],
   "source": [
    "all_model_results.loc[\"8_ensamble\"] = ensamble_results"
   ]
  },
  {
   "cell_type": "code",
   "execution_count": 171,
   "id": "8933054d-b781-44f8-b5ec-3a18deee7f38",
   "metadata": {},
   "outputs": [
    {
     "data": {
      "text/html": [
       "<div>\n",
       "<style scoped>\n",
       "    .dataframe tbody tr th:only-of-type {\n",
       "        vertical-align: middle;\n",
       "    }\n",
       "\n",
       "    .dataframe tbody tr th {\n",
       "        vertical-align: top;\n",
       "    }\n",
       "\n",
       "    .dataframe thead th {\n",
       "        text-align: right;\n",
       "    }\n",
       "</style>\n",
       "<table border=\"1\" class=\"dataframe\">\n",
       "  <thead>\n",
       "    <tr style=\"text-align: right;\">\n",
       "      <th></th>\n",
       "      <th>accuracy</th>\n",
       "      <th>precision</th>\n",
       "      <th>recall</th>\n",
       "      <th>f1</th>\n",
       "    </tr>\n",
       "  </thead>\n",
       "  <tbody>\n",
       "    <tr>\n",
       "      <th>0_baseline</th>\n",
       "      <td>0.792651</td>\n",
       "      <td>0.811139</td>\n",
       "      <td>0.792651</td>\n",
       "      <td>0.786219</td>\n",
       "    </tr>\n",
       "    <tr>\n",
       "      <th>1_simple_dense</th>\n",
       "      <td>0.786089</td>\n",
       "      <td>0.790328</td>\n",
       "      <td>0.786089</td>\n",
       "      <td>0.783297</td>\n",
       "    </tr>\n",
       "    <tr>\n",
       "      <th>2_lstm</th>\n",
       "      <td>0.765092</td>\n",
       "      <td>0.769637</td>\n",
       "      <td>0.765092</td>\n",
       "      <td>0.761542</td>\n",
       "    </tr>\n",
       "    <tr>\n",
       "      <th>3_gru</th>\n",
       "      <td>0.770341</td>\n",
       "      <td>0.770197</td>\n",
       "      <td>0.770341</td>\n",
       "      <td>0.769428</td>\n",
       "    </tr>\n",
       "    <tr>\n",
       "      <th>4_bidirectional</th>\n",
       "      <td>0.765092</td>\n",
       "      <td>0.764804</td>\n",
       "      <td>0.765092</td>\n",
       "      <td>0.764883</td>\n",
       "    </tr>\n",
       "    <tr>\n",
       "      <th>5_conv1d</th>\n",
       "      <td>0.790026</td>\n",
       "      <td>0.795060</td>\n",
       "      <td>0.790026</td>\n",
       "      <td>0.787073</td>\n",
       "    </tr>\n",
       "    <tr>\n",
       "      <th>6_tf_hub_encoder</th>\n",
       "      <td>0.817585</td>\n",
       "      <td>0.820262</td>\n",
       "      <td>0.817585</td>\n",
       "      <td>0.815982</td>\n",
       "    </tr>\n",
       "    <tr>\n",
       "      <th>7_tf_hub_encoder_10p</th>\n",
       "      <td>0.787402</td>\n",
       "      <td>0.788256</td>\n",
       "      <td>0.787402</td>\n",
       "      <td>0.786033</td>\n",
       "    </tr>\n",
       "    <tr>\n",
       "      <th>8_ensamble</th>\n",
       "      <td>0.786089</td>\n",
       "      <td>0.786216</td>\n",
       "      <td>0.786089</td>\n",
       "      <td>0.785150</td>\n",
       "    </tr>\n",
       "  </tbody>\n",
       "</table>\n",
       "</div>"
      ],
      "text/plain": [
       "                      accuracy  precision    recall        f1\n",
       "0_baseline            0.792651   0.811139  0.792651  0.786219\n",
       "1_simple_dense        0.786089   0.790328  0.786089  0.783297\n",
       "2_lstm                0.765092   0.769637  0.765092  0.761542\n",
       "3_gru                 0.770341   0.770197  0.770341  0.769428\n",
       "4_bidirectional       0.765092   0.764804  0.765092  0.764883\n",
       "5_conv1d              0.790026   0.795060  0.790026  0.787073\n",
       "6_tf_hub_encoder      0.817585   0.820262  0.817585  0.815982\n",
       "7_tf_hub_encoder_10p  0.787402   0.788256  0.787402  0.786033\n",
       "8_ensamble            0.786089   0.786216  0.786089  0.785150"
      ]
     },
     "execution_count": 171,
     "metadata": {},
     "output_type": "execute_result"
    }
   ],
   "source": [
    "all_model_results[\"accuracy\"][\"8_ensamble\"] = all_model_results[\"accuracy\"][\"8_ensamble\"] / 100\n",
    "all_model_results"
   ]
  },
  {
   "cell_type": "markdown",
   "id": "744bc48b-ca0d-4d0f-94df-3479bf88b744",
   "metadata": {},
   "source": [
    "### 模型保存和载入\n",
    "1. HDF5 format.\n",
    "2. SavedModel format (default)."
   ]
  },
  {
   "cell_type": "code",
   "execution_count": 173,
   "id": "6299afd6-00c0-4d74-bd86-992ff7b54b64",
   "metadata": {},
   "outputs": [
    {
     "name": "stderr",
     "output_type": "stream",
     "text": [
      "/Users/sallyw/machine-learning-lab/Tensorflow/venv/lib/python3.11/site-packages/keras/src/engine/training.py:3103: UserWarning: You are saving your model as an HDF5 file via `model.save()`. This file format is considered legacy. We recommend using instead the native Keras format, e.g. `model.save('my_model.keras')`.\n",
      "  saving_api.save_model(\n"
     ]
    }
   ],
   "source": [
    "# save model 6 in HDF5 format\n",
    "model_6.save(\"model_6_tf_hub_USE.h5\")"
   ]
  },
  {
   "cell_type": "code",
   "execution_count": 174,
   "id": "c7304b73-7c66-431e-934d-7c706004639b",
   "metadata": {},
   "outputs": [],
   "source": [
    "# load model\n",
    "loaded_model_6 = tf.keras.models.load_model(\"model_6_tf_hub_USE.h5\", custom_objects={\"KerasLayer\": hub.KerasLayer})"
   ]
  },
  {
   "cell_type": "code",
   "execution_count": 175,
   "id": "c27d33c2-5036-4368-8912-8f8aa4c9df7d",
   "metadata": {},
   "outputs": [
    {
     "name": "stdout",
     "output_type": "stream",
     "text": [
      "INFO:tensorflow:Assets written to: model_6_SavedModel_format/assets\n"
     ]
    },
    {
     "name": "stderr",
     "output_type": "stream",
     "text": [
      "INFO:tensorflow:Assets written to: model_6_SavedModel_format/assets\n"
     ]
    }
   ],
   "source": [
    "# Save TF Hub Sentence Encoder model to SavedModel format (default)\n",
    "model_6.save(\"model_6_SavedModel_format\")"
   ]
  },
  {
   "cell_type": "code",
   "execution_count": 176,
   "id": "d70afa79-17a0-4ab2-85fb-f2f02b22d5f6",
   "metadata": {},
   "outputs": [],
   "source": [
    "# Load TF Hub Sentence Encoder SavedModel\n",
    "loaded_model_6_SavedModel = tf.keras.models.load_model(\"model_6_SavedModel_format\")"
   ]
  },
  {
   "cell_type": "markdown",
   "id": "c61dd554-e2b4-4979-ae10-95e44264bd60",
   "metadata": {},
   "source": [
    "### 找到最有问题的预测数据点\n",
    "finding the most wrong examples.选择最好的模型，找到它预测可能性最高但是却错了的点，分析问题。"
   ]
  },
  {
   "cell_type": "code",
   "execution_count": 177,
   "id": "94cb8f2f-20e9-41c6-86ba-c5fe32664437",
   "metadata": {},
   "outputs": [
    {
     "data": {
      "text/html": [
       "<div>\n",
       "<style scoped>\n",
       "    .dataframe tbody tr th:only-of-type {\n",
       "        vertical-align: middle;\n",
       "    }\n",
       "\n",
       "    .dataframe tbody tr th {\n",
       "        vertical-align: top;\n",
       "    }\n",
       "\n",
       "    .dataframe thead th {\n",
       "        text-align: right;\n",
       "    }\n",
       "</style>\n",
       "<table border=\"1\" class=\"dataframe\">\n",
       "  <thead>\n",
       "    <tr style=\"text-align: right;\">\n",
       "      <th></th>\n",
       "      <th>text</th>\n",
       "      <th>target</th>\n",
       "      <th>pred</th>\n",
       "      <th>prob</th>\n",
       "    </tr>\n",
       "  </thead>\n",
       "  <tbody>\n",
       "    <tr>\n",
       "      <th>0</th>\n",
       "      <td>DFR EP016 Monthly Meltdown - On Dnbheaven 2015...</td>\n",
       "      <td>0</td>\n",
       "      <td>0.0</td>\n",
       "      <td>0.148901</td>\n",
       "    </tr>\n",
       "    <tr>\n",
       "      <th>1</th>\n",
       "      <td>FedEx no longer to transport bioterror germs i...</td>\n",
       "      <td>0</td>\n",
       "      <td>1.0</td>\n",
       "      <td>0.742958</td>\n",
       "    </tr>\n",
       "    <tr>\n",
       "      <th>2</th>\n",
       "      <td>Gunmen kill four in El Salvador bus attack: Su...</td>\n",
       "      <td>1</td>\n",
       "      <td>1.0</td>\n",
       "      <td>0.983856</td>\n",
       "    </tr>\n",
       "    <tr>\n",
       "      <th>3</th>\n",
       "      <td>@camilacabello97 Internally and externally scr...</td>\n",
       "      <td>1</td>\n",
       "      <td>0.0</td>\n",
       "      <td>0.195450</td>\n",
       "    </tr>\n",
       "    <tr>\n",
       "      <th>4</th>\n",
       "      <td>Radiation emergency #preparedness starts with ...</td>\n",
       "      <td>1</td>\n",
       "      <td>1.0</td>\n",
       "      <td>0.747986</td>\n",
       "    </tr>\n",
       "    <tr>\n",
       "      <th>...</th>\n",
       "      <td>...</td>\n",
       "      <td>...</td>\n",
       "      <td>...</td>\n",
       "      <td>...</td>\n",
       "    </tr>\n",
       "    <tr>\n",
       "      <th>757</th>\n",
       "      <td>That's the ultimate road to destruction</td>\n",
       "      <td>0</td>\n",
       "      <td>0.0</td>\n",
       "      <td>0.105105</td>\n",
       "    </tr>\n",
       "    <tr>\n",
       "      <th>758</th>\n",
       "      <td>@SetZorah dad why dont you claim me that mean ...</td>\n",
       "      <td>0</td>\n",
       "      <td>0.0</td>\n",
       "      <td>0.091936</td>\n",
       "    </tr>\n",
       "    <tr>\n",
       "      <th>759</th>\n",
       "      <td>FedEx will no longer transport bioterror patho...</td>\n",
       "      <td>0</td>\n",
       "      <td>1.0</td>\n",
       "      <td>0.861376</td>\n",
       "    </tr>\n",
       "    <tr>\n",
       "      <th>760</th>\n",
       "      <td>Crack in the path where I wiped out this morni...</td>\n",
       "      <td>0</td>\n",
       "      <td>1.0</td>\n",
       "      <td>0.688781</td>\n",
       "    </tr>\n",
       "    <tr>\n",
       "      <th>761</th>\n",
       "      <td>I liked a @YouTube video from @dannyonpc http:...</td>\n",
       "      <td>0</td>\n",
       "      <td>0.0</td>\n",
       "      <td>0.083471</td>\n",
       "    </tr>\n",
       "  </tbody>\n",
       "</table>\n",
       "<p>762 rows × 4 columns</p>\n",
       "</div>"
      ],
      "text/plain": [
       "                                                  text  target  pred      prob\n",
       "0    DFR EP016 Monthly Meltdown - On Dnbheaven 2015...       0   0.0  0.148901\n",
       "1    FedEx no longer to transport bioterror germs i...       0   1.0  0.742958\n",
       "2    Gunmen kill four in El Salvador bus attack: Su...       1   1.0  0.983856\n",
       "3    @camilacabello97 Internally and externally scr...       1   0.0  0.195450\n",
       "4    Radiation emergency #preparedness starts with ...       1   1.0  0.747986\n",
       "..                                                 ...     ...   ...       ...\n",
       "757            That's the ultimate road to destruction       0   0.0  0.105105\n",
       "758  @SetZorah dad why dont you claim me that mean ...       0   0.0  0.091936\n",
       "759  FedEx will no longer transport bioterror patho...       0   1.0  0.861376\n",
       "760  Crack in the path where I wiped out this morni...       0   1.0  0.688781\n",
       "761  I liked a @YouTube video from @dannyonpc http:...       0   0.0  0.083471\n",
       "\n",
       "[762 rows x 4 columns]"
      ]
     },
     "execution_count": 177,
     "metadata": {},
     "output_type": "execute_result"
    }
   ],
   "source": [
    "# Create dataframe with validation sentences and best performing model predictions\n",
    "val_df = pd.DataFrame({\"text\": val_sentences,\n",
    "                       \"target\": val_labels,\n",
    "                       \"pred\": model_6_preds,\n",
    "                       \"prob\": tf.squeeze(model_6_pred_probs)})\n",
    "val_df"
   ]
  },
  {
   "cell_type": "code",
   "execution_count": 181,
   "id": "35f96fb4-233f-4701-8dff-09f245e9794f",
   "metadata": {},
   "outputs": [
    {
     "data": {
      "text/html": [
       "<div>\n",
       "<style scoped>\n",
       "    .dataframe tbody tr th:only-of-type {\n",
       "        vertical-align: middle;\n",
       "    }\n",
       "\n",
       "    .dataframe tbody tr th {\n",
       "        vertical-align: top;\n",
       "    }\n",
       "\n",
       "    .dataframe thead th {\n",
       "        text-align: right;\n",
       "    }\n",
       "</style>\n",
       "<table border=\"1\" class=\"dataframe\">\n",
       "  <thead>\n",
       "    <tr style=\"text-align: right;\">\n",
       "      <th></th>\n",
       "      <th>text</th>\n",
       "      <th>target</th>\n",
       "      <th>pred</th>\n",
       "      <th>prob</th>\n",
       "    </tr>\n",
       "  </thead>\n",
       "  <tbody>\n",
       "    <tr>\n",
       "      <th>31</th>\n",
       "      <td>? High Skies - Burning Buildings ? http://t.co...</td>\n",
       "      <td>0</td>\n",
       "      <td>1.0</td>\n",
       "      <td>0.914355</td>\n",
       "    </tr>\n",
       "    <tr>\n",
       "      <th>759</th>\n",
       "      <td>FedEx will no longer transport bioterror patho...</td>\n",
       "      <td>0</td>\n",
       "      <td>1.0</td>\n",
       "      <td>0.861376</td>\n",
       "    </tr>\n",
       "    <tr>\n",
       "      <th>628</th>\n",
       "      <td>@noah_anyname That's where the concentration c...</td>\n",
       "      <td>0</td>\n",
       "      <td>1.0</td>\n",
       "      <td>0.850793</td>\n",
       "    </tr>\n",
       "    <tr>\n",
       "      <th>49</th>\n",
       "      <td>@madonnamking RSPCA site multiple 7 story high...</td>\n",
       "      <td>0</td>\n",
       "      <td>1.0</td>\n",
       "      <td>0.837359</td>\n",
       "    </tr>\n",
       "    <tr>\n",
       "      <th>393</th>\n",
       "      <td>@SonofLiberty357 all illuminated by the bright...</td>\n",
       "      <td>0</td>\n",
       "      <td>1.0</td>\n",
       "      <td>0.828156</td>\n",
       "    </tr>\n",
       "    <tr>\n",
       "      <th>209</th>\n",
       "      <td>Ashes 2015: AustraliaÛªs collapse at Trent Br...</td>\n",
       "      <td>0</td>\n",
       "      <td>1.0</td>\n",
       "      <td>0.821721</td>\n",
       "    </tr>\n",
       "    <tr>\n",
       "      <th>251</th>\n",
       "      <td>@AshGhebranious civil rights continued in the ...</td>\n",
       "      <td>0</td>\n",
       "      <td>1.0</td>\n",
       "      <td>0.792732</td>\n",
       "    </tr>\n",
       "    <tr>\n",
       "      <th>109</th>\n",
       "      <td>[55436] 1950 LIONEL TRAINS SMOKE LOCOMOTIVES W...</td>\n",
       "      <td>0</td>\n",
       "      <td>1.0</td>\n",
       "      <td>0.782048</td>\n",
       "    </tr>\n",
       "    <tr>\n",
       "      <th>698</th>\n",
       "      <td>åÈMGN-AFRICAå¨ pin:263789F4 åÈ Correction: Ten...</td>\n",
       "      <td>0</td>\n",
       "      <td>1.0</td>\n",
       "      <td>0.772858</td>\n",
       "    </tr>\n",
       "    <tr>\n",
       "      <th>144</th>\n",
       "      <td>The Sound of Arson</td>\n",
       "      <td>0</td>\n",
       "      <td>1.0</td>\n",
       "      <td>0.766945</td>\n",
       "    </tr>\n",
       "  </tbody>\n",
       "</table>\n",
       "</div>"
      ],
      "text/plain": [
       "                                                  text  target  pred      prob\n",
       "31   ? High Skies - Burning Buildings ? http://t.co...       0   1.0  0.914355\n",
       "759  FedEx will no longer transport bioterror patho...       0   1.0  0.861376\n",
       "628  @noah_anyname That's where the concentration c...       0   1.0  0.850793\n",
       "49   @madonnamking RSPCA site multiple 7 story high...       0   1.0  0.837359\n",
       "393  @SonofLiberty357 all illuminated by the bright...       0   1.0  0.828156\n",
       "209  Ashes 2015: AustraliaÛªs collapse at Trent Br...       0   1.0  0.821721\n",
       "251  @AshGhebranious civil rights continued in the ...       0   1.0  0.792732\n",
       "109  [55436] 1950 LIONEL TRAINS SMOKE LOCOMOTIVES W...       0   1.0  0.782048\n",
       "698  åÈMGN-AFRICAå¨ pin:263789F4 åÈ Correction: Ten...       0   1.0  0.772858\n",
       "144                                 The Sound of Arson       0   1.0  0.766945"
      ]
     },
     "execution_count": 181,
     "metadata": {},
     "output_type": "execute_result"
    }
   ],
   "source": [
    "most_wrong = val_df[val_df[\"target\"] != val_df[\"pred\"]].sort_values(\"prob\", ascending=False)\n",
    "most_wrong[:10]"
   ]
  },
  {
   "cell_type": "code",
   "execution_count": 182,
   "id": "76bafd28-016a-4a60-a1ed-a899714066ae",
   "metadata": {},
   "outputs": [
    {
     "name": "stdout",
     "output_type": "stream",
     "text": [
      "Target: 0, Pred: 1, Prob: 0.9143548607826233\n",
      "Text:\n",
      "? High Skies - Burning Buildings ? http://t.co/uVq41i3Kx2 #nowplaying\n",
      "\n",
      "----\n",
      "\n",
      "Target: 0, Pred: 1, Prob: 0.8613755106925964\n",
      "Text:\n",
      "FedEx will no longer transport bioterror pathogens in wake of anthrax lab mishaps http://t.co/lHpgxc4b8J\n",
      "\n",
      "----\n",
      "\n",
      "Target: 0, Pred: 1, Prob: 0.8507925271987915\n",
      "Text:\n",
      "@noah_anyname That's where the concentration camps and mass murder come in. \n",
      " \n",
      "EVERY. FUCKING. TIME.\n",
      "\n",
      "----\n",
      "\n",
      "Target: 0, Pred: 1, Prob: 0.8373586535453796\n",
      "Text:\n",
      "@madonnamking RSPCA site multiple 7 story high rise buildings next to low density character residential in an area that floods\n",
      "\n",
      "----\n",
      "\n",
      "Target: 0, Pred: 1, Prob: 0.8281558752059937\n",
      "Text:\n",
      "@SonofLiberty357 all illuminated by the brightly burning buildings all around the town!\n",
      "\n",
      "----\n",
      "\n",
      "Target: 0, Pred: 1, Prob: 0.8217206001281738\n",
      "Text:\n",
      "Ashes 2015: AustraliaÛªs collapse at Trent Bridge among worst in history: England bundled out Australia for 60 ... http://t.co/t5TrhjUAU0\n",
      "\n",
      "----\n",
      "\n",
      "Target: 0, Pred: 1, Prob: 0.7927315831184387\n",
      "Text:\n",
      "@AshGhebranious civil rights continued in the 60s. And what about trans-generational trauma? if anything we should listen to the Americans.\n",
      "\n",
      "----\n",
      "\n",
      "Target: 0, Pred: 1, Prob: 0.7820479869842529\n",
      "Text:\n",
      "[55436] 1950 LIONEL TRAINS SMOKE LOCOMOTIVES WITH MAGNE-TRACTION INSTRUCTIONS http://t.co/xEZBs3sq0y http://t.co/C2x0QoKGlY\n",
      "\n",
      "----\n",
      "\n",
      "Target: 0, Pred: 1, Prob: 0.772857666015625\n",
      "Text:\n",
      "åÈMGN-AFRICAå¨ pin:263789F4 åÈ Correction: Tent Collapse Story: Correction: Tent Collapse story åÈ http://t.co/fDJUYvZMrv @wizkidayo\n",
      "\n",
      "----\n",
      "\n",
      "Target: 0, Pred: 1, Prob: 0.7669452428817749\n",
      "Text:\n",
      "The Sound of Arson\n",
      "\n",
      "----\n",
      "\n"
     ]
    }
   ],
   "source": [
    "# Check the false positives (model predicted 1 when should've been 0)\n",
    "for row in most_wrong[:10].itertuples(): # loop through the top 10 rows (change the index to view different rows)\n",
    "  _, text, target, pred, prob = row\n",
    "  print(f\"Target: {target}, Pred: {int(pred)}, Prob: {prob}\")\n",
    "  print(f\"Text:\\n{text}\\n\")\n",
    "  print(\"----\\n\")"
   ]
  },
  {
   "cell_type": "code",
   "execution_count": 183,
   "id": "430baca3-e79c-400d-ad55-76ea325fd8b0",
   "metadata": {},
   "outputs": [
    {
     "name": "stdout",
     "output_type": "stream",
     "text": [
      "Target: 1, Pred: 0, Prob: 0.06126442551612854\n",
      "Text:\n",
      "Next May I'll be free...from school from obligations like family.... Best of all that damn curfew...\n",
      "\n",
      "----\n",
      "\n",
      "Target: 1, Pred: 0, Prob: 0.05905182287096977\n",
      "Text:\n",
      "Lucas Duda is Ghost Rider. Not the Nic Cage version but an actual 'engulfed in flames' badass. #Mets\n",
      "\n",
      "----\n",
      "\n",
      "Target: 1, Pred: 0, Prob: 0.056409358978271484\n",
      "Text:\n",
      "'The way you move is like a full on rainstorm and I'm a house of cards'\n",
      "\n",
      "----\n",
      "\n",
      "Target: 1, Pred: 0, Prob: 0.05178028717637062\n",
      "Text:\n",
      "@willienelson We need help! Horses will die!Please RT &amp; sign petition!Take a stand &amp; be a voice for them! #gilbert23 https://t.co/e8dl1lNCVu\n",
      "\n",
      "----\n",
      "\n",
      "Target: 1, Pred: 0, Prob: 0.049938395619392395\n",
      "Text:\n",
      "You can never escape me. Bullets don't harm me. Nothing harms me. But I know pain. I know pain. Sometimes I share it. With someone like you.\n",
      "\n",
      "----\n",
      "\n",
      "Target: 1, Pred: 0, Prob: 0.043307945132255554\n",
      "Text:\n",
      "I get to smoke my shit in peace\n",
      "\n",
      "----\n",
      "\n",
      "Target: 1, Pred: 0, Prob: 0.03889784589409828\n",
      "Text:\n",
      "@SoonerMagic_ I mean I'm a fan but I don't need a girl sounding off like a damn siren\n",
      "\n",
      "----\n",
      "\n",
      "Target: 1, Pred: 0, Prob: 0.03638007491827011\n",
      "Text:\n",
      "Ron &amp; Fez - Dave's High School Crush https://t.co/aN3W16c8F6 via @YouTube\n",
      "\n",
      "----\n",
      "\n",
      "Target: 1, Pred: 0, Prob: 0.03471585363149643\n",
      "Text:\n",
      "Reddit Will Now QuarantineÛ_ http://t.co/pkUAMXw6pm #onlinecommunities #reddit #amageddon #freespeech #Business http://t.co/PAWvNJ4sAP\n",
      "\n",
      "----\n",
      "\n",
      "Target: 1, Pred: 0, Prob: 0.03246396780014038\n",
      "Text:\n",
      "Why are you deluged with low self-image? Take the quiz: http://t.co/XsPqdOrIqj http://t.co/CQYvFR4UCy\n",
      "\n",
      "----\n",
      "\n"
     ]
    }
   ],
   "source": [
    "# Check the most wrong false negatives (model predicted 0 when should've predict 1)\n",
    "for row in most_wrong[-10:].itertuples():\n",
    "  _, text, target, pred, prob = row\n",
    "  print(f\"Target: {target}, Pred: {int(pred)}, Prob: {prob}\")\n",
    "  print(f\"Text:\\n{text}\\n\")\n",
    "  print(\"----\\n\")"
   ]
  },
  {
   "cell_type": "markdown",
   "id": "788cce62-4275-4be0-b353-b774a9fa9053",
   "metadata": {},
   "source": [
    "说实话他们看起来不像是1，机器看起来更正确"
   ]
  },
  {
   "cell_type": "markdown",
   "id": "38b76763-0ad1-48f0-91cc-7d3628f2c1f2",
   "metadata": {},
   "source": [
    "### 在测试集上进行预测"
   ]
  },
  {
   "cell_type": "code",
   "execution_count": 185,
   "id": "f698f137-0b72-4f40-93e1-776db9f63c64",
   "metadata": {},
   "outputs": [
    {
     "data": {
      "text/html": [
       "<div>\n",
       "<style scoped>\n",
       "    .dataframe tbody tr th:only-of-type {\n",
       "        vertical-align: middle;\n",
       "    }\n",
       "\n",
       "    .dataframe tbody tr th {\n",
       "        vertical-align: top;\n",
       "    }\n",
       "\n",
       "    .dataframe thead th {\n",
       "        text-align: right;\n",
       "    }\n",
       "</style>\n",
       "<table border=\"1\" class=\"dataframe\">\n",
       "  <thead>\n",
       "    <tr style=\"text-align: right;\">\n",
       "      <th></th>\n",
       "      <th>id</th>\n",
       "      <th>keyword</th>\n",
       "      <th>location</th>\n",
       "      <th>text</th>\n",
       "    </tr>\n",
       "  </thead>\n",
       "  <tbody>\n",
       "    <tr>\n",
       "      <th>0</th>\n",
       "      <td>0</td>\n",
       "      <td>NaN</td>\n",
       "      <td>NaN</td>\n",
       "      <td>Just happened a terrible car crash</td>\n",
       "    </tr>\n",
       "    <tr>\n",
       "      <th>1</th>\n",
       "      <td>2</td>\n",
       "      <td>NaN</td>\n",
       "      <td>NaN</td>\n",
       "      <td>Heard about #earthquake is different cities, s...</td>\n",
       "    </tr>\n",
       "    <tr>\n",
       "      <th>2</th>\n",
       "      <td>3</td>\n",
       "      <td>NaN</td>\n",
       "      <td>NaN</td>\n",
       "      <td>there is a forest fire at spot pond, geese are...</td>\n",
       "    </tr>\n",
       "    <tr>\n",
       "      <th>3</th>\n",
       "      <td>9</td>\n",
       "      <td>NaN</td>\n",
       "      <td>NaN</td>\n",
       "      <td>Apocalypse lighting. #Spokane #wildfires</td>\n",
       "    </tr>\n",
       "    <tr>\n",
       "      <th>4</th>\n",
       "      <td>11</td>\n",
       "      <td>NaN</td>\n",
       "      <td>NaN</td>\n",
       "      <td>Typhoon Soudelor kills 28 in China and Taiwan</td>\n",
       "    </tr>\n",
       "    <tr>\n",
       "      <th>...</th>\n",
       "      <td>...</td>\n",
       "      <td>...</td>\n",
       "      <td>...</td>\n",
       "      <td>...</td>\n",
       "    </tr>\n",
       "    <tr>\n",
       "      <th>3258</th>\n",
       "      <td>10861</td>\n",
       "      <td>NaN</td>\n",
       "      <td>NaN</td>\n",
       "      <td>EARTHQUAKE SAFETY LOS ANGELES ÛÒ SAFETY FASTE...</td>\n",
       "    </tr>\n",
       "    <tr>\n",
       "      <th>3259</th>\n",
       "      <td>10865</td>\n",
       "      <td>NaN</td>\n",
       "      <td>NaN</td>\n",
       "      <td>Storm in RI worse than last hurricane. My city...</td>\n",
       "    </tr>\n",
       "    <tr>\n",
       "      <th>3260</th>\n",
       "      <td>10868</td>\n",
       "      <td>NaN</td>\n",
       "      <td>NaN</td>\n",
       "      <td>Green Line derailment in Chicago http://t.co/U...</td>\n",
       "    </tr>\n",
       "    <tr>\n",
       "      <th>3261</th>\n",
       "      <td>10874</td>\n",
       "      <td>NaN</td>\n",
       "      <td>NaN</td>\n",
       "      <td>MEG issues Hazardous Weather Outlook (HWO) htt...</td>\n",
       "    </tr>\n",
       "    <tr>\n",
       "      <th>3262</th>\n",
       "      <td>10875</td>\n",
       "      <td>NaN</td>\n",
       "      <td>NaN</td>\n",
       "      <td>#CityofCalgary has activated its Municipal Eme...</td>\n",
       "    </tr>\n",
       "  </tbody>\n",
       "</table>\n",
       "<p>3263 rows × 4 columns</p>\n",
       "</div>"
      ],
      "text/plain": [
       "         id keyword location  \\\n",
       "0         0     NaN      NaN   \n",
       "1         2     NaN      NaN   \n",
       "2         3     NaN      NaN   \n",
       "3         9     NaN      NaN   \n",
       "4        11     NaN      NaN   \n",
       "...     ...     ...      ...   \n",
       "3258  10861     NaN      NaN   \n",
       "3259  10865     NaN      NaN   \n",
       "3260  10868     NaN      NaN   \n",
       "3261  10874     NaN      NaN   \n",
       "3262  10875     NaN      NaN   \n",
       "\n",
       "                                                   text  \n",
       "0                    Just happened a terrible car crash  \n",
       "1     Heard about #earthquake is different cities, s...  \n",
       "2     there is a forest fire at spot pond, geese are...  \n",
       "3              Apocalypse lighting. #Spokane #wildfires  \n",
       "4         Typhoon Soudelor kills 28 in China and Taiwan  \n",
       "...                                                 ...  \n",
       "3258  EARTHQUAKE SAFETY LOS ANGELES ÛÒ SAFETY FASTE...  \n",
       "3259  Storm in RI worse than last hurricane. My city...  \n",
       "3260  Green Line derailment in Chicago http://t.co/U...  \n",
       "3261  MEG issues Hazardous Weather Outlook (HWO) htt...  \n",
       "3262  #CityofCalgary has activated its Municipal Eme...  \n",
       "\n",
       "[3263 rows x 4 columns]"
      ]
     },
     "execution_count": 185,
     "metadata": {},
     "output_type": "execute_result"
    }
   ],
   "source": [
    "test_df"
   ]
  },
  {
   "cell_type": "code",
   "execution_count": 193,
   "id": "324e8ad6-31c5-47f7-b809-c70a956709d9",
   "metadata": {},
   "outputs": [
    {
     "name": "stdout",
     "output_type": "stream",
     "text": [
      "102/102 [==============================] - 0s 3ms/step\n"
     ]
    }
   ],
   "source": [
    "test_pred_probs = model_6.predict(test_df[\"text\"].to_numpy())\n",
    "test_preds = tf.squeeze(tf.round(test_pred_probs))"
   ]
  },
  {
   "cell_type": "code",
   "execution_count": 194,
   "id": "2c8fd972-19c5-46d0-a0b3-03caad8e1e73",
   "metadata": {},
   "outputs": [
    {
     "data": {
      "text/plain": [
       "<tf.Tensor: shape=(10,), dtype=float32, numpy=array([1., 1., 1., 1., 1., 1., 0., 0., 0., 0.], dtype=float32)>"
      ]
     },
     "execution_count": 194,
     "metadata": {},
     "output_type": "execute_result"
    }
   ],
   "source": [
    "test_preds[:10]"
   ]
  },
  {
   "cell_type": "code",
   "execution_count": 195,
   "id": "030a7c08-8b0d-4bc9-95ee-0bb457f394e0",
   "metadata": {},
   "outputs": [
    {
     "name": "stdout",
     "output_type": "stream",
     "text": [
      "1/1 [==============================] - 0s 120ms/step\n",
      "Pred: 1, Prob: 0.5472278594970703\n",
      "Text:\n",
      "Flash Flood Watch in effect through 7:00am Thursday morning/12:00pm Thursday afternoon.\n",
      "For: Perry Wayne Cape... http://t.co/fs7vro5seS\n",
      "\n",
      "----\n",
      "\n",
      "1/1 [==============================] - 0s 28ms/step\n",
      "Pred: 1, Prob: 0.8491577506065369\n",
      "Text:\n",
      "Investigators say a fatal Virgin Galactic spaceship crash last year was caused by structural failure after the... http://t.co/FoxpVpTttA\n",
      "\n",
      "----\n",
      "\n",
      "1/1 [==============================] - 0s 26ms/step\n",
      "Pred: 0, Prob: 0.043215420097112656\n",
      "Text:\n",
      "Vanessa was about to explode! This is what she wanted to say to Shelli. Their alliance will survive. #BB17 #BBLF http://t.co/rypGKScHng\n",
      "\n",
      "----\n",
      "\n",
      "1/1 [==============================] - 0s 30ms/step\n",
      "Pred: 0, Prob: 0.08835871517658234\n",
      "Text:\n",
      "UNIVERSAL ORDER OF ARMAGEDDON http://t.co/3tY4mGm\n",
      "\n",
      "----\n",
      "\n",
      "1/1 [==============================] - 0s 29ms/step\n",
      "Pred: 1, Prob: 0.9691438674926758\n",
      "Text:\n",
      "#AUS Aircraft debris found on island is from MH370 Malaysia confirms http://t.co/1zFGk9ET5v #abc\n",
      "\n",
      "----\n",
      "\n",
      "1/1 [==============================] - 0s 27ms/step\n",
      "Pred: 0, Prob: 0.08745473623275757\n",
      "Text:\n",
      "Dixie Chicks - Landslide - ??can I sail through the changing ocean lides??\n",
      "??can i handle the seasons of my life??\n",
      " http://t.co/jRsGmTT3AI\n",
      "\n",
      "----\n",
      "\n",
      "1/1 [==============================] - 0s 26ms/step\n",
      "Pred: 0, Prob: 0.04004301503300667\n",
      "Text:\n",
      "smoke me out\n",
      "\n",
      "----\n",
      "\n",
      "1/1 [==============================] - 0s 27ms/step\n",
      "Pred: 1, Prob: 0.849686861038208\n",
      "Text:\n",
      "On 70th anniversary of #Hiroshima bomb it is important to learn from history and ban this weapon.\n",
      "\n",
      "----\n",
      "\n",
      "1/1 [==============================] - 0s 24ms/step\n",
      "Pred: 0, Prob: 0.06383945792913437\n",
      "Text:\n",
      "*loud bang from coworkers desk* *everyone snickers*\n",
      "\n",
      "----\n",
      "\n",
      "1/1 [==============================] - 0s 26ms/step\n",
      "Pred: 0, Prob: 0.46672624349594116\n",
      "Text:\n",
      "we shootn each other over video games................wow ghee  sad\n",
      "but I still don't see no rioting no walks no... http://t.co/O423U56yPh\n",
      "\n",
      "----\n",
      "\n"
     ]
    }
   ],
   "source": [
    "# Making predictions on the test dataset\n",
    "test_sentences = test_df[\"text\"].to_list()\n",
    "test_samples = random.sample(test_sentences, 10)\n",
    "for test_sample in test_samples:\n",
    "  pred_prob = tf.squeeze(model_6.predict([test_sample])) # has to be list\n",
    "  pred = tf.round(pred_prob)\n",
    "  print(f\"Pred: {int(pred)}, Prob: {pred_prob}\")\n",
    "  print(f\"Text:\\n{test_sample}\\n\")\n",
    "  print(\"----\\n\")"
   ]
  },
  {
   "cell_type": "code",
   "execution_count": 202,
   "id": "72ad039d-2f0b-4792-8b0a-78be3c127e54",
   "metadata": {},
   "outputs": [],
   "source": [
    "# predict tweets from wild\n",
    "def predict_on_sentence(model, sentence):\n",
    "    \"\"\"\n",
    "    Uses model to make a prediction on sentence.\n",
    "    Returns the sentence, the predicted label and the prediction probability.\n",
    "    \"\"\"\n",
    "    pred_prob = model.predict([sentence])\n",
    "    pred_label = tf.squeeze(tf.round(pred_prob)).numpy()\n",
    "    print(f\"Pred: {pred_label}\", \"(real disaster)\" if pred_label > 0 else \"(not real disaster)\", f\"Prob: {pred_prob[0][0]}\")\n",
    "    print(f\"Text:\\n{sentence}\")"
   ]
  },
  {
   "cell_type": "code",
   "execution_count": 205,
   "id": "7bd43d4c-4e24-4d39-b1b8-6390c6bc8081",
   "metadata": {},
   "outputs": [
    {
     "name": "stdout",
     "output_type": "stream",
     "text": [
      "1/1 [==============================] - 0s 27ms/step\n",
      "Pred: 0.0 (not real disaster) Prob: 0.1490035057067871\n",
      "Text:\n",
      "all blood on the ground, is everybody ok?\n"
     ]
    }
   ],
   "source": [
    "test_sentence = \"all blood on the ground, is everybody ok?\"\n",
    "predict_on_sentence(model_6, test_sentence)"
   ]
  },
  {
   "cell_type": "markdown",
   "id": "43c35896-5ff8-47ec-8f8e-7d518b8e5b80",
   "metadata": {},
   "source": [
    "### 速度和精准度的权衡\n",
    "每天有无数的推特发布，如何做到更好的预测，需要一个时间和精准度的权衡。模型要在真正的生产环境中发挥作用才是好模型。"
   ]
  },
  {
   "cell_type": "code",
   "execution_count": 207,
   "id": "6501b68d-aab1-49ac-8215-e3bbe29904e4",
   "metadata": {},
   "outputs": [],
   "source": [
    "# Calculate the time of predictions\n",
    "import time\n",
    "def pred_timer(model, samples):\n",
    "  \"\"\"\n",
    "  Times how long a model takes to make predictions on samples.\n",
    "  \n",
    "  Args:\n",
    "  ----\n",
    "  model = a trained model\n",
    "  sample = a list of samples\n",
    "\n",
    "  Returns:\n",
    "  ----\n",
    "  total_time = total elapsed time for model to make predictions on samples\n",
    "  time_per_pred = time in seconds per single sample\n",
    "  \"\"\"\n",
    "  start_time = time.perf_counter() # get start time\n",
    "  model.predict(samples) # make predictions\n",
    "  end_time = time.perf_counter() # get finish time\n",
    "  total_time = end_time-start_time # calculate how long predictions took to make\n",
    "  time_per_pred = total_time/len(val_sentences) # find prediction time per sample\n",
    "  return total_time, time_per_pred"
   ]
  },
  {
   "cell_type": "code",
   "execution_count": 208,
   "id": "9dd2453e-31fb-4c60-b2c9-458cfece8012",
   "metadata": {},
   "outputs": [
    {
     "name": "stdout",
     "output_type": "stream",
     "text": [
      "24/24 [==============================] - 0s 7ms/step\n"
     ]
    },
    {
     "data": {
      "text/plain": [
       "(0.2612414580071345, 0.00034283655906448097)"
      ]
     },
     "execution_count": 208,
     "metadata": {},
     "output_type": "execute_result"
    }
   ],
   "source": [
    "# Calculate TF Hub Sentence Encoder prediction times\n",
    "model_6_total_pred_time, model_6_time_per_pred = pred_timer(model_6, val_sentences)\n",
    "model_6_total_pred_time, model_6_time_per_pred"
   ]
  },
  {
   "cell_type": "code",
   "execution_count": 209,
   "id": "4ec2f330-d714-4112-9313-6af6aac3ad62",
   "metadata": {},
   "outputs": [
    {
     "data": {
      "text/plain": [
       "(0.04565312503837049, 5.991223758316337e-05)"
      ]
     },
     "execution_count": 209,
     "metadata": {},
     "output_type": "execute_result"
    }
   ],
   "source": [
    "# Calculate Naive Bayes prediction times\n",
    "baseline_total_pred_time, baseline_time_per_pred = pred_timer(model_0, val_sentences)\n",
    "baseline_total_pred_time, baseline_time_per_pred"
   ]
  },
  {
   "cell_type": "code",
   "execution_count": 210,
   "id": "12e4de47-a007-4095-9a54-34565e31aa68",
   "metadata": {},
   "outputs": [
    {
     "data": {
      "image/png": "[encoded data removed]",
      "text/plain": [
       "<Figure size 1000x700 with 1 Axes>"
      ]
     },
     "metadata": {},
     "output_type": "display_data"
    }
   ],
   "source": [
    "import matplotlib.pyplot as plt\n",
    "\n",
    "plt.figure(figsize=(10, 7))\n",
    "plt.scatter(baseline_time_per_pred, baseline_results[\"f1\"], label=\"baseline\")\n",
    "plt.scatter(model_6_time_per_pred, model_6_results[\"f1\"], label=\"tf_hub_sentence_encoder\")\n",
    "plt.legend()\n",
    "plt.title(\"F1-score versus time per prediction\")\n",
    "plt.xlabel(\"Time per prediction\")\n",
    "plt.ylabel(\"F1-Score\");"
   ]
  },
  {
   "cell_type": "code",
   "execution_count": null,
   "id": "db6e8158-15f5-49a3-a801-006048adb9fe",
   "metadata": {},
   "outputs": [],
   "source": []
  }
 ],
 "metadata": {
  "kernelspec": {
   "display_name": "Python 3 (ipykernel)",
   "language": "python",
   "name": "python3"
  },
  "language_info": {
   "codemirror_mode": {
    "name": "ipython",
    "version": 3
   },
   "file_extension": ".py",
   "mimetype": "text/x-python",
   "name": "python",
   "nbconvert_exporter": "python",
   "pygments_lexer": "ipython3",
   "version": "3.11.5"
  }
 },
 "nbformat": 4,
 "nbformat_minor": 5
}
