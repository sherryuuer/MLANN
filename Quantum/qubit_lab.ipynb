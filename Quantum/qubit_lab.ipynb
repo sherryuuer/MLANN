{
 "cells": [
  {
   "cell_type": "markdown",
   "metadata": {},
   "source": [
    "### The first qubit"
   ]
  },
  {
   "cell_type": "code",
   "execution_count": null,
   "metadata": {},
   "outputs": [],
   "source": [
    "from qiskit import QuantumCircuit\n",
    "\n",
    "# Create a quantum circuit with one qubit\n",
    "qc = QuantumCircuit(1)\n",
    "\n",
    "# Define initial_state as |1>\n",
    "initial_state = [0,1]\n",
    "\n",
    "# Apply initialization operation to the qubit at position 0\n",
    "print(qc.initialize(initial_state, 0) )\n",
    "\n",
    "dontshow=True\n",
    "\n",
    "# <qiskit.circuit.instructionset.InstructionSet object at 0x7f59ea7f67c0>"
   ]
  },
  {
   "cell_type": "markdown",
   "metadata": {},
   "source": [
    "### Prepare the simulation backend"
   ]
  },
  {
   "cell_type": "code",
   "execution_count": null,
   "metadata": {},
   "outputs": [],
   "source": [
    "from qiskit import execute, Aer\n",
    "\n",
    "# Tell Qiskit how to simulate our circuit\n",
    "backend = Aer.get_backend('statevector_simulator')\n",
    "\n",
    "# Do the simulation, returning the result\n",
    "result = execute(qc,backend).result()"
   ]
  },
  {
   "cell_type": "markdown",
   "metadata": {},
   "source": [
    "### The measured qubit"
   ]
  },
  {
   "cell_type": "code",
   "execution_count": null,
   "metadata": {},
   "outputs": [],
   "source": [
    "from qiskit.visualization import plot_histogram\n",
    "import matplotlib.pyplot as plt\n",
    "\n",
    "# get the probability distribution\n",
    "counts = result.get_counts()\n",
    "\n",
    "# Show the histogram\n",
    "plot_histogram(counts)\n",
    "\n",
    "# 这是一个完全是1的概率分布"
   ]
  },
  {
   "cell_type": "markdown",
   "metadata": {},
   "source": [
    "### First attempt to superpose two states"
   ]
  },
  {
   "cell_type": "code",
   "execution_count": null,
   "metadata": {},
   "outputs": [],
   "source": [
    "# Define state |psi>\n",
    "initial_state = [1, 1]\n",
    "\n",
    "# Redefine the quantum circuit\n",
    "qc = QuantumCircuit(1)\n",
    "\n",
    "# Initialise the 0th qubit in the state `initial_state`\n",
    "qc.initialize(initial_state, 0)\n",
    "\n",
    "# execute the qc\n",
    "results = execute(qc,backend).result().get_counts()\n",
    "\n",
    "# plot the results\n",
    "plot_histogram(results)\n",
    "# CAPTION First attempt to superpose two states\n",
    "\n",
    "# QiskitError: 'Sum of amplitudes-squared does not equal one.'\n",
    "# 这种操作会导致失败：这是因为可能性的振幅（Amplitudes）是有一个范围的，你不能超出范围因此，下面的步骤是正规化的"
   ]
  },
  {
   "cell_type": "markdown",
   "metadata": {},
   "source": [
    "### Weighted initial state"
   ]
  },
  {
   "cell_type": "code",
   "execution_count": null,
   "metadata": {},
   "outputs": [],
   "source": [
    "from math import sqrt\n",
    "\n",
    "# Define state |psi>\n",
    "initial_state = [1/sqrt(2), 1/sqrt(2)]\n",
    "\n",
    "# Redefine the quantum circuit\n",
    "qc = QuantumCircuit(1)\n",
    "\n",
    "# Initialise the 0th qubit in the state `initial_state`\n",
    "qc.initialize(initial_state, 0)\n",
    "\n",
    "# execute the qc\n",
    "results = execute(qc,backend).result().get_counts()\n",
    "\n",
    "# plot the results\n",
    "plot_histogram(results)"
   ]
  },
  {
   "cell_type": "markdown",
   "metadata": {},
   "source": [
    "### The qubit with a probability of 0.25 to result in 0\n",
    "\n",
    "因为总体的概率分布，是1，这里初始化中，可以认为的随机给每个结果，加上一个权重"
   ]
  },
  {
   "cell_type": "code",
   "execution_count": null,
   "metadata": {},
   "outputs": [],
   "source": [
    "from qiskit import QuantumCircuit, execute, Aer\n",
    "from qiskit.visualization import plot_histogram\n",
    "from math import sqrt\n",
    "\n",
    "qc = QuantumCircuit(1)\n",
    "initial_state = [1/2, sqrt(3)/2] # Here, we insert the state\n",
    "qc.initialize(initial_state, 0)\n",
    "backend = Aer.get_backend('statevector_simulator')\n",
    "result = execute(qc,backend).result()\n",
    "counts = result.get_counts()\n",
    "plot_histogram(counts)"
   ]
  },
  {
   "cell_type": "markdown",
   "metadata": {},
   "source": [
    "### Bypassing the Normalization\n",
    "### Using theta to specify the quantum state vector"
   ]
  },
  {
   "cell_type": "code",
   "execution_count": null,
   "metadata": {},
   "outputs": [],
   "source": [
    "from math import pi, cos, sin\n",
    "from qiskit import QuantumCircuit, Aer, execute\n",
    "from qiskit.visualization import plot_histogram\n",
    "\n",
    "def get_state (theta):\n",
    "    \"\"\"returns a valid state vector\"\"\"\n",
    "    return [cos(theta/2), sin(theta/2)]\n",
    "\n",
    "# play with the values for theta to get a feeling\n",
    "theta = -pi/2 # affects the probabilities\n",
    "# 这个部分如果设置的夹角很小，比如除以5，那么一方（0）就会有更高更高的概率\n",
    "\n",
    "\n",
    "# create, initialize, and execute the quantum circuit\n",
    "qc = QuantumCircuit(1)\n",
    "qc.initialize(get_state(theta), 0)\n",
    "backend = Aer.get_backend('statevector_simulator')\n",
    "result = execute(qc,backend).result()\n",
    "counts = result.get_counts()\n",
    "\n",
    "# Show the histogram\n",
    "plot_histogram(counts)"
   ]
  },
  {
   "cell_type": "markdown",
   "metadata": {},
   "source": [
    "为什么角度会影响量子态的概率？\n",
    "简而言之，角度决定了量子态的叠加比例。\n",
    "\n",
    "想象一下，量子比特就像一个旋转的硬币。当硬币处于竖直状态时，我们说它处于“0”态；当硬币水平放置时，我们说它处于“1”态。但是，硬币也可以处于任意倾斜角度，这表示量子比特处于“0”态和“1”态的叠加态。\n",
    "\n",
    "角度代表什么？\n",
    "\n",
    "角度的大小决定了量子比特处于“0”态和“1”态的概率。\n",
    "角度越大，量子比特处于“1”态的概率越大；反之，角度越小，量子比特处于“0”态的概率越大。\n",
    "数学表示\n",
    "\n",
    "在代码中，cos(theta/2) 和 sin(theta/2) 分别代表量子比特处于“0”态和“1”态的概率幅。\n",
    "概率幅的平方就是概率。所以，测量到“0”态的概率是 cos^2(theta/2)，测量到“1”态的概率是 sin^2(theta/2)。\n",
    "为什么是 theta/2？\n",
    "\n",
    "这是量子力学中的一个约定，是为了保证概率的归一化。通过这种方式，无论 theta 取什么值，cos^2(theta/2) + sin^2(theta/2) 始终等于1，即测量到“0”态或“1”态的概率之和为1。"
   ]
  },
  {
   "cell_type": "markdown",
   "metadata": {},
   "source": [
    "### Circuit with measurement\n",
    "\n",
    "测量是量子计算中获取信息的唯一方法，但它会影响量子位的状态，改变电路的计算特性。因此，量子位的测量需要在适当的时机进行，一般是在电路执行完所有计算操作之后。\n"
   ]
  },
  {
   "cell_type": "code",
   "execution_count": null,
   "metadata": {},
   "outputs": [],
   "source": [
    "qc = QuantumCircuit(1)\n",
    "qc.initialize(initial_state, 0)\n",
    "\n",
    "# observe the qubit\n",
    "qc.measure_all()\n",
    "\n",
    "# Do the simulation, returning the result\n",
    "result = execute(qc,backend).result()\n",
    "counts = result.get_counts()\n",
    "plot_histogram(counts)\n",
    "\n",
    "# 会得到一个100%确定的结果"
   ]
  },
  {
   "cell_type": "markdown",
   "metadata": {},
   "source": [
    "### Parameterized Quantum Circuit\n",
    "\n",
    "参数化量子电路，二元分类器\n",
    "\n",
    "在经典的机器学习中，我们通过调整参数的数值（比如权重、偏置等）来训练模型。而在量子计算中，调节**量子门**的方式其实也是类似的，只不过在量子世界里我们调的是**量子门的角度或者旋转的方向**。这些量子门就像经典机器学习中的参数，只不过它们处理的是量子态，而不是普通的数据。\n",
    "\n",
    "**量子门的本质？**\n",
    "\n",
    "量子门是用来对量子比特（qubit）进行操作的工具，类似于经典机器学习中的激活函数或矩阵操作，它们负责改变输入状态，生成新的输出状态。\n",
    "\n",
    "不同于经典计算中的逻辑门（比如 AND、OR、NOT 等），量子门是 可逆 的，而且可以将量子比特从一个状态“旋转”到另一个状态。这种“旋转”是因为量子比特可以在 Bloch 球 上表示。简单来说，Bloch 球是一个用于表示量子比特状态的三维空间，量子比特的状态可以用一个向量表示，这个向量可以在球面上转动。\n",
    "\n",
    "**为什么是角度？**\n",
    "\n",
    "量子比特不仅仅处于经典的“0”或“1”的状态，它可以在两个状态之间的任何叠加态。通过量子门，我们可以让量子比特从一种状态“旋转”到另一种状态，这个旋转可以用一个角度来表示。\n",
    "\n",
    "所以当我们说“调节量子门的角度”时，实际上是说我们在量子比特状态空间中，调整这个向量在 Bloch 球上的旋转角度。这个角度调节就比如对x，y，z轴进行旋转。\n",
    "\n",
    "**量子门和经典模型参数的对比：**\n",
    "\n",
    "1. 经典参数 vs. 量子门的旋转角度：\n",
    "\n",
    "- 经典机器学习参数：比如权重 w 是一个数值，代表数据在某个方向上的影响力。\n",
    "- 量子门角度：旋转角度 θ 也是一个数值，但它代表的是量子比特在 Bloch 球上旋转的角度，决定量子比特的状态变化。\n",
    "\n",
    "2. 操作空间的差异：\n",
    "\n",
    "- 经典机器学习：参数 w 控制的是数据在一个固定维度上的变化，比如在二维平面上我们调整斜率。\n",
    "- 量子门：量子比特的状态在一个三维空间中变化（Bloch 球），量子门调整的角度实际上是在这个三维空间中“旋转”向量的位置。因此，调整的角度决定了量子比特的状态如何从 0 或 1，或者是它们的叠加态，转变为其他状态。\n",
    "\n",
    "3. 线性变化 vs. 旋转变化：\n",
    "\n",
    "- 经典神经网络：权重的调整会线性地影响模型输出的结果，比如让输出结果增加或减少。\n",
    "- 量子电路：角度的变化则会引起量子比特在空间中发生旋转，导致量子态发生*非线性变化*。这种变化的方式更像是绕着某个轴转动，而不是简单的加减操作。\n",
    "\n",
    "4. 训练方式的对比：\n",
    "\n",
    "- 经典机器学习：你可以直接计算损失函数（比如误差），然后通过反向传播算法（backpropagation）来计算参数的梯度，调整模型。\n",
    "- 量子机器学习：类似的，我们通过量子测量结果得到损失值，然后使用经典的优化算法（比如量子自然梯度下降）来调整量子门的角度。虽然是通过经典计算来优化，但调整的目标是这些量子门的旋转角度，而不是简单的数值加减。"
   ]
  },
  {
   "cell_type": "code",
   "execution_count": null,
   "metadata": {},
   "outputs": [],
   "source": [
    "from qiskit import execute, Aer, QuantumCircuit\n",
    "from math import sqrt\n",
    "from sklearn.metrics import recall_score, precision_score, confusion_matrix\n",
    "\n",
    "def pqc_classify(backend, passenger_state):\n",
    "    \"\"\"backend -- a qiskit backend to run the quantum circuit at\n",
    "    passenger_state -- a valid quantum state vector\"\"\"\n",
    "\n",
    "    # Create a quantum circuit with one qubit\n",
    "    qc = QuantumCircuit(1)\n",
    "\n",
    "    # Define state |Psi> and initialize the circuit\n",
    "    qc.initialize(passenger_state, 0)\n",
    "\n",
    "    # Measure the qubit\n",
    "    qc.measure_all()\n",
    "\n",
    "    # run the quantum circuit\n",
    "    result=execute(qc, backend).result()\n",
    "\n",
    "    # get the counts, these are either {'0': 1} or {'1': 1}\n",
    "    counts=result.get_counts(qc)\n",
    "\n",
    "    # get the bit 0 or 1\n",
    "    return int(list(map(lambda item: item[0], counts.items()))[0])"
   ]
  },
  {
   "cell_type": "code",
   "execution_count": null,
   "metadata": {},
   "outputs": [],
   "source": [
    "# Load the data\n",
    "import numpy as np\n",
    "\n",
    "with open('train.npy', 'rb') as f:\n",
    "    train_input = np.load(f)\n",
    "    train_labels = np.load(f)\n",
    "\n",
    "with open('test.npy', 'rb') as f:\n",
    "    test_input = np.load(f)\n",
    "    test_labels = np.load(f)"
   ]
  },
  {
   "cell_type": "markdown",
   "metadata": {},
   "source": [
    "### The scores of the random quantum classifier"
   ]
  },
  {
   "cell_type": "code",
   "execution_count": null,
   "metadata": {},
   "outputs": [],
   "source": [
    "# REDEFINE OR IMPORT THE FUNCTIONS OF CHAPTER 2\n",
    "def run(f_classify, x):\n",
    "    return list(map(f_classify, x))\n",
    "\n",
    "def specificity(matrix):\n",
    "    return matrix[0][0]/(matrix[0][0]+matrix[0][1]) if (matrix[0][0]+matrix[0][1] > 0) else 0\n",
    "\n",
    "def npv(matrix):\n",
    "    return matrix[0][0]/(matrix[0][0]+matrix[1][0]) if (matrix[0][0]+matrix[1][0] > 0) else 0\n",
    "\n",
    "def classifier_report(name, run, classify, input, labels):\n",
    "    cr_predictions = run(classify, input)\n",
    "    cr_cm = confusion_matrix(labels, cr_predictions)\n",
    "\n",
    "    cr_precision = precision_score(labels, cr_predictions)\n",
    "    cr_recall = recall_score(labels, cr_predictions)\n",
    "    cr_specificity = specificity(cr_cm)\n",
    "    cr_npv = npv(cr_cm)\n",
    "    cr_level = 0.25*(cr_precision + cr_recall + cr_specificity + cr_npv)\n",
    "\n",
    "    print('The precision score of the {} classifier is {:.2f}'\n",
    "        .format(name, cr_precision))\n",
    "    print('The recall score of the {} classifier is {:.2f}'\n",
    "        .format(name, cr_recall))\n",
    "    print('The specificity score of the {} classifier is {:.2f}'\n",
    "        .format(name, cr_specificity))\n",
    "    print('The npv score of the {} classifier is {:.2f}'\n",
    "        .format(name, cr_npv))\n",
    "    print('The information level is: {:.2f}'\n",
    "        .format(cr_level))\n",
    "#CAPTION A reusable function to unmask the hypocrite classifier\n",
    "\n",
    "# The scores of the random quantum classifier\n",
    "# Tell Qiskit how to simulate our circuit\n",
    "backend = Aer.get_backend('statevector_simulator')\n",
    "\n",
    "# Specify the quantum state that results in either 0 or 1\n",
    "initial_state = [1/sqrt(2), 1/sqrt(2)]\n",
    "\n",
    "classifier_report(\"Random PQC\",\n",
    "    run,\n",
    "    lambda passenger: pqc_classify(backend, initial_state),\n",
    "    train_input,\n",
    "    train_labels)"
   ]
  }
 ],
 "metadata": {
  "kernelspec": {
   "display_name": "base",
   "language": "python",
   "name": "python3"
  },
  "language_info": {
   "codemirror_mode": {
    "name": "ipython",
    "version": 3
   },
   "file_extension": ".py",
   "mimetype": "text/x-python",
   "name": "python",
   "nbconvert_exporter": "python",
   "pygments_lexer": "ipython3",
   "version": "3.11.8"
  }
 },
 "nbformat": 4,
 "nbformat_minor": 2
}
