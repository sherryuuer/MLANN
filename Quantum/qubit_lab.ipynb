{
 "cells": [
  {
   "cell_type": "markdown",
   "metadata": {},
   "source": [
    "### The first qubit"
   ]
  },
  {
   "cell_type": "code",
   "execution_count": null,
   "metadata": {},
   "outputs": [],
   "source": [
    "from qiskit import QuantumCircuit\n",
    "\n",
    "# Create a quantum circuit with one qubit\n",
    "qc = QuantumCircuit(1)\n",
    "\n",
    "# Define initial_state as |1>\n",
    "initial_state = [0,1]\n",
    "\n",
    "# Apply initialization operation to the qubit at position 0\n",
    "print(qc.initialize(initial_state, 0) )\n",
    "\n",
    "dontshow=True\n",
    "\n",
    "# <qiskit.circuit.instructionset.InstructionSet object at 0x7f59ea7f67c0>"
   ]
  },
  {
   "cell_type": "markdown",
   "metadata": {},
   "source": [
    "### Prepare the simulation backend"
   ]
  },
  {
   "cell_type": "code",
   "execution_count": null,
   "metadata": {},
   "outputs": [],
   "source": [
    "from qiskit import execute, Aer\n",
    "\n",
    "# Tell Qiskit how to simulate our circuit\n",
    "backend = Aer.get_backend('statevector_simulator')\n",
    "\n",
    "# Do the simulation, returning the result\n",
    "result = execute(qc,backend).result()"
   ]
  },
  {
   "cell_type": "markdown",
   "metadata": {},
   "source": [
    "### The measured qubit"
   ]
  },
  {
   "cell_type": "code",
   "execution_count": null,
   "metadata": {},
   "outputs": [],
   "source": [
    "from qiskit.visualization import plot_histogram\n",
    "import matplotlib.pyplot as plt\n",
    "\n",
    "# get the probability distribution\n",
    "counts = result.get_counts()\n",
    "\n",
    "# Show the histogram\n",
    "plot_histogram(counts)\n",
    "\n",
    "# 这是一个完全是1的概率分布"
   ]
  },
  {
   "cell_type": "markdown",
   "metadata": {},
   "source": [
    "### First attempt to superpose two states"
   ]
  },
  {
   "cell_type": "code",
   "execution_count": null,
   "metadata": {},
   "outputs": [],
   "source": [
    "# Define state |psi>\n",
    "initial_state = [1, 1]\n",
    "\n",
    "# Redefine the quantum circuit\n",
    "qc = QuantumCircuit(1)\n",
    "\n",
    "# Initialise the 0th qubit in the state `initial_state`\n",
    "qc.initialize(initial_state, 0)\n",
    "\n",
    "# execute the qc\n",
    "results = execute(qc,backend).result().get_counts()\n",
    "\n",
    "# plot the results\n",
    "plot_histogram(results)\n",
    "# CAPTION First attempt to superpose two states\n",
    "\n",
    "# QiskitError: 'Sum of amplitudes-squared does not equal one.'\n",
    "# 这种操作会导致失败：这是因为可能性的振幅（Amplitudes）是有一个范围的，你不能超出范围因此，下面的步骤是正规化的"
   ]
  },
  {
   "cell_type": "markdown",
   "metadata": {},
   "source": [
    "### Weighted initial state"
   ]
  },
  {
   "cell_type": "code",
   "execution_count": null,
   "metadata": {},
   "outputs": [],
   "source": [
    "from math import sqrt\n",
    "\n",
    "# Define state |psi>\n",
    "initial_state = [1/sqrt(2), 1/sqrt(2)]\n",
    "\n",
    "# Redefine the quantum circuit\n",
    "qc = QuantumCircuit(1)\n",
    "\n",
    "# Initialise the 0th qubit in the state `initial_state`\n",
    "qc.initialize(initial_state, 0)\n",
    "\n",
    "# execute the qc\n",
    "results = execute(qc,backend).result().get_counts()\n",
    "\n",
    "# plot the results\n",
    "plot_histogram(results)"
   ]
  },
  {
   "cell_type": "markdown",
   "metadata": {},
   "source": [
    "### The qubit with a probability of 0.25 to result in 0\n",
    "\n",
    "因为总体的概率分布，是1，这里初始化中，可以认为的随机给每个结果，加上一个权重"
   ]
  },
  {
   "cell_type": "code",
   "execution_count": null,
   "metadata": {},
   "outputs": [],
   "source": [
    "from qiskit import QuantumCircuit, execute, Aer\n",
    "from qiskit.visualization import plot_histogram\n",
    "from math import sqrt\n",
    "\n",
    "qc = QuantumCircuit(1)\n",
    "initial_state = [1/2, sqrt(3)/2] # Here, we insert the state\n",
    "qc.initialize(initial_state, 0)\n",
    "backend = Aer.get_backend('statevector_simulator')\n",
    "result = execute(qc,backend).result()\n",
    "counts = result.get_counts()\n",
    "plot_histogram(counts)"
   ]
  },
  {
   "cell_type": "markdown",
   "metadata": {},
   "source": [
    "### Bypassing the Normalization\n",
    "### Using theta to specify the quantum state vector"
   ]
  },
  {
   "cell_type": "code",
   "execution_count": null,
   "metadata": {},
   "outputs": [],
   "source": [
    "from math import pi, cos, sin\n",
    "from qiskit import QuantumCircuit, Aer, execute\n",
    "from qiskit.visualization import plot_histogram\n",
    "\n",
    "def get_state (theta):\n",
    "    \"\"\"returns a valid state vector\"\"\"\n",
    "    return [cos(theta/2), sin(theta/2)]\n",
    "\n",
    "# play with the values for theta to get a feeling\n",
    "theta = -pi/2 # affects the probabilities\n",
    "# 这个部分如果设置的夹角很小，比如除以5，那么一方（0）就会有更高更高的概率\n",
    "\n",
    "\n",
    "# create, initialize, and execute the quantum circuit\n",
    "qc = QuantumCircuit(1)\n",
    "qc.initialize(get_state(theta), 0)\n",
    "backend = Aer.get_backend('statevector_simulator')\n",
    "result = execute(qc,backend).result()\n",
    "counts = result.get_counts()\n",
    "\n",
    "# Show the histogram\n",
    "plot_histogram(counts)"
   ]
  },
  {
   "cell_type": "markdown",
   "metadata": {},
   "source": [
    "为什么角度会影响量子态的概率？\n",
    "简而言之，角度决定了量子态的叠加比例。\n",
    "\n",
    "想象一下，量子比特就像一个旋转的硬币。当硬币处于竖直状态时，我们说它处于“0”态；当硬币水平放置时，我们说它处于“1”态。但是，硬币也可以处于任意倾斜角度，这表示量子比特处于“0”态和“1”态的叠加态。\n",
    "\n",
    "角度代表什么？\n",
    "\n",
    "角度的大小决定了量子比特处于“0”态和“1”态的概率。\n",
    "角度越大，量子比特处于“1”态的概率越大；反之，角度越小，量子比特处于“0”态的概率越大。\n",
    "数学表示\n",
    "\n",
    "在代码中，cos(theta/2) 和 sin(theta/2) 分别代表量子比特处于“0”态和“1”态的概率幅。\n",
    "概率幅的平方就是概率。所以，测量到“0”态的概率是 cos^2(theta/2)，测量到“1”态的概率是 sin^2(theta/2)。\n",
    "为什么是 theta/2？\n",
    "\n",
    "这是量子力学中的一个约定，是为了保证概率的归一化。通过这种方式，无论 theta 取什么值，cos^2(theta/2) + sin^2(theta/2) 始终等于1，即测量到“0”态或“1”态的概率之和为1。"
   ]
  }
 ],
 "metadata": {
  "kernelspec": {
   "display_name": "base",
   "language": "python",
   "name": "python3"
  },
  "language_info": {
   "codemirror_mode": {
    "name": "ipython",
    "version": 3
   },
   "file_extension": ".py",
   "mimetype": "text/x-python",
   "name": "python",
   "nbconvert_exporter": "python",
   "pygments_lexer": "ipython3",
   "version": "3.11.8"
  }
 },
 "nbformat": 4,
 "nbformat_minor": 2
}
