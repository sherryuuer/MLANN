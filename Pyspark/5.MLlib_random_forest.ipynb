{
 "cells": [
  {
   "cell_type": "markdown",
   "id": "31bc4f69-ac68-497d-866c-48e8473ffd95",
   "metadata": {},
   "source": [
    "# ランダムフォレストによる分類予測\n",
    "- bank-fullのy列（定期預金を申し込んだか否か）について分類予測する\n",
    "- 特徴量は簡単のため、数値の列と文字列の\"default\"列のみ使用する\n",
    "- パイプラインは使わないでやってみる"
   ]
  },
  {
   "cell_type": "code",
   "execution_count": 16,
   "id": "2db71dc3-5d9f-4ddf-953a-cd9a2c8e027e",
   "metadata": {},
   "outputs": [],
   "source": [
    "import pandas as pd\n",
    "import numpy as np"
   ]
  },
  {
   "cell_type": "code",
   "execution_count": 17,
   "id": "52e017b0-adce-4004-a486-508a468e101d",
   "metadata": {},
   "outputs": [],
   "source": [
    "from pyspark.sql import SparkSession\n",
    "spark = SparkSession.builder.master(\"local\").appName(\"random_forest\").getOrCreate()"
   ]
  },
  {
   "cell_type": "code",
   "execution_count": 18,
   "id": "adff2afe-f04e-40d0-b308-7f34c11f08e2",
   "metadata": {},
   "outputs": [
    {
     "name": "stdout",
     "output_type": "stream",
     "text": [
      "+---+------------+--------+---------+-------+-------+-------+----+-------+---+-----+--------+--------+-----+--------+--------+---+\n",
      "|age|         job| marital|education|default|balance|housing|loan|contact|day|month|duration|campaign|pdays|previous|poutcome|  y|\n",
      "+---+------------+--------+---------+-------+-------+-------+----+-------+---+-----+--------+--------+-----+--------+--------+---+\n",
      "| 58|  management| married| tertiary|     no|   2143|    yes|  no|unknown|  5|  may|     261|       1|   -1|       0| unknown| no|\n",
      "| 44|  technician|  single|secondary|     no|     29|    yes|  no|unknown|  5|  may|     151|       1|   -1|       0| unknown| no|\n",
      "| 33|entrepreneur| married|secondary|     no|      2|    yes| yes|unknown|  5|  may|      76|       1|   -1|       0| unknown| no|\n",
      "| 47| blue-collar| married|  unknown|     no|   1506|    yes|  no|unknown|  5|  may|      92|       1|   -1|       0| unknown| no|\n",
      "| 33|     unknown|  single|  unknown|     no|      1|     no|  no|unknown|  5|  may|     198|       1|   -1|       0| unknown| no|\n",
      "| 35|  management| married| tertiary|     no|    231|    yes|  no|unknown|  5|  may|     139|       1|   -1|       0| unknown| no|\n",
      "| 28|  management|  single| tertiary|     no|    447|    yes| yes|unknown|  5|  may|     217|       1|   -1|       0| unknown| no|\n",
      "| 42|entrepreneur|divorced| tertiary|    yes|      2|    yes|  no|unknown|  5|  may|     380|       1|   -1|       0| unknown| no|\n",
      "| 58|     retired| married|  primary|     no|    121|    yes|  no|unknown|  5|  may|      50|       1|   -1|       0| unknown| no|\n",
      "| 43|  technician|  single|secondary|     no|    593|    yes|  no|unknown|  5|  may|      55|       1|   -1|       0| unknown| no|\n",
      "| 41|      admin.|divorced|secondary|     no|    270|    yes|  no|unknown|  5|  may|     222|       1|   -1|       0| unknown| no|\n",
      "| 29|      admin.|  single|secondary|     no|    390|    yes|  no|unknown|  5|  may|     137|       1|   -1|       0| unknown| no|\n",
      "| 53|  technician| married|secondary|     no|      6|    yes|  no|unknown|  5|  may|     517|       1|   -1|       0| unknown| no|\n",
      "| 58|  technician| married|  unknown|     no|     71|    yes|  no|unknown|  5|  may|      71|       1|   -1|       0| unknown| no|\n",
      "| 57|    services| married|secondary|     no|    162|    yes|  no|unknown|  5|  may|     174|       1|   -1|       0| unknown| no|\n",
      "| 51|     retired| married|  primary|     no|    229|    yes|  no|unknown|  5|  may|     353|       1|   -1|       0| unknown| no|\n",
      "| 45|      admin.|  single|  unknown|     no|     13|    yes|  no|unknown|  5|  may|      98|       1|   -1|       0| unknown| no|\n",
      "| 57| blue-collar| married|  primary|     no|     52|    yes|  no|unknown|  5|  may|      38|       1|   -1|       0| unknown| no|\n",
      "| 60|     retired| married|  primary|     no|     60|    yes|  no|unknown|  5|  may|     219|       1|   -1|       0| unknown| no|\n",
      "| 33|    services| married|secondary|     no|      0|    yes|  no|unknown|  5|  may|      54|       1|   -1|       0| unknown| no|\n",
      "+---+------------+--------+---------+-------+-------+-------+----+-------+---+-----+--------+--------+-----+--------+--------+---+\n",
      "only showing top 20 rows\n",
      "\n"
     ]
    }
   ],
   "source": [
    "filename = \"./data/bank/bank-full.csv\"\n",
    "data = spark.read.csv(filename, header=True, inferSchema=True, sep=\";\")\n",
    "data.show()"
   ]
  },
  {
   "cell_type": "code",
   "execution_count": 19,
   "id": "554a53ab-3a05-409f-8d20-512b6c0c3622",
   "metadata": {},
   "outputs": [],
   "source": [
    "# string -> index\n",
    "from pyspark.ml.feature import StringIndexer\n",
    "default_index = StringIndexer(inputCol=\"default\", outputCol=\"default_index\")\n",
    "data1 = default_index.fit(data).transform(data)"
   ]
  },
  {
   "cell_type": "code",
   "execution_count": 20,
   "id": "80b5d0ed-cf74-41bb-905a-e9c9a74921b2",
   "metadata": {},
   "outputs": [
    {
     "name": "stdout",
     "output_type": "stream",
     "text": [
      "+---+------------+--------+---------+-------+-------+-------+----+-------+---+-----+--------+--------+-----+--------+--------+---+-------------+\n",
      "|age|         job| marital|education|default|balance|housing|loan|contact|day|month|duration|campaign|pdays|previous|poutcome|  y|default_index|\n",
      "+---+------------+--------+---------+-------+-------+-------+----+-------+---+-----+--------+--------+-----+--------+--------+---+-------------+\n",
      "| 58|  management| married| tertiary|     no|   2143|    yes|  no|unknown|  5|  may|     261|       1|   -1|       0| unknown| no|          0.0|\n",
      "| 44|  technician|  single|secondary|     no|     29|    yes|  no|unknown|  5|  may|     151|       1|   -1|       0| unknown| no|          0.0|\n",
      "| 33|entrepreneur| married|secondary|     no|      2|    yes| yes|unknown|  5|  may|      76|       1|   -1|       0| unknown| no|          0.0|\n",
      "| 47| blue-collar| married|  unknown|     no|   1506|    yes|  no|unknown|  5|  may|      92|       1|   -1|       0| unknown| no|          0.0|\n",
      "| 33|     unknown|  single|  unknown|     no|      1|     no|  no|unknown|  5|  may|     198|       1|   -1|       0| unknown| no|          0.0|\n",
      "| 35|  management| married| tertiary|     no|    231|    yes|  no|unknown|  5|  may|     139|       1|   -1|       0| unknown| no|          0.0|\n",
      "| 28|  management|  single| tertiary|     no|    447|    yes| yes|unknown|  5|  may|     217|       1|   -1|       0| unknown| no|          0.0|\n",
      "| 42|entrepreneur|divorced| tertiary|    yes|      2|    yes|  no|unknown|  5|  may|     380|       1|   -1|       0| unknown| no|          1.0|\n",
      "| 58|     retired| married|  primary|     no|    121|    yes|  no|unknown|  5|  may|      50|       1|   -1|       0| unknown| no|          0.0|\n",
      "| 43|  technician|  single|secondary|     no|    593|    yes|  no|unknown|  5|  may|      55|       1|   -1|       0| unknown| no|          0.0|\n",
      "| 41|      admin.|divorced|secondary|     no|    270|    yes|  no|unknown|  5|  may|     222|       1|   -1|       0| unknown| no|          0.0|\n",
      "| 29|      admin.|  single|secondary|     no|    390|    yes|  no|unknown|  5|  may|     137|       1|   -1|       0| unknown| no|          0.0|\n",
      "| 53|  technician| married|secondary|     no|      6|    yes|  no|unknown|  5|  may|     517|       1|   -1|       0| unknown| no|          0.0|\n",
      "| 58|  technician| married|  unknown|     no|     71|    yes|  no|unknown|  5|  may|      71|       1|   -1|       0| unknown| no|          0.0|\n",
      "| 57|    services| married|secondary|     no|    162|    yes|  no|unknown|  5|  may|     174|       1|   -1|       0| unknown| no|          0.0|\n",
      "| 51|     retired| married|  primary|     no|    229|    yes|  no|unknown|  5|  may|     353|       1|   -1|       0| unknown| no|          0.0|\n",
      "| 45|      admin.|  single|  unknown|     no|     13|    yes|  no|unknown|  5|  may|      98|       1|   -1|       0| unknown| no|          0.0|\n",
      "| 57| blue-collar| married|  primary|     no|     52|    yes|  no|unknown|  5|  may|      38|       1|   -1|       0| unknown| no|          0.0|\n",
      "| 60|     retired| married|  primary|     no|     60|    yes|  no|unknown|  5|  may|     219|       1|   -1|       0| unknown| no|          0.0|\n",
      "| 33|    services| married|secondary|     no|      0|    yes|  no|unknown|  5|  may|      54|       1|   -1|       0| unknown| no|          0.0|\n",
      "+---+------------+--------+---------+-------+-------+-------+----+-------+---+-----+--------+--------+-----+--------+--------+---+-------------+\n",
      "only showing top 20 rows\n",
      "\n"
     ]
    }
   ],
   "source": [
    "data1.show()"
   ]
  },
  {
   "cell_type": "code",
   "execution_count": 21,
   "id": "131d673e-6e68-4fe1-8fdb-f22581056970",
   "metadata": {},
   "outputs": [
    {
     "name": "stdout",
     "output_type": "stream",
     "text": [
      "+---+------------+--------+---------+-------+-------+-------+----+-------+---+-----+--------+--------+-----+--------+--------+---+-------------+---+\n",
      "|age|         job| marital|education|default|balance|housing|loan|contact|day|month|duration|campaign|pdays|previous|poutcome|  y|default_index| y1|\n",
      "+---+------------+--------+---------+-------+-------+-------+----+-------+---+-----+--------+--------+-----+--------+--------+---+-------------+---+\n",
      "| 58|  management| married| tertiary|     no|   2143|    yes|  no|unknown|  5|  may|     261|       1|   -1|       0| unknown| no|          0.0|0.0|\n",
      "| 44|  technician|  single|secondary|     no|     29|    yes|  no|unknown|  5|  may|     151|       1|   -1|       0| unknown| no|          0.0|0.0|\n",
      "| 33|entrepreneur| married|secondary|     no|      2|    yes| yes|unknown|  5|  may|      76|       1|   -1|       0| unknown| no|          0.0|0.0|\n",
      "| 47| blue-collar| married|  unknown|     no|   1506|    yes|  no|unknown|  5|  may|      92|       1|   -1|       0| unknown| no|          0.0|0.0|\n",
      "| 33|     unknown|  single|  unknown|     no|      1|     no|  no|unknown|  5|  may|     198|       1|   -1|       0| unknown| no|          0.0|0.0|\n",
      "| 35|  management| married| tertiary|     no|    231|    yes|  no|unknown|  5|  may|     139|       1|   -1|       0| unknown| no|          0.0|0.0|\n",
      "| 28|  management|  single| tertiary|     no|    447|    yes| yes|unknown|  5|  may|     217|       1|   -1|       0| unknown| no|          0.0|0.0|\n",
      "| 42|entrepreneur|divorced| tertiary|    yes|      2|    yes|  no|unknown|  5|  may|     380|       1|   -1|       0| unknown| no|          1.0|0.0|\n",
      "| 58|     retired| married|  primary|     no|    121|    yes|  no|unknown|  5|  may|      50|       1|   -1|       0| unknown| no|          0.0|0.0|\n",
      "| 43|  technician|  single|secondary|     no|    593|    yes|  no|unknown|  5|  may|      55|       1|   -1|       0| unknown| no|          0.0|0.0|\n",
      "| 41|      admin.|divorced|secondary|     no|    270|    yes|  no|unknown|  5|  may|     222|       1|   -1|       0| unknown| no|          0.0|0.0|\n",
      "| 29|      admin.|  single|secondary|     no|    390|    yes|  no|unknown|  5|  may|     137|       1|   -1|       0| unknown| no|          0.0|0.0|\n",
      "| 53|  technician| married|secondary|     no|      6|    yes|  no|unknown|  5|  may|     517|       1|   -1|       0| unknown| no|          0.0|0.0|\n",
      "| 58|  technician| married|  unknown|     no|     71|    yes|  no|unknown|  5|  may|      71|       1|   -1|       0| unknown| no|          0.0|0.0|\n",
      "| 57|    services| married|secondary|     no|    162|    yes|  no|unknown|  5|  may|     174|       1|   -1|       0| unknown| no|          0.0|0.0|\n",
      "| 51|     retired| married|  primary|     no|    229|    yes|  no|unknown|  5|  may|     353|       1|   -1|       0| unknown| no|          0.0|0.0|\n",
      "| 45|      admin.|  single|  unknown|     no|     13|    yes|  no|unknown|  5|  may|      98|       1|   -1|       0| unknown| no|          0.0|0.0|\n",
      "| 57| blue-collar| married|  primary|     no|     52|    yes|  no|unknown|  5|  may|      38|       1|   -1|       0| unknown| no|          0.0|0.0|\n",
      "| 60|     retired| married|  primary|     no|     60|    yes|  no|unknown|  5|  may|     219|       1|   -1|       0| unknown| no|          0.0|0.0|\n",
      "| 33|    services| married|secondary|     no|      0|    yes|  no|unknown|  5|  may|      54|       1|   -1|       0| unknown| no|          0.0|0.0|\n",
      "+---+------------+--------+---------+-------+-------+-------+----+-------+---+-----+--------+--------+-----+--------+--------+---+-------------+---+\n",
      "only showing top 20 rows\n",
      "\n"
     ]
    }
   ],
   "source": [
    "#目的変数\n",
    "from pyspark.sql.functions import lit, when, col\n",
    "data2 = data1.withColumn(\"y1\", when(col(\"y\")==\"yes\", lit(1.0)).otherwise(lit(0.0)))\n",
    "data2.show()"
   ]
  },
  {
   "cell_type": "code",
   "execution_count": 22,
   "id": "25b4cb9f-5a75-4770-b1f7-6d5ad0bc1100",
   "metadata": {},
   "outputs": [],
   "source": [
    "use_df = data2.select([\"age\",\"balance\",\"day\",\"duration\",\"campaign\",\"pdays\",\"previous\",\"default_index\", \"y1\"])"
   ]
  },
  {
   "cell_type": "code",
   "execution_count": 23,
   "id": "531900e3-2f93-4447-88c7-dc349cb6bd68",
   "metadata": {},
   "outputs": [],
   "source": [
    "target = \"y1\"\n",
    "features = use_df.columns"
   ]
  },
  {
   "cell_type": "code",
   "execution_count": 24,
   "id": "210b79d9-7476-42a8-9d73-a1885cba6454",
   "metadata": {},
   "outputs": [],
   "source": [
    "features.remove(target)"
   ]
  },
  {
   "cell_type": "code",
   "execution_count": 25,
   "id": "5e99f503-b09a-43d4-8ad9-280da9b48b12",
   "metadata": {},
   "outputs": [],
   "source": [
    "#データ作成（assembler）\n",
    "from pyspark.ml.feature import VectorAssembler\n",
    "assemble = VectorAssembler(inputCols=features, outputCol=\"features\")\n",
    "df = assemble.transform(use_df)"
   ]
  },
  {
   "cell_type": "code",
   "execution_count": 26,
   "id": "2c3cd257-a0b0-440e-b02d-5a6639b58207",
   "metadata": {},
   "outputs": [
    {
     "name": "stdout",
     "output_type": "stream",
     "text": [
      "+---+-------+---+--------+--------+-----+--------+-------------+---+--------------------+\n",
      "|age|balance|day|duration|campaign|pdays|previous|default_index| y1|            features|\n",
      "+---+-------+---+--------+--------+-----+--------+-------------+---+--------------------+\n",
      "| 58|   2143|  5|     261|       1|   -1|       0|          0.0|0.0|[58.0,2143.0,5.0,...|\n",
      "| 44|     29|  5|     151|       1|   -1|       0|          0.0|0.0|[44.0,29.0,5.0,15...|\n",
      "| 33|      2|  5|      76|       1|   -1|       0|          0.0|0.0|[33.0,2.0,5.0,76....|\n",
      "| 47|   1506|  5|      92|       1|   -1|       0|          0.0|0.0|[47.0,1506.0,5.0,...|\n",
      "| 33|      1|  5|     198|       1|   -1|       0|          0.0|0.0|[33.0,1.0,5.0,198...|\n",
      "| 35|    231|  5|     139|       1|   -1|       0|          0.0|0.0|[35.0,231.0,5.0,1...|\n",
      "| 28|    447|  5|     217|       1|   -1|       0|          0.0|0.0|[28.0,447.0,5.0,2...|\n",
      "| 42|      2|  5|     380|       1|   -1|       0|          1.0|0.0|[42.0,2.0,5.0,380...|\n",
      "| 58|    121|  5|      50|       1|   -1|       0|          0.0|0.0|[58.0,121.0,5.0,5...|\n",
      "| 43|    593|  5|      55|       1|   -1|       0|          0.0|0.0|[43.0,593.0,5.0,5...|\n",
      "| 41|    270|  5|     222|       1|   -1|       0|          0.0|0.0|[41.0,270.0,5.0,2...|\n",
      "| 29|    390|  5|     137|       1|   -1|       0|          0.0|0.0|[29.0,390.0,5.0,1...|\n",
      "| 53|      6|  5|     517|       1|   -1|       0|          0.0|0.0|[53.0,6.0,5.0,517...|\n",
      "| 58|     71|  5|      71|       1|   -1|       0|          0.0|0.0|[58.0,71.0,5.0,71...|\n",
      "| 57|    162|  5|     174|       1|   -1|       0|          0.0|0.0|[57.0,162.0,5.0,1...|\n",
      "| 51|    229|  5|     353|       1|   -1|       0|          0.0|0.0|[51.0,229.0,5.0,3...|\n",
      "| 45|     13|  5|      98|       1|   -1|       0|          0.0|0.0|[45.0,13.0,5.0,98...|\n",
      "| 57|     52|  5|      38|       1|   -1|       0|          0.0|0.0|[57.0,52.0,5.0,38...|\n",
      "| 60|     60|  5|     219|       1|   -1|       0|          0.0|0.0|[60.0,60.0,5.0,21...|\n",
      "| 33|      0|  5|      54|       1|   -1|       0|          0.0|0.0|[33.0,0.0,5.0,54....|\n",
      "+---+-------+---+--------+--------+-----+--------+-------------+---+--------------------+\n",
      "only showing top 20 rows\n",
      "\n"
     ]
    }
   ],
   "source": [
    "df.show()"
   ]
  },
  {
   "cell_type": "code",
   "execution_count": 27,
   "id": "eda3fdda-ebf9-4315-9925-09adb13a652e",
   "metadata": {},
   "outputs": [],
   "source": [
    "train_df, test_df = df.randomSplit([0.7, 0.3], seed=123)"
   ]
  },
  {
   "cell_type": "code",
   "execution_count": 28,
   "id": "ff0dcd98-7173-40d9-b406-0f2417b15f9f",
   "metadata": {},
   "outputs": [],
   "source": [
    "from pyspark.ml.classification import RandomForestClassifier\n",
    "clf = RandomForestClassifier(featuresCol=\"features\", labelCol=\"y1\", impurity=\"gini\")"
   ]
  },
  {
   "cell_type": "code",
   "execution_count": 29,
   "id": "3dd4b61f-2c51-4d98-99cd-7d678f80f11e",
   "metadata": {},
   "outputs": [],
   "source": [
    "clf_model = clf.fit(train_df)"
   ]
  },
  {
   "cell_type": "code",
   "execution_count": 35,
   "id": "243d364a-e7e1-45cb-b869-7dadb774d81d",
   "metadata": {},
   "outputs": [
    {
     "data": {
      "text/plain": [
       "[('age', 0.06962682586399632),\n",
       " ('balance', 0.011939607313434016),\n",
       " ('day', 0.026348412955006107),\n",
       " ('duration', 0.7481027752368549),\n",
       " ('campaign', 0.006599319634942584),\n",
       " ('pdays', 0.07542313839299836),\n",
       " ('previous', 0.061596603227567034),\n",
       " ('default_index', 0.0003633173752006348)]"
      ]
     },
     "execution_count": 35,
     "metadata": {},
     "output_type": "execute_result"
    }
   ],
   "source": [
    "list(zip(features, clf_model.featureImportances))"
   ]
  },
  {
   "cell_type": "code",
   "execution_count": 36,
   "id": "ca4b92cc-9168-475a-ae49-826f987b76d5",
   "metadata": {},
   "outputs": [
    {
     "data": {
      "text/plain": [
       "DataFrame[age: int, balance: int, day: int, duration: int, campaign: int, pdays: int, previous: int, default_index: double, y1: double, features: vector, rawPrediction: vector, probability: vector, prediction: double]"
      ]
     },
     "execution_count": 36,
     "metadata": {},
     "output_type": "execute_result"
    }
   ],
   "source": [
    "pred_train = clf_model.transform(train_df)"
   ]
  },
  {
   "cell_type": "code",
   "execution_count": 37,
   "id": "62af5e0b-7a15-4f83-a42a-c5bf0575f335",
   "metadata": {},
   "outputs": [
    {
     "name": "stdout",
     "output_type": "stream",
     "text": [
      "+---+-------+---+--------+--------+-----+--------+-------------+---+--------------------+--------------------+--------------------+----------+\n",
      "|age|balance|day|duration|campaign|pdays|previous|default_index| y1|            features|       rawPrediction|         probability|prediction|\n",
      "+---+-------+---+--------+--------+-----+--------+-------------+---+--------------------+--------------------+--------------------+----------+\n",
      "| 18|      3| 25|     130|       2|   -1|       0|          0.0|1.0|[18.0,3.0,25.0,13...|[18.9762000701442...|[0.94881000350721...|       0.0|\n",
      "| 18|      5| 24|     143|       2|   -1|       0|          0.0|0.0|[18.0,5.0,24.0,14...|[18.9762000701442...|[0.94881000350721...|       0.0|\n",
      "| 18|    108|  8|     169|       1|   -1|       0|          0.0|1.0|[18.0,108.0,8.0,1...|[18.8479630419347...|[0.94239815209673...|       0.0|\n",
      "| 18|    108|  9|      92|       1|  183|       1|          0.0|1.0|[18.0,108.0,9.0,9...|[17.9775575061588...|[0.89887787530794...|       0.0|\n",
      "| 18|    108| 10|     167|       1|   -1|       0|          0.0|1.0|[18.0,108.0,10.0,...|[18.8479630419347...|[0.94239815209673...|       0.0|\n",
      "| 18|    348|  5|     443|       4|   -1|       0|          0.0|1.0|[18.0,348.0,5.0,4...|[18.0481230992479...|[0.90240615496239...|       0.0|\n",
      "| 18|    438|  1|     425|       1|   -1|       0|          0.0|0.0|[18.0,438.0,1.0,4...|[17.9381611404799...|[0.89690805702399...|       0.0|\n",
      "| 18|    608| 13|     210|       1|   93|       1|          0.0|1.0|[18.0,608.0,13.0,...|[14.6104771077149...|[0.73052385538574...|       0.0|\n",
      "| 18|   1944| 10|     122|       3|   -1|       0|          0.0|0.0|[18.0,1944.0,10.0...|[18.9582605548540...|[0.94791302774270...|       0.0|\n",
      "| 19|      4|  3|     114|       1|   -1|       0|          0.0|0.0|[19.0,4.0,3.0,114...|[18.9043948763198...|[0.94521974381599...|       0.0|\n",
      "| 19|     27|  5|      86|      12|   -1|       0|          0.0|0.0|[19.0,27.0,5.0,86...|[19.1272759522859...|[0.95636379761429...|       0.0|\n",
      "| 19|     55|  6|      89|       2|  193|       1|          0.0|0.0|[19.0,55.0,6.0,89...|[18.2649421523132...|[0.91324710761566...|       0.0|\n",
      "| 19|     56| 12|     246|       1|   -1|       0|          0.0|0.0|[19.0,56.0,12.0,2...|[18.5789448283267...|[0.92894724141633...|       0.0|\n",
      "| 19|     88|  8|     191|       1|   -1|       0|          0.0|0.0|[19.0,88.0,8.0,19...|[18.8479630419347...|[0.94239815209673...|       0.0|\n",
      "| 19|     96| 23|     106|       3|   -1|       0|          0.0|0.0|[19.0,96.0,23.0,1...|[18.9762000701442...|[0.94881000350721...|       0.0|\n",
      "| 19|    103| 10|     104|       2|   -1|       0|          0.0|1.0|[19.0,103.0,10.0,...|[18.9762000701442...|[0.94881000350721...|       0.0|\n",
      "| 19|    103| 15|      96|       2|   97|       2|          0.0|0.0|[19.0,103.0,15.0,...|[17.9775575061588...|[0.89887787530794...|       0.0|\n",
      "| 19|    108|  9|     273|       2|  182|       1|          0.0|1.0|[19.0,108.0,9.0,2...|[15.1424258317669...|[0.75712129158834...|       0.0|\n",
      "| 19|    108| 10|     168|       1|  182|       2|          0.0|1.0|[19.0,108.0,10.0,...|[17.1735872805699...|[0.85867936402850...|       0.0|\n",
      "| 19|    134| 27|     271|       2|   -1|       0|          0.0|1.0|[19.0,134.0,27.0,...|[18.6507500221510...|[0.93253750110755...|       0.0|\n",
      "+---+-------+---+--------+--------+-----+--------+-------------+---+--------------------+--------------------+--------------------+----------+\n",
      "only showing top 20 rows\n",
      "\n"
     ]
    }
   ],
   "source": [
    "pred_train.show()"
   ]
  },
  {
   "cell_type": "code",
   "execution_count": 38,
   "id": "9509c57c-6d1c-4487-ab0a-97c009821465",
   "metadata": {},
   "outputs": [
    {
     "data": {
      "text/plain": [
       "0.8512642771091619"
      ]
     },
     "execution_count": 38,
     "metadata": {},
     "output_type": "execute_result"
    }
   ],
   "source": [
    "from pyspark.ml.evaluation import BinaryClassificationEvaluator\n",
    "evaluator = BinaryClassificationEvaluator(labelCol=\"y1\")\n",
    "AUC = evaluator.evaluate(pred_train)\n",
    "AUC"
   ]
  },
  {
   "cell_type": "code",
   "execution_count": 39,
   "id": "bc7f73fe-14ee-415d-bc33-b7dcf0e4cb2a",
   "metadata": {},
   "outputs": [
    {
     "name": "stdout",
     "output_type": "stream",
     "text": [
      "+---+-------+---+--------+--------+-----+--------+-------------+---+--------------------+--------------------+--------------------+----------+\n",
      "|age|balance|day|duration|campaign|pdays|previous|default_index| y1|            features|       rawPrediction|         probability|prediction|\n",
      "+---+-------+---+--------+--------+-----+--------+-------------+---+--------------------+--------------------+--------------------+----------+\n",
      "| 18|     35| 21|     104|       2|   -1|       0|          0.0|0.0|[18.0,35.0,21.0,1...|[18.9762000701442...|[0.94881000350721...|       0.0|\n",
      "| 18|    156|  4|     298|       2|   82|       4|          0.0|0.0|[18.0,156.0,4.0,2...|[14.7161035947629...|[0.73580517973814...|       0.0|\n",
      "| 18|    608| 12|     267|       1|   -1|       0|          0.0|1.0|[18.0,608.0,12.0,...|[18.5152297653201...|[0.92576148826600...|       0.0|\n",
      "| 19|      0|  4|      72|       4|   -1|       0|          0.0|0.0|[19.0,0.0,4.0,72....|[19.1177254581166...|[0.95588627290583...|       0.0|\n",
      "| 19|      0| 11|     123|       3|   -1|       0|          0.0|0.0|[19.0,0.0,11.0,12...|[18.9762000701442...|[0.94881000350721...|       0.0|\n",
      "| 19|     60| 14|     253|       1|   -1|       0|          0.0|0.0|[19.0,60.0,14.0,2...|[18.5789448283267...|[0.92894724141633...|       0.0|\n",
      "| 19|    103| 18|     177|       2|   95|       4|          0.0|0.0|[19.0,103.0,18.0,...|[17.4373172881622...|[0.87186586440811...|       0.0|\n",
      "| 19|    291|  5|     291|       5|   -1|       0|          0.0|0.0|[19.0,291.0,5.0,2...|[18.8018259042927...|[0.94009129521463...|       0.0|\n",
      "| 19|    302| 16|     205|       1|   -1|       0|          0.0|1.0|[19.0,302.0,16.0,...|[18.8021922991004...|[0.94010961495502...|       0.0|\n",
      "| 19|    372|  8|     444|       3|   -1|       0|          0.0|1.0|[19.0,372.0,8.0,4...|[18.5116220294968...|[0.92558110147484...|       0.0|\n",
      "| 19|    394|  5|     327|       3|   -1|       0|          0.0|1.0|[19.0,394.0,5.0,3...|[18.6507500221510...|[0.93253750110755...|       0.0|\n",
      "| 19|    424| 30|     121|       3|  195|       2|          0.0|0.0|[19.0,424.0,30.0,...|[18.3388119084232...|[0.91694059542116...|       0.0|\n",
      "| 19|    527|  4|     154|       3|   -1|       0|          0.0|0.0|[19.0,527.0,4.0,1...|[18.9762000701442...|[0.94881000350721...|       0.0|\n",
      "| 19|    626| 15|     117|       1|   -1|       0|          0.0|0.0|[19.0,626.0,15.0,...|[18.8406798133133...|[0.94203399066566...|       0.0|\n",
      "| 19|   5368|  4|      77|       6|   -1|       0|          0.0|0.0|[19.0,5368.0,4.0,...|[19.0282686630185...|[0.95141343315092...|       0.0|\n",
      "| 20|   -322| 20|      73|       4|   -1|       0|          0.0|0.0|[20.0,-322.0,20.0...|[19.1177254581166...|[0.95588627290583...|       0.0|\n",
      "| 20|     67| 19|     387|       1|   -1|       0|          0.0|0.0|[20.0,67.0,19.0,3...|[18.4398168356724...|[0.92199084178362...|       0.0|\n",
      "| 20|     88| 21|     621|       1|  181|       4|          0.0|0.0|[20.0,88.0,21.0,6...|[11.5898938468398...|[0.57949469234199...|       0.0|\n",
      "| 20|    130|  4|      75|       3|   -1|       0|          0.0|0.0|[20.0,130.0,4.0,7...|[18.9762000701442...|[0.94881000350721...|       0.0|\n",
      "| 20|    130| 11|      88|       1|   99|       3|          0.0|0.0|[20.0,130.0,11.0,...|[17.9775575061588...|[0.89887787530794...|       0.0|\n",
      "+---+-------+---+--------+--------+-----+--------+-------------+---+--------------------+--------------------+--------------------+----------+\n",
      "only showing top 20 rows\n",
      "\n"
     ]
    }
   ],
   "source": [
    "pred_test = clf_model.transform(test_df)\n",
    "pred_test.show()"
   ]
  },
  {
   "cell_type": "code",
   "execution_count": 40,
   "id": "d434e833-d3e3-493c-88ed-b2ed09a6c06b",
   "metadata": {},
   "outputs": [
    {
     "data": {
      "text/plain": [
       "13676"
      ]
     },
     "execution_count": 40,
     "metadata": {},
     "output_type": "execute_result"
    }
   ],
   "source": [
    "pred_test.count()"
   ]
  },
  {
   "cell_type": "code",
   "execution_count": 41,
   "id": "09f3c62e-35a2-4467-a4b2-d2179b60ccf2",
   "metadata": {},
   "outputs": [
    {
     "data": {
      "text/plain": [
       "0.8492651774775294"
      ]
     },
     "execution_count": 41,
     "metadata": {},
     "output_type": "execute_result"
    }
   ],
   "source": [
    "from pyspark.ml.evaluation import BinaryClassificationEvaluator\n",
    "evaluator = BinaryClassificationEvaluator(labelCol=\"y1\")\n",
    "AUC = evaluator.evaluate(pred_test)\n",
    "AUC"
   ]
  },
  {
   "cell_type": "code",
   "execution_count": null,
   "id": "131519c3-0d01-45cb-a704-725457e5423b",
   "metadata": {},
   "outputs": [],
   "source": []
  }
 ],
 "metadata": {
  "kernelspec": {
   "display_name": "Python 3 (ipykernel)",
   "language": "python",
   "name": "python3"
  },
  "language_info": {
   "codemirror_mode": {
    "name": "ipython",
    "version": 3
   },
   "file_extension": ".py",
   "mimetype": "text/x-python",
   "name": "python",
   "nbconvert_exporter": "python",
   "pygments_lexer": "ipython3",
   "version": "3.9.7"
  }
 },
 "nbformat": 4,
 "nbformat_minor": 5
}
