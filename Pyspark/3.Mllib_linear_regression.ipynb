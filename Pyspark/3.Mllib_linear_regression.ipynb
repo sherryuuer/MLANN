{
 "cells": [
  {
   "cell_type": "markdown",
   "id": "7240695a-fa63-41db-8eac-063449050d8c",
   "metadata": {},
   "source": [
    "# 線形重回帰による数値予測"
   ]
  },
  {
   "cell_type": "code",
   "execution_count": 29,
   "id": "aef271ca-09a6-470c-b6d1-7a48dfece402",
   "metadata": {},
   "outputs": [],
   "source": [
    "import numpy as np\n",
    "import pandas as pd"
   ]
  },
  {
   "cell_type": "code",
   "execution_count": 30,
   "id": "66249472-da60-4043-b4d6-a29e8d827c7b",
   "metadata": {},
   "outputs": [],
   "source": [
    "#データの読み込み\n",
    "from pyspark.sql import SparkSession"
   ]
  },
  {
   "cell_type": "code",
   "execution_count": 31,
   "id": "9e660142-7ee4-448d-ba07-3d10c33780d8",
   "metadata": {},
   "outputs": [],
   "source": [
    "spark = SparkSession.builder \\\n",
    "        .master(\"local\") \\\n",
    "        .appName(\"linear_regression\") \\\n",
    "        .getOrCreate()"
   ]
  },
  {
   "cell_type": "code",
   "execution_count": 32,
   "id": "1642e718-dec2-4e4d-b3b6-2da191be0b10",
   "metadata": {},
   "outputs": [],
   "source": [
    "data = spark.read.csv(\"./data/bank/bank-full.csv\", header=True, inferSchema=True, sep=\";\")"
   ]
  },
  {
   "cell_type": "code",
   "execution_count": 33,
   "id": "c401b4ad-b18b-4014-a3cc-401efc2af02c",
   "metadata": {},
   "outputs": [
    {
     "name": "stdout",
     "output_type": "stream",
     "text": [
      "+---+------------+--------+---------+-------+-------+-------+----+-------+---+-----+--------+--------+-----+--------+--------+---+\n",
      "|age|         job| marital|education|default|balance|housing|loan|contact|day|month|duration|campaign|pdays|previous|poutcome|  y|\n",
      "+---+------------+--------+---------+-------+-------+-------+----+-------+---+-----+--------+--------+-----+--------+--------+---+\n",
      "| 58|  management| married| tertiary|     no|   2143|    yes|  no|unknown|  5|  may|     261|       1|   -1|       0| unknown| no|\n",
      "| 44|  technician|  single|secondary|     no|     29|    yes|  no|unknown|  5|  may|     151|       1|   -1|       0| unknown| no|\n",
      "| 33|entrepreneur| married|secondary|     no|      2|    yes| yes|unknown|  5|  may|      76|       1|   -1|       0| unknown| no|\n",
      "| 47| blue-collar| married|  unknown|     no|   1506|    yes|  no|unknown|  5|  may|      92|       1|   -1|       0| unknown| no|\n",
      "| 33|     unknown|  single|  unknown|     no|      1|     no|  no|unknown|  5|  may|     198|       1|   -1|       0| unknown| no|\n",
      "| 35|  management| married| tertiary|     no|    231|    yes|  no|unknown|  5|  may|     139|       1|   -1|       0| unknown| no|\n",
      "| 28|  management|  single| tertiary|     no|    447|    yes| yes|unknown|  5|  may|     217|       1|   -1|       0| unknown| no|\n",
      "| 42|entrepreneur|divorced| tertiary|    yes|      2|    yes|  no|unknown|  5|  may|     380|       1|   -1|       0| unknown| no|\n",
      "| 58|     retired| married|  primary|     no|    121|    yes|  no|unknown|  5|  may|      50|       1|   -1|       0| unknown| no|\n",
      "| 43|  technician|  single|secondary|     no|    593|    yes|  no|unknown|  5|  may|      55|       1|   -1|       0| unknown| no|\n",
      "| 41|      admin.|divorced|secondary|     no|    270|    yes|  no|unknown|  5|  may|     222|       1|   -1|       0| unknown| no|\n",
      "| 29|      admin.|  single|secondary|     no|    390|    yes|  no|unknown|  5|  may|     137|       1|   -1|       0| unknown| no|\n",
      "| 53|  technician| married|secondary|     no|      6|    yes|  no|unknown|  5|  may|     517|       1|   -1|       0| unknown| no|\n",
      "| 58|  technician| married|  unknown|     no|     71|    yes|  no|unknown|  5|  may|      71|       1|   -1|       0| unknown| no|\n",
      "| 57|    services| married|secondary|     no|    162|    yes|  no|unknown|  5|  may|     174|       1|   -1|       0| unknown| no|\n",
      "| 51|     retired| married|  primary|     no|    229|    yes|  no|unknown|  5|  may|     353|       1|   -1|       0| unknown| no|\n",
      "| 45|      admin.|  single|  unknown|     no|     13|    yes|  no|unknown|  5|  may|      98|       1|   -1|       0| unknown| no|\n",
      "| 57| blue-collar| married|  primary|     no|     52|    yes|  no|unknown|  5|  may|      38|       1|   -1|       0| unknown| no|\n",
      "| 60|     retired| married|  primary|     no|     60|    yes|  no|unknown|  5|  may|     219|       1|   -1|       0| unknown| no|\n",
      "| 33|    services| married|secondary|     no|      0|    yes|  no|unknown|  5|  may|      54|       1|   -1|       0| unknown| no|\n",
      "+---+------------+--------+---------+-------+-------+-------+----+-------+---+-----+--------+--------+-----+--------+--------+---+\n",
      "only showing top 20 rows\n",
      "\n"
     ]
    }
   ],
   "source": [
    "data.show()"
   ]
  },
  {
   "cell_type": "markdown",
   "id": "ccb88369-7450-4ab1-9e0a-dbc5cc903bd0",
   "metadata": {},
   "source": [
    "## 全データを使ったモデリング（流れの確認）\n",
    "- とりあえず特徴量には数値のカラムのみ使用する\n",
    "- 標準化は行わない\n",
    "- one-hot encodingは行わない\n",
    "- 重複行などのデータチェックは行わない"
   ]
  },
  {
   "cell_type": "markdown",
   "id": "b196df8c-68ff-4512-aebe-820f6dc8c863",
   "metadata": {},
   "source": [
    "### 手順\n",
    "0. 簡単なデータチェック\n",
    "1. データ作成\n",
    "1. モデリング\n",
    "1. 係数や精度指標の確認"
   ]
  },
  {
   "cell_type": "code",
   "execution_count": 34,
   "id": "00fc27bd-d565-4a75-8b41-f35a5647c713",
   "metadata": {},
   "outputs": [
    {
     "name": "stdout",
     "output_type": "stream",
     "text": [
      "+-------+------------------+-------+--------+---------+-------+------------------+-------+-----+--------+-----------------+-----+-----------------+-----------------+------------------+------------------+--------+-----+\n",
      "|summary|               age|    job| marital|education|default|           balance|housing| loan| contact|              day|month|         duration|         campaign|             pdays|          previous|poutcome|    y|\n",
      "+-------+------------------+-------+--------+---------+-------+------------------+-------+-----+--------+-----------------+-----+-----------------+-----------------+------------------+------------------+--------+-----+\n",
      "|  count|             45211|  45211|   45211|    45211|  45211|             45211|  45211|45211|   45211|            45211|45211|            45211|            45211|             45211|             45211|   45211|45211|\n",
      "|   mean| 40.93621021432837|   null|    null|     null|   null|1362.2720576850766|   null| null|    null|15.80641879188693| null|258.1630797814691|2.763840658246887| 40.19782796222158|0.5803233726305546|    null| null|\n",
      "| stddev|10.618762040975405|   null|    null|     null|   null|3044.7658291685257|   null| null|    null|8.322476153044594| null|257.5278122651706|3.098020883279192|100.12874599059828| 2.303441044931218|    null| null|\n",
      "|    min|                18| admin.|divorced|  primary|     no|             -8019|     no|   no|cellular|                1|  apr|                0|                1|                -1|                 0| failure|   no|\n",
      "|    25%|                33|   null|    null|     null|   null|                72|   null| null|    null|                8| null|              103|                1|                -1|                 0|    null| null|\n",
      "|    50%|                39|   null|    null|     null|   null|               448|   null| null|    null|               16| null|              180|                2|                -1|                 0|    null| null|\n",
      "|    75%|                48|   null|    null|     null|   null|              1426|   null| null|    null|               21| null|              319|                3|                -1|                 0|    null| null|\n",
      "|    max|                95|unknown|  single|  unknown|    yes|            102127|    yes|  yes| unknown|               31|  sep|             4918|               63|               871|               275| unknown|  yes|\n",
      "+-------+------------------+-------+--------+---------+-------+------------------+-------+-----+--------+-----------------+-----+-----------------+-----------------+------------------+------------------+--------+-----+\n",
      "\n"
     ]
    }
   ],
   "source": [
    "data.summary().show()"
   ]
  },
  {
   "cell_type": "code",
   "execution_count": 35,
   "id": "88699db3-f551-49c9-bae8-d72e66dcf50b",
   "metadata": {},
   "outputs": [],
   "source": [
    "#データ作成"
   ]
  },
  {
   "cell_type": "code",
   "execution_count": 36,
   "id": "cdd5e377-c1db-456e-8193-214e598fc9ff",
   "metadata": {},
   "outputs": [],
   "source": [
    "linear_df = data.select([\"age\", \"balance\", \"campaign\"])\n",
    "target = \"balance\"\n",
    "features = [\"age\", \"campaign\"]\n",
    "train_df = data.select(features)"
   ]
  },
  {
   "cell_type": "code",
   "execution_count": 37,
   "id": "c1f4842c-d29c-407f-9a96-33fcd95aeff1",
   "metadata": {},
   "outputs": [
    {
     "data": {
      "text/plain": [
       "['age', 'campaign']"
      ]
     },
     "execution_count": 37,
     "metadata": {},
     "output_type": "execute_result"
    }
   ],
   "source": [
    "features"
   ]
  },
  {
   "cell_type": "code",
   "execution_count": 39,
   "id": "761da452-8001-4d48-8967-49bcf6311850",
   "metadata": {},
   "outputs": [],
   "source": [
    "#データ作成ステージ\n",
    "from pyspark.ml.feature import VectorAssembler\n",
    "assemble = VectorAssembler(inputCols=features, outputCol=\"features\")"
   ]
  },
  {
   "cell_type": "code",
   "execution_count": 41,
   "id": "cef42c66-08dd-4b52-b4f6-b614bae6e0dd",
   "metadata": {},
   "outputs": [],
   "source": [
    "#線形重回帰モデリングステージ\n",
    "from pyspark.ml.regression import LinearRegression\n",
    "clf = LinearRegression(featuresCol=\"features\", labelCol=\"balance\")"
   ]
  },
  {
   "cell_type": "code",
   "execution_count": 42,
   "id": "26b320bf-225a-49f8-a556-c970d1e644f7",
   "metadata": {},
   "outputs": [],
   "source": [
    "#パイプラインの設定：ステージの登録\n",
    "from pyspark.ml.pipeline import Pipeline\n",
    "pipeline = Pipeline(stages=[assemble, clf])\n",
    "model = pipeline.fit(linear_df)"
   ]
  },
  {
   "cell_type": "code",
   "execution_count": 43,
   "id": "9ddb3c81-3d6c-44d2-9154-38d7e997f48e",
   "metadata": {},
   "outputs": [
    {
     "name": "stdout",
     "output_type": "stream",
     "text": [
      "+---+-------+--------+----------+------------------+\n",
      "|age|balance|campaign|  features|        prediction|\n",
      "+---+-------+--------+----------+------------------+\n",
      "| 58|   2143|       1|[58.0,1.0]|1867.1309208276969|\n",
      "| 44|     29|       1|[44.0,1.0]| 1474.315799038966|\n",
      "| 33|      2|       1|[33.0,1.0]| 1165.675346204963|\n",
      "| 47|   1506|       1|[47.0,1.0]| 1558.490467993694|\n",
      "| 33|      1|       1|[33.0,1.0]| 1165.675346204963|\n",
      "| 35|    231|       1|[35.0,1.0]|1221.7917921747817|\n",
      "| 28|    447|       1|[28.0,1.0]|1025.3842312804163|\n",
      "| 42|      2|       1|[42.0,1.0]|1418.1993530691473|\n",
      "| 58|    121|       1|[58.0,1.0]|1867.1309208276969|\n",
      "| 43|    593|       1|[43.0,1.0]|1446.2575760540565|\n",
      "| 41|    270|       1|[41.0,1.0]|1390.1411300842378|\n",
      "| 29|    390|       1|[29.0,1.0]|1053.4424542653255|\n",
      "| 53|      6|       1|[53.0,1.0]|1726.8398059031501|\n",
      "| 58|     71|       1|[58.0,1.0]|1867.1309208276969|\n",
      "| 57|    162|       1|[57.0,1.0]|1839.0726978427874|\n",
      "| 51|    229|       1|[51.0,1.0]|1670.7233599333313|\n",
      "| 45|     13|       1|[45.0,1.0]|1502.3740220238753|\n",
      "| 57|     52|       1|[57.0,1.0]|1839.0726978427874|\n",
      "| 60|     60|       1|[60.0,1.0]|1923.2473667975155|\n",
      "| 33|      0|       1|[33.0,1.0]| 1165.675346204963|\n",
      "+---+-------+--------+----------+------------------+\n",
      "only showing top 20 rows\n",
      "\n"
     ]
    }
   ],
   "source": [
    "#パイプラインの実行\n",
    "df = model.transform(linear_df)\n",
    "df.show()"
   ]
  },
  {
   "cell_type": "code",
   "execution_count": 44,
   "id": "3dae99fc-6e18-467d-bf16-07958075418d",
   "metadata": {},
   "outputs": [
    {
     "data": {
      "text/plain": [
       "DenseVector([28.0582, -14.7855])"
      ]
     },
     "execution_count": 44,
     "metadata": {},
     "output_type": "execute_result"
    }
   ],
   "source": [
    "#係数の確認\n",
    "model.stages[1].coefficients"
   ]
  },
  {
   "cell_type": "code",
   "execution_count": 45,
   "id": "e13ae7ea-c854-4593-be79-fd94535390e1",
   "metadata": {},
   "outputs": [
    {
     "data": {
      "text/plain": [
       "254.53947540939342"
      ]
     },
     "execution_count": 45,
     "metadata": {},
     "output_type": "execute_result"
    }
   ],
   "source": [
    "#切片\n",
    "model.stages[1].intercept"
   ]
  },
  {
   "cell_type": "markdown",
   "id": "2ca81f11-d587-499c-8d46-6215cb67bba0",
   "metadata": {},
   "source": [
    "## 線形重回帰のモデリングと予測\n",
    "学習データとテストデータ分ける"
   ]
  },
  {
   "cell_type": "code",
   "execution_count": 46,
   "id": "b77f954d-b730-4934-b14e-0c52315c566b",
   "metadata": {},
   "outputs": [],
   "source": [
    "train_df, test_df = data.select([\"age\",\"balance\", \"campaign\"]) \\\n",
    "                        .randomSplit([0.7, 0.3], seed = 1)"
   ]
  },
  {
   "cell_type": "code",
   "execution_count": 47,
   "id": "d7fc0ce1-2e8e-437d-924d-642921cc54fa",
   "metadata": {},
   "outputs": [
    {
     "name": "stdout",
     "output_type": "stream",
     "text": [
      "+---+-------+--------+\n",
      "|age|balance|campaign|\n",
      "+---+-------+--------+\n",
      "| 18|      3|       2|\n",
      "| 18|      5|       2|\n",
      "| 18|     35|       2|\n",
      "| 18|    108|       1|\n",
      "| 18|    156|       2|\n",
      "| 18|    348|       4|\n",
      "| 18|    438|       1|\n",
      "| 18|    608|       1|\n",
      "| 18|    608|       1|\n",
      "| 18|   1944|       3|\n",
      "| 19|      0|       3|\n",
      "| 19|     60|       1|\n",
      "| 19|     88|       1|\n",
      "| 19|     96|       3|\n",
      "| 19|    103|       2|\n",
      "| 19|    103|       2|\n",
      "| 19|    103|       2|\n",
      "| 19|    108|       1|\n",
      "| 19|    108|       2|\n",
      "| 19|    134|       2|\n",
      "+---+-------+--------+\n",
      "only showing top 20 rows\n",
      "\n"
     ]
    }
   ],
   "source": [
    "train_df.show()"
   ]
  },
  {
   "cell_type": "code",
   "execution_count": 48,
   "id": "f194f544-02dd-4f4d-bf93-7c5488b1870a",
   "metadata": {},
   "outputs": [
    {
     "data": {
      "text/plain": [
       "31676"
      ]
     },
     "execution_count": 48,
     "metadata": {},
     "output_type": "execute_result"
    }
   ],
   "source": [
    "train_df.count()"
   ]
  },
  {
   "cell_type": "markdown",
   "id": "37b966cf-0fa8-49e9-9f78-2226a96d8faf",
   "metadata": {},
   "source": [
    "学習データでモデリング"
   ]
  },
  {
   "cell_type": "code",
   "execution_count": 49,
   "id": "5e4f1dfd-df93-4c6f-bef5-e8a2a1171710",
   "metadata": {},
   "outputs": [],
   "source": [
    "#データ作成ステージ\n",
    "from pyspark.ml.feature import VectorAssembler\n",
    "target = \"balance\"\n",
    "features = [\"age\", \"campaign\"]\n",
    "assemble = VectorAssembler(inputCols=features, outputCol=\"features\")"
   ]
  },
  {
   "cell_type": "code",
   "execution_count": 50,
   "id": "69e6f527-6854-4950-b45c-da6376ebe75c",
   "metadata": {},
   "outputs": [],
   "source": [
    "#線形重回帰ステージ\n",
    "from pyspark.ml.regression import LinearRegression\n",
    "clf = LinearRegression(featuresCol=\"features\", labelCol=\"balance\")"
   ]
  },
  {
   "cell_type": "code",
   "execution_count": 51,
   "id": "3a4b77aa-421c-4d52-a492-c7667f5ec439",
   "metadata": {},
   "outputs": [],
   "source": [
    "#パイプライン登録\n",
    "from pyspark.ml.pipeline import Pipeline\n",
    "pipeline = Pipeline(stages=[assemble, clf])\n",
    "model = pipeline.fit(train_df)"
   ]
  },
  {
   "cell_type": "code",
   "execution_count": 52,
   "id": "41adaa18-65af-40f2-a959-a3573cf97fd1",
   "metadata": {},
   "outputs": [
    {
     "name": "stdout",
     "output_type": "stream",
     "text": [
      "+---+-------+--------+----------+-----------------+\n",
      "|age|balance|campaign|  features|       prediction|\n",
      "+---+-------+--------+----------+-----------------+\n",
      "| 18|      3|       2|[18.0,2.0]|710.8452572678644|\n",
      "| 18|      5|       2|[18.0,2.0]|710.8452572678644|\n",
      "| 18|     35|       2|[18.0,2.0]|710.8452572678644|\n",
      "| 18|    108|       1|[18.0,1.0]|723.7064702721563|\n",
      "| 18|    156|       2|[18.0,2.0]|710.8452572678644|\n",
      "| 18|    348|       4|[18.0,4.0]|685.1228312592808|\n",
      "| 18|    438|       1|[18.0,1.0]|723.7064702721563|\n",
      "| 18|    608|       1|[18.0,1.0]|723.7064702721563|\n",
      "| 18|    608|       1|[18.0,1.0]|723.7064702721563|\n",
      "| 18|   1944|       3|[18.0,3.0]|697.9840442635726|\n",
      "| 19|      0|       3|[19.0,3.0]|726.5301363665992|\n",
      "| 19|     60|       1|[19.0,1.0]|752.2525623751828|\n",
      "| 19|     88|       1|[19.0,1.0]|752.2525623751828|\n",
      "| 19|     96|       3|[19.0,3.0]|726.5301363665992|\n",
      "| 19|    103|       2|[19.0,2.0]| 739.391349370891|\n",
      "| 19|    103|       2|[19.0,2.0]| 739.391349370891|\n",
      "| 19|    103|       2|[19.0,2.0]| 739.391349370891|\n",
      "| 19|    108|       1|[19.0,1.0]|752.2525623751828|\n",
      "| 19|    108|       2|[19.0,2.0]| 739.391349370891|\n",
      "| 19|    134|       2|[19.0,2.0]| 739.391349370891|\n",
      "+---+-------+--------+----------+-----------------+\n",
      "only showing top 20 rows\n",
      "\n"
     ]
    }
   ],
   "source": [
    "#実行\n",
    "pred_train = model.transform(train_df)\n",
    "pred_train.show()"
   ]
  },
  {
   "cell_type": "code",
   "execution_count": 53,
   "id": "cc0634ec-62cf-4bce-a80d-77bda22a3056",
   "metadata": {},
   "outputs": [
    {
     "data": {
      "text/plain": [
       "2954.785661525267"
      ]
     },
     "execution_count": 53,
     "metadata": {},
     "output_type": "execute_result"
    }
   ],
   "source": [
    "#RMSE（sklearn）\n",
    "from sklearn.metrics import mean_squared_error\n",
    "pred_train_pandas = pred_train.toPandas()\n",
    "np.sqrt(mean_squared_error(pred_train_pandas[\"balance\"], pred_train_pandas[\"prediction\"]))"
   ]
  },
  {
   "cell_type": "code",
   "execution_count": 54,
   "id": "632b6c53-8a2b-4251-9ae9-a89ae45929ef",
   "metadata": {},
   "outputs": [
    {
     "data": {
      "text/html": [
       "<div>\n",
       "<style scoped>\n",
       "    .dataframe tbody tr th:only-of-type {\n",
       "        vertical-align: middle;\n",
       "    }\n",
       "\n",
       "    .dataframe tbody tr th {\n",
       "        vertical-align: top;\n",
       "    }\n",
       "\n",
       "    .dataframe thead th {\n",
       "        text-align: right;\n",
       "    }\n",
       "</style>\n",
       "<table border=\"1\" class=\"dataframe\">\n",
       "  <thead>\n",
       "    <tr style=\"text-align: right;\">\n",
       "      <th></th>\n",
       "      <th>coefficients</th>\n",
       "    </tr>\n",
       "  </thead>\n",
       "  <tbody>\n",
       "    <tr>\n",
       "      <th>age</th>\n",
       "      <td>28.546092</td>\n",
       "    </tr>\n",
       "    <tr>\n",
       "      <th>campaign</th>\n",
       "      <td>-12.861213</td>\n",
       "    </tr>\n",
       "  </tbody>\n",
       "</table>\n",
       "</div>"
      ],
      "text/plain": [
       "          coefficients\n",
       "age          28.546092\n",
       "campaign    -12.861213"
      ]
     },
     "execution_count": 54,
     "metadata": {},
     "output_type": "execute_result"
    }
   ],
   "source": [
    "#係数\n",
    "train_cols = train_df.columns\n",
    "train_cols.remove(target)\n",
    "pd.DataFrame(index=train_cols, data=model.stages[1].coefficients, columns=[\"coefficients\"])"
   ]
  },
  {
   "cell_type": "markdown",
   "id": "df696539-3ff5-4466-bd7d-19b92a1e9a3a",
   "metadata": {},
   "source": [
    "テストデータによる予測"
   ]
  },
  {
   "cell_type": "code",
   "execution_count": 55,
   "id": "5d9d3b06-a495-4def-a3e2-45c096eda953",
   "metadata": {},
   "outputs": [
    {
     "name": "stdout",
     "output_type": "stream",
     "text": [
      "+---+-------+--------+\n",
      "|age|balance|campaign|\n",
      "+---+-------+--------+\n",
      "| 18|    108|       1|\n",
      "| 18|    108|       1|\n",
      "| 19|      0|       4|\n",
      "| 19|      4|       1|\n",
      "| 19|     27|      12|\n",
      "| 19|     55|       2|\n",
      "| 19|     56|       1|\n",
      "| 19|    291|       5|\n",
      "| 19|    329|       2|\n",
      "| 19|    372|       3|\n",
      "| 19|    424|       3|\n",
      "| 19|    608|       1|\n",
      "| 19|   1169|      18|\n",
      "| 19|   1247|       1|\n",
      "| 19|   1803|       1|\n",
      "| 20|      0|       5|\n",
      "| 20|     66|       2|\n",
      "| 20|     88|       1|\n",
      "| 20|    167|       1|\n",
      "| 20|    215|       1|\n",
      "+---+-------+--------+\n",
      "only showing top 20 rows\n",
      "\n"
     ]
    }
   ],
   "source": [
    "test_df.show()"
   ]
  },
  {
   "cell_type": "code",
   "execution_count": 56,
   "id": "c669d00e-08f2-4f25-b216-23d556695983",
   "metadata": {},
   "outputs": [
    {
     "data": {
      "text/plain": [
       "13535"
      ]
     },
     "execution_count": 56,
     "metadata": {},
     "output_type": "execute_result"
    }
   ],
   "source": [
    "test_df.count()"
   ]
  },
  {
   "cell_type": "code",
   "execution_count": 58,
   "id": "29652928-ce3e-4ed7-9c89-4fa38a61a8bb",
   "metadata": {},
   "outputs": [
    {
     "name": "stdout",
     "output_type": "stream",
     "text": [
      "+---+-------+--------+-----------+-----------------+\n",
      "|age|balance|campaign|   features|       prediction|\n",
      "+---+-------+--------+-----------+-----------------+\n",
      "| 18|    108|       1| [18.0,1.0]|723.7064702721563|\n",
      "| 18|    108|       1| [18.0,1.0]|723.7064702721563|\n",
      "| 19|      0|       4| [19.0,4.0]|713.6689233623074|\n",
      "| 19|      4|       1| [19.0,1.0]|752.2525623751828|\n",
      "| 19|     27|      12|[19.0,12.0]| 610.779219327973|\n",
      "| 19|     55|       2| [19.0,2.0]| 739.391349370891|\n",
      "| 19|     56|       1| [19.0,1.0]|752.2525623751828|\n",
      "| 19|    291|       5| [19.0,5.0]|700.8077103580156|\n",
      "| 19|    329|       2| [19.0,2.0]| 739.391349370891|\n",
      "| 19|    372|       3| [19.0,3.0]|726.5301363665992|\n",
      "| 19|    424|       3| [19.0,3.0]|726.5301363665992|\n",
      "| 19|    608|       1| [19.0,1.0]|752.2525623751828|\n",
      "| 19|   1169|      18|[19.0,18.0]|533.6119413022221|\n",
      "| 19|   1247|       1| [19.0,1.0]|752.2525623751828|\n",
      "| 19|   1803|       1| [19.0,1.0]|752.2525623751828|\n",
      "| 20|      0|       5| [20.0,5.0]|729.3538024610422|\n",
      "| 20|     66|       2| [20.0,2.0]|767.9374414739176|\n",
      "| 20|     88|       1| [20.0,1.0]|780.7986544782094|\n",
      "| 20|    167|       1| [20.0,1.0]|780.7986544782094|\n",
      "| 20|    215|       1| [20.0,1.0]|780.7986544782094|\n",
      "+---+-------+--------+-----------+-----------------+\n",
      "only showing top 20 rows\n",
      "\n"
     ]
    }
   ],
   "source": [
    "pred_test = model.transform(test_df)\n",
    "pred_test.show()"
   ]
  },
  {
   "cell_type": "code",
   "execution_count": 62,
   "id": "07aae310-cdc6-45a8-bb43-851213c41c30",
   "metadata": {},
   "outputs": [
    {
     "data": {
      "text/plain": [
       "3198.525889052522"
      ]
     },
     "execution_count": 62,
     "metadata": {},
     "output_type": "execute_result"
    }
   ],
   "source": [
    "#RMSE（sklearn）\n",
    "from sklearn.metrics import mean_squared_error\n",
    "pred_test_pandas = pred_test.toPandas()\n",
    "np.sqrt(mean_squared_error(pred_test_pandas[\"balance\"], pred_test_pandas[\"prediction\"]))"
   ]
  },
  {
   "cell_type": "code",
   "execution_count": null,
   "id": "3d350dfd-d83b-419f-b6ca-66c0e4591be5",
   "metadata": {},
   "outputs": [],
   "source": []
  },
  {
   "cell_type": "code",
   "execution_count": null,
   "id": "549463c9-f0dd-49a3-ad3b-d3ce1e1941d9",
   "metadata": {},
   "outputs": [],
   "source": []
  }
 ],
 "metadata": {
  "kernelspec": {
   "display_name": "Python 3 (ipykernel)",
   "language": "python",
   "name": "python3"
  },
  "language_info": {
   "codemirror_mode": {
    "name": "ipython",
    "version": 3
   },
   "file_extension": ".py",
   "mimetype": "text/x-python",
   "name": "python",
   "nbconvert_exporter": "python",
   "pygments_lexer": "ipython3",
   "version": "3.9.7"
  }
 },
 "nbformat": 4,
 "nbformat_minor": 5
}
