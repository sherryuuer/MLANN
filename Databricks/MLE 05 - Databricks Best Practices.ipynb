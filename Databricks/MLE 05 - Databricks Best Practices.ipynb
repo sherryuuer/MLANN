{
 "cells": [
  {
   "cell_type": "markdown",
   "metadata": {
    "application/vnd.databricks.v1+cell": {
     "cellMetadata": {},
     "inputWidgets": {},
     "nuid": "7e92c99f-a196-4197-bbee-f17678c2aaf4",
     "showTitle": false,
     "title": ""
    }
   },
   "source": [
    "\n",
    "<div style=\"text-align: center; line-height: 0; padding-top: 9px;\">\n",
    "  <img src=\"https://databricks.com/wp-content/uploads/2018/03/db-academy-rgb-1200px.png\" alt=\"Databricks Learning\" style=\"width: 600px\">\n",
    "</div>"
   ]
  },
  {
   "cell_type": "markdown",
   "metadata": {
    "application/vnd.databricks.v1+cell": {
     "cellMetadata": {},
     "inputWidgets": {},
     "nuid": "1ef8f594-5eeb-4bd6-915a-887ba8f1685a",
     "showTitle": false,
     "title": ""
    }
   },
   "source": [
    "<i18n value=\"64f90be2-bcc0-40c9-bbe7-3b501323e71c\"/>\n",
    "\n",
    "# Databricks のベストプラクティス (Databricks Best Practices)\n",
    "\n",
    "このノートブックでは、Databricksを使用する際のさまざまなベストプラクティスを紹介します。\n",
    "\n",
    "## ![Spark Logo Tiny](https://files.training.databricks.com/images/105/logo_spark_tiny.png) このレッスンで以下を行います。<br>\n",
    " - 動作の遅いジョブをデバッグするための一般的なフレームワークを探索する\n",
    " - 様々なデータアクセスパラダイムが持つセキュリティ上の意味を理解する\n",
    " - マシンタイプ、ライブラリ、ジョブなど、さまざまなクラスタ構成の問題を判断する\n",
    " - Databricksのノートブックとジョブをバージョン管理およびCLIと統合する"
   ]
  },
  {
   "cell_type": "markdown",
   "metadata": {
    "application/vnd.databricks.v1+cell": {
     "cellMetadata": {},
     "inputWidgets": {},
     "nuid": "af136ea6-0689-4848-ba83-bc9b2219c8da",
     "showTitle": false,
     "title": ""
    }
   },
   "source": [
    "<i18n value=\"0c063b0a-ccbb-486f-8568-1fe52cfa8971\"/>\n",
    "\n",
    "## 実行速度が遅いジョブ (Slow Running Jobs)\n",
    "\n",
    "ジョブの実行速度が遅い場合の最も一般的な問題：<br>\n",
    "\n",
    "- **`Spill`** (スピル、メモリ溢れ): メモリーからディスクにデータが溢れること。解決策：より多くのメモリを持つクラスタを使用する。\n",
    "- **`Shuffle`** : 大量データがクラスタ間で転送されていること。 解決策：Joinを最適化するか、シャッフルを回避するためにコードをリファクタリングする。\n",
    "- **`スキュー/ストラグラー`** : パーティショニングされたデータ（ファイルまたはメモリ内）が均等に分散されていない、一部のパーティションの実行に時間がかかる「最後のreducerの呪い」が発生します。 解決策：使用可能なコアの倍数に再分割するか、スキューヒントを使用する。\n",
    "- **`Small/Large Files`** : 小さなファイルが多すぎて、各ファイルの読み込みに専用のスレッドが必要なため、クラスタのリソースが枯渇しているか、大きなファイルのせいで未使用のスレッドが発生しています。 解決策：より最適な方法でデータを書き直すか、Deltaファイルのコンパクションを実行する。\n",
    "\n",
    "デバッグのツールキット:<br>\n",
    "\n",
    "- CPU、ネットワーク、メモリのリソースをクラスタまたはノードレベルで管理するGanglia\n",
    "- その他を監視するSpark UI（特にストレージとエグゼキュータータブ）\n",
    "- ドライバやワーカーのログにエラーがないか（特にバックグラウンドプロセスの場合）\n",
    "- クラスタ・セクションのノートブックタブで、インターンが再びクラスタを占拠しているかどうか"
   ]
  },
  {
   "cell_type": "markdown",
   "metadata": {
    "application/vnd.databricks.v1+cell": {
     "cellMetadata": {},
     "inputWidgets": {},
     "nuid": "19f57bce-d6d4-444d-bc9f-0be5c3dcdd8f",
     "showTitle": false,
     "title": ""
    }
   },
   "source": [
    "<i18n value=\"35f52f8a-6a95-4273-8e04-ead835c2c184\"/>\n",
    "\n",
    "## データアクセスとセキュリティ (Data Access and Security)\n",
    "\n",
    "データ・アクセスに関するいくつかの注意点:<br>\n",
    "\n",
    "* <a href=\"https://docs.databricks.com/data/databricks-file-system.html#mount-storage\" target=\"_blank\">簡単にアクセスできるためデータをマウントする</a>\n",
    "* <a href=\"https://docs.databricks.com/dev-tools/cli/secrets-cli.html#secrets-cli\" target=\"_blank\">Secretを使って認証情報を保護する</a> (これは認証情報をコードに残さないようにするものです)\n",
    "<a href=\"https://docs.databricks.com/dev-tools/cli/secrets-cli.html#secrets-cli\" target=\"_blank\">AWS</a> でも <a href=\"https://docs.microsoft.com/en-us/azure/databricks/security/credential-passthrough/adls-passthrough\" target=\"_blank\">Azure</a> でもCredential passthrough機能が使える。"
   ]
  },
  {
   "cell_type": "markdown",
   "metadata": {
    "application/vnd.databricks.v1+cell": {
     "cellMetadata": {},
     "inputWidgets": {},
     "nuid": "e5758f6b-61dc-4569-a6f4-ddca56048eef",
     "showTitle": false,
     "title": ""
    }
   },
   "source": [
    "<i18n value=\"2c6e2b76-709f-43e9-9fd2-731713fe30a7\"/>\n",
    "\n",
    "## クラスタの構成、ライブラリ、ジョブ (Cluster Configuration, Libraries, and Jobs)\n",
    "\n",
    "クラスタータイプ：\n",
    "\n",
    "- メモリ最適化（<a href=\"https://docs.databricks.com/delta/optimizations/delta-cache.html\" target=\"_blank\">Delta Cache Acceleration</a>あり/なし\n",
    "- コンピューティング最適化\n",
    "- ストレージ最適化\n",
    "- GPU最適化\n",
    "- 汎用\n",
    "\n",
    "一般的な経験則:<br>\n",
    "\n",
    "- 機械学習用に大きなマシンタイプの小型クラスタ\n",
    "- 本番ワークロードごとに1クラスタ\n",
    "- ML学習用のクラスタを共有しない（開発中であっても）\n",
    "- <a href=\"https://docs.databricks.com/clusters/configure.html\" target=\"_blank\">詳しくはドキュメントをご覧ください。</a>"
   ]
  },
  {
   "cell_type": "markdown",
   "metadata": {
    "application/vnd.databricks.v1+cell": {
     "cellMetadata": {},
     "inputWidgets": {},
     "nuid": "6512dd69-61de-4f89-8cde-3cf2782deeb2",
     "showTitle": false,
     "title": ""
    }
   },
   "source": [
    "<i18n value=\"6368d08e-4f54-4504-8a83-5e099c7aeb34\"/>\n",
    "\n",
    "ライブラリインストールのベストプラクティス:<br>\n",
    "  \n",
    "- <a href=\"https://docs.databricks.com/libraries/notebooks-python-libraries.html\" target=\"_blank\">Notebook-scoped Python libraries</a> は、同じクラスタのユーザが異なるライブラリを持つことができることを保証します。 また、ライブラリに依存するノートブックを保存するのにも便利です。\n",
    "- <a href=\"https://docs.databricks.com/clusters/init-scripts.html\" target=\"_blank\">初期化スクリプト</a>は、JVMの起動前にコードが実行されることを保証します（特定のライブラリまたは環境構成に適しています）。\n",
    "- いくつかの構成変数は、クラスタ起動時に設定する必要があります。"
   ]
  },
  {
   "cell_type": "markdown",
   "metadata": {
    "application/vnd.databricks.v1+cell": {
     "cellMetadata": {},
     "inputWidgets": {},
     "nuid": "e72643b7-c1a1-4667-9259-f75c1c213e33",
     "showTitle": false,
     "title": ""
    }
   },
   "source": [
    "<i18n value=\"dd0026c2-92e2-4761-9308-75ad353649d4\"/>\n",
    "\n",
    "ジョブのベストプラクティス:<br>\n",
    "\n",
    "- <a href=\"https://docs.databricks.com/notebooks/notebook-workflows.html\" target=\"_blank\">ノートブックワークフロー</a>を使用します。\n",
    "- <a href=\"https://docs.databricks.com/notebooks/widgets.html\" target=\"_blank\">ウィジェット</a>はパラメータ渡しのために使用します。\n",
    "- jars や wheelsも実行することができます。\n",
    "- オーケストレーションツール（Airflowなど）のCLIを利用します。\n",
    "- <a href=\"https://docs.databricks.com/jobs.html\" target=\"_blank\">詳しくはドキュメントをご覧ください</a>。\n",
    "- 無限にジョブが実行されるのを防ぐため、必ずタイムアウト時間を指定します。"
   ]
  },
  {
   "cell_type": "markdown",
   "metadata": {
    "application/vnd.databricks.v1+cell": {
     "cellMetadata": {},
     "inputWidgets": {},
     "nuid": "6fb60bf5-f38a-4c71-87b8-0bff236dfad4",
     "showTitle": false,
     "title": ""
    }
   },
   "source": [
    "<i18n value=\"ea44ac8c-88c8-443a-a370-b4671af6f1e9\"/>\n",
    "\n",
    "## CLIとバージョン管理 (CLI and Version Control)\n",
    "\n",
    "<a href=\"https://github.com/databricks/databricks-cli\" target=\"_blank\">Databricks CLI</a>:<br>\n",
    "\n",
    " * プログラム的にすべてのノートブックをエクスポートし、githubにチェックインします。\n",
    " * データのインポート/エクスポート、ジョブの実行、クラスタの作成、その他ほとんどのWorkspaceタスクの実行が可能です。\n",
    "\n",
    "Git の統合は、いくつかの方法で実現できます:<br>\n",
    "\n",
    " * CLIを使ってノートブックをインポート/エクスポートし、gitに手動でチェックインする。\n",
    " * <a href=\"https://docs.databricks.com/notebooks/github-version-control.html\" target=\"_blank\">ビルドインの git統合機能を使用する</a>。\n",
    " * <a href=\"https://www.youtube.com/watch?v=HsfMmBfQtvI\" target=\"_blank\">プロジェクト統合の代替に次世代ワークスペースを使用する</a>。"
   ]
  },
  {
   "cell_type": "markdown",
   "metadata": {
    "application/vnd.databricks.v1+cell": {
     "cellMetadata": {},
     "inputWidgets": {},
     "nuid": "62addb11-ba08-4298-be1b-7db91765c2ed",
     "showTitle": false,
     "title": ""
    }
   },
   "source": [
    "<i18n value=\"4bbc8017-a03b-4b3e-810f-9375e5afd7e2\"/>\n",
    "\n",
    "時間が許す限り、<a href=\"https://docs.databricks.com/administration-guide/index.html\" target=\"_blank\">管理コンソール</a>を探索してください。"
   ]
  },
  {
   "cell_type": "markdown",
   "metadata": {
    "application/vnd.databricks.v1+cell": {
     "cellMetadata": {},
     "inputWidgets": {},
     "nuid": "1ba656f9-9a97-440a-af8f-45bf5947837d",
     "showTitle": false,
     "title": ""
    }
   },
   "source": [
    "&copy; 2022 Databricks, Inc. All rights reserved.<br/>\n",
    "Apache, Apache Spark, Spark and the Spark logo are trademarks of the <a href=\"https://www.apache.org/\">Apache Software Foundation</a>.<br/>\n",
    "<br/>\n",
    "<a href=\"https://databricks.com/privacy-policy\">Privacy Policy</a> | <a href=\"https://databricks.com/terms-of-use\">Terms of Use</a> | <a href=\"https://help.databricks.com/\">Support</a>"
   ]
  }
 ],
 "metadata": {
  "application/vnd.databricks.v1+notebook": {
   "dashboards": [],
   "language": "python",
   "notebookMetadata": {
    "pythonIndentUnit": 2
   },
   "notebookName": "MLE 05 - Databricks Best Practices",
   "widgets": {}
  }
 },
 "nbformat": 4,
 "nbformat_minor": 0
}
