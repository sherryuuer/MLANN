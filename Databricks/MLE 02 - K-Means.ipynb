{
 "cells": [
  {
   "cell_type": "markdown",
   "metadata": {
    "application/vnd.databricks.v1+cell": {
     "cellMetadata": {},
     "inputWidgets": {},
     "nuid": "974a9297-13b2-47fc-85aa-aecb10a65b86",
     "showTitle": false,
     "title": ""
    }
   },
   "source": [
    "\n",
    "<div style=\"text-align: center; line-height: 0; padding-top: 9px;\">\n",
    "  <img src=\"https://databricks.com/wp-content/uploads/2018/03/db-academy-rgb-1200px.png\" alt=\"Databricks Learning\" style=\"width: 600px\">\n",
    "</div>"
   ]
  },
  {
   "cell_type": "markdown",
   "metadata": {
    "application/vnd.databricks.v1+cell": {
     "cellMetadata": {},
     "inputWidgets": {},
     "nuid": "d18ce168-1440-4b96-877f-1808454e17d3",
     "showTitle": false,
     "title": ""
    }
   },
   "source": [
    "<i18n value=\"94727771-3f7d-41a7-bcbd-774b1fc5837c\"/>\n",
    "\n",
    "# 分散K-Means (Distributed K-Means)\n",
    "\n",
    "このノートブックでは、K-Meansを使用してデータをクラスタリングします。今回は、ラベル（アイリスの種類）を持つアイリスのデータセットを使用しますが、ラベルはモデルを評価するためにのみ使用し、学習には使用しません。\n",
    "\n",
    "最後に、それが分散環境でどのように実装されるかを見ていきます。\n",
    "\n",
    "## ![Spark Logo Tiny](https://files.training.databricks.com/images/105/logo_spark_tiny.png) このレッスンで以下を行います。<br>\n",
    " - K-Meansモデルの構築\n",
    " - 分散環境におけるK-Meansの仕組み（計算と通信）の分析"
   ]
  },
  {
   "cell_type": "code",
   "execution_count": 0,
   "metadata": {
    "application/vnd.databricks.v1+cell": {
     "cellMetadata": {},
     "inputWidgets": {},
     "nuid": "e95452b9-b84b-4cf5-b5cc-2daf384975f0",
     "showTitle": false,
     "title": ""
    }
   },
   "outputs": [],
   "source": [
    "from sklearn.datasets import load_iris\n",
    "import pandas as pd\n",
    "\n",
    "# Load in a Dataset from sklearn and convert to a Spark DataFrame\n",
    "iris = load_iris()\n",
    "iris_pd = pd.concat([pd.DataFrame(iris.data, columns=iris.feature_names), pd.DataFrame(iris.target, columns=[\"label\"])], axis=1)\n",
    "iris_df = spark.createDataFrame(iris_pd)\n",
    "display(iris_df)"
   ]
  },
  {
   "cell_type": "markdown",
   "metadata": {
    "application/vnd.databricks.v1+cell": {
     "cellMetadata": {},
     "inputWidgets": {},
     "nuid": "53f56643-4098-43e6-8179-7282c6ae3092",
     "showTitle": false,
     "title": ""
    }
   },
   "source": [
    "<i18n value=\"efd06e75-816c-4ab5-84b5-dd1da377fa01\"/>\n",
    "\n",
    "4つの特徴量を持っていることに注目してください。 可視化のためにそれらを2つの特徴量に減らし、 **`VectorAssembler`** に変換します。 そのためには、 **`VectorAssembler`** を使用します。"
   ]
  },
  {
   "cell_type": "code",
   "execution_count": 0,
   "metadata": {
    "application/vnd.databricks.v1+cell": {
     "cellMetadata": {},
     "inputWidgets": {},
     "nuid": "fe51beb1-3aa7-4ea7-9fa1-83613e587a83",
     "showTitle": false,
     "title": ""
    }
   },
   "outputs": [],
   "source": [
    "from pyspark.ml.feature import VectorAssembler\n",
    "\n",
    "vec_assembler = VectorAssembler(inputCols=[\"sepal length (cm)\", \"sepal width (cm)\"], outputCol=\"features\")\n",
    "iris_two_features_df = vec_assembler.transform(iris_df)\n",
    "display(iris_two_features_df)"
   ]
  },
  {
   "cell_type": "code",
   "execution_count": 0,
   "metadata": {
    "application/vnd.databricks.v1+cell": {
     "cellMetadata": {},
     "inputWidgets": {},
     "nuid": "f65bdcce-3980-449b-be55-b7569cf4c881",
     "showTitle": false,
     "title": ""
    }
   },
   "outputs": [],
   "source": [
    "from pyspark.ml.clustering import KMeans\n",
    "\n",
    "kmeans = KMeans(k=3, seed=221, maxIter=20)\n",
    "\n",
    "#  Call fit on the estimator and pass in iris_two_features_df\n",
    "model = kmeans.fit(iris_two_features_df)\n",
    "\n",
    "# Obtain the clusterCenters from the KMeansModel\n",
    "centers = model.clusterCenters()\n",
    "\n",
    "# Use the model to transform the DataFrame by adding cluster predictions\n",
    "transformed_df = model.transform(iris_two_features_df)\n",
    "\n",
    "print(centers)"
   ]
  },
  {
   "cell_type": "code",
   "execution_count": 0,
   "metadata": {
    "application/vnd.databricks.v1+cell": {
     "cellMetadata": {},
     "inputWidgets": {},
     "nuid": "51dce595-a674-4d01-977b-8cec40dd3dda",
     "showTitle": false,
     "title": ""
    }
   },
   "outputs": [],
   "source": [
    "model_centers = []\n",
    "iterations = [0, 2, 4, 7, 10, 20]\n",
    "for i in iterations:\n",
    "    kmeans = KMeans(k=3, seed=221, maxIter=i)\n",
    "    model = kmeans.fit(iris_two_features_df)\n",
    "    model_centers.append(model.clusterCenters())"
   ]
  },
  {
   "cell_type": "code",
   "execution_count": 0,
   "metadata": {
    "application/vnd.databricks.v1+cell": {
     "cellMetadata": {},
     "inputWidgets": {},
     "nuid": "8bdc0919-d9c6-44e7-b290-1cda28bda7d2",
     "showTitle": false,
     "title": ""
    }
   },
   "outputs": [],
   "source": [
    "print(\"model_centers:\")\n",
    "for centroids in model_centers:\n",
    "    print(centroids)"
   ]
  },
  {
   "cell_type": "markdown",
   "metadata": {
    "application/vnd.databricks.v1+cell": {
     "cellMetadata": {},
     "inputWidgets": {},
     "nuid": "7be3a7d9-190e-4ae5-b428-dc6b0d61f16b",
     "showTitle": false,
     "title": ""
    }
   },
   "source": [
    "<i18n value=\"840acc4b-58f7-439d-afe7-5a70d5718dc1\"/>\n",
    "\n",
    "クラスタリングの結果を真のラベルと比較して可視化してみましょう。\n",
    "\n",
    "注：K-meansは学習時に真のラベルを使用しないが、評価に使用することはできます。\n",
    "\n",
    "ここで、星はクラスタの中心を示します。"
   ]
  },
  {
   "cell_type": "code",
   "execution_count": 0,
   "metadata": {
    "application/vnd.databricks.v1+cell": {
     "cellMetadata": {},
     "inputWidgets": {},
     "nuid": "0e6143db-6610-45e7-8050-11b4d2d4efa7",
     "showTitle": false,
     "title": ""
    }
   },
   "outputs": [],
   "source": [
    "import matplotlib.pyplot as plt\n",
    "import matplotlib.cm as cm\n",
    "import numpy as np\n",
    "\n",
    "def prepare_subplot(xticks, yticks, figsize=(10.5, 6), hideLabels=False, gridColor=\"#999999\", gridWidth=1.0, subplots=(1, 1)):\n",
    "    \"\"\"Template for generating the plot layout.\"\"\"\n",
    "    fig, ax_list = plt.subplots(subplots[0], subplots[1], figsize=figsize, facecolor=\"white\", \n",
    "                               edgecolor=\"white\")\n",
    "    if not isinstance(ax_list, np.ndarray):\n",
    "        ax_list = np.array([ax_list])\n",
    "    \n",
    "    for ax in ax_list.flatten():\n",
    "        ax.axes.tick_params(labelcolor=\"#999999\", labelsize=\"10\")\n",
    "        for axis, ticks in [(ax.get_xaxis(), xticks), (ax.get_yaxis(), yticks)]:\n",
    "            axis.set_ticks_position(\"none\")\n",
    "            axis.set_ticks(ticks)\n",
    "            axis.label.set_color(\"#999999\")\n",
    "            if hideLabels: axis.set_ticklabels([])\n",
    "        ax.grid(color=gridColor, linewidth=gridWidth, linestyle=\"-\")\n",
    "        map(lambda position: ax.spines[position].set_visible(False), [\"bottom\", \"top\", \"left\", \"right\"])\n",
    "        \n",
    "    if ax_list.size == 1:\n",
    "        ax_list = ax_list[0]  # Just return a single axes object for a regular plot\n",
    "    return fig, ax_list"
   ]
  },
  {
   "cell_type": "code",
   "execution_count": 0,
   "metadata": {
    "application/vnd.databricks.v1+cell": {
     "cellMetadata": {},
     "inputWidgets": {},
     "nuid": "326a1c38-86be-456a-8dac-95a4715af057",
     "showTitle": false,
     "title": ""
    }
   },
   "outputs": [],
   "source": [
    "data = iris_two_features_df.select(\"features\", \"label\").collect()\n",
    "features, labels = zip(*data)\n",
    "\n",
    "x, y = zip(*features)\n",
    "centers = model_centers[5]\n",
    "centroid_x, centroid_y = zip(*centers)\n",
    "color_map = \"Set1\"\n",
    "\n",
    "fig, ax = prepare_subplot(np.arange(-1, 1.1, .4), np.arange(-1, 1.1, .4), figsize=(8,6))\n",
    "plt.scatter(x, y, s=14**2, c=labels, edgecolors=\"#8cbfd0\", alpha=0.80, cmap=color_map)\n",
    "plt.scatter(centroid_x, centroid_y, s=22**2, marker=\"*\", c=\"yellow\")\n",
    "cmap = cm.get_cmap(color_map)\n",
    "\n",
    "color_index = [.5, .99, .0]\n",
    "for i, (x,y) in enumerate(centers):\n",
    "    print(cmap(color_index[i]))\n",
    "    for size in [.10, .20, .30, .40, .50]:\n",
    "        circle1=plt.Circle((x,y), size, color=cmap(color_index[i]), alpha=.10, linewidth=2)\n",
    "        ax.add_artist(circle1)\n",
    "\n",
    "ax.set_xlabel(\"Sepal Length\"), ax.set_ylabel(\"Sepal Width\")\n",
    "fig"
   ]
  },
  {
   "cell_type": "markdown",
   "metadata": {
    "application/vnd.databricks.v1+cell": {
     "cellMetadata": {},
     "inputWidgets": {},
     "nuid": "25ddfd10-5d93-4b62-9b57-d13124d1dcb8",
     "showTitle": false,
     "title": ""
    }
   },
   "source": [
    "<i18n value=\"b5b5d89a-1595-4e0c-99a1-54209435cf81\"/>\n",
    "\n",
    "各反復でのクラスタのオーバーレイを見るだけでなく、各反復でクラスタの中心がどのように移動したかを見ることができます（より少ない反復で結果を出した場合はどのようになったかを見ることができます）。"
   ]
  },
  {
   "cell_type": "code",
   "execution_count": 0,
   "metadata": {
    "application/vnd.databricks.v1+cell": {
     "cellMetadata": {},
     "inputWidgets": {},
     "nuid": "6556f4e1-884b-4101-a072-64bfbd1bd8fd",
     "showTitle": false,
     "title": ""
    }
   },
   "outputs": [],
   "source": [
    "x, y = zip(*features)\n",
    "\n",
    "old_centroid_x, old_centroid_y = None, None\n",
    "\n",
    "fig, ax_list = prepare_subplot(np.arange(-1, 1.1, .4), np.arange(-1, 1.1, .4), figsize=(11, 15),\n",
    "                             subplots=(3, 2))\n",
    "ax_list = ax_list.flatten()\n",
    "\n",
    "for i,ax in enumerate(ax_list[:]):\n",
    "    ax.set_title(\"K-means for {0} iterations\".format(iterations[i]), color=\"#999999\")\n",
    "    centroids = model_centers[i]\n",
    "    centroid_x, centroid_y = zip(*centroids)\n",
    "    \n",
    "    ax.scatter(x, y, s=10**2, c=labels, edgecolors=\"#8cbfd0\", alpha=0.80, cmap=color_map, zorder=0)\n",
    "    ax.scatter(centroid_x, centroid_y, s=16**2, marker=\"*\", c=\"yellow\", zorder=2)\n",
    "    if old_centroid_x and old_centroid_y:\n",
    "      ax.scatter(old_centroid_x, old_centroid_y, s=16**2, marker=\"*\", c=\"grey\", zorder=1)\n",
    "    cmap = cm.get_cmap(color_map)\n",
    "    \n",
    "    color_index = [.5, .99, 0.]\n",
    "    for i, (x1,y1) in enumerate(centroids):\n",
    "      print(cmap(color_index[i]))\n",
    "      circle1=plt.Circle((x1,y1),.35,color=cmap(color_index[i]), alpha=.40)\n",
    "      ax.add_artist(circle1)\n",
    "    \n",
    "    ax.set_xlabel(\"Sepal Length\"), ax.set_ylabel(\"Sepal Width\")\n",
    "    old_centroid_x, old_centroid_y = centroid_x, centroid_y\n",
    "\n",
    "plt.tight_layout()\n",
    "\n",
    "fig"
   ]
  },
  {
   "cell_type": "markdown",
   "metadata": {
    "application/vnd.databricks.v1+cell": {
     "cellMetadata": {},
     "inputWidgets": {},
     "nuid": "569f4c4c-6008-42eb-86bd-b179eaad9ab1",
     "showTitle": false,
     "title": ""
    }
   },
   "source": [
    "<i18n value=\"06e7d08a-e824-435d-9835-adc29bd5c12e\"/>\n",
    "\n",
    "では、分散設定で何が起こっているのかを見てみましょう。"
   ]
  },
  {
   "cell_type": "markdown",
   "metadata": {
    "application/vnd.databricks.v1+cell": {
     "cellMetadata": {},
     "inputWidgets": {},
     "nuid": "505202ab-158b-454e-b6dc-4eff41086e9d",
     "showTitle": false,
     "title": ""
    }
   },
   "source": [
    "<i18n value=\"edc1d38d-5cc3-4bf5-bfc5-bb85a145bb16\"/>\n",
    "\n",
    "<img src=\"https://files.training.databricks.com/images/Mapstage.png\" height=200px>"
   ]
  },
  {
   "cell_type": "markdown",
   "metadata": {
    "application/vnd.databricks.v1+cell": {
     "cellMetadata": {},
     "inputWidgets": {},
     "nuid": "6da5c447-2e6d-4692-9660-34f6af6b5cee",
     "showTitle": false,
     "title": ""
    }
   },
   "source": [
    "<i18n value=\"aa078ae4-fbfd-4dc2-b0cb-92bc10714981\"/>\n",
    "\n",
    "<img src=\"https://files.training.databricks.com/images/Mapstage2.png\" height=500px>"
   ]
  },
  {
   "cell_type": "markdown",
   "metadata": {
    "application/vnd.databricks.v1+cell": {
     "cellMetadata": {},
     "inputWidgets": {},
     "nuid": "d70a8e72-126d-4b44-8432-6885341d11ec",
     "showTitle": false,
     "title": ""
    }
   },
   "source": [
    "<i18n value=\"9cf17004-1750-49fe-bb92-ce38c54c1ced\"/>\n",
    "\n",
    "<img src=\"https://files.training.databricks.com/images/ReduceStage.png\" height=500px>"
   ]
  },
  {
   "cell_type": "markdown",
   "metadata": {
    "application/vnd.databricks.v1+cell": {
     "cellMetadata": {},
     "inputWidgets": {},
     "nuid": "3ee262f5-3442-4c0f-82b6-2b3784807fcd",
     "showTitle": false,
     "title": ""
    }
   },
   "source": [
    "<i18n value=\"80c66031-e786-404e-8c77-c90a91fa3f4a\"/>\n",
    "\n",
    "<img src=\"https://files.training.databricks.com/images/Communication.png\" height=500px>"
   ]
  },
  {
   "cell_type": "markdown",
   "metadata": {
    "application/vnd.databricks.v1+cell": {
     "cellMetadata": {},
     "inputWidgets": {},
     "nuid": "233da1a1-fb7e-4179-9d44-d709a72a47b3",
     "showTitle": false,
     "title": ""
    }
   },
   "source": [
    "<i18n value=\"e0f585c1-1d13-4f8c-b9ae-dfd184547653\"/>\n",
    "\n",
    "## テイクアウェイ (Take Aways)\n",
    "\n",
    "分散MLアルゴリズムを設計/選択する場合は：\n",
    "* コミュニケーションは重要！\n",
    "* データ/モデルのディメンションと必要なデータ量を考慮すべき。\n",
    "* データパーティショニング・データの整理は重要！"
   ]
  },
  {
   "cell_type": "markdown",
   "metadata": {
    "application/vnd.databricks.v1+cell": {
     "cellMetadata": {},
     "inputWidgets": {},
     "nuid": "340dd564-f886-4bdb-8f68-be0e1389826f",
     "showTitle": false,
     "title": ""
    }
   },
   "source": [
    "&copy; 2022 Databricks, Inc. All rights reserved.<br/>\n",
    "Apache, Apache Spark, Spark and the Spark logo are trademarks of the <a href=\"https://www.apache.org/\">Apache Software Foundation</a>.<br/>\n",
    "<br/>\n",
    "<a href=\"https://databricks.com/privacy-policy\">Privacy Policy</a> | <a href=\"https://databricks.com/terms-of-use\">Terms of Use</a> | <a href=\"https://help.databricks.com/\">Support</a>"
   ]
  }
 ],
 "metadata": {
  "application/vnd.databricks.v1+notebook": {
   "dashboards": [],
   "language": "python",
   "notebookMetadata": {
    "pythonIndentUnit": 2
   },
   "notebookName": "MLE 02 - K-Means",
   "widgets": {}
  }
 },
 "nbformat": 4,
 "nbformat_minor": 0
}
