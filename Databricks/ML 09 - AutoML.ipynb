{
 "cells": [
  {
   "cell_type": "markdown",
   "metadata": {
    "application/vnd.databricks.v1+cell": {
     "cellMetadata": {},
     "inputWidgets": {},
     "nuid": "037537df-f8fb-402e-8beb-19ec81baf68b",
     "showTitle": false,
     "title": ""
    }
   },
   "source": [
    "\n",
    "<div style=\"text-align: center; line-height: 0; padding-top: 9px;\">\n",
    "  <img src=\"https://databricks.com/wp-content/uploads/2018/03/db-academy-rgb-1200px.png\" alt=\"Databricks Learning\" style=\"width: 600px\">\n",
    "</div>"
   ]
  },
  {
   "cell_type": "markdown",
   "metadata": {
    "application/vnd.databricks.v1+cell": {
     "cellMetadata": {},
     "inputWidgets": {},
     "nuid": "4f260474-794e-458c-b0d9-66ded9b3da8b",
     "showTitle": false,
     "title": ""
    }
   },
   "source": [
    "<i18n value=\"2630af5a-38e6-482e-87f1-1a1633438bb6\"/>\n",
    "\n",
    "# AutoML\n",
    "\n",
    "Databricksの <a href=\"https://docs.databricks.com/applications/machine-learning/automl.html\" target=\"_blank\">AutoML</a> を使って、UIもしくはプログラムから機械学習モデルを自動的に構築することができます。モデル学習のためにデータセットを準備し、（HyperOptを使用して）複数のモデルを作成、チューニング、評価する一連の試行を実行して記録します。 \n",
    "\n",
    "## ![Spark Logo Tiny](https://files.training.databricks.com/images/105/logo_spark_tiny.png)このレッスンでは、以下のことを行います。<br>\n",
    " - AutoMLを使用してモデルを自動的にトレーニングおよびチューニングする\n",
    " - PythonとUIでAutoMLを実行する\n",
    " - AutoMLの実行結果を解釈する"
   ]
  },
  {
   "cell_type": "code",
   "execution_count": 0,
   "metadata": {
    "application/vnd.databricks.v1+cell": {
     "cellMetadata": {
      "byteLimit": 2048000,
      "rowLimit": 10000
     },
     "inputWidgets": {},
     "nuid": "15f603ed-6bfd-42e0-99fe-7238fcca7628",
     "showTitle": false,
     "title": ""
    }
   },
   "outputs": [],
   "source": [
    "%run \"./Includes/Classroom-Setup\""
   ]
  },
  {
   "cell_type": "markdown",
   "metadata": {
    "application/vnd.databricks.v1+cell": {
     "cellMetadata": {},
     "inputWidgets": {},
     "nuid": "791a50e8-a95a-40fe-8b6d-5c2fc2e4d5aa",
     "showTitle": false,
     "title": ""
    }
   },
   "source": [
    "<i18n value=\"7aa84cf3-1b6c-4ba4-9249-00359ee8d70a\"/>\n",
    "\n",
    "現在、AutoMLはXGBoostとsklearn（シングルノードモデルのみ）を使用しており、それぞれでハイパーパラメータを最適化しています。"
   ]
  },
  {
   "cell_type": "code",
   "execution_count": 0,
   "metadata": {
    "application/vnd.databricks.v1+cell": {
     "cellMetadata": {
      "byteLimit": 2048000,
      "rowLimit": 10000
     },
     "inputWidgets": {},
     "nuid": "5a06eeb7-7fe6-43d4-8628-22846a6b59bc",
     "showTitle": false,
     "title": ""
    }
   },
   "outputs": [],
   "source": [
    "file_path = f\"{DA.paths.datasets}/airbnb/sf-listings/sf-listings-2019-03-06-clean.delta/\"\n",
    "airbnb_df = spark.read.format(\"delta\").load(file_path)\n",
    "train_df, test_df = airbnb_df.randomSplit([.8, .2], seed=42)"
   ]
  },
  {
   "cell_type": "markdown",
   "metadata": {
    "application/vnd.databricks.v1+cell": {
     "cellMetadata": {},
     "inputWidgets": {},
     "nuid": "fde942c2-f14c-4c57-98d3-9e4b008eef4e",
     "showTitle": false,
     "title": ""
    }
   },
   "source": [
    "<i18n value=\"1b5c8a94-3ac2-4977-bfe4-51a97d83ebd9\"/>\n",
    "\n",
    "AutoMLを使って最適な <a href=\"https://docs.databricks.com/applications/machine-learning/automl.html#regression\" target=\"_blank\">回帰</a> モデルを探索できます。 \n",
    "\n",
    "必要なパラメータ\n",
    "* **`dataset`** \\- 学習用の特徴量とターゲット値を格納したSpark DataFrame または Pandas DataFrame を用意します。Spark DataFrameを使う場合、.toPandas()を呼び出すことで内部でPandas DataFrameに変換します。データ量が多い場合にはOOM (out of memory)にならないように注意してください。\n",
    "* **`target_col`** \\- ターゲットラベルのカラム名\n",
    "\n",
    "また、オプションのパラメータとして次を指定できます。\n",
    "* **`primary_metric`** \\- 最適なモデルを選択するために優先的に使用するメトリック。各試行ではいくつかのメトリックを計算しますが、このprimary\\_metricによって最適なモデルを決定します。回帰に対していは、次のいずれかを指定します：  **`r2`** (R squared - デフォルト), **`mse`** (mean squared error : 平均二乗誤差), **`rmse`** (root mean squared error : 二乗平均平方根誤差), **`mae`** (mean absolute error : 平均絶対誤差)。\n",
    "* **`timeout_minutes`** \\- AutoML の試行が完了するまでの最大待ち時間。 **`timeout_minutes=None`** と指定するとタイムアウトの制約を受けずに試行を実行します。\n",
    "* **`max_trials`** \\- 実行する試行回数の最大値。 **`max_trials=None`** と指定すると、完了するまで実行します。(Databricks Runtime 10.3 MLからは、max_trialsが廃止されたため、設定しても無効になります。 )"
   ]
  },
  {
   "cell_type": "code",
   "execution_count": 0,
   "metadata": {
    "application/vnd.databricks.v1+cell": {
     "cellMetadata": {
      "byteLimit": 2048000,
      "rowLimit": 10000
     },
     "inputWidgets": {},
     "nuid": "2cde858f-3b74-4c06-b15a-4b78ddb8852b",
     "showTitle": false,
     "title": ""
    }
   },
   "outputs": [
    {
     "output_type": "stream",
     "name": "stderr",
     "output_type": "stream",
     "text": [
      "2024/05/06 09:26:29 WARNING databricks.automl.client.validation: Parameter max_trials is deprecated and has no effect. This parameter will be removed in a future Databricks Runtime release. Use timeout_minutes to control the duration of an AutoML experiment. AutoML will automatically stop tuning models if the validation metric no longer improves.\n2024/05/06 09:26:30 INFO databricks.automl.client.manager: AutoML will optimize for root mean squared error metric, which is tracked as val_root_mean_squared_error in the MLflow experiment.\n2024/05/06 09:26:32 INFO databricks.automl.client.manager: MLflow Experiment ID: 3529245064622630\n2024/05/06 09:26:32 INFO databricks.automl.client.manager: MLflow Experiment: https://adb-6408635526599659.19.azuredatabricks.net/?o=6408635526599659#mlflow/experiments/3529245064622630\n2024/05/06 09:28:12 INFO databricks.automl.client.manager: Data exploration notebook: https://adb-6408635526599659.19.azuredatabricks.net/?o=6408635526599659#notebook/3529245064622648\n2024/05/06 09:32:55 INFO databricks.automl.client.manager: AutoML experiment completed successfully.\n"
     ]
    },
    {
     "output_type": "display_data",
     "data": {
      "text/html": [
       "\n",
       "        <style>\n",
       "            .grid-container {\n",
       "              display: grid\n",
       "              grid-template-columns: auto;\n",
       "              padding: 10px;\n",
       "            }\n",
       "            <!-- Picked to be same as https://github.com/databricks/universe/blob/feaafc3875d9b95a124ed44ff4b99fb1002e544d/webapp/web/js/templates/iframeSandbox.css#L6-L11 -->\n",
       "            .grid-container div {\n",
       "              font-family: Helvetica, Arial, sans-serif;\n",
       "              font-size: 14px;\n",
       "            }\n",
       "        </style>\n",
       "        <div class=\"grid-container\">\n",
       "            \n",
       "            <div><p>For exploratory data analysis, open the <a href=https://adb-6408635526599659.19.azuredatabricks.net/?o=6408635526599659#notebook/3529245064622648>data exploration notebook</a></p></div>\n",
       "            <div><p>To view the best performing model, open the <a href=#notebook/3529245064622654>best trial notebook</a></p></div>\n",
       "            <div><p>To view details about all trials, navigate to the <a href=https://adb-6408635526599659.19.azuredatabricks.net/?o=6408635526599659#mlflow/experiments/3529245064622630>MLflow experiment</a></p></div>\n",
       "            <div><p><strong>Metrics for the best trial:</strong></p></div>\n",
       "            <div>\n",
       "                <!-- class inlined from https://github.com/databricks/universe/blob/feaafc3875d9b95a124ed44ff4b99fb1002e544d/webapp/web/js/templates/iframeSandbox.css#L35 -->\n",
       "                \n",
       "                    <table class=\"dataframe\">\n",
       "                        <thead>\n",
       "                          <tr>\n",
       "                            <th></th>\n",
       "                            <th>Train</th>\n",
       "                            <th>Validation</th>\n",
       "                            <th>Test</th>\n",
       "                          </tr>\n",
       "                        </thead>\n",
       "                        <tbody>\n",
       "                        \n",
       "                <tr>\n",
       "                    <th> root_mean_squared_error </th>\n",
       "                    <td> 219.833 </td>\n",
       "                    <td> 328.906 </td>\n",
       "                    <td> 383.472 </td>\n",
       "                </tr>\n",
       "                \n",
       "\n",
       "                <tr>\n",
       "                    <th> score </th>\n",
       "                    <td> 0.420 </td>\n",
       "                    <td> 0.240 </td>\n",
       "                    <td> 0.126 </td>\n",
       "                </tr>\n",
       "                \n",
       "\n",
       "                <tr>\n",
       "                    <th> mean_squared_error </th>\n",
       "                    <td> 48326.380 </td>\n",
       "                    <td> 108179.120 </td>\n",
       "                    <td> 147050.781 </td>\n",
       "                </tr>\n",
       "                \n",
       "\n",
       "                <tr>\n",
       "                    <th> example_count </th>\n",
       "                    <td> 3466.000 </td>\n",
       "                    <td> 1169.000 </td>\n",
       "                    <td> 1151.000 </td>\n",
       "                </tr>\n",
       "                \n",
       "\n",
       "                <tr>\n",
       "                    <th> mean_on_target </th>\n",
       "                    <td> 210.863 </td>\n",
       "                    <td> 219.494 </td>\n",
       "                    <td> 224.251 </td>\n",
       "                </tr>\n",
       "                \n",
       "\n",
       "                <tr>\n",
       "                    <th> r2_score </th>\n",
       "                    <td> 0.420 </td>\n",
       "                    <td> 0.240 </td>\n",
       "                    <td> 0.126 </td>\n",
       "                </tr>\n",
       "                \n",
       "\n",
       "                <tr>\n",
       "                    <th> mean_absolute_error </th>\n",
       "                    <td> 61.889 </td>\n",
       "                    <td> 79.632 </td>\n",
       "                    <td> 86.697 </td>\n",
       "                </tr>\n",
       "                \n",
       "\n",
       "                <tr>\n",
       "                    <th> mean_absolute_percentage_error </th>\n",
       "                    <td> 0.296 </td>\n",
       "                    <td> 0.350 </td>\n",
       "                    <td> 0.374 </td>\n",
       "                </tr>\n",
       "                \n",
       "\n",
       "                <tr>\n",
       "                    <th> max_error </th>\n",
       "                    <td> 8782.202 </td>\n",
       "                    <td> 7384.221 </td>\n",
       "                    <td> 8532.636 </td>\n",
       "                </tr>\n",
       "                \n",
       "\n",
       "                <tr>\n",
       "                    <th> sum_on_target </th>\n",
       "                    <td> 730852.000 </td>\n",
       "                    <td> 256588.000 </td>\n",
       "                    <td> 258113.000 </td>\n",
       "                </tr>\n",
       "                \n",
       "                        </tbody>\n",
       "                    </table>\n",
       "            \n",
       "            </div>\n",
       "        </div>\n",
       "        "
      ]
     },
     "metadata": {},
     "output_type": "display_data"
    }
   ],
   "source": [
    "from databricks import automl\n",
    "\n",
    "summary = automl.regress(train_df, target_col=\"price\", primary_metric=\"rmse\", timeout_minutes=5, max_trials=10)"
   ]
  },
  {
   "cell_type": "markdown",
   "metadata": {
    "application/vnd.databricks.v1+cell": {
     "cellMetadata": {},
     "inputWidgets": {},
     "nuid": "2ccb1ded-9442-4853-a730-14a647b87c53",
     "showTitle": false,
     "title": ""
    }
   },
   "source": [
    "<i18n value=\"57d884c6-2099-4f34-b840-a4e873308ffe\"/>\n",
    "\n",
    "前のセルを実行すると、2つのノートブックと1つのMLflow実験が表示されます。\n",
    "* **`Data exploration notebook (データ探索ノートブック)`** \\- 入力列ごとの値、頻度とその他の情報をまとめたデータ概要レポート。\n",
    "* **`Best trial notebook (最適試行ノートブック`** \\- AutoMLによって構築されたベストモデルを再現するためのソースコード。\n",
    "* **`MLflow experiment`** \\- ArtifactのRootロケーション、experiment(実験)のID、タグなどのハイレベルな情報が含まれています。実行（Run）一覧には、ノートブックやモデルの場所、トレーニングパラメータ、総合的なメトリクスなど、各トライアルに関する詳細なサマリーが記載されています。\n",
    "\n",
    "このノートブックとMLflowの実験を掘り下げると、何がわかるでしょうか？\n",
    "\n",
    "さらに、AutoMLは、最適な試行から得られたメトリックの短いリストを表示します。"
   ]
  },
  {
   "cell_type": "code",
   "execution_count": 0,
   "metadata": {
    "application/vnd.databricks.v1+cell": {
     "cellMetadata": {
      "byteLimit": 2048000,
      "rowLimit": 10000
     },
     "inputWidgets": {},
     "nuid": "dbf40652-4b22-456f-99db-c8b13dd51737",
     "showTitle": false,
     "title": ""
    }
   },
   "outputs": [
    {
     "output_type": "stream",
     "name": "stdout",
     "output_type": "stream",
     "text": [
      "\nModel: Pipeline\nModel path: dbfs:/databricks/mlflow-tracking/3529245064622630/b96e349e97de43c999dd1fd2ab5df9f8/artifacts/model\nPreprocessors: [('boolean', Pipeline(steps=[('cast_type',\n         FunctionTransformer(func=<function <lambda> at 0x7f2fc0d0a950>)),\n        ('imputers',\n         ColumnTransformer(remainder='passthrough', transformers=[])),\n        ('onehot',\n         OneHotEncoder(drop='first', handle_unknown='ignore'))]), ['review_scores_checkin_na', 'review_scores_accuracy_na', 'review_scores_value_na', 'review_scores_cleanliness_na', 'bathrooms_na', 'beds_na', 'bedrooms_na', 'rev...\nTraining duration: 0.323 minutes\nEvaluation metric score: 328.906\nEvaluation metric: root mean squared error (tracked as val_root_mean_squared_error)\n\n"
     ]
    }
   ],
   "source": [
    "print(summary.best_trial)"
   ]
  },
  {
   "cell_type": "markdown",
   "metadata": {
    "application/vnd.databricks.v1+cell": {
     "cellMetadata": {},
     "inputWidgets": {},
     "nuid": "4a7f488a-be46-48ff-8efa-f13ea3388e8f",
     "showTitle": false,
     "title": ""
    }
   },
   "source": [
    "<i18n value=\"3c0cd1ec-8965-4af3-896d-c30938033abf\"/>\n",
    "\n",
    "さて、AutoMLから取得したモデルをテストデータに対してテストすることができます。<a href=\"https://mlflow.org/docs/latest/python_api/mlflow.pyfunc.html#mlflow.pyfunc.spark_udf\" target=\"_blank\">mlflow.pyfunc.spark\\_udf</a> を使って、モデルをUDFとして登録し、テストデータに対して並列に適用していきます。"
   ]
  },
  {
   "cell_type": "code",
   "execution_count": 0,
   "metadata": {
    "application/vnd.databricks.v1+cell": {
     "cellMetadata": {
      "byteLimit": 2048000,
      "rowLimit": 10000
     },
     "inputWidgets": {},
     "nuid": "98fac0de-fc9b-4cdc-ad61-ef6a6eed6b88",
     "showTitle": false,
     "title": ""
    }
   },
   "outputs": [],
   "source": [
    "# Load the best trial as an MLflow Model\n",
    "import mlflow\n",
    "\n",
    "model_uri = f\"runs:/{summary.best_trial.mlflow_run_id}/model\"\n",
    "\n",
    "predict = mlflow.pyfunc.spark_udf(spark, model_uri)\n",
    "preds = predict(*test_df.drop(\"price\").columns)\n",
    "pred_df = test_df.withColumn(\"prediction\", preds[0])\n",
    "display(pred_df)"
   ]
  },
  {
   "cell_type": "code",
   "execution_count": 0,
   "metadata": {
    "application/vnd.databricks.v1+cell": {
     "cellMetadata": {
      "byteLimit": 2048000,
      "rowLimit": 10000
     },
     "inputWidgets": {},
     "nuid": "c3e1c8ff-b666-431f-bc0f-650a4df28b41",
     "showTitle": false,
     "title": ""
    }
   },
   "outputs": [
    {
     "output_type": "stream",
     "name": "stdout",
     "output_type": "stream",
     "text": [
      "RMSE on test dataset: 113.782\n"
     ]
    }
   ],
   "source": [
    "from pyspark.ml.evaluation import RegressionEvaluator\n",
    "\n",
    "regression_evaluator = RegressionEvaluator(predictionCol=\"prediction\", labelCol=\"price\", metricName=\"rmse\")\n",
    "rmse = regression_evaluator.evaluate(pred_df)\n",
    "print(f\"RMSE on test dataset: {rmse:.3f}\")"
   ]
  },
  {
   "cell_type": "markdown",
   "metadata": {
    "application/vnd.databricks.v1+cell": {
     "cellMetadata": {},
     "inputWidgets": {},
     "nuid": "959b750e-ba7d-4a08-90a8-c6d0c6d44ebc",
     "showTitle": false,
     "title": ""
    }
   },
   "source": [
    "&copy; 2022 Databricks, Inc. All rights reserved.<br/>\n",
    "Apache, Apache Spark, Spark and the Spark logo are trademarks of the <a href=\"https://www.apache.org/\">Apache Software Foundation</a>.<br/>\n",
    "<br/>\n",
    "<a href=\"https://databricks.com/privacy-policy\">Privacy Policy</a> | <a href=\"https://databricks.com/terms-of-use\">Terms of Use</a> | <a href=\"https://help.databricks.com/\">Support</a>"
   ]
  }
 ],
 "metadata": {
  "application/vnd.databricks.v1+notebook": {
   "dashboards": [],
   "language": "python",
   "notebookMetadata": {
    "pythonIndentUnit": 2
   },
   "notebookName": "ML 09 - AutoML",
   "widgets": {}
  }
 },
 "nbformat": 4,
 "nbformat_minor": 0
}
