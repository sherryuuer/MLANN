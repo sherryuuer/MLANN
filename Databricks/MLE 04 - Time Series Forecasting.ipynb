{
 "cells": [
  {
   "cell_type": "markdown",
   "metadata": {
    "application/vnd.databricks.v1+cell": {
     "cellMetadata": {},
     "inputWidgets": {},
     "nuid": "bec122d3-be18-492f-a187-aae153c7d48f",
     "showTitle": false,
     "title": ""
    }
   },
   "source": [
    "\n",
    "<div style=\"text-align: center; line-height: 0; padding-top: 9px;\">\n",
    "  <img src=\"https://databricks.com/wp-content/uploads/2018/03/db-academy-rgb-1200px.png\" alt=\"Databricks Learning\" style=\"width: 600px\">\n",
    "</div>"
   ]
  },
  {
   "cell_type": "markdown",
   "metadata": {
    "application/vnd.databricks.v1+cell": {
     "cellMetadata": {},
     "inputWidgets": {},
     "nuid": "677226ad-b651-439c-8be4-8c6910860bce",
     "showTitle": false,
     "title": ""
    }
   },
   "source": [
    "<i18n value=\"54c3040f-38b6-4562-8dd3-61a8bb6aeba1\"/>\n",
    "\n",
    "# 時系列予測 (Time Series Forecasting)\n",
    "\n",
    "時系列データを扱うことは、データサイエンスにおいて重要なスキルです。 このノートでは、時系列に対する3つの主要なアプローチについて学びます: Prophet、ARIMA、指数平滑化。\n",
    "\n",
    "## ![Spark Logo Tiny](https://files.training.databricks.com/images/105/logo_spark_tiny.png) このレッスンでは、次のことを行います。<br>\n",
    "- 時系列における主な概念の紹介\n",
    "- Prophetを使ったCOVIDデータの予測\n",
    "- ARIMAによる予測\n",
    "- 指数平滑化法による予測\n",
    "\n",
    "このノートブックでは、韓国のCOVID‑19感染者に関する<a href=\"https://www.kaggle.com/kimjihoo/coronavirusdataset\" target=\"_blank\">Coronavirus dataset</a> を使用します。"
   ]
  },
  {
   "cell_type": "code",
   "execution_count": 0,
   "metadata": {
    "application/vnd.databricks.v1+cell": {
     "cellMetadata": {},
     "inputWidgets": {},
     "nuid": "f8847139-9f48-4a74-9021-d33f35784c8b",
     "showTitle": false,
     "title": ""
    }
   },
   "outputs": [],
   "source": [
    "%pip install --upgrade pystan==2.19.1.1 fbprophet"
   ]
  },
  {
   "cell_type": "code",
   "execution_count": 0,
   "metadata": {
    "application/vnd.databricks.v1+cell": {
     "cellMetadata": {},
     "inputWidgets": {},
     "nuid": "571817d7-65df-4890-b7a2-f98562a907b5",
     "showTitle": false,
     "title": ""
    }
   },
   "outputs": [],
   "source": [
    "%run ../Includes/Classroom-Setup"
   ]
  },
  {
   "cell_type": "markdown",
   "metadata": {
    "application/vnd.databricks.v1+cell": {
     "cellMetadata": {},
     "inputWidgets": {},
     "nuid": "ba9d0b82-724c-489e-8a5f-737d94e912cd",
     "showTitle": false,
     "title": ""
    }
   },
   "source": [
    "<i18n value=\"5537f13d-b402-464f-8814-bb981709ffb2\"/>\n",
    "\n",
    "### <a href=\"https://en.wikipedia.org/wiki/Time_series\" target=\"_blank\">時系列 (Time Series)</a>\n",
    "\n",
    "時系列とは、時間順に索引付け（またはリスト化、グラフ化）された一連のデータポイントのことです。最も一般的な時系列は、時間的に等間隔に連続して取得されたデータ系列です。したがって、これは離散時間データのシーケンスです。時系列の例：<br>\n",
    "\n",
    "- 海洋潮汐の高さ\n",
    "- 太陽黒点の数\n",
    "- ダウ・ジョーンズ工業の平均株価の日次終値\n",
    "\n",
    "このノートブックでは、時系列予測、つまり過去に観測された値から構築したモデルで将来の値を予測することに焦点を当てます。"
   ]
  },
  {
   "cell_type": "code",
   "execution_count": 0,
   "metadata": {
    "application/vnd.databricks.v1+cell": {
     "cellMetadata": {},
     "inputWidgets": {},
     "nuid": "a05c8768-4629-4837-8371-55aa4de91a28",
     "showTitle": false,
     "title": ""
    }
   },
   "outputs": [],
   "source": [
    "file_path = f\"{DA.paths.datasets}/COVID/coronavirusdataset/Time.csv\"\n",
    "\n",
    "spark_df = (spark\n",
    "            .read\n",
    "            .option(\"inferSchema\", True)\n",
    "            .option(\"header\", True)\n",
    "            .csv(file_path)\n",
    "           )\n",
    "  \n",
    "display(spark_df)"
   ]
  },
  {
   "cell_type": "markdown",
   "metadata": {
    "application/vnd.databricks.v1+cell": {
     "cellMetadata": {},
     "inputWidgets": {},
     "nuid": "60dab11d-309c-4694-99d2-ae6ecc333daf",
     "showTitle": false,
     "title": ""
    }
   },
   "source": [
    "<i18n value=\"91681688-70e2-4eee-b18a-4afa353bce3f\"/>\n",
    "\n",
    "Spark DataFrameをPandas DataFrameに変換します。"
   ]
  },
  {
   "cell_type": "code",
   "execution_count": 0,
   "metadata": {
    "application/vnd.databricks.v1+cell": {
     "cellMetadata": {},
     "inputWidgets": {},
     "nuid": "ba7978a2-4891-46e6-9ca7-c8f603ef8779",
     "showTitle": false,
     "title": ""
    }
   },
   "outputs": [],
   "source": [
    "df = spark_df.toPandas()"
   ]
  },
  {
   "cell_type": "markdown",
   "metadata": {
    "application/vnd.databricks.v1+cell": {
     "cellMetadata": {},
     "inputWidgets": {},
     "nuid": "5ada279b-a4b5-440c-a285-770fbfe97f4f",
     "showTitle": false,
     "title": ""
    }
   },
   "source": [
    "<i18n value=\"920f1e35-2a54-4588-b4bf-72c6bed85e07\"/>\n",
    "\n",
    "データを見ると、時間列（データが観察された時間）は今回の予測に特に関係がないので、そのまま削除してもよいでしょう。"
   ]
  },
  {
   "cell_type": "code",
   "execution_count": 0,
   "metadata": {
    "application/vnd.databricks.v1+cell": {
     "cellMetadata": {},
     "inputWidgets": {},
     "nuid": "5d137b3c-2969-4e73-a2ef-c991f3c9e737",
     "showTitle": false,
     "title": ""
    }
   },
   "outputs": [],
   "source": [
    "df = df.drop(columns=\"time\")\n",
    "df.head()"
   ]
  },
  {
   "cell_type": "markdown",
   "metadata": {
    "application/vnd.databricks.v1+cell": {
     "cellMetadata": {},
     "inputWidgets": {},
     "nuid": "35c4e854-7b39-40cb-a1af-322b480519c0",
     "showTitle": false,
     "title": ""
    }
   },
   "source": [
    "<i18n value=\"f5c365d6-4d8b-49a2-a8be-36aa3232d6c1\"/>\n",
    "\n",
    "### Prophet\n",
    "<a href=\"https://facebook.github.io/prophet/\" target=\"_blank\">FacebookのProphetパッケージ</a>は、ユーザーに代わってヘビーな作業を行ってくれるため、時系列予測タスクによく採用されています。今回のデータセットを使ってProphetの使い方を見てみましょう。"
   ]
  },
  {
   "cell_type": "code",
   "execution_count": 0,
   "metadata": {
    "application/vnd.databricks.v1+cell": {
     "cellMetadata": {},
     "inputWidgets": {},
     "nuid": "8fec8f63-ebab-4629-83f4-da86cc4b39f3",
     "showTitle": false,
     "title": ""
    }
   },
   "outputs": [],
   "source": [
    "import pandas as pd\n",
    "from fbprophet import Prophet\n",
    "import logging\n",
    "\n",
    "# Suppresses `java_gateway` messages from Prophet as it runs.\n",
    "logging.getLogger(\"py4j\").setLevel(logging.ERROR)"
   ]
  },
  {
   "cell_type": "markdown",
   "metadata": {
    "application/vnd.databricks.v1+cell": {
     "cellMetadata": {},
     "inputWidgets": {},
     "nuid": "fedf1ac1-6eec-4912-8703-47759552c7c6",
     "showTitle": false,
     "title": ""
    }
   },
   "source": [
    "<i18n value=\"a0a43507-9db1-41da-b7bf-8d5c2f4b2a67\"/>\n",
    "\n",
    "Prophetの入力DataFrameに特定のカラム名が必要です。日付の列はdsに、予測する列はyに改名する必要があります。それでは、韓国での確定患者数を予想してみましょう。"
   ]
  },
  {
   "cell_type": "code",
   "execution_count": 0,
   "metadata": {
    "application/vnd.databricks.v1+cell": {
     "cellMetadata": {},
     "inputWidgets": {},
     "nuid": "c85364d3-0e8e-47b0-a965-dacf98cb26db",
     "showTitle": false,
     "title": ""
    }
   },
   "outputs": [],
   "source": [
    "prophet_df = pd.DataFrame()\n",
    "prophet_df[\"ds\"] = pd.to_datetime(df[\"date\"])\n",
    "prophet_df[\"y\"] = df[\"confirmed\"]\n",
    "prophet_df.head()"
   ]
  },
  {
   "cell_type": "markdown",
   "metadata": {
    "application/vnd.databricks.v1+cell": {
     "cellMetadata": {},
     "inputWidgets": {},
     "nuid": "29c67d5a-5147-4e87-a6be-0021db450863",
     "showTitle": false,
     "title": ""
    }
   },
   "source": [
    "<i18n value=\"daf04369-b1c3-4c84-80c1-0f7da47fc3e6\"/>\n",
    "\n",
    "次に、何日分の予測を行うかを指定しましょう。これは  **`Prophet.make_future_dataframe`** メソッドを用いて行うことができます。データの規模が大きいので、1ヵ月後の数字を見てみましょう。\n",
    "\n",
    "1ヶ月先までの日付を見ることができます。"
   ]
  },
  {
   "cell_type": "code",
   "execution_count": 0,
   "metadata": {
    "application/vnd.databricks.v1+cell": {
     "cellMetadata": {},
     "inputWidgets": {},
     "nuid": "d412bff3-b5b0-44c0-94b8-128197cd2006",
     "showTitle": false,
     "title": ""
    }
   },
   "outputs": [],
   "source": [
    "prophet_obj = Prophet()\n",
    "prophet_obj.fit(prophet_df)\n",
    "prophet_future = prophet_obj.make_future_dataframe(periods=30)\n",
    "prophet_future.tail()"
   ]
  },
  {
   "cell_type": "markdown",
   "metadata": {
    "application/vnd.databricks.v1+cell": {
     "cellMetadata": {},
     "inputWidgets": {},
     "nuid": "41ac2d2d-3e97-4e3b-94ac-9068a64df481",
     "showTitle": false,
     "title": ""
    }
   },
   "source": [
    "<i18n value=\"b79ef0fd-8017-4d04-a1f4-f4e8f04dfc87\"/>\n",
    "\n",
    "最後に、 **`predict`** メソッドを使って、データポイントを予測します。**`yhat`** 列には、予測値が格納されます。また、DataFrameにProphetが生成する他の値を確認することができます。"
   ]
  },
  {
   "cell_type": "code",
   "execution_count": 0,
   "metadata": {
    "application/vnd.databricks.v1+cell": {
     "cellMetadata": {},
     "inputWidgets": {},
     "nuid": "1104f674-9341-4a4c-a482-3abe1e76dbe2",
     "showTitle": false,
     "title": ""
    }
   },
   "outputs": [],
   "source": [
    "prophet_forecast = prophet_obj.predict(prophet_future)\n",
    "prophet_forecast[['ds', 'yhat']].tail()"
   ]
  },
  {
   "cell_type": "markdown",
   "metadata": {
    "application/vnd.databricks.v1+cell": {
     "cellMetadata": {},
     "inputWidgets": {},
     "nuid": "465cced6-6633-4f40-9c58-c29e41892d31",
     "showTitle": false,
     "title": ""
    }
   },
   "source": [
    "<i18n value=\"02352d36-96cb-4c11-aca6-d47a194f9942\"/>\n",
    "\n",
    "では、 **`plot`** を使って、予測結果のグラフ表示を見てみましょう。"
   ]
  },
  {
   "cell_type": "code",
   "execution_count": 0,
   "metadata": {
    "application/vnd.databricks.v1+cell": {
     "cellMetadata": {},
     "inputWidgets": {},
     "nuid": "dd95c1a4-0d72-4693-b884-920c90acacc7",
     "showTitle": false,
     "title": ""
    }
   },
   "outputs": [],
   "source": [
    "prophet_plot = prophet_obj.plot(prophet_forecast)"
   ]
  },
  {
   "cell_type": "markdown",
   "metadata": {
    "application/vnd.databricks.v1+cell": {
     "cellMetadata": {},
     "inputWidgets": {},
     "nuid": "1dcd9a8d-e22c-4fdc-b4d4-f583a9fbeceb",
     "showTitle": false,
     "title": ""
    }
   },
   "source": [
    "<i18n value=\"d260f48c-7aaa-4cf2-8ab1-50c3a9c7318d\"/>\n",
    "\n",
    "また、 **`plot_components`** を使用して、予測結果をより詳細に見ることができます。"
   ]
  },
  {
   "cell_type": "code",
   "execution_count": 0,
   "metadata": {
    "application/vnd.databricks.v1+cell": {
     "cellMetadata": {},
     "inputWidgets": {},
     "nuid": "7cfcf725-5d18-4150-ae0f-3b2a4a8b142f",
     "showTitle": false,
     "title": ""
    }
   },
   "outputs": [],
   "source": [
    "prophet_plot2 = prophet_obj.plot_components(prophet_forecast)"
   ]
  },
  {
   "cell_type": "markdown",
   "metadata": {
    "application/vnd.databricks.v1+cell": {
     "cellMetadata": {},
     "inputWidgets": {},
     "nuid": "b9df2f2f-5df9-4035-914a-6c09c10f81e1",
     "showTitle": false,
     "title": ""
    }
   },
   "source": [
    "<i18n value=\"44baaf89-7f68-48a7-9cfd-8ed431613bfa\"/>\n",
    "\n",
    "Prophetを使って、<a href=\"https://facebook.github.io/prophet/docs/trend_changepoints.html\" target=\"_blank\">チェンジポイント</a>（データセットが急激に変化したポイント）を特定することもできます。これは、感染者が急増した時期を特定できるためとても有用な情報になります。"
   ]
  },
  {
   "cell_type": "code",
   "execution_count": 0,
   "metadata": {
    "application/vnd.databricks.v1+cell": {
     "cellMetadata": {},
     "inputWidgets": {},
     "nuid": "44418cf8-9ffa-4cfc-99e7-58610b8cd1cb",
     "showTitle": false,
     "title": ""
    }
   },
   "outputs": [],
   "source": [
    "from fbprophet.plot import add_changepoints_to_plot\n",
    "\n",
    "prophet_plot = prophet_obj.plot(prophet_forecast)\n",
    "changepts = add_changepoints_to_plot(prophet_plot.gca(), prophet_obj, prophet_forecast)"
   ]
  },
  {
   "cell_type": "code",
   "execution_count": 0,
   "metadata": {
    "application/vnd.databricks.v1+cell": {
     "cellMetadata": {},
     "inputWidgets": {},
     "nuid": "c351fe78-7cf3-4e55-9cf0-5247b096633a",
     "showTitle": false,
     "title": ""
    }
   },
   "outputs": [],
   "source": [
    "print(prophet_obj.changepoints)"
   ]
  },
  {
   "cell_type": "markdown",
   "metadata": {
    "application/vnd.databricks.v1+cell": {
     "cellMetadata": {},
     "inputWidgets": {},
     "nuid": "63d1f9e7-d119-4a73-a45d-57253c4167c0",
     "showTitle": false,
     "title": ""
    }
   },
   "source": [
    "<i18n value=\"93d9af60-11de-472f-8a26-f9a679ff29f2\"/>\n",
    "\n",
    "次に、韓国での休日と感染者数の増加の相関を確認します。ビルトインの **`add_country_holidays`** <a href=\"https://facebook.github.io/prophet/docs/seasonality,_holiday_effects,_and_regressors.html#built-in-country-holidays\" target=\"_blank\">メソッド</a> を使って、休日に関するあらゆる傾向について調べることができます。\n",
    "\n",
    "国コードの完全なリストは、<a href=\"https://github.com/dr-prodigy/python-holidays/blob/master/holidays/countries/\" target=\"_blank\">こちら</a>で確認できます。"
   ]
  },
  {
   "cell_type": "code",
   "execution_count": 0,
   "metadata": {
    "application/vnd.databricks.v1+cell": {
     "cellMetadata": {},
     "inputWidgets": {},
     "nuid": "7577fcf8-44ca-4896-8f9b-4be7e7c153c3",
     "showTitle": false,
     "title": ""
    }
   },
   "outputs": [],
   "source": [
    "holidays = pd.DataFrame({\"ds\": [], \"holiday\": []})\n",
    "prophet_holiday = Prophet(holidays=holidays)\n",
    "\n",
    "prophet_holiday.add_country_holidays(country_name='KR')\n",
    "prophet_holiday.fit(prophet_df)"
   ]
  },
  {
   "cell_type": "markdown",
   "metadata": {
    "application/vnd.databricks.v1+cell": {
     "cellMetadata": {},
     "inputWidgets": {},
     "nuid": "4ad6b164-1243-42d3-b8c0-2f9c7371fb55",
     "showTitle": false,
     "title": ""
    }
   },
   "source": [
    "<i18n value=\"0a5f7168-3877-4457-81d4-4ceebce8ec02\"/>\n",
    "\n",
    "どのような祝日が含まれているかは、以下のセルを実行することで確認できます。"
   ]
  },
  {
   "cell_type": "code",
   "execution_count": 0,
   "metadata": {
    "application/vnd.databricks.v1+cell": {
     "cellMetadata": {},
     "inputWidgets": {},
     "nuid": "f9d16163-be09-407f-860e-b4a67c0f64fb",
     "showTitle": false,
     "title": ""
    }
   },
   "outputs": [],
   "source": [
    "prophet_holiday.train_holiday_names"
   ]
  },
  {
   "cell_type": "code",
   "execution_count": 0,
   "metadata": {
    "application/vnd.databricks.v1+cell": {
     "cellMetadata": {},
     "inputWidgets": {},
     "nuid": "d657e5a1-df96-45cf-8297-3858fb5364ad",
     "showTitle": false,
     "title": ""
    }
   },
   "outputs": [],
   "source": [
    "prophet_future = prophet_holiday.make_future_dataframe(periods=30)\n",
    "prophet_forecast = prophet_holiday.predict(prophet_future)\n",
    "prophet_plot_holiday = prophet_holiday.plot_components(prophet_forecast)"
   ]
  },
  {
   "cell_type": "markdown",
   "metadata": {
    "application/vnd.databricks.v1+cell": {
     "cellMetadata": {},
     "inputWidgets": {},
     "nuid": "b513a6e5-042f-4750-8baf-268c8492890f",
     "showTitle": false,
     "title": ""
    }
   },
   "source": [
    "<i18n value=\"81681565-2eb4-467c-8c5e-c6546c7230aa\"/>\n",
    "\n",
    "### ARIMA\n",
    "\n",
    "ARIMAとは、Auto-Regressive (AR) Integrated (I) Moving Average (MA)の略です。ARIMAモデルは回帰分析の一種で、データ系列のある点とその直近時点の値との関係性を分析する手法です。\n",
    "\n",
    "ARIMAは、Prophetと同様に、データセットの過去の値に基づいて将来の値を予測します。ARIMAはプロフェットと違い、設定作業が多くなりますが、様々な時系列に適用することが可能です。\n",
    "\n",
    "ARIMAモデルを作成するために、以下のパラメータを求める必要があります。\n",
    "\n",
    "- **`p`** (自己回帰パラメータ) :モデルに含まれるラグ観測の数で、ラグ次数とも呼ばれる。\n",
    "- **`d`** (差分の階数):生の観測値が差分される回数で、差分化の度合いとも呼ばれます。\n",
    "- **`q`** (移動平均パラメータ):移動平均の窓の大きさで、移動平均の次数とも呼ばれる。"
   ]
  },
  {
   "cell_type": "markdown",
   "metadata": {
    "application/vnd.databricks.v1+cell": {
     "cellMetadata": {},
     "inputWidgets": {},
     "nuid": "18889165-d00e-4d58-903b-2976215231a3",
     "showTitle": false,
     "title": ""
    }
   },
   "source": [
    "<i18n value=\"99b5826a-6cf1-4bb0-a859-8cce45c50f74\"/>\n",
    "\n",
    "まず、新しいARIMA DataFrameを作成します。確定症例はすでにProphetを使って予測したので、隔離解除の患者数の予測を見てみましょう。"
   ]
  },
  {
   "cell_type": "code",
   "execution_count": 0,
   "metadata": {
    "application/vnd.databricks.v1+cell": {
     "cellMetadata": {},
     "inputWidgets": {},
     "nuid": "105db320-d5de-4e07-bc70-c5f78d263b6b",
     "showTitle": false,
     "title": ""
    }
   },
   "outputs": [],
   "source": [
    "arima_df = pd.DataFrame()\n",
    "arima_df[\"date\"] = pd.to_datetime(df[\"date\"])\n",
    "arima_df[\"released\"] = df[\"released\"]\n",
    "arima_df.head()"
   ]
  },
  {
   "cell_type": "markdown",
   "metadata": {
    "application/vnd.databricks.v1+cell": {
     "cellMetadata": {},
     "inputWidgets": {},
     "nuid": "fb327bc9-3f3c-4d61-81e5-ba4fa1f365ac",
     "showTitle": false,
     "title": ""
    }
   },
   "source": [
    "<i18n value=\"286ec724-d52c-46ff-bd35-84201bede0a5\"/>\n",
    "\n",
    "ARIMAモデルを作成する最初のステップは、データセットが定常であることを確認し、dパラメータを求めます。これは、 **`statsmodels`** ライブラリの<a href=\"https://en.wikipedia.org/wiki/Augmented_Dickey%E2%80%93Fuller_test\" target=\"_blank\">Augmented Dickey Fuller Test</a>を使って簡単に確認することができます。\n",
    "\n",
    "P値がADF統計量より大きいので、データセットを差分する必要があります。差分化することで、データセットの平均値を安定させ、過去のトレンドや季節性の影響を排除することができます。"
   ]
  },
  {
   "cell_type": "code",
   "execution_count": 0,
   "metadata": {
    "application/vnd.databricks.v1+cell": {
     "cellMetadata": {},
     "inputWidgets": {},
     "nuid": "46a0dd4f-cbd5-4b76-b7fe-c88c1e6d2647",
     "showTitle": false,
     "title": ""
    }
   },
   "outputs": [],
   "source": [
    "from statsmodels.tsa.stattools import adfuller\n",
    "from numpy import log\n",
    "\n",
    "result = adfuller(df.released.dropna())\n",
    "print(f'ADF Statistic: {result[0]}')\n",
    "print(f'p-value: {result[1]}')"
   ]
  },
  {
   "cell_type": "markdown",
   "metadata": {
    "application/vnd.databricks.v1+cell": {
     "cellMetadata": {},
     "inputWidgets": {},
     "nuid": "ba7211f9-7dd6-47b7-b620-572724f27256",
     "showTitle": false,
     "title": ""
    }
   },
   "source": [
    "<i18n value=\"8766e03d-4623-40c2-a5fa-25684db75670\"/>\n",
    "\n",
    "データセットを差分化するには、valueカラムに対して **`diff`** を呼び出します。定義された平均とかなり早くゼロに到達するACFプロットの周りを歩き回る、ほぼ定常的な系列を探しています。グラフを見ると、dパラメータは1か2のどちらかにすべきことがわかります。"
   ]
  },
  {
   "cell_type": "code",
   "execution_count": 0,
   "metadata": {
    "application/vnd.databricks.v1+cell": {
     "cellMetadata": {},
     "inputWidgets": {},
     "nuid": "59c72ff7-f58a-4c56-ae34-baaaf93a94f8",
     "showTitle": false,
     "title": ""
    }
   },
   "outputs": [],
   "source": [
    "import matplotlib.pyplot as plt\n",
    "from statsmodels.graphics.tsaplots import plot_acf, plot_pacf\n",
    "\n",
    "plt.rcParams.update({\"figure.figsize\":(9,7), \"figure.dpi\":120})\n",
    "\n",
    "# Original Series\n",
    "fig, axes = plt.subplots(3, 2, sharex=True)\n",
    "axes[0, 0].plot(arima_df.released); axes[0, 0].set_title('Original Series')\n",
    "plot_acf(arima_df.released, ax=axes[0, 1])\n",
    "\n",
    "# 1st Differencing\n",
    "axes[1, 0].plot(arima_df.released.diff()); axes[1, 0].set_title('1st Order Differencing')\n",
    "plot_acf(arima_df.released.diff().dropna(), ax=axes[1, 1])\n",
    "\n",
    "# 2nd Differencing\n",
    "axes[2, 0].plot(arima_df.released.diff().diff()); axes[2, 0].set_title('2nd Order Differencing')\n",
    "plot_acf(arima_df.released.diff().diff().dropna(), ax=axes[2, 1])\n",
    "\n",
    "plt.show()"
   ]
  },
  {
   "cell_type": "markdown",
   "metadata": {
    "application/vnd.databricks.v1+cell": {
     "cellMetadata": {},
     "inputWidgets": {},
     "nuid": "7460449f-2d29-422e-a4df-b6741bbe0173",
     "showTitle": false,
     "title": ""
    }
   },
   "source": [
    "<i18n value=\"7e2a2b58-4516-4036-9f93-e6514c529de5\"/>\n",
    "\n",
    "次に、部分自己補正グラフ(Partial Autocorrection Plot)を用いて、必要なAR項の数を求めます。これがpパラメータです。\n",
    "\n",
    "部分自己補正とは、ある系列とそのラグとの相関を表すものです。グラフから、pパラメータは1にすべきです。"
   ]
  },
  {
   "cell_type": "code",
   "execution_count": 0,
   "metadata": {
    "application/vnd.databricks.v1+cell": {
     "cellMetadata": {},
     "inputWidgets": {},
     "nuid": "5a97461c-cc65-4e00-986c-d6c9b4ce6dc7",
     "showTitle": false,
     "title": ""
    }
   },
   "outputs": [],
   "source": [
    "plt.rcParams.update({\"figure.figsize\":(9,3), \"figure.dpi\":120})\n",
    "\n",
    "fig, axes = plt.subplots(1, 2, sharex=True)\n",
    "axes[0].plot(arima_df.released.diff()); axes[0].set_title('1st Differencing')\n",
    "axes[1].set(ylim=(0,5))\n",
    "plot_pacf(arima_df.released.diff().dropna(), ax=axes[1])\n",
    "\n",
    "plt.show()"
   ]
  },
  {
   "cell_type": "markdown",
   "metadata": {
    "application/vnd.databricks.v1+cell": {
     "cellMetadata": {},
     "inputWidgets": {},
     "nuid": "c5764d54-c9ec-4127-89dc-4d48af73804e",
     "showTitle": false,
     "title": ""
    }
   },
   "source": [
    "<i18n value=\"42204bfb-229b-4695-82f1-56b34ad04ba2\"/>\n",
    "\n",
    "最後に、ACFプロットを見ながら、移動平均の項数を求めて、qパラメータを求めます。移動平均は、観測値と遅延した観測値に適用される残差との間の依存性を組み込んでいます。グラフによると、qパラメータは1にすべきです。"
   ]
  },
  {
   "cell_type": "code",
   "execution_count": 0,
   "metadata": {
    "application/vnd.databricks.v1+cell": {
     "cellMetadata": {},
     "inputWidgets": {},
     "nuid": "a1dba916-1ea1-4ee8-b371-a1bce715bb5f",
     "showTitle": false,
     "title": ""
    }
   },
   "outputs": [],
   "source": [
    "fig, axes = plt.subplots(1, 2, sharex=True)\n",
    "axes[0].plot(arima_df.released.diff()); axes[0].set_title('1st Differencing')\n",
    "axes[1].set(ylim=(0,1.2))\n",
    "plot_acf(arima_df.released.diff().dropna(), ax=axes[1])\n",
    "\n",
    "plt.show()"
   ]
  },
  {
   "cell_type": "markdown",
   "metadata": {
    "application/vnd.databricks.v1+cell": {
     "cellMetadata": {},
     "inputWidgets": {},
     "nuid": "e8b4fe35-ab3c-4861-9822-9bc8c7b31f41",
     "showTitle": false,
     "title": ""
    }
   },
   "source": [
    "<i18n value=\"7855a2df-0091-4a6d-b05f-538c20784b66\"/>\n",
    "\n",
    "p、d、qのパラメータ値が決まったら、パラメータを渡してARIMAモデルのフィッティングを行うことができます。次のセルは、データセット情報とモデル係数を含むモデルの概要を示している。"
   ]
  },
  {
   "cell_type": "code",
   "execution_count": 0,
   "metadata": {
    "application/vnd.databricks.v1+cell": {
     "cellMetadata": {},
     "inputWidgets": {},
     "nuid": "c4b2d538-b1f4-4171-9b3a-e705bda8d8ed",
     "showTitle": false,
     "title": ""
    }
   },
   "outputs": [],
   "source": [
    "from statsmodels.tsa.arima_model import ARIMA\n",
    "\n",
    "# p, d, q\n",
    "# 1, 2, 1 ARIMA Model\n",
    "model = ARIMA(arima_df.released, order=(1,2,1))\n",
    "arima_fit = model.fit(disp=0)\n",
    "print(arima_fit.summary())"
   ]
  },
  {
   "cell_type": "markdown",
   "metadata": {
    "application/vnd.databricks.v1+cell": {
     "cellMetadata": {},
     "inputWidgets": {},
     "nuid": "412b7f0b-6b55-4b87-96ec-77760790042e",
     "showTitle": false,
     "title": ""
    }
   },
   "source": [
    "<i18n value=\"b787949f-d55a-4178-baf2-66b023567904\"/>\n",
    "\n",
    "最後に、モデルの精度を検証するために、データを学習データとテストデータに分割してみましょう。時系列でデータを分割する必要があるため、sklearnの**train_test_split`**のような関数はここでは使えないことに注意してください。"
   ]
  },
  {
   "cell_type": "code",
   "execution_count": 0,
   "metadata": {
    "application/vnd.databricks.v1+cell": {
     "cellMetadata": {},
     "inputWidgets": {},
     "nuid": "936ed754-51bc-4c6a-b069-79a7625f25f8",
     "showTitle": false,
     "title": ""
    }
   },
   "outputs": [],
   "source": [
    "split_ind = int(len(arima_df)*.7)\n",
    "train_df = arima_df[ :split_ind]\n",
    "test_df = arima_df[split_ind: ]\n",
    "#train_df.tail()\n",
    "#test_df.head()"
   ]
  },
  {
   "cell_type": "markdown",
   "metadata": {
    "application/vnd.databricks.v1+cell": {
     "cellMetadata": {},
     "inputWidgets": {},
     "nuid": "f7f52f9e-41a2-40b8-9b39-9fdc74a3448b",
     "showTitle": false,
     "title": ""
    }
   },
   "source": [
    "<i18n value=\"5e50d9a6-321f-4577-afa3-e146ad7a38ab\"/>\n",
    "\n",
    "予測には、サンプル外交差検証(Out of Sample Cross Validation)を使用します。グラフに示したように、予測値が実際の値よりも若干線形になっているが、全体としてはかなり実測値に近い値になっています。"
   ]
  },
  {
   "cell_type": "code",
   "execution_count": 0,
   "metadata": {
    "application/vnd.databricks.v1+cell": {
     "cellMetadata": {},
     "inputWidgets": {},
     "nuid": "ce2a56d0-b08d-482a-81ef-03ce1b4662c3",
     "showTitle": false,
     "title": ""
    }
   },
   "outputs": [],
   "source": [
    "train_model = ARIMA(train_df.released, order=(1,2,1))  \n",
    "train_fit = train_model.fit()  \n",
    "\n",
    "fc, se, conf = train_fit.forecast(int(len(arima_df)-split_ind))\n",
    "\n",
    "fc_series = pd.Series(fc, index=test_df.index)\n",
    "\n",
    "plt.plot(train_df.released, label='train', color=\"dodgerblue\")\n",
    "plt.plot(test_df.released, label='actual', color=\"orange\")\n",
    "plt.plot(fc_series, label='forecast', color=\"green\")\n",
    "plt.title('Forecast vs Actuals')\n",
    "plt.ylabel(\"Number of Released Patients\")\n",
    "plt.xlabel(\"Day Number\")\n",
    "plt.legend(loc='upper left', fontsize=8)\n",
    "plt.show()"
   ]
  },
  {
   "cell_type": "markdown",
   "metadata": {
    "application/vnd.databricks.v1+cell": {
     "cellMetadata": {},
     "inputWidgets": {},
     "nuid": "6fd21ff5-8673-4597-8da2-fe34507cb1ee",
     "showTitle": false,
     "title": ""
    }
   },
   "source": [
    "<i18n value=\"ce127e7b-c717-4d46-b354-77bf6a0f8dc0\"/>\n",
    "\n",
    "### 指数平滑化 (Exponential Smoothing)\n",
    "\n",
    "<a href=\"https://en.wikipedia.org/wiki/Exponential_smoothing\" target=\"_blank\">指数平滑化</a>とは、指数窓関数を用いて時系列データを平滑化する経験則の手法です。単純移動平均では過去の観測値が均等に重み付けされるのに対し、指数関数は時間の経過とともに指数的に減少する重みを割り当てるために使用されます。季節性など、ユーザーによる事前の想定に基づいて何らかの判断を行うための手順で、簡単に習得でき、簡単に適用できます。時系列データの解析には、指数平滑化がよく使われます。\n",
    "\n",
    "指数平滑化には3つのタイプがあります。<br>\n",
    "- 単純指数平滑化(SES)\n",
    "  - トレンドや季節性のないデータセットに使用します。\n",
    "- 二重指数平滑化（別名：ホルトの線形平滑化）\n",
    "  - トレンドはあるが季節性がないデータセットに使用します。\n",
    "- 三重指数平滑化（ホルト・ウィンタース指数平滑化とも呼ばれる）\n",
    "  - トレンドと季節性の両方を持つデータセットに使用されます。\n",
    "\n",
    "今回の場合、コロナウィルスのデータセットには明確なトレンドがありますが、季節性は特に重要ではないので、二重指数平滑化を使用することにします。"
   ]
  },
  {
   "cell_type": "markdown",
   "metadata": {
    "application/vnd.databricks.v1+cell": {
     "cellMetadata": {},
     "inputWidgets": {},
     "nuid": "1f187c6b-3057-4788-8335-e872c33a890c",
     "showTitle": false,
     "title": ""
    }
   },
   "source": [
    "<i18n value=\"294eaf9b-8ba0-4137-bb52-d27b39f3d34f\"/>\n",
    "\n",
    "他の2つのコラムはすでに予測済みなので、新型コロナウイルスに感染した死亡者数の予測を見てみよう。"
   ]
  },
  {
   "cell_type": "code",
   "execution_count": 0,
   "metadata": {
    "application/vnd.databricks.v1+cell": {
     "cellMetadata": {},
     "inputWidgets": {},
     "nuid": "91063a45-45f2-4b8c-9240-236d9043adf8",
     "showTitle": false,
     "title": ""
    }
   },
   "outputs": [],
   "source": [
    "exp_df = pd.DataFrame()\n",
    "exp_df[\"date\"] = pd.to_datetime(df[\"date\"])\n",
    "exp_df[\"deceased\"] = df[\"deceased\"]\n",
    "exp_df.head()"
   ]
  },
  {
   "cell_type": "markdown",
   "metadata": {
    "application/vnd.databricks.v1+cell": {
     "cellMetadata": {},
     "inputWidgets": {},
     "nuid": "80d2cdb9-612e-477d-84c9-29b3eee7b8b4",
     "showTitle": false,
     "title": ""
    }
   },
   "source": [
    "<i18n value=\"7ddb8a5e-453b-491d-ac0d-3087a2c7f955\"/>\n",
    "\n",
    "ホルトの線形平滑化はデータポイントが0より多いものにしか働かないので、該当する行を削除する必要があります(実装では、データポイントが0ではないものを抜き出し)。さらに、DataFrameのインデックスを日付カラムに設定する必要があります。"
   ]
  },
  {
   "cell_type": "code",
   "execution_count": 0,
   "metadata": {
    "application/vnd.databricks.v1+cell": {
     "cellMetadata": {},
     "inputWidgets": {},
     "nuid": "3a21793f-cde5-4eaa-a724-3e74c576717a",
     "showTitle": false,
     "title": ""
    }
   },
   "outputs": [],
   "source": [
    "exp_df = exp_df[exp_df[\"deceased\"] != 0]\n",
    "exp_df = exp_df.set_index(\"date\")\n",
    "exp_df.head()"
   ]
  },
  {
   "cell_type": "markdown",
   "metadata": {
    "application/vnd.databricks.v1+cell": {
     "cellMetadata": {},
     "inputWidgets": {},
     "nuid": "55032ff5-6970-45ba-9187-a9e450c6678f",
     "showTitle": false,
     "title": ""
    }
   },
   "source": [
    "<i18n value=\"b4fb0e59-5554-44b0-81b3-efbfeca88e33\"/>\n",
    "\n",
    "幸いなことに、statsmodelがそのほとんどのワークをやってくれています。しかし、正確な予測を得るためには、まだパラメータを微調整する必要があります。ここで利用可能なパラメータはα(または **`smoothing_level`** )とβ(または **`smoothing_slope`** )です。αは平滑化定数を、βはトレンド係数として定義されます。\n",
    "\n",
    "下のセルでは、3種類の予測を試しています。1つ目のHolt's Linear Trendは、直線的なトレンドで予測します。2つ目のExponential Trendは、指数的なトレンドで予測します。3つ目のAdditive Damped Trendは、予測トレンドを線形に減衰させるものです。"
   ]
  },
  {
   "cell_type": "code",
   "execution_count": 0,
   "metadata": {
    "application/vnd.databricks.v1+cell": {
     "cellMetadata": {},
     "inputWidgets": {},
     "nuid": "21f0a08b-3743-4cd5-aa73-4487310a27ab",
     "showTitle": false,
     "title": ""
    }
   },
   "outputs": [],
   "source": [
    "from statsmodels.tsa.holtwinters import Holt\n",
    "\n",
    "exp_fit1 = Holt(exp_df.deceased).fit(smoothing_level=0.8, smoothing_slope=0.2, optimized=False)\n",
    "exp_forecast1 = exp_fit1.forecast(30).rename(\"Holt's linear trend\")\n",
    "\n",
    "exp_fit2 = Holt(exp_df.deceased, exponential=True).fit(smoothing_level=0.8, smoothing_slope=0.2, optimized=False)\n",
    "exp_forecast2 = exp_fit2.forecast(30).rename(\"Exponential trend\")\n",
    "\n",
    "exp_fit3 = Holt(exp_df.deceased, damped=True).fit(smoothing_level=0.8, smoothing_slope=0.2)\n",
    "exp_forecast3 = exp_fit3.forecast(30).rename(\"Additive damped trend\")"
   ]
  },
  {
   "cell_type": "markdown",
   "metadata": {
    "application/vnd.databricks.v1+cell": {
     "cellMetadata": {},
     "inputWidgets": {},
     "nuid": "bcdce161-456f-4aff-bfe4-25e9ae21919b",
     "showTitle": false,
     "title": ""
    }
   },
   "source": [
    "<i18n value=\"4e3c58f7-afdc-42c6-805f-6f34770ea4d8\"/>\n",
    "\n",
    "3つのモデルをプロットした結果、標準的なHoltのLinearとExponentialのトレンドラインは非常によく似た予測をするのに対し、Additive Dampedのトレンドは死亡患者数をわずかに低くなっていることがわかります。"
   ]
  },
  {
   "cell_type": "code",
   "execution_count": 0,
   "metadata": {
    "application/vnd.databricks.v1+cell": {
     "cellMetadata": {},
     "inputWidgets": {},
     "nuid": "9c356af4-7c2d-43bb-98be-6f91e4180a53",
     "showTitle": false,
     "title": ""
    }
   },
   "outputs": [],
   "source": [
    "exp_fit1.fittedvalues.plot(color=\"orange\", label=\"Holt's linear trend\")\n",
    "exp_fit2.fittedvalues.plot(color=\"red\", label=\"Exponential trend\")\n",
    "exp_fit3.fittedvalues.plot(color=\"green\", label=\"Additive damped trend\")\n",
    "\n",
    "plt.legend()\n",
    "plt.ylabel(\"Number of Deceased Patients\")\n",
    "plt.xlabel(\"Day Number\")\n",
    "plt.show()"
   ]
  },
  {
   "cell_type": "markdown",
   "metadata": {
    "application/vnd.databricks.v1+cell": {
     "cellMetadata": {},
     "inputWidgets": {},
     "nuid": "08403953-e2c5-47d7-8432-951d757eb9a2",
     "showTitle": false,
     "title": ""
    }
   },
   "source": [
    "<i18n value=\"f3bbd647-3586-482f-880a-369258cfc7d0\"/>\n",
    "\n",
    "グラフの予測部分を拡大することで、より詳細なグラフを見ることができます。\n",
    "\n",
    "指数トレンドラインは、線形トレンドラインと一直線に始まり、グラフの終盤で徐々に指数トレンドに似てきていることがわかります。減衰したトレンドラインは、他のトレンドラインより下に始まり、下に終わります。"
   ]
  },
  {
   "cell_type": "code",
   "execution_count": 0,
   "metadata": {
    "application/vnd.databricks.v1+cell": {
     "cellMetadata": {},
     "inputWidgets": {},
     "nuid": "ecbe8da0-70a5-4c9f-b18a-08c9ef25bb52",
     "showTitle": false,
     "title": ""
    }
   },
   "outputs": [],
   "source": [
    "exp_forecast1.plot(legend=True, color=\"orange\")\n",
    "exp_forecast2.plot(legend=True, color=\"red\")\n",
    "exp_forecast3.plot(legend=True, color=\"green\")\n",
    "\n",
    "plt.ylabel(\"Number of Deceased Patients\")\n",
    "plt.xlabel(\"Day Number\")\n",
    "plt.show()"
   ]
  },
  {
   "cell_type": "markdown",
   "metadata": {
    "application/vnd.databricks.v1+cell": {
     "cellMetadata": {},
     "inputWidgets": {},
     "nuid": "9eef0992-2483-48d1-8e0a-84e79ed51986",
     "showTitle": false,
     "title": ""
    }
   },
   "source": [
    "&copy; 2022 Databricks, Inc. All rights reserved.<br/>\n",
    "Apache, Apache Spark, Spark and the Spark logo are trademarks of the <a href=\"https://www.apache.org/\">Apache Software Foundation</a>.<br/>\n",
    "<br/>\n",
    "<a href=\"https://databricks.com/privacy-policy\">Privacy Policy</a> | <a href=\"https://databricks.com/terms-of-use\">Terms of Use</a> | <a href=\"https://help.databricks.com/\">Support</a>"
   ]
  }
 ],
 "metadata": {
  "application/vnd.databricks.v1+notebook": {
   "dashboards": [],
   "language": "python",
   "notebookMetadata": {
    "pythonIndentUnit": 2
   },
   "notebookName": "MLE 04 - Time Series Forecasting",
   "widgets": {}
  }
 },
 "nbformat": 4,
 "nbformat_minor": 0
}
