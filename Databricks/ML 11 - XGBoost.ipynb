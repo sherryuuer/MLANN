{
 "cells": [
  {
   "cell_type": "markdown",
   "metadata": {
    "application/vnd.databricks.v1+cell": {
     "cellMetadata": {},
     "inputWidgets": {},
     "nuid": "52944d9d-22d1-4c04-b3c0-c00bcd6c4d63",
     "showTitle": false,
     "title": ""
    }
   },
   "source": [
    "\n",
    "<div style=\"text-align: center; line-height: 0; padding-top: 9px;\">\n",
    "  <img src=\"https://databricks.com/wp-content/uploads/2018/03/db-academy-rgb-1200px.png\" alt=\"Databricks Learning\" style=\"width: 600px\">\n",
    "</div>"
   ]
  },
  {
   "cell_type": "markdown",
   "metadata": {
    "application/vnd.databricks.v1+cell": {
     "cellMetadata": {},
     "inputWidgets": {},
     "nuid": "e28c50c7-03e3-40f0-b3b9-813423582af5",
     "showTitle": false,
     "title": ""
    }
   },
   "source": [
    "<i18n value=\"b9944704-a562-44e0-8ef6-8639f11312ca\"/>\n",
    "\n",
    "# XGBoost\n",
    "\n",
    "ここまでは、SparkMLのみを使用してきました。3rdパーティライブラリの勾配ブースティング決定木(Gradient Boosted Trees)を見てみましょう。 \n",
    " \n",
    "<a href=\"https://docs.microsoft.com/en-us/azure/databricks/runtime/mlruntime\" target=\"_blank\">Databricks Runtime for ML</a> には分散XGBoostがインストールされているので、それを使用していることを確認してください。 \n",
    "\n",
    "**質問**：gradient boosted treeとrandom forestの違いは？どの部分を並列化できるのか？\n",
    "\n",
    "## ![Spark Logo Tiny](https://files.training.databricks.com/images/105/logo_spark_tiny.png) このレッスンでは次を行います:<br>\n",
    " - サードパーティライブラリ（XGBoost）を使ってモデルをさらに改善します"
   ]
  },
  {
   "cell_type": "code",
   "execution_count": 0,
   "metadata": {
    "application/vnd.databricks.v1+cell": {
     "cellMetadata": {
      "byteLimit": 2048000,
      "rowLimit": 10000
     },
     "inputWidgets": {},
     "nuid": "45504536-ce1f-4a77-9724-ed537c2d6c79",
     "showTitle": false,
     "title": ""
    }
   },
   "outputs": [],
   "source": [
    "%run \"./Includes/Classroom-Setup\""
   ]
  },
  {
   "cell_type": "markdown",
   "metadata": {
    "application/vnd.databricks.v1+cell": {
     "cellMetadata": {},
     "inputWidgets": {},
     "nuid": "dafffb52-d287-46c7-b1c5-7ccfbd6ba809",
     "showTitle": false,
     "title": ""
    }
   },
   "source": [
    "<i18n value=\"3e08ca45-9a00-4c6a-ac38-169c7e87d9e4\"/>\n",
    "\n",
    "## データ準備 (Data Preparation)\n",
    "\n",
    "まず、すべてのカテゴリ型特徴量のインデックスを作成し、ラベルを **`log(price)`** に設定します."
   ]
  },
  {
   "cell_type": "code",
   "execution_count": 0,
   "metadata": {
    "application/vnd.databricks.v1+cell": {
     "cellMetadata": {},
     "inputWidgets": {},
     "nuid": "67d9115b-1528-49d0-ba80-4aa423a4a281",
     "showTitle": false,
     "title": ""
    }
   },
   "outputs": [],
   "source": [
    "from pyspark.sql.functions import log, col\n",
    "from pyspark.ml.feature import StringIndexer, VectorAssembler\n",
    "\n",
    "file_path = f\"{DA.paths.datasets}/airbnb/sf-listings/sf-listings-2019-03-06-clean.delta/\"\n",
    "airbnb_df = spark.read.format(\"delta\").load(file_path)\n",
    "train_df, test_df = airbnb_df.withColumn(\"label\", log(col(\"price\"))).randomSplit([.8, .2], seed=42)\n",
    "\n",
    "categorical_cols = [field for (field, dataType) in train_df.dtypes if dataType == \"string\"]\n",
    "index_output_cols = [x + \"Index\" for x in categorical_cols]\n",
    "\n",
    "string_indexer = StringIndexer(inputCols=categorical_cols, outputCols=index_output_cols, handleInvalid=\"skip\")\n",
    "\n",
    "numeric_cols = [field for (field, dataType) in train_df.dtypes if ((dataType == \"double\") & (field != \"price\") & (field != \"label\"))]\n",
    "assembler_inputs = index_output_cols + numeric_cols\n",
    "vec_assembler = VectorAssembler(inputCols=assembler_inputs, outputCol=\"features\")"
   ]
  },
  {
   "cell_type": "markdown",
   "metadata": {
    "application/vnd.databricks.v1+cell": {
     "cellMetadata": {},
     "inputWidgets": {},
     "nuid": "e6c41917-6445-401e-9617-fec7b500c954",
     "showTitle": false,
     "title": ""
    }
   },
   "source": [
    "<i18n value=\"733cd880-143d-42c2-9f29-602e48f60efe\"/>\n",
    "\n",
    "### Pyspark Distributed XGBoost\n",
    "\n",
    "それでは、分散型XGBoostのモデルを作ってみましょう。技術的にはMLlibの一部ではありませんが、<a href=\"https://databricks.github.io/spark-deep-learning/_modules/sparkdl/xgboost/xgboost.html\" target=\"_blank\">XGBoost</a> をMLのパイプラインに統合することができます。 \n",
    "\n",
    "Pyspark XGBoost の分散処理バージョンを使用する際に、2つの追加パラメータを指定することができます。\n",
    "\n",
    "* **`num_workers`** : 分散処理するworkerの数。MLR 9.0以上が必要です。\n",
    "* **`use_gpu`** : GPUを使ったトレーニングを可能にし、より高速なパフォーマンスを実現します（オプション）。\n",
    "\n",
    "**注意:** **`use_gpu`** は、ML GPUランタイムを必要とします。現在、分散学習を行う際に使用するGPUは、workerあたり最大1つです。"
   ]
  },
  {
   "cell_type": "code",
   "execution_count": 0,
   "metadata": {
    "application/vnd.databricks.v1+cell": {
     "cellMetadata": {},
     "inputWidgets": {},
     "nuid": "971040b9-bc80-4d2c-98c1-ee0234aaf9ab",
     "showTitle": false,
     "title": ""
    }
   },
   "outputs": [],
   "source": [
    "# from sparkdl.xgboost import XgboostRegressor\n",
    "from xgboost.spark import SparkXGBRegressor\n",
    "from pyspark.ml import Pipeline\n",
    "\n",
    "params = {\"n_estimators\": 100, \"learning_rate\": 0.1, \"max_depth\": 4, \"random_state\": 42, \"missing\": 0}\n",
    "\n",
    "xgboost = SparkXGBRegressor(**params)\n",
    "\n",
    "pipeline = Pipeline(stages=[string_indexer, vec_assembler, xgboost])\n",
    "pipeline_model = pipeline.fit(train_df)"
   ]
  },
  {
   "cell_type": "markdown",
   "metadata": {
    "application/vnd.databricks.v1+cell": {
     "cellMetadata": {},
     "inputWidgets": {},
     "nuid": "5da4293c-ad6b-494f-9c49-c5e77d15c39b",
     "showTitle": false,
     "title": ""
    }
   },
   "source": [
    "<i18n value=\"8d5f8c24-ee0b-476e-a250-95ce2d73dd28\"/>\n",
    "\n",
    "## 評価 (Evaluate)\n",
    "\n",
    "XGBoostのモデルの性能を評価します。指数にするのを忘れずに。"
   ]
  },
  {
   "cell_type": "code",
   "execution_count": 0,
   "metadata": {
    "application/vnd.databricks.v1+cell": {
     "cellMetadata": {},
     "inputWidgets": {},
     "nuid": "f1ffd99a-10f2-4d82-a445-ff2b4706d451",
     "showTitle": false,
     "title": ""
    }
   },
   "outputs": [],
   "source": [
    "from pyspark.sql.functions import exp, col\n",
    "\n",
    "log_pred_df = pipeline_model.transform(test_df)\n",
    "\n",
    "exp_xgboost_df = log_pred_df.withColumn(\"prediction\", exp(col(\"prediction\")))\n",
    "\n",
    "display(exp_xgboost_df.select(\"price\", \"prediction\"))"
   ]
  },
  {
   "cell_type": "markdown",
   "metadata": {
    "application/vnd.databricks.v1+cell": {
     "cellMetadata": {},
     "inputWidgets": {},
     "nuid": "e1a28c37-5e97-4b63-bc11-9ca14245a29d",
     "showTitle": false,
     "title": ""
    }
   },
   "source": [
    "<i18n value=\"364402e1-8073-4b24-8e03-c7e2566f94d2\"/>\n",
    "\n",
    "メトリクスを計算します。"
   ]
  },
  {
   "cell_type": "code",
   "execution_count": 0,
   "metadata": {
    "application/vnd.databricks.v1+cell": {
     "cellMetadata": {},
     "inputWidgets": {},
     "nuid": "e6c3a4fc-5ee0-4aef-b3a0-03635841ba4b",
     "showTitle": false,
     "title": ""
    }
   },
   "outputs": [],
   "source": [
    "from pyspark.ml.evaluation import RegressionEvaluator\n",
    "\n",
    "regression_evaluator = RegressionEvaluator(predictionCol=\"prediction\", labelCol=\"price\", metricName=\"rmse\")\n",
    "\n",
    "rmse = regression_evaluator.evaluate(exp_xgboost_df)\n",
    "r2 = regression_evaluator.setMetricName(\"r2\").evaluate(exp_xgboost_df)\n",
    "print(f\"RMSE is {rmse}\")\n",
    "print(f\"R2 is {r2}\")"
   ]
  },
  {
   "cell_type": "markdown",
   "metadata": {
    "application/vnd.databricks.v1+cell": {
     "cellMetadata": {},
     "inputWidgets": {},
     "nuid": "9150cd50-c3fc-4e5f-95d2-f04385922308",
     "showTitle": false,
     "title": ""
    }
   },
   "source": [
    "<i18n value=\"21cf0d1b-c7a8-43c0-8eea-7677bb0d7847\"/>\n",
    "\n",
    "## 他の Gradient Boosted アプローチ\n",
    "\n",
    "XGBoostの他にも <a href=\"https://catboost.ai/\" target=\"_blank\">CatBoost</a> 、 <a href=\"https://github.com/microsoft/LightGBM\" target=\"_blank\">LightGBM</a> 、 <a href=\"https://spark.apache.org/docs/latest/api/python/reference/api/pyspark.ml.classification.GBTClassifier.html?highlight=gbt#pyspark.ml.classification.GBTClassifier\" target=\"_blank\">SparkML</a> / <a href=\"https://scikit-learn.org/stable/modules/generated/sklearn.ensemble.GradientBoostingClassifier.html\" target=\"_blank\">scikit-learn</a> における基本的な(バニラの)勾配ブースティング決定木など、Gradient Boosted アプローチはたくさんあります。それぞれ <a href=\"https://towardsdatascience.com/catboost-vs-light-gbm-vs-xgboost-5f93620723db\" target=\"_blank\">長所と短所</a> があるので、詳しくはそちらをご覧ください。"
   ]
  },
  {
   "cell_type": "markdown",
   "metadata": {
    "application/vnd.databricks.v1+cell": {
     "cellMetadata": {},
     "inputWidgets": {},
     "nuid": "ea73d7ea-6547-4ec5-bd43-fac4be4e468e",
     "showTitle": false,
     "title": ""
    }
   },
   "source": [
    "&copy; 2022 Databricks, Inc. All rights reserved.<br/>\n",
    "Apache, Apache Spark, Spark and the Spark logo are trademarks of the <a href=\"https://www.apache.org/\">Apache Software Foundation</a>.<br/>\n",
    "<br/>\n",
    "<a href=\"https://databricks.com/privacy-policy\">Privacy Policy</a> | <a href=\"https://databricks.com/terms-of-use\">Terms of Use</a> | <a href=\"https://help.databricks.com/\">Support</a>"
   ]
  }
 ],
 "metadata": {
  "application/vnd.databricks.v1+notebook": {
   "dashboards": [],
   "language": "python",
   "notebookMetadata": {
    "pythonIndentUnit": 2
   },
   "notebookName": "ML 11 - XGBoost",
   "widgets": {}
  }
 },
 "nbformat": 4,
 "nbformat_minor": 0
}
