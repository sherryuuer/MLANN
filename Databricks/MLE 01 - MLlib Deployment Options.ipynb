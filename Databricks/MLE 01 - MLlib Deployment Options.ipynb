{
 "cells": [
  {
   "cell_type": "markdown",
   "metadata": {
    "application/vnd.databricks.v1+cell": {
     "cellMetadata": {},
     "inputWidgets": {},
     "nuid": "d9a12367-9619-44e5-8ae3-dd88f3ab76da",
     "showTitle": false,
     "title": ""
    }
   },
   "source": [
    "\n",
    "<div style=\"text-align: center; line-height: 0; padding-top: 9px;\">\n",
    "  <img src=\"https://databricks.com/wp-content/uploads/2018/03/db-academy-rgb-1200px.png\" alt=\"Databricks Learning\" style=\"width: 600px\">\n",
    "</div>"
   ]
  },
  {
   "cell_type": "markdown",
   "metadata": {
    "application/vnd.databricks.v1+cell": {
     "cellMetadata": {},
     "inputWidgets": {},
     "nuid": "52e9646e-5837-4d56-a9ba-0fc33afb1535",
     "showTitle": false,
     "title": ""
    }
   },
   "source": [
    "<i18n value=\"59431a59-5305-45dc-81c5-bc13132e61ce\"/>\n",
    "\n",
    "![](https://files.training.databricks.com/images/301/deployment_options_mllib.png)\n",
    "\n",
    "主なデプロイ方法は4つあります。\n",
    "* バッチ・プリ・コンピュート\n",
    "* 構造化ストリーミング\n",
    "* 低レイテンシーモデルサービング\n",
    "* モバイル／エッジ推論（本クラス範囲外）\n",
    "\n",
    "Sparkを使ったバッチ予測のやり方はすでに見てきました。では、ストリーミングデータで予測を行う方法について見てみましょう。\n",
    "\n",
    "## ![Spark Logo Tiny](https://files.training.databricks.com/images/105/logo_spark_tiny.png) このレッスンで以下を行います。<br>\n",
    " - シミュレーションされたデータストリームにSparkMLモデルを適用します。"
   ]
  },
  {
   "cell_type": "code",
   "execution_count": 0,
   "metadata": {
    "application/vnd.databricks.v1+cell": {
     "cellMetadata": {},
     "inputWidgets": {},
     "nuid": "19cea71c-78a4-4c6e-ab47-2e8b2abbd20e",
     "showTitle": false,
     "title": ""
    }
   },
   "outputs": [],
   "source": [
    "%run \"../Includes/Classroom-Setup\""
   ]
  },
  {
   "cell_type": "markdown",
   "metadata": {
    "application/vnd.databricks.v1+cell": {
     "cellMetadata": {},
     "inputWidgets": {},
     "nuid": "8c3fc816-bd49-4039-9211-426cfcca1c68",
     "showTitle": false,
     "title": ""
    }
   },
   "source": [
    "<i18n value=\"46846e08-4b50-4297-a871-98beaf65c3f7\"/>\n",
    "\n",
    "## モデルとデータの読込 (Load in Model & Data)\n",
    "\n",
    "ストリーミング予測の進捗をより段階的に見るために、データセットの再パーティション化（4パーティションから100パーティション）したものをロードしています。"
   ]
  },
  {
   "cell_type": "code",
   "execution_count": 0,
   "metadata": {
    "application/vnd.databricks.v1+cell": {
     "cellMetadata": {},
     "inputWidgets": {},
     "nuid": "c0b3ddab-0266-4aac-ac34-5b386465fa6d",
     "showTitle": false,
     "title": ""
    }
   },
   "outputs": [],
   "source": [
    "from pyspark.ml.pipeline import PipelineModel\n",
    "\n",
    "pipeline_path = f\"{DA.paths.datasets}/airbnb/sf-listings/models/sf-listings-2019-03-06/pipeline_model\"\n",
    "pipeline_model = PipelineModel.load(pipeline_path)\n",
    "\n",
    "repartitioned_path =  f\"{DA.paths.datasets}/airbnb/sf-listings/sf-listings-2019-03-06-clean-100p.parquet/\"\n",
    "schema = spark.read.parquet(repartitioned_path).schema"
   ]
  },
  {
   "cell_type": "markdown",
   "metadata": {
    "application/vnd.databricks.v1+cell": {
     "cellMetadata": {},
     "inputWidgets": {},
     "nuid": "961a2db8-3ca7-4efd-9db0-0181e08c3796",
     "showTitle": false,
     "title": ""
    }
   },
   "source": [
    "<i18n value=\"6d5976b8-54b3-4379-9240-2fb9b7941f4c\"/>\n",
    "\n",
    "## ストリーミングデータのシミュレーション (Simulate streaming data)\n",
    "\n",
    "**注**:ストリーミングソースDataFrameを作成する際には、スキーマを指定する必要があります。"
   ]
  },
  {
   "cell_type": "code",
   "execution_count": 0,
   "metadata": {
    "application/vnd.databricks.v1+cell": {
     "cellMetadata": {},
     "inputWidgets": {},
     "nuid": "a47eb2e5-2264-4157-ac1e-f5b117dbc298",
     "showTitle": false,
     "title": ""
    }
   },
   "outputs": [],
   "source": [
    "streaming_data = (spark\n",
    "                 .readStream\n",
    "                 .schema(schema) # Can set the schema this way\n",
    "                 .option(\"maxFilesPerTrigger\", 1)\n",
    "                 .parquet(repartitioned_path))"
   ]
  },
  {
   "cell_type": "markdown",
   "metadata": {
    "application/vnd.databricks.v1+cell": {
     "cellMetadata": {},
     "inputWidgets": {},
     "nuid": "ff27081f-dd76-4afd-9ec2-adbdf1706cb3",
     "showTitle": false,
     "title": ""
    }
   },
   "source": [
    "<i18n value=\"29c9d057-1b46-41ff-a7a0-2d80a113e7a3\"/>\n",
    "\n",
    "## 予測実施 (Make Predictions)"
   ]
  },
  {
   "cell_type": "code",
   "execution_count": 0,
   "metadata": {
    "application/vnd.databricks.v1+cell": {
     "cellMetadata": {},
     "inputWidgets": {},
     "nuid": "6ec0126f-365d-407c-8513-d9307ac4e786",
     "showTitle": false,
     "title": ""
    }
   },
   "outputs": [],
   "source": [
    "stream_pred = pipeline_model.transform(streaming_data)"
   ]
  },
  {
   "cell_type": "markdown",
   "metadata": {
    "application/vnd.databricks.v1+cell": {
     "cellMetadata": {},
     "inputWidgets": {},
     "nuid": "cf7959af-58cb-43e9-b4c1-3de21efa6154",
     "showTitle": false,
     "title": ""
    }
   },
   "source": [
    "<i18n value=\"d0c54563-04fc-48f3-b739-9acc85723d51\"/>\n",
    "\n",
    "結果を保存しておきます。"
   ]
  },
  {
   "cell_type": "code",
   "execution_count": 0,
   "metadata": {
    "application/vnd.databricks.v1+cell": {
     "cellMetadata": {},
     "inputWidgets": {},
     "nuid": "5a8f2fc4-1596-4a45-8b69-42bef473d495",
     "showTitle": false,
     "title": ""
    }
   },
   "outputs": [],
   "source": [
    "import re\n",
    "\n",
    "checkpoint_dir = f\"{DA.paths.working_dir}/stream_checkpoint\"\n",
    "# Clear out the checkpointing directory\n",
    "dbutils.fs.rm(checkpoint_dir, True) \n",
    "\n",
    "query = (stream_pred.writeStream\n",
    "                    .format(\"memory\")\n",
    "                    .option(\"checkpointLocation\", checkpoint_dir)\n",
    "                    .outputMode(\"append\")\n",
    "                    .queryName(\"pred_stream\")\n",
    "                    .start())"
   ]
  },
  {
   "cell_type": "code",
   "execution_count": 0,
   "metadata": {
    "application/vnd.databricks.v1+cell": {
     "cellMetadata": {},
     "inputWidgets": {},
     "nuid": "c861ad51-dc6d-4bfa-99e8-2ccf2c9620a2",
     "showTitle": false,
     "title": ""
    }
   },
   "outputs": [],
   "source": [
    "DA.block_until_stream_is_ready(query)"
   ]
  },
  {
   "cell_type": "markdown",
   "metadata": {
    "application/vnd.databricks.v1+cell": {
     "cellMetadata": {},
     "inputWidgets": {},
     "nuid": "3bc2129a-7c5f-4a17-9430-8c07cd5c843d",
     "showTitle": false,
     "title": ""
    }
   },
   "source": [
    "<i18n value=\"3654909a-da6d-4e8e-919a-9802e8292e77\"/>\n",
    "\n",
    "この実行中に、Spark UI のStructured Streaming タブを見てみてください。"
   ]
  },
  {
   "cell_type": "code",
   "execution_count": 0,
   "metadata": {
    "application/vnd.databricks.v1+cell": {
     "cellMetadata": {},
     "inputWidgets": {},
     "nuid": "9939a543-4cbd-4f52-9a1f-63458673c842",
     "showTitle": false,
     "title": ""
    }
   },
   "outputs": [],
   "source": [
    "%sql \n",
    "select * from pred_stream"
   ]
  },
  {
   "cell_type": "code",
   "execution_count": 0,
   "metadata": {
    "application/vnd.databricks.v1+cell": {
     "cellMetadata": {},
     "inputWidgets": {},
     "nuid": "a48ce0de-ffe8-4ece-9f27-ff900492e514",
     "showTitle": false,
     "title": ""
    }
   },
   "outputs": [],
   "source": [
    "%sql\n",
    "select count(*) from pred_stream"
   ]
  },
  {
   "cell_type": "markdown",
   "metadata": {
    "application/vnd.databricks.v1+cell": {
     "cellMetadata": {},
     "inputWidgets": {},
     "nuid": "2232d48b-c15e-41a9-b3e3-6f03de23a3cb",
     "showTitle": false,
     "title": ""
    }
   },
   "source": [
    "<i18n value=\"fb17c70a-c926-446c-a94a-900afc08efff\"/>\n",
    "\n",
    "これで完了なので、必ずストリームを停止します。"
   ]
  },
  {
   "cell_type": "code",
   "execution_count": 0,
   "metadata": {
    "application/vnd.databricks.v1+cell": {
     "cellMetadata": {},
     "inputWidgets": {},
     "nuid": "54f45788-d21f-4556-98a9-be8cb26d97d1",
     "showTitle": false,
     "title": ""
    }
   },
   "outputs": [],
   "source": [
    "for stream in spark.streams.active:\n",
    "    print(f\"Stopping {stream.name}\")\n",
    "    stream.stop()             # Stop the active stream\n",
    "    stream.awaitTermination() # Wait for it to actually stop"
   ]
  },
  {
   "cell_type": "markdown",
   "metadata": {
    "application/vnd.databricks.v1+cell": {
     "cellMetadata": {},
     "inputWidgets": {},
     "nuid": "d926cf13-7af7-4cb1-9432-de5d1f825fc2",
     "showTitle": false,
     "title": ""
    }
   },
   "source": [
    "<i18n value=\"622245a0-07c0-43ee-967c-41cb4a601152\"/>\n",
    "\n",
    "### モデルエクスポートはどうやって実施しますか？(What about Model Export?)\n",
    "\n",
    "* <a href=\"https://onnx.ai/\" target=\"_blank\">ONNX</a>.\n",
    "  * ONNXは深層学習コミュニティで非常に人気があり、開発者がライブラリと言語を切り替えることができますが、MLlibを実験的にしかサポートしていません。\n",
    "* DIY（自分で再実装すること）\n",
    "  * エラーが発生しやすい、壊れやすい\n",
    "* サードパーティライブラリ\n",
    "  * XGBoostノートブック参照\n",
    "  * <a href=\"https://www.h2o.ai/products/h2o-sparkling-water/\" target=\"_blank\">H2O</a>"
   ]
  },
  {
   "cell_type": "markdown",
   "metadata": {
    "application/vnd.databricks.v1+cell": {
     "cellMetadata": {},
     "inputWidgets": {},
     "nuid": "4e7d70d5-ae81-4709-84a9-8836440d6f01",
     "showTitle": false,
     "title": ""
    }
   },
   "source": [
    "<i18n value=\"39b0e95b-29e0-462f-a7ec-17bb6c5469ef\"/>\n",
    "\n",
    "### 低レイテンシー・サービング・ソリューション (Low-Latency Serving Solutions)\n",
    "\n",
    "低レイテンシーサービングは、数十から数百ミリ秒程度で高速で動作します。 カスタムソリューションは通常、DockerやFlaskによって支えられています（ただし、Flaskは一般的に、重要な予防措置がとられていない限り、本番では推奨されません）。 また、マネージド・ソリューションには次のようなものがあります。<br>\n",
    "\n",
    "<a href=\"https://docs.databricks.com/applications/mlflow/model-serving.html\" target=\"_blank\">MLflowモデルサービング</a>。\n",
    "* <a href=\"https://azure.microsoft.com/en-us/services/machine-learning/\" target=\"_blank\">Azure Machine Learning</a>.\n",
    "* <a href=\"https://aws.amazon.com/sagemaker/\" target=\"_blank\">SageMaker</a>。"
   ]
  },
  {
   "cell_type": "markdown",
   "metadata": {
    "application/vnd.databricks.v1+cell": {
     "cellMetadata": {},
     "inputWidgets": {},
     "nuid": "0f8a893a-29e1-4c00-8304-ff0d33d41595",
     "showTitle": false,
     "title": ""
    }
   },
   "source": [
    "&copy; 2022 Databricks, Inc. All rights reserved.<br/>\n",
    "Apache, Apache Spark, Spark and the Spark logo are trademarks of the <a href=\"https://www.apache.org/\">Apache Software Foundation</a>.<br/>\n",
    "<br/>\n",
    "<a href=\"https://databricks.com/privacy-policy\">Privacy Policy</a> | <a href=\"https://databricks.com/terms-of-use\">Terms of Use</a> | <a href=\"https://help.databricks.com/\">Support</a>"
   ]
  }
 ],
 "metadata": {
  "application/vnd.databricks.v1+notebook": {
   "dashboards": [],
   "language": "python",
   "notebookMetadata": {
    "pythonIndentUnit": 2
   },
   "notebookName": "MLE 01 - MLlib Deployment Options",
   "widgets": {}
  }
 },
 "nbformat": 4,
 "nbformat_minor": 0
}
