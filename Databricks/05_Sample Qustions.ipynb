{
 "cells": [
  {
   "cell_type": "markdown",
   "metadata": {
    "application/vnd.databricks.v1+cell": {
     "cellMetadata": {},
     "inputWidgets": {},
     "nuid": "38c7340f-3665-4e74-9c9b-1c7cbb0b031d",
     "showTitle": false,
     "title": ""
    }
   },
   "source": [
    "\n",
    "# Sample Qustions"
   ]
  },
  {
   "cell_type": "markdown",
   "metadata": {
    "application/vnd.databricks.v1+cell": {
     "cellMetadata": {},
     "inputWidgets": {},
     "nuid": "77dd13a7-e056-4048-b844-b5d47daf13aa",
     "showTitle": false,
     "title": ""
    }
   },
   "source": [
    "\n",
    "### Q1\n",
    "### Objective: Create a new branch and commit changes to an external Git provider.\n",
    "A data scientist is developing a machine learning model. They made changes to their code in a text editor on their local machine, committed them to the project’s Git repository, and pushed thechanges to an online Git provider. Now, they want to load those changes into Databricks. TheDatabricks workspace contains an out-of-date version of the Git repository.<br>\n",
    "How can the data scientist complete this task?\n",
    "\n",
    "A. Open the Repo Git dialog and enable automatic syncing.<br>\n",
    "B. Open the Repo Git dialog and click the “Sync” button.<br>\n",
    "C. Open the Repo Git dialog and click the “Merge” button.<br>\n",
    "D. Open the Repo Git dialog and enable automatic pulling.<br>\n",
    "E. Open the Repo Git dialog and click the “Pull” button"
   ]
  },
  {
   "cell_type": "code",
   "execution_count": 0,
   "metadata": {
    "application/vnd.databricks.v1+cell": {
     "cellMetadata": {},
     "inputWidgets": {},
     "nuid": "aa73162f-9b04-4e36-8359-49614e459d6c",
     "showTitle": false,
     "title": ""
    }
   },
   "outputs": [],
   "source": [
    "# Your answer E\n"
   ]
  },
  {
   "cell_type": "markdown",
   "metadata": {
    "application/vnd.databricks.v1+cell": {
     "cellMetadata": {},
     "inputWidgets": {},
     "nuid": "72dac64c-9cf5-4270-9b9f-37f2ba16e0ec",
     "showTitle": false,
     "title": ""
    }
   },
   "source": [
    "\n",
    "### Q2\n",
    "### Objective: Write data to a feature store table.\n",
    "A data scientist has computed updated rows that contain new feature values for primary keysalready stored in the Feature Store table features.<br>\n",
    "The updated feature values are stored in the DataFrame features_df. They want to update the rows in features if the associated primary key is in features_df. If a row’s primary key is not in features_df, they want the row to remain unchanged in features.<br>\n",
    "Which code block using the Feature Store Client fs can be used to accomplish this task?"
   ]
  },
  {
   "cell_type": "code",
   "execution_count": 0,
   "metadata": {
    "application/vnd.databricks.v1+cell": {
     "cellMetadata": {},
     "inputWidgets": {},
     "nuid": "6e2d22bc-905b-4d31-9c72-38f44fed5d3d",
     "showTitle": false,
     "title": ""
    }
   },
   "outputs": [],
   "source": [
    "# A. \n",
    "fs.write_table(\n",
    "  name=\"features\",\n",
    "  df=features_df,\n",
    "  mode=\"merge\"\n",
    ")\n",
    "\n",
    "# B. \n",
    "fs.write_table(\n",
    "  name=\"features\",\n",
    "  df=features_df,\n",
    "  mode=\"overwrite\"\n",
    ")\n",
    "\n",
    "# C. \n",
    "fs.write_table(\n",
    "  name=\"features\",\n",
    "  df=features_df,\n",
    ")\n",
    "\n",
    "# D. \n",
    "fs.create_table(\n",
    "  name=\"features\",\n",
    "  df=features_df,\n",
    "  mode=\"append\"\n",
    ")\n",
    "\n",
    "# E. \n",
    "fs.refresh_table(\n",
    "  name=\"features\",\n",
    "  df=features_df,\n",
    "  mode=\"overwrite\"\n",
    ")"
   ]
  },
  {
   "cell_type": "code",
   "execution_count": 0,
   "metadata": {
    "application/vnd.databricks.v1+cell": {
     "cellMetadata": {},
     "inputWidgets": {},
     "nuid": "0f8bec0d-49fe-4b4b-897a-84e651d8ccc3",
     "showTitle": false,
     "title": ""
    }
   },
   "outputs": [],
   "source": [
    "# Your answer A\n"
   ]
  },
  {
   "cell_type": "markdown",
   "metadata": {
    "application/vnd.databricks.v1+cell": {
     "cellMetadata": {},
     "inputWidgets": {},
     "nuid": "1cd636c8-1f54-4300-8ff0-fe8067ade598",
     "showTitle": false,
     "title": ""
    }
   },
   "source": [
    "\n",
    "### Q3\n",
    "### Objective: Programmatically transition a model’s stage.\n",
    "A senior machine learning engineer is developing a machine learning pipeline. They set up the pipeline to automatically transition a new version of a registered model to the Production stage in the Model Registry once it passes all tests using the MLflow Client API client.<br>\n",
    "Which operation was used to transition the model to the Production stage?<br>\n",
    "\n",
    "A. Client.update_model_stage<br>\n",
    "B. client.transition_model_version_stage<br>\n",
    "C. client.transition_model_version<br>\n",
    "D. client.update_model_version<br>"
   ]
  },
  {
   "cell_type": "code",
   "execution_count": 0,
   "metadata": {
    "application/vnd.databricks.v1+cell": {
     "cellMetadata": {},
     "inputWidgets": {},
     "nuid": "4aa16245-9ec5-4fa3-99cc-e19963ef7767",
     "showTitle": false,
     "title": ""
    }
   },
   "outputs": [],
   "source": [
    "# Your answer B\n"
   ]
  },
  {
   "cell_type": "markdown",
   "metadata": {
    "application/vnd.databricks.v1+cell": {
     "cellMetadata": {},
     "inputWidgets": {},
     "nuid": "16de2de5-f17e-4a06-a589-7bdedc3f9b4e",
     "showTitle": false,
     "title": ""
    }
   },
   "source": [
    "\n",
    "### Q4\n",
    "### Objective: Make a Python library newpackage available in a given scenario.\n",
    "A machine learning team wants to use the Python library newpackage on all of their projects. Theyshare a cluster for all of their projects.<br>\n",
    "Which approach makes the Python library newpackage available to all notebooks run on a cluster?<br>\n",
    "\n",
    "A. Edit the cluster to use the Databricks Runtime for Machine Learning<br>\n",
    "B. Set the runtime-version variable in their Spark session to \"ml\"<br>\n",
    "C. Running %pip install newpackage once on any notebook attached to the cluster<br>\n",
    "D. Adding /databricks/python/bin/pip install newpackage to the cluster’s bash init script<br>\n",
    "E. There is no way to make the newpackage library available on a cluster"
   ]
  },
  {
   "cell_type": "code",
   "execution_count": 0,
   "metadata": {
    "application/vnd.databricks.v1+cell": {
     "cellMetadata": {},
     "inputWidgets": {},
     "nuid": "a8abbe64-b091-4e5a-940f-77b85f2a78c1",
     "showTitle": false,
     "title": ""
    }
   },
   "outputs": [],
   "source": [
    "# Your answer D\n"
   ]
  },
  {
   "cell_type": "markdown",
   "metadata": {
    "application/vnd.databricks.v1+cell": {
     "cellMetadata": {},
     "inputWidgets": {},
     "nuid": "c4e19cb9-32e0-4869-aa62-60ba7c760597",
     "showTitle": false,
     "title": ""
    }
   },
   "source": [
    "\n",
    "### Q5\n",
    "### Objective: identify code blocks for computing the accuracy of a model.\n",
    "A data scientist has developed a two-class decision tree classifier using Spark ML and computed the predictions in a Spark DataFrame preds_df with the following schema:<br>\n",
    "prediction DOUBLE<br>\n",
    "actual DOUBLE<br>\n",
    "Which of the following code blocks can be used to compute the accuracy of the model according\n",
    "to the data in preds_df and assign it to the accuracy variable?"
   ]
  },
  {
   "cell_type": "code",
   "execution_count": 0,
   "metadata": {
    "application/vnd.databricks.v1+cell": {
     "cellMetadata": {},
     "inputWidgets": {},
     "nuid": "3bf6d42d-2ace-44c7-8624-981fc8991178",
     "showTitle": false,
     "title": ""
    }
   },
   "outputs": [],
   "source": [
    "# A.\n",
    "accuracy = RegressionEvaluator(\n",
    "predictionCol=\"prediction\",\n",
    "labelCol=\"actual\",\n",
    "metricName=\"accuracy\"\n",
    ")\n",
    "\n",
    "# B. \n",
    "accuracy = MulticlassClassificationEvaluator(\n",
    "predictionCol=\"prediction\",\n",
    "labelCol=\"actual\",\n",
    "metricName=\"accuracy\"\n",
    ")\n",
    "accuracy = classification_evaluator.evaluate(preds_df)\n",
    "\n",
    "# C. \n",
    "classification_evaluator = BinaryClassificationEvaluator(\n",
    "predictionCol=\"prediction\",\n",
    "labelCol=\"actual\",\n",
    "metricName=\"accuracy\"\n",
    ")\n",
    "\n",
    "# D. \n",
    "accuracy = Summarizer(\n",
    "predictionCol=\"prediction\",\n",
    "labelCol=\"actual\",\n",
    "metricName=\"accuracy\"\n",
    ")\n",
    "\n",
    "# E. \n",
    "classification_evaluator = BinaryClassificationEvaluator(\n",
    "predictionCol=\"prediction\",\n",
    "labelCol=\"actual\",\n",
    "metricName=\"accuracy\"\n",
    ")\n",
    "accuracy = classification_evaluator.evaluate(preds_df)"
   ]
  },
  {
   "cell_type": "code",
   "execution_count": 0,
   "metadata": {
    "application/vnd.databricks.v1+cell": {
     "cellMetadata": {},
     "inputWidgets": {},
     "nuid": "b9fbf709-f1bc-46d3-9cbc-4ffec350d27f",
     "showTitle": false,
     "title": ""
    }
   },
   "outputs": [],
   "source": [
    "# Your answer E\n"
   ]
  }
 ],
 "metadata": {
  "application/vnd.databricks.v1+notebook": {
   "dashboards": [],
   "environmentMetadata": null,
   "language": "python",
   "notebookMetadata": {
    "pythonIndentUnit": 2
   },
   "notebookName": "05_Sample Qustions",
   "widgets": {}
  }
 },
 "nbformat": 4,
 "nbformat_minor": 0
}
