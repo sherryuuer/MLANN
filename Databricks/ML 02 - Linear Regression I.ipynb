{
 "cells": [
  {
   "cell_type": "markdown",
   "metadata": {
    "application/vnd.databricks.v1+cell": {
     "cellMetadata": {},
     "inputWidgets": {},
     "nuid": "ffa10bf0-ccdb-4d60-b60c-2f8d10b5c7df",
     "showTitle": false,
     "title": ""
    }
   },
   "source": [
    "\n",
    "<div style=\"text-align: center; line-height: 0; padding-top: 9px;\">\n",
    "  <img src=\"https://databricks.com/wp-content/uploads/2018/03/db-academy-rgb-1200px.png\" alt=\"Databricks Learning\" style=\"width: 600px\">\n",
    "</div>"
   ]
  },
  {
   "cell_type": "markdown",
   "metadata": {
    "application/vnd.databricks.v1+cell": {
     "cellMetadata": {},
     "inputWidgets": {},
     "nuid": "b4972f8c-cbfc-4735-b0c3-676a1ea0b23b",
     "showTitle": false,
     "title": ""
    }
   },
   "source": [
    "<i18n value=\"62811f6d-e550-4c60-8903-f38d7ed56ca7\"/>\n",
    "\n",
    "# 回帰: レンタル料金の予測 (Regression: Predicting Rental Price)\n",
    "\n",
    "このノートブックでは、前回のラボでクレンジングしたデータセットを使って、サンフランシスコのAirbnbの料金を予測します。\n",
    "\n",
    "## ![Spark Logo Tiny](https://files.training.databricks.com/images/105/logo_spark_tiny.png)このレッスンでは次を行います:<br>\n",
    " - SparkML APIを使用して線形回帰モデルを構築する\n",
    " - (推定器)estimatorと変換器(transformer)の違いを明確にする"
   ]
  },
  {
   "cell_type": "code",
   "execution_count": 0,
   "metadata": {
    "application/vnd.databricks.v1+cell": {
     "cellMetadata": {
      "byteLimit": 2048000,
      "rowLimit": 10000
     },
     "inputWidgets": {},
     "nuid": "7d839b6e-691f-4091-a267-69dd2757ba03",
     "showTitle": false,
     "title": ""
    }
   },
   "outputs": [
    {
     "output_type": "display_data",
     "data": {
      "text/html": [
       "<style scoped>\n",
       "  .ansiout {\n",
       "    display: block;\n",
       "    unicode-bidi: embed;\n",
       "    white-space: pre-wrap;\n",
       "    word-wrap: break-word;\n",
       "    word-break: break-all;\n",
       "    font-family: \"Menlo\", \"Monaco\", \"Consolas\", \"Ubuntu Mono\", \"Source Code Pro\", monospace;\n",
       "    font-size: 13px;\n",
       "    color: #555;\n",
       "    margin-left: 4px;\n",
       "    line-height: 19px;\n",
       "  }\n",
       "</style>"
      ]
     },
     "metadata": {
      "application/vnd.databricks.v1+output": {
       "arguments": {},
       "data": "",
       "errorSummary": "",
       "errorTraceType": null,
       "metadata": {},
       "type": "ipynbError"
      }
     },
     "output_type": "display_data"
    }
   ],
   "source": [
    "%run \"./Includes/Classroom-Setup\""
   ]
  },
  {
   "cell_type": "code",
   "execution_count": 0,
   "metadata": {
    "application/vnd.databricks.v1+cell": {
     "cellMetadata": {
      "byteLimit": 2048000,
      "rowLimit": 10000
     },
     "inputWidgets": {},
     "nuid": "fb71c07d-44cc-49fa-b3dc-7ea9ab083eb2",
     "showTitle": false,
     "title": ""
    }
   },
   "outputs": [],
   "source": [
    "file_path = f\"{DA.paths.datasets}/airbnb/sf-listings/sf-listings-2019-03-06-clean.delta/\"\n",
    "airbnb_df = spark.read.format(\"delta\").load(file_path)"
   ]
  },
  {
   "cell_type": "markdown",
   "metadata": {
    "application/vnd.databricks.v1+cell": {
     "cellMetadata": {},
     "inputWidgets": {},
     "nuid": "9f3fbc62-1598-4c1d-8d02-3d3aa8bfbeb6",
     "showTitle": false,
     "title": ""
    }
   },
   "source": [
    "<i18n value=\"ee10d185-fc70-48b8-8efe-ea2feee28e01\"/>\n",
    "\n",
    "## トレーニング用データ、テスト用データの分割 (Train/Test Split)\n",
    "\n",
    "![](https://files.training.databricks.com/images/301/TrainTestSplit.png)\n",
    "\n",
    "**質問**: なぜ、seed を設定する必要がありますか？クラスタの構成(後述するパーティション数)を変更した場合はどうなりますか？"
   ]
  },
  {
   "cell_type": "code",
   "execution_count": 0,
   "metadata": {
    "application/vnd.databricks.v1+cell": {
     "cellMetadata": {
      "byteLimit": 2048000,
      "rowLimit": 10000
     },
     "inputWidgets": {},
     "nuid": "e30d0e32-fe04-4f57-9eb9-1a96a3b062b0",
     "showTitle": false,
     "title": ""
    }
   },
   "outputs": [],
   "source": [
    "train_df, test_df = airbnb_df.randomSplit([.8, .2], seed=42)\n",
    "print(train_df.cache().count())"
   ]
  },
  {
   "cell_type": "markdown",
   "metadata": {
    "application/vnd.databricks.v1+cell": {
     "cellMetadata": {},
     "inputWidgets": {},
     "nuid": "2d26c844-cd0d-4640-a8d9-7eaf97d246ce",
     "showTitle": false,
     "title": ""
    }
   },
   "source": [
    "<i18n value=\"b70f996a-31a2-4b62-a699-dc6026105465\"/>\n",
    "\n",
    "パーティションの数を変えてトレーニング用データの数が同じになるか見てみましょう。"
   ]
  },
  {
   "cell_type": "code",
   "execution_count": 0,
   "metadata": {
    "application/vnd.databricks.v1+cell": {
     "cellMetadata": {
      "byteLimit": 2048000,
      "rowLimit": 10000
     },
     "inputWidgets": {},
     "nuid": "77ded2a4-fc97-401c-a8a2-1f338000a80d",
     "showTitle": false,
     "title": ""
    }
   },
   "outputs": [],
   "source": [
    "train_repartition_df, test_repartition_df = (airbnb_df\n",
    "                                             .repartition(24)\n",
    "                                             .randomSplit([.8, .2], seed=42))\n",
    "\n",
    "print(train_repartition_df.count())"
   ]
  },
  {
   "cell_type": "markdown",
   "metadata": {
    "application/vnd.databricks.v1+cell": {
     "cellMetadata": {},
     "inputWidgets": {},
     "nuid": "42b0e4e9-c569-4473-8165-224273e0e445",
     "showTitle": false,
     "title": ""
    }
   },
   "source": [
    "<i18n value=\"5b96c695-717e-4269-84c7-8292ceff9d83\"/>\n",
    "\n",
    "## 線形回帰 (Linear Regression)\n",
    "\n",
    "シンプルなモデルとして、 **`寝室(bedroom)`** の数だけが与えられて **`価格(price)`** を予測するモデルを作ります。\n",
    "\n",
    "**質問**: 線形回帰モデルの仮説にはどのようなものがありますか？"
   ]
  },
  {
   "cell_type": "code",
   "execution_count": 0,
   "metadata": {
    "application/vnd.databricks.v1+cell": {
     "cellMetadata": {
      "byteLimit": 2048000,
      "rowLimit": 10000
     },
     "inputWidgets": {},
     "nuid": "233d1c08-955e-42fc-abb1-afa801c73696",
     "showTitle": false,
     "title": ""
    }
   },
   "outputs": [],
   "source": [
    "display(train_df.select(\"price\", \"bedrooms\"))"
   ]
  },
  {
   "cell_type": "code",
   "execution_count": 0,
   "metadata": {
    "application/vnd.databricks.v1+cell": {
     "cellMetadata": {
      "byteLimit": 2048000,
      "rowLimit": 10000
     },
     "inputWidgets": {},
     "nuid": "0a8098a6-a9c5-488f-aa51-5134f2429bed",
     "showTitle": false,
     "title": ""
    }
   },
   "outputs": [],
   "source": [
    "display(train_df.select(\"price\", \"bedrooms\").summary())"
   ]
  },
  {
   "cell_type": "code",
   "execution_count": 0,
   "metadata": {
    "application/vnd.databricks.v1+cell": {
     "cellMetadata": {
      "byteLimit": 2048000,
      "rowLimit": 10000
     },
     "inputWidgets": {},
     "nuid": "f71d7bb3-bfd3-484b-ad46-8eba856c3fed",
     "showTitle": false,
     "title": ""
    }
   },
   "outputs": [],
   "source": [
    "display(train_df)"
   ]
  },
  {
   "cell_type": "markdown",
   "metadata": {
    "application/vnd.databricks.v1+cell": {
     "cellMetadata": {},
     "inputWidgets": {},
     "nuid": "df8d0735-a7cb-490e-99a9-8af058be490e",
     "showTitle": false,
     "title": ""
    }
   },
   "source": [
    "<i18n value=\"4171a9ae-e928-41e3-9689-c6fcc2b3d57c\"/>\n",
    "\n",
    "価格についてデータセットに外れ値(outlier)があるようです（1泊10,000ドル？）。このことを念頭に置きながら、モデルを作っていきましょう。\n",
    "\n",
    "<a href=\"https://spark.apache.org/docs/latest/api/python/reference/api/pyspark.ml.regression.LinearRegression.html?highlight=linearregression#pyspark.ml.regression.LinearRegression\" target=\"_blank\">線形回帰</a>を使って、最初のモデルを構築します。\n",
    "\n",
    "Linear Regression による推定では、入力としてベクトルを想定しているため、以下のセルを実行すると失敗します。以下、VectorAssemblerを使って修正します。"
   ]
  },
  {
   "cell_type": "code",
   "execution_count": 0,
   "metadata": {
    "application/vnd.databricks.v1+cell": {
     "cellMetadata": {
      "byteLimit": 2048000,
      "rowLimit": 10000
     },
     "inputWidgets": {},
     "nuid": "bc096b13-c827-4d17-9a7c-8164fc07450c",
     "showTitle": false,
     "title": ""
    }
   },
   "outputs": [],
   "source": [
    "from pyspark.ml.regression import LinearRegression\n",
    "\n",
    "lr = LinearRegression(featuresCol=\"bedrooms\", labelCol=\"price\")\n",
    "\n",
    "# Uncomment when running\n",
    "# lr_model = lr.fit(train_df)"
   ]
  },
  {
   "cell_type": "markdown",
   "metadata": {
    "application/vnd.databricks.v1+cell": {
     "cellMetadata": {},
     "inputWidgets": {},
     "nuid": "ae6f3146-a5c0-4d14-93dc-502f3b2df9ee",
     "showTitle": false,
     "title": ""
    }
   },
   "source": [
    "<i18n value=\"f1353d2b-d9b8-4c8c-af18-2abb8f0d0b84\"/>\n",
    "\n",
    "## Vector Assembler\n",
    "\n",
    "上のセルのコードでは、何がいけなかったでしょうか？線形回帰の**推定器(estimator)** ( **`.fit()関数`** ) は、Vector型の入力を受付けます。\n",
    "\n",
    " **`寝室(bedroom)`** 列から1つのベクトルを作ることは、 <a href=\"https://spark.apache.org/docs/latest/api/python/reference/api/pyspark.ml.feature.VectorAssembler.html?highlight=vectorassembler#pyspark.ml.feature.VectorAssembler\" target=\"_blank\">VectorAssembler</a> を使って簡単にできます。VectorAssemblerは、 **変換器(Transformer)** の１つです。TransformersはDataFrameを受け取り、1つまたは複数のカラムが追加された新しいDataFrameを返します。Transformerはデータから学習するのではなく、ルールに基づいた変換を行います。\n",
    "\n",
    "VectorAssemblerの使用例は、 <a href=\"https://spark.apache.org/docs/latest/ml-features.html#vectorassembler\" target=\"_blank\">MLプログラミングガイド</a> に掲載されています。"
   ]
  },
  {
   "cell_type": "code",
   "execution_count": 0,
   "metadata": {
    "application/vnd.databricks.v1+cell": {
     "cellMetadata": {
      "byteLimit": 2048000,
      "rowLimit": 10000
     },
     "inputWidgets": {},
     "nuid": "5c9aba03-987c-4abc-95ad-3444b668e341",
     "showTitle": false,
     "title": ""
    }
   },
   "outputs": [],
   "source": [
    "from pyspark.ml.feature import VectorAssembler\n",
    "\n",
    "vec_assembler = VectorAssembler(inputCols=[\"bedrooms\"], outputCol=\"features\")\n",
    "\n",
    "vec_train_df = vec_assembler.transform(train_df)"
   ]
  },
  {
   "cell_type": "code",
   "execution_count": 0,
   "metadata": {
    "application/vnd.databricks.v1+cell": {
     "cellMetadata": {
      "byteLimit": 2048000,
      "rowLimit": 10000
     },
     "inputWidgets": {},
     "nuid": "efa0b636-b1e5-4259-be6b-d81231da8f43",
     "showTitle": false,
     "title": ""
    }
   },
   "outputs": [],
   "source": [
    "vec_assembler"
   ]
  },
  {
   "cell_type": "code",
   "execution_count": 0,
   "metadata": {
    "application/vnd.databricks.v1+cell": {
     "cellMetadata": {
      "byteLimit": 2048000,
      "rowLimit": 10000
     },
     "inputWidgets": {},
     "nuid": "64e6d0bf-f35a-4852-94bc-98e0b55cd5bb",
     "showTitle": false,
     "title": ""
    }
   },
   "outputs": [],
   "source": [
    "lr = LinearRegression(featuresCol=\"features\", labelCol=\"price\")\n",
    "lr_model = lr.fit(vec_train_df)"
   ]
  },
  {
   "cell_type": "markdown",
   "metadata": {
    "application/vnd.databricks.v1+cell": {
     "cellMetadata": {},
     "inputWidgets": {},
     "nuid": "ccff722f-a0da-4688-9a3e-81e9d75076cd",
     "showTitle": false,
     "title": ""
    }
   },
   "source": [
    "<i18n value=\"ab8f4965-71db-487d-bbb3-329216580be5\"/>\n",
    "\n",
    "## モデルの点検(Inspect the model)"
   ]
  },
  {
   "cell_type": "code",
   "execution_count": 0,
   "metadata": {
    "application/vnd.databricks.v1+cell": {
     "cellMetadata": {
      "byteLimit": 2048000,
      "rowLimit": 10000
     },
     "inputWidgets": {},
     "nuid": "a236fcd2-c38f-4245-bc33-e600e606c4c1",
     "showTitle": false,
     "title": ""
    }
   },
   "outputs": [],
   "source": [
    "m = lr_model.coefficients[0]\n",
    "b = lr_model.intercept\n",
    "\n",
    "print(f\"The formula for the linear regression line is y = {m:.2f}x + {b:.2f}\")"
   ]
  },
  {
   "cell_type": "markdown",
   "metadata": {
    "application/vnd.databricks.v1+cell": {
     "cellMetadata": {},
     "inputWidgets": {},
     "nuid": "76d321b8-dacf-47c0-803b-f2b758afc3f0",
     "showTitle": false,
     "title": ""
    }
   },
   "source": [
    "<i18n value=\"ae6dfaf9-9164-4dcc-a699-31184c4a962e\"/>\n",
    "\n",
    "## テストデータへのモデルの適用 (Apply model to test set)"
   ]
  },
  {
   "cell_type": "code",
   "execution_count": 0,
   "metadata": {
    "application/vnd.databricks.v1+cell": {
     "cellMetadata": {
      "byteLimit": 2048000,
      "rowLimit": 10000
     },
     "inputWidgets": {},
     "nuid": "36e781d5-53b9-4129-9c71-beb096cf245f",
     "showTitle": false,
     "title": ""
    }
   },
   "outputs": [],
   "source": [
    "vec_test_df = vec_assembler.transform(test_df)\n",
    "\n",
    "pred_df = lr_model.transform(vec_test_df)\n",
    "\n",
    "pred_df.select(\"bedrooms\", \"features\", \"price\", \"prediction\").show()"
   ]
  },
  {
   "cell_type": "markdown",
   "metadata": {
    "application/vnd.databricks.v1+cell": {
     "cellMetadata": {},
     "inputWidgets": {},
     "nuid": "4ab3e107-67bd-49f3-94eb-ff4fbf75a586",
     "showTitle": false,
     "title": ""
    }
   },
   "source": [
    "<i18n value=\"8d73c3ee-34bc-4f8b-b2ba-03597548680c\"/>\n",
    "\n",
    "## モデルの評価 (Evaluate Model)\n",
    "\n",
    "変数が1つだけ(bedroom)の線形回帰モデルの予測結果を見てみましょう。ベースラインモデルに勝てるか？"
   ]
  },
  {
   "cell_type": "code",
   "execution_count": 0,
   "metadata": {
    "application/vnd.databricks.v1+cell": {
     "cellMetadata": {
      "byteLimit": 2048000,
      "rowLimit": 10000
     },
     "inputWidgets": {},
     "nuid": "5f8d6560-05b4-48d7-8974-da43affe8139",
     "showTitle": false,
     "title": ""
    }
   },
   "outputs": [],
   "source": [
    "from pyspark.ml.evaluation import RegressionEvaluator\n",
    "\n",
    "regression_evaluator = RegressionEvaluator(predictionCol=\"prediction\", labelCol=\"price\", metricName=\"rmse\")\n",
    "\n",
    "rmse = regression_evaluator.evaluate(pred_df)\n",
    "print(f\"RMSE is {rmse}\")"
   ]
  },
  {
   "cell_type": "markdown",
   "metadata": {
    "application/vnd.databricks.v1+cell": {
     "cellMetadata": {},
     "inputWidgets": {},
     "nuid": "5ff749bb-9ae2-42c6-bf45-50480cf53fc0",
     "showTitle": false,
     "title": ""
    }
   },
   "source": [
    "<i18n value=\"703fbf0b-a2e1-4086-b002-8f63e06afdd8\"/>\n",
    "\n",
    "Wahoo!RMSEはベースラインモデルよりも良い結果になりました。とはいえ、やはりそんなにすごいものではありません。これからのノートブックで、さらに減らしていけるか見ていきましょう。"
   ]
  },
  {
   "cell_type": "markdown",
   "metadata": {
    "application/vnd.databricks.v1+cell": {
     "cellMetadata": {},
     "inputWidgets": {},
     "nuid": "1760859a-aea0-4e99-bc12-eb87cfa457c2",
     "showTitle": false,
     "title": ""
    }
   },
   "source": [
    "&copy; 2022 Databricks, Inc. All rights reserved.<br/>\n",
    "Apache, Apache Spark, Spark and the Spark logo are trademarks of the <a href=\"https://www.apache.org/\">Apache Software Foundation</a>.<br/>\n",
    "<br/>\n",
    "<a href=\"https://databricks.com/privacy-policy\">Privacy Policy</a> | <a href=\"https://databricks.com/terms-of-use\">Terms of Use</a> | <a href=\"https://help.databricks.com/\">Support</a>"
   ]
  }
 ],
 "metadata": {
  "application/vnd.databricks.v1+notebook": {
   "dashboards": [],
   "language": "python",
   "notebookMetadata": {
    "pythonIndentUnit": 2
   },
   "notebookName": "ML 02 - Linear Regression I",
   "widgets": {}
  }
 },
 "nbformat": 4,
 "nbformat_minor": 0
}
