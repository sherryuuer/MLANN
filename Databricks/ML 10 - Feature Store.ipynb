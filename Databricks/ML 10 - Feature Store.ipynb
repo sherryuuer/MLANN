{
 "cells": [
  {
   "cell_type": "markdown",
   "metadata": {
    "application/vnd.databricks.v1+cell": {
     "cellMetadata": {},
     "inputWidgets": {},
     "nuid": "992a73c7-4b2b-4023-a0f9-49285f31e24d",
     "showTitle": false,
     "title": ""
    }
   },
   "source": [
    "\n",
    "<div style=\"text-align: center; line-height: 0; padding-top: 9px;\">\n",
    "  <img src=\"https://databricks.com/wp-content/uploads/2018/03/db-academy-rgb-1200px.png\" alt=\"Databricks Learning\" style=\"width: 600px\">\n",
    "</div>"
   ]
  },
  {
   "cell_type": "markdown",
   "metadata": {
    "application/vnd.databricks.v1+cell": {
     "cellMetadata": {},
     "inputWidgets": {},
     "nuid": "d3702a5b-80bf-4d88-a1ff-629801ff5ef9",
     "showTitle": false,
     "title": ""
    }
   },
   "source": [
    "<i18n value=\"b69335d5-86c7-40c5-b430-509a7444dae7\"/>\n",
    "\n",
    "# Feature Store\n",
    "\n",
    "Databricksの <a href=\"https://docs.databricks.com/applications/machine-learning/feature-store.html\" target=\"_blank\">Feature Store</a> は、特徴量を一元的に管理するリポジトリです。組織全体で特徴量を共有と発見を可能にし、またモデルの学習と推論に同じ特徴量計算のコードを使用することを保証します。\n",
    "\n",
    "Feature Store Python API ドキュメントは <a href=\"https://docs.databricks.com/dev-tools/api/python/latest/index.html#feature-store-python-api-reference\" target=\"_blank\">こちら</a> をご確認ください。\n",
    "\n",
    "## ![Spark Logo Tiny](https://files.training.databricks.com/images/105/logo_spark_tiny.png)このレッスンでは、以下を行います:<br>\n",
    " - Databricks Feature StoreでFeature Storeを構築する\n",
    " - 特徴量テーブルを更新する\n",
    " - バッチスコアリングを実行する"
   ]
  },
  {
   "cell_type": "code",
   "execution_count": 0,
   "metadata": {
    "application/vnd.databricks.v1+cell": {
     "cellMetadata": {
      "byteLimit": 2048000,
      "rowLimit": 10000
     },
     "inputWidgets": {},
     "nuid": "4ff3ddc8-497b-4945-b6a4-b9214987eea2",
     "showTitle": false,
     "title": ""
    }
   },
   "outputs": [],
   "source": [
    "%run \"./Includes/Classroom-Setup\""
   ]
  },
  {
   "cell_type": "code",
   "execution_count": 0,
   "metadata": {
    "application/vnd.databricks.v1+cell": {
     "cellMetadata": {
      "byteLimit": 2048000,
      "rowLimit": 10000
     },
     "inputWidgets": {},
     "nuid": "374b57ca-8b37-414b-88da-e3fd673e8b6e",
     "showTitle": false,
     "title": ""
    }
   },
   "outputs": [],
   "source": [
    "from pyspark.sql.functions import monotonically_increasing_id, lit, expr, rand\n",
    "import uuid\n",
    "from databricks import feature_store\n",
    "from pyspark.sql.types import StringType, DoubleType\n",
    "from databricks.feature_store import feature_table, FeatureLookup\n",
    "import mlflow\n",
    "import mlflow.sklearn\n",
    "from mlflow.models.signature import infer_signature\n",
    "from sklearn.model_selection import train_test_split\n",
    "from sklearn.ensemble import RandomForestRegressor\n",
    "from sklearn.metrics import mean_squared_error, r2_score"
   ]
  },
  {
   "cell_type": "markdown",
   "metadata": {
    "application/vnd.databricks.v1+cell": {
     "cellMetadata": {},
     "inputWidgets": {},
     "nuid": "4064b4f4-d17b-43db-8051-b922d3ce7bde",
     "showTitle": false,
     "title": ""
    }
   },
   "source": [
    "<i18n value=\"5dcd3e8e-2553-429f-bbe1-aef0bc1ef0ab\"/>\n",
    "\n",
    "データをロードして、各レコードに一意のIDを生成してみましょう。 **`index`** カラムは、特徴テーブルの「キー」として機能し、特徴量をlookupするために使用されます。"
   ]
  },
  {
   "cell_type": "code",
   "execution_count": 0,
   "metadata": {
    "application/vnd.databricks.v1+cell": {
     "cellMetadata": {
      "byteLimit": 2048000,
      "rowLimit": 10000
     },
     "inputWidgets": {},
     "nuid": "faaa52af-3064-4304-93b8-2a5a10650038",
     "showTitle": false,
     "title": ""
    }
   },
   "outputs": [],
   "source": [
    "file_path = f\"{DA.paths.datasets}/airbnb/sf-listings/sf-listings-2019-03-06-clean.delta/\"\n",
    "airbnb_df = spark.read.format(\"delta\").load(file_path).coalesce(1).withColumn(\"index\", monotonically_increasing_id())\n",
    "display(airbnb_df)"
   ]
  },
  {
   "cell_type": "markdown",
   "metadata": {
    "application/vnd.databricks.v1+cell": {
     "cellMetadata": {},
     "inputWidgets": {},
     "nuid": "c0d6d646-3f14-4436-86d9-79de85a4833f",
     "showTitle": false,
     "title": ""
    }
   },
   "source": [
    "<i18n value=\"a04b29f6-e7a6-4e6a-875f-945edf938e9e\"/>\n",
    "\n",
    "新しいデータベースと一意のテーブル名を作成します（ノートブックを何度も再実行する場合に備えて、実行の度にUUIDで異なる値を設定します）。"
   ]
  },
  {
   "cell_type": "code",
   "execution_count": 0,
   "metadata": {
    "application/vnd.databricks.v1+cell": {
     "cellMetadata": {
      "byteLimit": 2048000,
      "rowLimit": 10000
     },
     "inputWidgets": {},
     "nuid": "dcb46a42-679a-469c-854b-3de1b1628065",
     "showTitle": false,
     "title": ""
    }
   },
   "outputs": [],
   "source": [
    "spark.sql(f\"CREATE DATABASE IF NOT EXISTS {DA.cleaned_username}\")\n",
    "table_name = f\"{DA.cleaned_username}.airbnb_\" + str(uuid.uuid4())[:6]\n",
    "print(table_name)"
   ]
  },
  {
   "cell_type": "markdown",
   "metadata": {
    "application/vnd.databricks.v1+cell": {
     "cellMetadata": {},
     "inputWidgets": {},
     "nuid": "843b16af-c6bc-451f-a0c9-2df1f08c3c2d",
     "showTitle": false,
     "title": ""
    }
   },
   "source": [
    "<i18n value=\"a0712a39-b413-490f-a59e-dbd7f533e9a9\"/>\n",
    "\n",
    "それでは、 <a href=\"https://docs.databricks.com/applications/machine-learning/feature-store.html#create-a-feature-table-in-databricks-feature-store\" target=\"_blank\">Feature Store Client</a> を作成して、Feature Storeに情報を入力してみましょう。"
   ]
  },
  {
   "cell_type": "code",
   "execution_count": 0,
   "metadata": {
    "application/vnd.databricks.v1+cell": {
     "cellMetadata": {
      "byteLimit": 2048000,
      "rowLimit": 10000
     },
     "inputWidgets": {},
     "nuid": "46807d7a-e252-4812-99cb-29145e798cf3",
     "showTitle": false,
     "title": ""
    }
   },
   "outputs": [],
   "source": [
    "fs = feature_store.FeatureStoreClient()\n",
    "# help(fs.create_table)"
   ]
  },
  {
   "cell_type": "markdown",
   "metadata": {
    "application/vnd.databricks.v1+cell": {
     "cellMetadata": {},
     "inputWidgets": {},
     "nuid": "a7d86bd6-0365-492b-b60e-eb606ecaede7",
     "showTitle": false,
     "title": ""
    }
   },
   "source": [
    "<i18n value=\"90998fdb-87ed-4cdd-8844-fbd59ac5631f\"/>\n",
    "\n",
    "#### 特徴量テーブルの作成 (Create Feature Table)\n",
    "\n",
    "次に、 **`fs.create_table`** メソッドを使って特徴量テーブルを作成します。\n",
    "\n",
    "このメソッドはいくつかのパラメータを入力として受け取ります: \n",
    "* **`name`** - 次の形式の特徴量テーブル名 **`<データベース名>.<テーブル名>.`**\n",
    "* **`primary_keys`** - プライマリーキーとなるカラム名(複数)。複数のカラムが必要な場合は、カラム名のリストを指定する。\n",
    "* **`df`** - この特徴量テーブルに挿入するデータ。指定した **`df`** のスキーマが特徴量テーブルのスキーマとして使用される。\n",
    "* **`schema`** - 特徴量テーブルのスキーマ。スキーマを指定するために **`schema`** または **`df`** のどちらかを指定する必要があります。\n",
    "* **`description`** - 特徴量テーブルの説明 \n",
    "* **`partition_columns`**- 特徴テーブルをパーティション分割する際に使用する列。"
   ]
  },
  {
   "cell_type": "code",
   "execution_count": 0,
   "metadata": {
    "application/vnd.databricks.v1+cell": {
     "cellMetadata": {
      "byteLimit": 2048000,
      "rowLimit": 10000
     },
     "inputWidgets": {},
     "nuid": "cffee196-94f0-49b8-ac28-9dcfef71ee71",
     "showTitle": false,
     "title": ""
    }
   },
   "outputs": [],
   "source": [
    "## select numeric features and exclude target column \"price\"\n",
    "numeric_cols = [x.name for x in airbnb_df.schema.fields if (x.dataType == DoubleType()) and (x.name != \"price\")]\n",
    "numeric_features_df = airbnb_df.select([\"index\"] + numeric_cols)\n",
    "display(numeric_features_df)"
   ]
  },
  {
   "cell_type": "code",
   "execution_count": 0,
   "metadata": {
    "application/vnd.databricks.v1+cell": {
     "cellMetadata": {
      "byteLimit": 2048000,
      "rowLimit": 10000
     },
     "inputWidgets": {},
     "nuid": "4088e511-866b-4570-b0f3-4cdf0a4e68bf",
     "showTitle": false,
     "title": ""
    }
   },
   "outputs": [],
   "source": [
    "fs.create_table(\n",
    "    name=table_name,\n",
    "    primary_keys=[\"index\"],\n",
    "    df=numeric_features_df,\n",
    "    schema=numeric_features_df.schema,\n",
    "    description=\"Numeric features of airbnb data\"\n",
    ")"
   ]
  },
  {
   "cell_type": "markdown",
   "metadata": {
    "application/vnd.databricks.v1+cell": {
     "cellMetadata": {},
     "inputWidgets": {},
     "nuid": "9a3ae148-f707-45ba-a8ad-a77f4aac68c2",
     "showTitle": false,
     "title": ""
    }
   },
   "source": [
    "<i18n value=\"4a7cbb2e-87a2-4ea8-85e6-207ec5e42147\"/>\n",
    "\n",
    "テーブルの作成とデータ登録を別メソッドで実行することも出来ます。 **`fs.create_table`** ではschemaを指定し（ **`df`** は与えない)、 **`fs.write_table`** でdfを指定してデータを登録します。 **`fs.write_table`** は **`overwrite`** と **`merge`** の2つのモードをサポートしています。\n",
    "\n",
    "例\n",
    "\n",
    "```\n",
    "fs.create_table(\n",
    "    name=table_name,\n",
    "    primary_keys=[\"index\"],\n",
    "    schema=numeric_features_df.schema,\n",
    "    description=\"Original Airbnb data\"\n",
    ")\n",
    "\n",
    "fs.write_table(\n",
    "    name=table_name,\n",
    "    df=numeric_features_df,\n",
    "    mode=\"overwrite\"\n",
    ")\n",
    "```"
   ]
  },
  {
   "cell_type": "markdown",
   "metadata": {
    "application/vnd.databricks.v1+cell": {
     "cellMetadata": {},
     "inputWidgets": {},
     "nuid": "d5580425-3404-4a54-a506-cc500c58e4c7",
     "showTitle": false,
     "title": ""
    }
   },
   "source": [
    "<i18n value=\"44586907-302a-4916-93f6-e92210619c6f\"/>\n",
    "\n",
    "それではUIを使って、FeatureStoreが特徴量テーブルをどのように追跡するか見てみましょう。UIに移動するには、まず機械学習ワークスペースにいることを確認します。次に、ナビゲーションバーの左下にあるFeature Storeのアイコンをクリックします。\n",
    "\n",
    "\n",
    "<img src=\"https://files.training.databricks.com/images/mlflow/FS_Nav.png\" alt=\"step12\" width=\"150\"/>"
   ]
  },
  {
   "cell_type": "markdown",
   "metadata": {
    "application/vnd.databricks.v1+cell": {
     "cellMetadata": {},
     "inputWidgets": {},
     "nuid": "80083872-c4ad-441f-afdb-fa7f25f4b228",
     "showTitle": false,
     "title": ""
    }
   },
   "source": [
    "<i18n value=\"cf0ad0d0-8456-471b-935c-8a34a836fca7\"/>\n",
    "\n",
    "このスクリーンショットでは、作成した特徴量テーブルを見ることができます。\n",
    "<br>\n",
    "<br>\n",
    "下の方の **`Producers`** の部分に注目してください。どのノートブックで特徴量テーブルが作成されたかを示しています。\n",
    "<br>\n",
    "<br>\n",
    "<img src=\"https://s3.us-west-2.amazonaws.com/files.training.databricks.com/images/mlflow/fs_details+(1).png\" alt=\"step12\" width=\"1000\"/>"
   ]
  },
  {
   "cell_type": "markdown",
   "metadata": {
    "application/vnd.databricks.v1+cell": {
     "cellMetadata": {},
     "inputWidgets": {},
     "nuid": "e3813439-1b94-4c63-9011-d39e946ebf68",
     "showTitle": false,
     "title": ""
    }
   },
   "source": [
    "<i18n value=\"b07da702-485e-44b8-bd00-f0330c8b7657\"/>\n",
    "\n",
    "プログラムから FeatureStore Client を使ってFeatureStoreのメタデータを見るには **`get_table()`** を使います。"
   ]
  },
  {
   "cell_type": "code",
   "execution_count": 0,
   "metadata": {
    "application/vnd.databricks.v1+cell": {
     "cellMetadata": {
      "byteLimit": 2048000,
      "rowLimit": 10000
     },
     "inputWidgets": {},
     "nuid": "fb07f7fd-a75a-4efd-8941-1dbac9ad26e5",
     "showTitle": false,
     "title": ""
    }
   },
   "outputs": [],
   "source": [
    "fs.get_table(table_name).path_data_sources"
   ]
  },
  {
   "cell_type": "code",
   "execution_count": 0,
   "metadata": {
    "application/vnd.databricks.v1+cell": {
     "cellMetadata": {
      "byteLimit": 2048000,
      "rowLimit": 10000
     },
     "inputWidgets": {},
     "nuid": "fce54c48-6eb7-49bf-8ffc-40849bb5c4f5",
     "showTitle": false,
     "title": ""
    }
   },
   "outputs": [],
   "source": [
    "fs.get_table(table_name).description"
   ]
  },
  {
   "cell_type": "markdown",
   "metadata": {
    "application/vnd.databricks.v1+cell": {
     "cellMetadata": {},
     "inputWidgets": {},
     "nuid": "941edf2e-0002-4678-8e92-69848c255a9a",
     "showTitle": false,
     "title": ""
    }
   },
   "source": [
    "<i18n value=\"1df7795c-1a07-47ae-92a8-1c5f7aec75ae\"/>\n",
    "\n",
    "### Feature Storeを用いたモデルの学習 (Train a model with feature store)"
   ]
  },
  {
   "cell_type": "markdown",
   "metadata": {
    "application/vnd.databricks.v1+cell": {
     "cellMetadata": {},
     "inputWidgets": {},
     "nuid": "3fbb623e-7d89-4ad5-a6c3-610d593039fc",
     "showTitle": false,
     "title": ""
    }
   },
   "source": [
    "<i18n value=\"bcbf72b7-a013-40fd-bf55-a2b179a7728e\"/>\n",
    "\n",
    "予測対象である **`price`** は、特徴量テーブルの特徴量として登録されているべきではありません(should NOT)。\n",
    "\n",
    "さらに、推論時に使用する特徴量は、特徴量テーブルに既に登録されるものに限らなりません。 \n",
    "\n",
    "この（架空の）例では、ある特徴量を作りました : **`score_diff_from_last_month`** 。推論時に生成され、学習時にも使用される特徴量です。"
   ]
  },
  {
   "cell_type": "code",
   "execution_count": 0,
   "metadata": {
    "application/vnd.databricks.v1+cell": {
     "cellMetadata": {
      "byteLimit": 2048000,
      "rowLimit": 10000
     },
     "inputWidgets": {},
     "nuid": "d6e3d04f-030b-4e11-8067-699c641161d2",
     "showTitle": false,
     "title": ""
    }
   },
   "outputs": [],
   "source": [
    "## inference data -- index (key), price (target) and a online feature (make up a fictional column - diff of review score in a month) \n",
    "inference_data_df = airbnb_df.select(\"index\", \"price\", (rand() * 0.5-0.25).alias(\"score_diff_from_last_month\"))\n",
    "display(inference_data_df)"
   ]
  },
  {
   "cell_type": "markdown",
   "metadata": {
    "application/vnd.databricks.v1+cell": {
     "cellMetadata": {},
     "inputWidgets": {},
     "nuid": "565ba194-784f-4046-837f-cbb8e1bebf6c",
     "showTitle": false,
     "title": ""
    }
   },
   "source": [
    "<i18n value=\"b8301fa9-27bd-4d3b-bf13-9ab784205d81\"/>\n",
    "\n",
    "学習用データセットを作成します。このデータセットには指定された\"key (特徴量テーブルのカラム名)\"を使って、特徴量テーブルからlookupして得た特徴量とオンライン特徴量( **`score_diff_from_last_month`** )を使用します。特徴量を検索するために <a href=\"https://docs.databricks.com/dev-tools/api/python/latest/index.html\" target=\"_blank\">FeatureLookup</a> を使用しますが、特徴量を指定しない場合は、主キー以外のすべての特徴量を返します。"
   ]
  },
  {
   "cell_type": "code",
   "execution_count": 0,
   "metadata": {
    "application/vnd.databricks.v1+cell": {
     "cellMetadata": {
      "byteLimit": 2048000,
      "rowLimit": 10000
     },
     "inputWidgets": {},
     "nuid": "5639806f-3b2f-4e50-9f83-551fea3b50f8",
     "showTitle": false,
     "title": ""
    }
   },
   "outputs": [],
   "source": [
    "def load_data(table_name, lookup_key):\n",
    "    model_feature_lookups = [FeatureLookup(table_name=table_name, lookup_key=lookup_key)]\n",
    "\n",
    "    # fs.create_training_set will look up features in model_feature_lookups with matched key from inference_data_df\n",
    "    training_set = fs.create_training_set(inference_data_df, model_feature_lookups, label=\"price\", exclude_columns=\"index\")\n",
    "    training_pd = training_set.load_df().toPandas()\n",
    "\n",
    "    # Create train and test datasets\n",
    "    X = training_pd.drop(\"price\", axis=1)\n",
    "    y = training_pd[\"price\"]\n",
    "    X_train, X_test, y_train, y_test = train_test_split(X, y, test_size=0.2, random_state=42)\n",
    "    return X_train, X_test, y_train, y_test, training_set\n",
    "\n",
    "X_train, X_test, y_train, y_test, training_set = load_data(table_name, \"index\")\n",
    "X_train.head()"
   ]
  },
  {
   "cell_type": "markdown",
   "metadata": {
    "application/vnd.databricks.v1+cell": {
     "cellMetadata": {},
     "inputWidgets": {},
     "nuid": "22ae39c2-5557-4bce-9de3-3da148ce04ad",
     "showTitle": false,
     "title": ""
    }
   },
   "source": [
    "<i18n value=\"eae1aa4a-f770-4173-9502-cb946e6949d2\"/>\n",
    "\n",
    "**RandomForestRegressor** モデルを学習し、Feature StoreでモデルをMLflowに記録します。MLflowのrunにより、MLflowで自動記録されたコンポーネントと共に、Feature Storeで記録されたモデルを追跡します。以下では、Feature Storeで明示的にモデルを記録するため、MLflowオートロギングのモデルの記録を無効化します。\n",
    "\n",
    "注：以下はデモのために、過度に単純化した例です。"
   ]
  },
  {
   "cell_type": "code",
   "execution_count": 0,
   "metadata": {
    "application/vnd.databricks.v1+cell": {
     "cellMetadata": {
      "byteLimit": 2048000,
      "rowLimit": 10000
     },
     "inputWidgets": {},
     "nuid": "e9de99e0-0d01-46c9-8baa-4b2c54e76b3b",
     "showTitle": false,
     "title": ""
    }
   },
   "outputs": [],
   "source": [
    "from mlflow.tracking.client import MlflowClient\n",
    "\n",
    "client = MlflowClient()\n",
    "\n",
    "try:\n",
    "    client.delete_registered_model(f\"feature_store_airbnb_{DA.cleaned_username}\") # Deleting model if already created\n",
    "except:\n",
    "    None"
   ]
  },
  {
   "cell_type": "code",
   "execution_count": 0,
   "metadata": {
    "application/vnd.databricks.v1+cell": {
     "cellMetadata": {
      "byteLimit": 2048000,
      "rowLimit": 10000
     },
     "inputWidgets": {},
     "nuid": "86bf2037-e141-45c9-9273-2bff2a9a0be3",
     "showTitle": false,
     "title": ""
    }
   },
   "outputs": [],
   "source": [
    "# Disable model autologging and instead log explicitly via the FeatureStore\n",
    "mlflow.sklearn.autolog(log_models=False)\n",
    "\n",
    "def train_model(X_train, X_test, y_train, y_test, training_set, fs):\n",
    "    ## fit and log model\n",
    "    with mlflow.start_run() as run:\n",
    "\n",
    "        rf = RandomForestRegressor(max_depth=3, n_estimators=20, random_state=42)\n",
    "        rf.fit(X_train, y_train)\n",
    "        y_pred = rf.predict(X_test)\n",
    "\n",
    "        mlflow.log_metric(\"test_mse\", mean_squared_error(y_test, y_pred))\n",
    "        mlflow.log_metric(\"test_r2_score\", r2_score(y_test, y_pred))\n",
    "\n",
    "        fs.log_model(\n",
    "            model=rf,\n",
    "            artifact_path=\"feature-store-model\",\n",
    "            flavor=mlflow.sklearn,\n",
    "            training_set=training_set,\n",
    "            registered_model_name=f\"feature_store_airbnb_{DA.cleaned_username}\",\n",
    "            input_example=X_train[:5],\n",
    "            signature=infer_signature(X_train, y_train)\n",
    "        )\n",
    "\n",
    "train_model(X_train, X_test, y_train, y_test, training_set, fs)"
   ]
  },
  {
   "cell_type": "markdown",
   "metadata": {
    "application/vnd.databricks.v1+cell": {
     "cellMetadata": {},
     "inputWidgets": {},
     "nuid": "587cf3b6-eb05-44f8-92c6-2f9aed57f467",
     "showTitle": false,
     "title": ""
    }
   },
   "source": [
    "<i18n value=\"40b7718f-101c-4ac4-8639-545b8ef6d932\"/>\n",
    "\n",
    "ここで、MLflow UIからrunを確認します。MLflow autologでログに記録されたモデルのパラメータを確認することができます。\n",
    "<br>\n",
    "<br>\n",
    "<img src=\"https://files.training.databricks.com/images/mlflow/fs_log_model_mlflow_params.png\" alt=\"step12\" width=\"1000\"/>"
   ]
  },
  {
   "cell_type": "markdown",
   "metadata": {
    "application/vnd.databricks.v1+cell": {
     "cellMetadata": {},
     "inputWidgets": {},
     "nuid": "316b59a4-77b9-48d7-89ac-0e71ce5bf9fe",
     "showTitle": false,
     "title": ""
    }
   },
   "source": [
    "<i18n value=\"f03314dc-1ade-4bd8-958f-ddf04ac1bb13\"/>\n",
    "\n",
    "保存されたartifactの中のモデル**feature\\_store\\_model**は、 **`fs.log_model`** でパッケージ化されて記録されたFeature storeモデルであり、バッチ推論に直接使用できます。\n",
    "<br>\n",
    "\n",
    "<img src=\"https://files.training.databricks.com/images/301/updated_feature_store_9_1.png\" alt=\"step12\" width=\"1000\"/>"
   ]
  },
  {
   "cell_type": "markdown",
   "metadata": {
    "application/vnd.databricks.v1+cell": {
     "cellMetadata": {},
     "inputWidgets": {},
     "nuid": "b9325fc7-48d0-40e5-a7f2-e080b63edc4b",
     "showTitle": false,
     "title": ""
    }
   },
   "source": [
    "<i18n value=\"acd4d5a4-c4ed-4695-a911-5fd88dcfa513\"/>\n",
    "\n",
    "この **`feature_store_model`** は、MLflowのモデルレジストリにも登録されています。 **`Models`** のページをご覧ください。また、Feature Storeのページでも記録されており、特徴量テーブルのどの特徴量がモデルに使用されているかが記録されます。後でUIを使って特徴量とモデルの対応関係を確認してみましょう。"
   ]
  },
  {
   "cell_type": "markdown",
   "metadata": {
    "application/vnd.databricks.v1+cell": {
     "cellMetadata": {},
     "inputWidgets": {},
     "nuid": "e01d5d9c-42a8-4efb-a026-36bcd3bfe025",
     "showTitle": false,
     "title": ""
    }
   },
   "source": [
    "<i18n value=\"921dc6c9-b9ed-43c7-86ff-608791a11367\"/>\n",
    "\n",
    "### Feature storeでバッチ推論 (Feature Store Batch Scoring)\n",
    "\n",
    "**`score_batch`** でFeature Storeに登録したMLflowモデルをデータに適用しましょう。入力データには、キーカラムである **`index`** とオンライン特徴量である **`score_diff_from_last_month`** のみを使います。それ以外の特徴量はすべてlookupで自動的に取得してくれます。"
   ]
  },
  {
   "cell_type": "code",
   "execution_count": 0,
   "metadata": {
    "application/vnd.databricks.v1+cell": {
     "cellMetadata": {
      "byteLimit": 2048000,
      "rowLimit": 10000
     },
     "inputWidgets": {},
     "nuid": "7640ec9e-f683-45a5-bdd1-0c8aa6c6e1d5",
     "showTitle": false,
     "title": ""
    }
   },
   "outputs": [],
   "source": [
    "## For sake of simplicity, we will just predict on the same inference_data_df\n",
    "batch_input_df = inference_data_df.drop(\"price\") # Exclude true label\n",
    "predictions_df = fs.score_batch(f\"models:/feature_store_airbnb_{DA.cleaned_username}/1\", \n",
    "                                  batch_input_df, result_type=\"double\")\n",
    "display(predictions_df)"
   ]
  },
  {
   "cell_type": "markdown",
   "metadata": {
    "application/vnd.databricks.v1+cell": {
     "cellMetadata": {},
     "inputWidgets": {},
     "nuid": "b3cc4c11-5584-48d6-bd7f-7189152f293d",
     "showTitle": false,
     "title": ""
    }
   },
   "source": [
    "<i18n value=\"fa42d4d3-a6a6-4205-b799-032154d1d8a3\"/>\n",
    "\n",
    "### 特徴量テーブルを上書きする (Overwrite feature table)\n",
    "最後に、いくつかのレビューカラムの要約情報を追加して特徴量テーブルを更新します。新しい特徴量カラムは物件の平均レビュースコアを計算して作成します。"
   ]
  },
  {
   "cell_type": "code",
   "execution_count": 0,
   "metadata": {
    "application/vnd.databricks.v1+cell": {
     "cellMetadata": {
      "byteLimit": 2048000,
      "rowLimit": 10000
     },
     "inputWidgets": {},
     "nuid": "319870cf-3ba5-41df-a2ac-4f00f57f188d",
     "showTitle": false,
     "title": ""
    }
   },
   "outputs": [],
   "source": [
    "## select numeric features and aggregate the review scores\n",
    "review_columns = [\"review_scores_accuracy\", \"review_scores_cleanliness\", \"review_scores_checkin\", \n",
    "                 \"review_scores_communication\", \"review_scores_location\", \"review_scores_value\"]\n",
    "\n",
    "condensed_review_df = (airbnb_df\n",
    "                       .select([\"index\"] + numeric_cols)\n",
    "                       .withColumn(\"average_review_score\", expr(\"+\".join(review_columns)) / lit(len(review_columns)))\n",
    "                       .drop(*review_columns)\n",
    "                      )\n",
    "             \n",
    "display(condensed_review_df)"
   ]
  },
  {
   "cell_type": "markdown",
   "metadata": {
    "application/vnd.databricks.v1+cell": {
     "cellMetadata": {},
     "inputWidgets": {},
     "nuid": "7be69669-556c-4bb8-980b-a652e5e9be37",
     "showTitle": false,
     "title": ""
    }
   },
   "source": [
    "<i18n value=\"da3ee1df-391c-4f26-99d0-82937e91a40a\"/>\n",
    "\n",
    "では、 **`overwrite(上書き)`** 新規特徴量の追加と元々の特徴量を削除します。"
   ]
  },
  {
   "cell_type": "code",
   "execution_count": 0,
   "metadata": {
    "application/vnd.databricks.v1+cell": {
     "cellMetadata": {
      "byteLimit": 2048000,
      "rowLimit": 10000
     },
     "inputWidgets": {},
     "nuid": "60ac9d00-febd-43a7-ad62-32c757e58fac",
     "showTitle": false,
     "title": ""
    }
   },
   "outputs": [],
   "source": [
    "fs.write_table(\n",
    "    name=table_name,\n",
    "    df=condensed_review_df,\n",
    "    mode=\"overwrite\"\n",
    ")"
   ]
  },
  {
   "cell_type": "markdown",
   "metadata": {
    "application/vnd.databricks.v1+cell": {
     "cellMetadata": {},
     "inputWidgets": {},
     "nuid": "eb7a626a-f69d-4f4c-9f25-e828f165553a",
     "showTitle": false,
     "title": ""
    }
   },
   "source": [
    "<i18n value=\"ae45b580-e79e-4f54-85a0-1274cb5f5c5f\"/>\n",
    "\n",
    "### Feature Store UIから特徴量のpermission(アクセス許可)、lineage(特徴量とモデルの対応関係)、freshness(データの鮮度)を探る"
   ]
  },
  {
   "cell_type": "markdown",
   "metadata": {
    "application/vnd.databricks.v1+cell": {
     "cellMetadata": {},
     "inputWidgets": {},
     "nuid": "8b1cf5b9-50b6-47fb-b9f3-ef12bff1a929",
     "showTitle": false,
     "title": ""
    }
   },
   "source": [
    "<i18n value=\"5d4d8425-b9b7-4e47-8856-91e1142e9c47\"/>\n",
    "\n",
    "UI上では、以下のことが確認できます。\n",
    "* 特徴量リストに新しいカラムが追加されたこと。\n",
    "* 削除したカラムはまだ存在していること。ただし、削除された特徴量は、テーブルを読み込む際に **`null`** になります。\n",
    "* \"Models\"カラムが作られ、該当特徴量を使用したモデルがリストアップされています。\n",
    "* **`Notebooks`** カラムが作られ、該当特徴量を使用したノートブックが表示されています。このカラムは、どのノートブックが該当特徴量を消費しているかを示しています。\n",
    "\n",
    "<img src=\"https://files.training.databricks.com/images/feature_store_consumers.png\" alt=\"step12\" width=\"800\"/>"
   ]
  },
  {
   "cell_type": "markdown",
   "metadata": {
    "application/vnd.databricks.v1+cell": {
     "cellMetadata": {},
     "inputWidgets": {},
     "nuid": "d588e0d6-1e08-411e-8df1-174fd374a5fc",
     "showTitle": false,
     "title": ""
    }
   },
   "source": [
    "<i18n value=\"884ff3ff-f965-4c37-8cff-f6a1600ee0b6\"/>\n",
    "\n",
    "では、Feature Storeから特徴量データを読み込んでみましょう。デフォルトでは **`fs.read_table()`** は最新版の特徴量テーブルを読み込みます。特徴量テーブルの特定バージョンを読み込むために、オプションで引数 **`as_of_delta_timestamp`** で日時を指定します。形式は、タイムスタンプか文字列です。\n",
    "\n",
    "\n",
    "削除されたカラムの値は **`null`** に置き換えられていることに注意してください。"
   ]
  },
  {
   "cell_type": "code",
   "execution_count": 0,
   "metadata": {
    "application/vnd.databricks.v1+cell": {
     "cellMetadata": {
      "byteLimit": 2048000,
      "rowLimit": 10000
     },
     "inputWidgets": {},
     "nuid": "7301194f-84c1-481b-8ee1-f0edb8ae4b54",
     "showTitle": false,
     "title": ""
    }
   },
   "outputs": [],
   "source": [
    "# Displays most recent table\n",
    "display(fs.read_table(name=table_name))"
   ]
  },
  {
   "cell_type": "markdown",
   "metadata": {
    "application/vnd.databricks.v1+cell": {
     "cellMetadata": {},
     "inputWidgets": {},
     "nuid": "24612249-e929-460e-b547-0c2a3045b9cf",
     "showTitle": false,
     "title": ""
    }
   },
   "source": [
    "<i18n value=\"4148328d-4046-4251-b4db-f9e427b2e0f9\"/>\n",
    "\n",
    "特徴量をリアルタイム・サービングすることが必要な場合は、特徴量を<a href=\"https://docs.databricks.com/applications/machine-learning/feature-store.html#publish-features-to-an-online-feature-store\" target=\"_blank\">Online store</a>にPublishします。\n",
    "\n",
    "UI上で特徴テーブルを扱う権限を設定することができます。\n",
    "\n",
    "テーブルを削除するには **`delete`** ボタンをUIでクリックします。**データベースからdeltaテーブルも削除する必要があります。** <img src=\"https://s3.us-west-2.amazonaws.com/files.training.databricks.com/images/mlflow/fs_permissions+(1).png\" alt=\"ステップ12\" width=\"700\"/>"
   ]
  },
  {
   "cell_type": "markdown",
   "metadata": {
    "application/vnd.databricks.v1+cell": {
     "cellMetadata": {},
     "inputWidgets": {},
     "nuid": "daa1f9ed-e4b5-4da7-92ee-064b4531a1aa",
     "showTitle": false,
     "title": ""
    }
   },
   "source": [
    "<i18n value=\"81e53dea-dc51-418c-b366-eed3a9c4ce2f\"/>\n",
    "\n",
    "### 追加した特徴量(average_review_score)を用いたモデルの再学習 (Retrain a new model with the new average_review_score feature)"
   ]
  },
  {
   "cell_type": "code",
   "execution_count": 0,
   "metadata": {
    "application/vnd.databricks.v1+cell": {
     "cellMetadata": {
      "byteLimit": 2048000,
      "rowLimit": 10000
     },
     "inputWidgets": {},
     "nuid": "136c8cd5-07d6-4611-864f-a2859c05a337",
     "showTitle": false,
     "title": ""
    }
   },
   "outputs": [],
   "source": [
    "def load_data(table_name, lookup_key):\n",
    "    model_feature_lookups = [FeatureLookup(table_name=table_name, lookup_key=lookup_key)]\n",
    "\n",
    "    # fs.create_training_set will look up features in model_feature_lookups with matched key from inference_data_df\n",
    "    training_set = fs.create_training_set(inference_data_df, model_feature_lookups, label=\"price\", exclude_columns=\"index\")\n",
    "    training_pd = training_set.load_df().drop(*review_columns).toPandas()  #remove all those null columns, should now have the new average_review_score in it\n",
    "\n",
    "    # Create train and test datasets\n",
    "    X = training_pd.drop(\"price\", axis=1)\n",
    "    y = training_pd[\"price\"]\n",
    "    X_train, X_test, y_train, y_test = train_test_split(X, y, test_size=0.2, random_state=42)\n",
    "    return X_train, X_test, y_train, y_test, training_set\n",
    "\n",
    "X_train, X_test, y_train, y_test, training_set = load_data(table_name, \"index\")\n",
    "X_train.head()"
   ]
  },
  {
   "cell_type": "markdown",
   "metadata": {
    "application/vnd.databricks.v1+cell": {
     "cellMetadata": {},
     "inputWidgets": {},
     "nuid": "6bc703d8-5480-4cd6-9096-32957c70bdc1",
     "showTitle": false,
     "title": ""
    }
   },
   "source": [
    "<i18n value=\"94873d7f-3bb9-4d5f-a414-c24480a84f3b\"/>\n",
    "\n",
    "指定された`key`で特徴量を検索して学習用データセットを作成します。"
   ]
  },
  {
   "cell_type": "code",
   "execution_count": 0,
   "metadata": {
    "application/vnd.databricks.v1+cell": {
     "cellMetadata": {
      "byteLimit": 2048000,
      "rowLimit": 10000
     },
     "inputWidgets": {},
     "nuid": "ed7b156d-e583-4317-91b1-bccad67e46ac",
     "showTitle": false,
     "title": ""
    }
   },
   "outputs": [],
   "source": [
    "def train_model(X_train, X_test, y_train, y_test, training_set, fs):\n",
    "    ## fit and log model\n",
    "    with mlflow.start_run() as run:\n",
    "\n",
    "        rf = RandomForestRegressor(max_depth=3, n_estimators=20, random_state=42)\n",
    "        rf.fit(X_train, y_train)\n",
    "        y_pred = rf.predict(X_test)\n",
    "\n",
    "        mlflow.log_metric(\"test_mse\", mean_squared_error(y_test, y_pred))\n",
    "        mlflow.log_metric(\"test_r2_score\", r2_score(y_test, y_pred))\n",
    "\n",
    "        fs.log_model(\n",
    "            model=rf,\n",
    "            artifact_path=\"feature-store-model\",\n",
    "            flavor=mlflow.sklearn,\n",
    "            training_set=training_set,\n",
    "            registered_model_name=f\"feature_store_airbnb_{DA.cleaned_username}\",\n",
    "            input_example=X_train[:5],\n",
    "            signature=infer_signature(X_train, y_train)\n",
    "        )\n",
    "\n",
    "train_model(X_train, X_test, y_train, y_test, training_set, fs)"
   ]
  },
  {
   "cell_type": "markdown",
   "metadata": {
    "application/vnd.databricks.v1+cell": {
     "cellMetadata": {},
     "inputWidgets": {},
     "nuid": "92dca178-fd68-4769-a447-615ab64de286",
     "showTitle": false,
     "title": ""
    }
   },
   "source": [
    "<i18n value=\"b0ffd91d-c73f-4f86-a02a-43ffdc73460c\"/>\n",
    "\n",
    "### Feature Storeでバッチスコアリング (Feature Score Batch Scoring)\n",
    "\n",
    "FeatueStoreに登録されたMLflowモデルversion2に、特徴量を与えて **`score_batch`** を行います。"
   ]
  },
  {
   "cell_type": "code",
   "execution_count": 0,
   "metadata": {
    "application/vnd.databricks.v1+cell": {
     "cellMetadata": {
      "byteLimit": 2048000,
      "rowLimit": 10000
     },
     "inputWidgets": {},
     "nuid": "7e1a44d7-8b2e-4a61-9209-02ba7b2651a6",
     "showTitle": false,
     "title": ""
    }
   },
   "outputs": [],
   "source": [
    "## For sake of simplicity, we will just predict on the same inference_data_df\n",
    "batch_input_df = inference_data_df.drop(\"price\") # Exclude true label\n",
    "predictions_df = fs.score_batch(f\"models:/feature_store_airbnb_{DA.cleaned_username}/2\", #notice we are using version2\n",
    "                                  batch_input_df, result_type=\"double\")\n",
    "display(predictions_df)"
   ]
  },
  {
   "cell_type": "markdown",
   "metadata": {
    "application/vnd.databricks.v1+cell": {
     "cellMetadata": {},
     "inputWidgets": {},
     "nuid": "adf2982b-f784-4693-af0e-07d14dbfcc6b",
     "showTitle": false,
     "title": ""
    }
   },
   "source": [
    "<i18n value=\"67471f1c-0dc0-445f-ae6a-beafb3508a16\"/>\n",
    "\n",
    "UI上では、以下のことが確認できます。\n",
    "* モデルバージョン2は、新しく作成されたaverage_review_score(平均レビュースコア)という特徴量を使用しています。\n",
    "* 削除したカラムもまだ存在しています。ただし、削除された特徴量は、テーブルで読み込むと **`null`** の値になります。\n",
    "* \"Models\"カラムには、当該特徴量を用いたモデルのバージョンがリストアップされます。\n",
    "* 最後に **`Notebooks`** カラムが表示されます。このカラムは、どのノートブックが該当特徴量を消費するかを示しています。\n",
    "\n",
    "<img src=\"https://files.training.databricks.com/images/feature_store_consumers_2.png\" alt=\"step12\" width=\"1000\"/>"
   ]
  },
  {
   "cell_type": "markdown",
   "metadata": {
    "application/vnd.databricks.v1+cell": {
     "cellMetadata": {},
     "inputWidgets": {},
     "nuid": "549f4343-66c5-49bc-b4cc-6ee04399c992",
     "showTitle": false,
     "title": ""
    }
   },
   "source": [
    "&copy; 2022 Databricks, Inc. All rights reserved.<br/>\n",
    "Apache, Apache Spark, Spark and the Spark logo are trademarks of the <a href=\"https://www.apache.org/\">Apache Software Foundation</a>.<br/>\n",
    "<br/>\n",
    "<a href=\"https://databricks.com/privacy-policy\">Privacy Policy</a> | <a href=\"https://databricks.com/terms-of-use\">Terms of Use</a> | <a href=\"https://help.databricks.com/\">Support</a>"
   ]
  }
 ],
 "metadata": {
  "application/vnd.databricks.v1+notebook": {
   "dashboards": [],
   "language": "python",
   "notebookMetadata": {
    "pythonIndentUnit": 2
   },
   "notebookName": "ML 10 - Feature Store",
   "widgets": {}
  }
 },
 "nbformat": 4,
 "nbformat_minor": 0
}
