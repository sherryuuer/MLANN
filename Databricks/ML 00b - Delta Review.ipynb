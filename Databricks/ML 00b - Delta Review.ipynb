{
 "cells": [
  {
   "cell_type": "markdown",
   "metadata": {
    "application/vnd.databricks.v1+cell": {
     "cellMetadata": {},
     "inputWidgets": {},
     "nuid": "a74df485-bada-4c7b-8083-9d2062c48e20",
     "showTitle": false,
     "title": ""
    }
   },
   "source": [
    "\n",
    "<div style=\"text-align: center; line-height: 0; padding-top: 9px;\">\n",
    "  <img src=\"https://databricks.com/wp-content/uploads/2018/03/db-academy-rgb-1200px.png\" alt=\"Databricks Learning\" style=\"width: 600px\">\n",
    "</div>"
   ]
  },
  {
   "cell_type": "markdown",
   "metadata": {
    "application/vnd.databricks.v1+cell": {
     "cellMetadata": {},
     "inputWidgets": {},
     "nuid": "0537beb1-112d-4fd9-b853-4db822bd30a2",
     "showTitle": false,
     "title": ""
    }
   },
   "source": [
    "<i18n value=\"fd2d84ac-6a17-44c2-bb92-18b0c7fef797\"/>\n",
    "\n",
    "# デルタ・レビュー (Delta Review)\n",
    "\n",
    "<a href=\"https://docs.delta.io/latest/quick-start.html#create-a-table\" target=\"_blank\">Delta Lake</a>を理解し活用するために、いくつかの重要な操作を確認します。\n",
    "\n",
    "## ![Spark Logo Tiny](https://files.training.databricks.com/images/105/logo_spark_tiny.png) このレッスンでは次を行います。<br>\n",
    "- Delta Tableを作成する。\n",
    "- Delta Tableからデータを読込む。\n",
    "- Delta Tableのデータを更新する。\n",
    "- <a href=\"https://databricks.com/blog/2019/02/04/introducing-delta-time-travel-for-large-scale-data-lakes.html\" target=\"_blank\">タイムトラベル</a>を使用して、Delta Tableの以前のバージョンにアクセスする。\n",
    "- <a href=\"https://databricks.com/blog/2019/08/21/diving-into-delta-lake-unpacking-the-transaction-log.html\" target=\"_blank\">トランザクションログを理解する。</a>\n",
    "\n",
    "このノートブックでは、<a href=\"http://insideairbnb.com/get-the-data.html\" target=\"_blank\">Inside Airbnb</a>のSF Airbnbレンタルデータセットを使用します。"
   ]
  },
  {
   "cell_type": "markdown",
   "metadata": {
    "application/vnd.databricks.v1+cell": {
     "cellMetadata": {},
     "inputWidgets": {},
     "nuid": "39f8c9f0-5e75-4ff9-b986-4bfa9ce39d46",
     "showTitle": false,
     "title": ""
    }
   },
   "source": [
    "<i18n value=\"68fcecd4-2280-411c-94c1-3e111683c6a3\"/>\n",
    "\n",
    "###なぜDelta Lakeなのか？ (Why Delta Lake?)<br><br>\n",
    "\n",
    "<div style=\"img align: center; line-height:0; padding-top:9px;\">\n",
    "  <img src=\"https://user-images.githubusercontent.com/20408077/87175470-4d8e1580-c29e-11ea-8f33-0ee14348a2c1.png\" width=\"500\"/>\n",
    "</div>\n",
    "\n",
    "一言で言えば、Delta Lakeは、データレイクに**信頼性とパフォーマンス**をもたらす、オープンソースのストレージレイヤーです。Delta Lakeは、ACIDトランザクション、スケーラブルなメタデータ処理を提供し、ストリーミングとバッチデータを統一的に処理します。\n",
    "\n",
    "Delta Lakeは既存のデータレイク上で動作し、Apache Spark APIと完全な互換性があります。 <a href=\"https://docs.databricks.com/delta/delta-intro.html\" target=\"_blank\">詳細をご参照ください。 </a>"
   ]
  },
  {
   "cell_type": "code",
   "execution_count": 0,
   "metadata": {
    "application/vnd.databricks.v1+cell": {
     "cellMetadata": {
      "byteLimit": 2048000,
      "rowLimit": 10000
     },
     "inputWidgets": {},
     "nuid": "192509fc-38b1-46d1-9d6e-7c63c1bb034d",
     "showTitle": false,
     "title": ""
    }
   },
   "outputs": [],
   "source": [
    "%run \"./Includes/Classroom-Setup\""
   ]
  },
  {
   "cell_type": "markdown",
   "metadata": {
    "application/vnd.databricks.v1+cell": {
     "cellMetadata": {},
     "inputWidgets": {},
     "nuid": "87513ec3-f46e-4c7b-b720-6efc0b15ab42",
     "showTitle": false,
     "title": ""
    }
   },
   "source": [
    "<i18n value=\"8ce92b68-6e6c-4fd0-8d3c-a57f27e5bdd9\"/>\n",
    "\n",
    "###デルタテーブルの作成 (Creating a Delta Table)\n",
    "まず、AirbnbのデータセットをSpark DataFrameとして読み込む必要があります。"
   ]
  },
  {
   "cell_type": "code",
   "execution_count": 0,
   "metadata": {
    "application/vnd.databricks.v1+cell": {
     "cellMetadata": {
      "byteLimit": 2048000,
      "rowLimit": 10000
     },
     "inputWidgets": {},
     "nuid": "ea98e813-b1cd-4050-905e-942d807cc5ec",
     "showTitle": false,
     "title": ""
    }
   },
   "outputs": [],
   "source": [
    "DA.paths.datasets"
   ]
  },
  {
   "cell_type": "code",
   "execution_count": 0,
   "metadata": {
    "application/vnd.databricks.v1+cell": {
     "cellMetadata": {
      "byteLimit": 2048000,
      "rowLimit": 10000
     },
     "inputWidgets": {},
     "nuid": "a40b0b29-95e8-4555-836e-97f80094de8f",
     "showTitle": false,
     "title": ""
    }
   },
   "outputs": [],
   "source": [
    "file_path = f\"{DA.paths.datasets}/airbnb/sf-listings/sf-listings-2019-03-06-clean.parquet/\"\n",
    "airbnb_df = spark.read.format(\"parquet\").load(file_path)\n",
    "\n",
    "display(airbnb_df)"
   ]
  },
  {
   "cell_type": "code",
   "execution_count": 0,
   "metadata": {
    "application/vnd.databricks.v1+cell": {
     "cellMetadata": {
      "byteLimit": 2048000,
      "rowLimit": 10000
     },
     "inputWidgets": {},
     "nuid": "1cd03314-2b94-47d1-91f3-d7c6cd60e9dc",
     "showTitle": false,
     "title": ""
    }
   },
   "outputs": [],
   "source": [
    "DA.paths.working_dir"
   ]
  },
  {
   "cell_type": "markdown",
   "metadata": {
    "application/vnd.databricks.v1+cell": {
     "cellMetadata": {},
     "inputWidgets": {},
     "nuid": "31521928-c346-4554-b283-19d145bda19e",
     "showTitle": false,
     "title": ""
    }
   },
   "source": [
    "<i18n value=\"c100b529-ac6b-4540-a3ff-4afa63577eee\"/>\n",
    "\n",
    "以下のセルは、Spark DataFrameが提供するスキーマを使用して、データをDelta tableに変換します。"
   ]
  },
  {
   "cell_type": "code",
   "execution_count": 0,
   "metadata": {
    "application/vnd.databricks.v1+cell": {
     "cellMetadata": {
      "byteLimit": 2048000,
      "rowLimit": 10000
     },
     "inputWidgets": {},
     "nuid": "e632c1d3-5593-433d-a9fa-6006ea8303b2",
     "showTitle": false,
     "title": ""
    }
   },
   "outputs": [],
   "source": [
    "# Converting Spark DataFrame to Delta Table\n",
    "dbutils.fs.rm(DA.paths.working_dir, True)\n",
    "airbnb_df.write.format(\"delta\").mode(\"overwrite\").save(DA.paths.working_dir)"
   ]
  },
  {
   "cell_type": "markdown",
   "metadata": {
    "application/vnd.databricks.v1+cell": {
     "cellMetadata": {},
     "inputWidgets": {},
     "nuid": "2d932864-dc09-4512-adb2-9f23b6f3ee95",
     "showTitle": false,
     "title": ""
    }
   },
   "source": [
    "<i18n value=\"090a31f6-1082-44cf-8e2a-6c659ea796ea\"/>\n",
    "\n",
    "Deltaディレクトリは、メタストアのテーブルとして登録することも可能です。"
   ]
  },
  {
   "cell_type": "code",
   "execution_count": 0,
   "metadata": {
    "application/vnd.databricks.v1+cell": {
     "cellMetadata": {
      "byteLimit": 2048000,
      "rowLimit": 10000
     },
     "inputWidgets": {},
     "nuid": "2fb7afaf-f91b-44aa-b77c-706dd58f379a",
     "showTitle": false,
     "title": ""
    }
   },
   "outputs": [],
   "source": [
    "spark.sql(f\"CREATE DATABASE IF NOT EXISTS {DA.cleaned_username}\")\n",
    "spark.sql(f\"USE {DA.cleaned_username}\")\n",
    "\n",
    "airbnb_df.write.format(\"delta\").mode(\"overwrite\").saveAsTable(\"delta_review\")"
   ]
  },
  {
   "cell_type": "markdown",
   "metadata": {
    "application/vnd.databricks.v1+cell": {
     "cellMetadata": {},
     "inputWidgets": {},
     "nuid": "45880707-dddd-498a-928e-459d1021fe14",
     "showTitle": false,
     "title": ""
    }
   },
   "source": [
    "<i18n value=\"732577c2-095d-4278-8466-74e494a9c1bd\"/>\n",
    "\n",
    "デルタはパーティションに対応しています。パーティショニングを行うと、パーティショニングされたカラムの値が同じデータをその値に対応するディレクトリに置きます。パーティションされたカラムにフィルターをかけると、そのフィルターに一致するディレクトリのみを読み込みます。この最適化をパーティション・プルーニングと呼びます。データのパターンに基づいてパーティションカラムを選択します。例えば、このデータセットでは、地域別にパーティションを設定すると後の処理に役立つかもしれません。"
   ]
  },
  {
   "cell_type": "code",
   "execution_count": 0,
   "metadata": {
    "application/vnd.databricks.v1+cell": {
     "cellMetadata": {
      "byteLimit": 2048000,
      "rowLimit": 10000
     },
     "inputWidgets": {},
     "nuid": "98501e5b-471f-4c4d-b772-463dd2071a9b",
     "showTitle": false,
     "title": ""
    }
   },
   "outputs": [],
   "source": [
    "airbnb_df.write.format(\"delta\").mode(\"overwrite\").partitionBy(\"neighbourhood_cleansed\").option(\"overwriteSchema\", \"true\").save(DA.paths.working_dir)"
   ]
  },
  {
   "cell_type": "markdown",
   "metadata": {
    "application/vnd.databricks.v1+cell": {
     "cellMetadata": {},
     "inputWidgets": {},
     "nuid": "dd5496ac-8193-40c1-90de-a1b88a9bf3e9",
     "showTitle": false,
     "title": ""
    }
   },
   "source": [
    "<i18n value=\"e9ce863b-5761-4676-ae0b-95f3f5f027f6\"/>\n",
    "\n",
    "###<a href=\"https://databricks.com/blog/2019/08/21/diving-into-delta-lake-unpacking-the-transaction-log.html\" target=\"_blank\">Transaction Log </a>の理解 (Understanding the Transaction Log)\n",
    "\n",
    "Delta Transaction Logを見てみましょう。Deltaが地域別のパーティションを別々のファイルに保存していることがわかります。さらに、_delta_logというディレクトリも存在しています。"
   ]
  },
  {
   "cell_type": "code",
   "execution_count": 0,
   "metadata": {
    "application/vnd.databricks.v1+cell": {
     "cellMetadata": {
      "byteLimit": 2048000,
      "rowLimit": 10000
     },
     "inputWidgets": {},
     "nuid": "a728d948-f688-4364-a54f-cd91f5d3791e",
     "showTitle": false,
     "title": ""
    }
   },
   "outputs": [],
   "source": [
    "display(dbutils.fs.ls(DA.paths.working_dir))"
   ]
  },
  {
   "cell_type": "markdown",
   "metadata": {
    "application/vnd.databricks.v1+cell": {
     "cellMetadata": {},
     "inputWidgets": {},
     "nuid": "bab781e5-bc1d-4f51-9802-76f1f95409f0",
     "showTitle": false,
     "title": ""
    }
   },
   "source": [
    "<i18n value=\"ac970bba-1cf6-4aa3-91bb-74a797496eef\"/>\n",
    "\n",
    "<div style=\"img align: center; line-height:0; padding-top:9px;\">\n",
    "  <img src=\"https://user-images.githubusercontent.com/20408077/87174138-609fe600-c29c-11ea-90cc-84df0c1357f1.png\" width=\"500\"/>\n",
    "</div>\n",
    "\n",
    "ユーザーがDelta Lakeテーブルを作成すると、そのテーブルのトランザクションログは自動的に_delta_logというサブディレクトリに作成されます。そのテーブルを変更すると、全ての変更はトランザクションログとして、順序付きでアトミックにコミットとして記録されます。各コミットは、000000.jsonで始まるJSONファイルとして書き出されます。テーブルを追加変更すると、さらにJSONファイルが生成されます。"
   ]
  },
  {
   "cell_type": "code",
   "execution_count": 0,
   "metadata": {
    "application/vnd.databricks.v1+cell": {
     "cellMetadata": {
      "byteLimit": 2048000,
      "rowLimit": 10000
     },
     "inputWidgets": {},
     "nuid": "2c0b4396-c77b-4550-af98-2d4772a0de27",
     "showTitle": false,
     "title": ""
    }
   },
   "outputs": [],
   "source": [
    "display(dbutils.fs.ls(f\"{DA.paths.working_dir}/_delta_log/\"))"
   ]
  },
  {
   "cell_type": "markdown",
   "metadata": {
    "application/vnd.databricks.v1+cell": {
     "cellMetadata": {},
     "inputWidgets": {},
     "nuid": "fb287521-25ec-4211-8624-98f27d2bc78c",
     "showTitle": false,
     "title": ""
    }
   },
   "source": [
    "<i18n value=\"2905b874-373b-493d-9084-8ff4f7583ccc\"/>\n",
    "\n",
    "次に、トランザクション・ログ・ファイルを見てみましょう。\n",
    "\n",
    "<a href=\"https://docs.databricks.com/delta/delta-utility.html\" target=\"_blank\">4つの列</a>はそれぞれ、テーブルが作成されたDeltaテーブルへの最初のコミットの異なる部分を表します。<br><br>\n",
    "\n",
    "- **add**列には、DataFrame 全体および個々の列に関する統計情報が記載されます。\n",
    "- **commitInfo**列には、操作の内容（WRITEまたはREAD）と、誰がその操作を実行したかについての有用な情報が記載されます。\n",
    "- **metaData**列には、カラムのスキーマに関する情報が記載されます。\n",
    "- protocal versionには、このデルタテーブルへの書き込みまたは読み出しに必要な最小デルタバージョンに関する情報が記載されます。"
   ]
  },
  {
   "cell_type": "code",
   "execution_count": 0,
   "metadata": {
    "application/vnd.databricks.v1+cell": {
     "cellMetadata": {
      "byteLimit": 2048000,
      "rowLimit": 10000
     },
     "inputWidgets": {},
     "nuid": "071214af-8e02-4f91-820a-aac22838098f",
     "showTitle": false,
     "title": ""
    }
   },
   "outputs": [],
   "source": [
    "display(spark.read.json(f\"{DA.paths.working_dir}/_delta_log/00000000000000000000.json\"))"
   ]
  },
  {
   "cell_type": "markdown",
   "metadata": {
    "application/vnd.databricks.v1+cell": {
     "cellMetadata": {},
     "inputWidgets": {},
     "nuid": "5254e4a6-b974-47fd-a29d-9125d008b52c",
     "showTitle": false,
     "title": ""
    }
   },
   "source": [
    "<i18n value=\"8f79d1df-d777-4364-9783-b52bc0eed81a\"/>\n",
    "\n",
    "2つ目のトランザクション・ログには39行のデータがあります。これには、各パーティションのメタデータが含まれます。"
   ]
  },
  {
   "cell_type": "code",
   "execution_count": 0,
   "metadata": {
    "application/vnd.databricks.v1+cell": {
     "cellMetadata": {
      "byteLimit": 2048000,
      "rowLimit": 10000
     },
     "inputWidgets": {},
     "nuid": "edecee49-5b2f-4704-bf88-e1aedb113840",
     "showTitle": false,
     "title": ""
    }
   },
   "outputs": [],
   "source": [
    "display(spark.read.json(f\"{DA.paths.working_dir}/_delta_log/00000000000000000001.json\"))"
   ]
  },
  {
   "cell_type": "markdown",
   "metadata": {
    "application/vnd.databricks.v1+cell": {
     "cellMetadata": {},
     "inputWidgets": {},
     "nuid": "12a3fead-955c-43f4-88bc-348e2c4f6588",
     "showTitle": false,
     "title": ""
    }
   },
   "source": [
    "<i18n value=\"18500df8-b905-4f24-957c-58040920d554\"/>\n",
    "\n",
    "最後に、Neighborhoodパーティションの1つについて、中のファイルを見てみましょう。中のファイルは、_delta_logディレクトリのパーティションコミット（ファイル01）に対応します。"
   ]
  },
  {
   "cell_type": "code",
   "execution_count": 0,
   "metadata": {
    "application/vnd.databricks.v1+cell": {
     "cellMetadata": {
      "byteLimit": 2048000,
      "rowLimit": 10000
     },
     "inputWidgets": {},
     "nuid": "7d07d8e7-3c03-4450-92b7-825e87268d7f",
     "showTitle": false,
     "title": ""
    }
   },
   "outputs": [],
   "source": [
    "display(dbutils.fs.ls(f\"{DA.paths.working_dir}/neighbourhood_cleansed=Bayview/\"))"
   ]
  },
  {
   "cell_type": "markdown",
   "metadata": {
    "application/vnd.databricks.v1+cell": {
     "cellMetadata": {},
     "inputWidgets": {},
     "nuid": "34ee8027-5dc4-4b72-8c1c-526e35911641",
     "showTitle": false,
     "title": ""
    }
   },
   "source": [
    "<i18n value=\"9f817cd0-87ec-457b-8776-3fc275521868\"/>\n",
    "\n",
    "### Deltaテーブルからデータの読込 (Reading data from your Delta table)"
   ]
  },
  {
   "cell_type": "code",
   "execution_count": 0,
   "metadata": {
    "application/vnd.databricks.v1+cell": {
     "cellMetadata": {
      "byteLimit": 2048000,
      "rowLimit": 10000
     },
     "inputWidgets": {},
     "nuid": "cab54b59-8f81-47cd-aa08-965bb5d2f100",
     "showTitle": false,
     "title": ""
    }
   },
   "outputs": [],
   "source": [
    "df = spark.read.format(\"delta\").load(DA.paths.working_dir)\n",
    "display(df)"
   ]
  },
  {
   "cell_type": "markdown",
   "metadata": {
    "application/vnd.databricks.v1+cell": {
     "cellMetadata": {},
     "inputWidgets": {},
     "nuid": "3f0517c3-3290-484b-b329-5637fe464d5a",
     "showTitle": false,
     "title": ""
    }
   },
   "source": [
    "<i18n value=\"faba817b-7cbf-49d4-a32c-36a40f582021\"/>\n",
    "\n",
    "#デルタテーブルの更新 (Updating your Delta Table)\n",
    "\n",
    "ホストがスーパーホストである行をフィルタリングしてみましょう。"
   ]
  },
  {
   "cell_type": "code",
   "execution_count": 0,
   "metadata": {
    "application/vnd.databricks.v1+cell": {
     "cellMetadata": {
      "byteLimit": 2048000,
      "rowLimit": 10000
     },
     "inputWidgets": {},
     "nuid": "b165a87c-0b6b-404f-94aa-5d84894f1c76",
     "showTitle": false,
     "title": ""
    }
   },
   "outputs": [],
   "source": [
    "df_update = airbnb_df.filter(airbnb_df[\"host_is_superhost\"] == \"t\")\n",
    "display(df_update)"
   ]
  },
  {
   "cell_type": "code",
   "execution_count": 0,
   "metadata": {
    "application/vnd.databricks.v1+cell": {
     "cellMetadata": {
      "byteLimit": 2048000,
      "rowLimit": 10000
     },
     "inputWidgets": {},
     "nuid": "1fffe006-9598-4a88-85a0-6e9f9789e9b8",
     "showTitle": false,
     "title": ""
    }
   },
   "outputs": [],
   "source": [
    "df_update.write.format(\"delta\").mode(\"overwrite\").save(DA.paths.working_dir)"
   ]
  },
  {
   "cell_type": "code",
   "execution_count": 0,
   "metadata": {
    "application/vnd.databricks.v1+cell": {
     "cellMetadata": {
      "byteLimit": 2048000,
      "rowLimit": 10000
     },
     "inputWidgets": {},
     "nuid": "53292fd1-64d5-44a5-a3fa-14154896c5a2",
     "showTitle": false,
     "title": ""
    }
   },
   "outputs": [],
   "source": [
    "df = spark.read.format(\"delta\").load(DA.paths.working_dir)\n",
    "display(df)"
   ]
  },
  {
   "cell_type": "markdown",
   "metadata": {
    "application/vnd.databricks.v1+cell": {
     "cellMetadata": {},
     "inputWidgets": {},
     "nuid": "a26ba6fd-d3a3-495e-a883-3818ec08bf58",
     "showTitle": false,
     "title": ""
    }
   },
   "source": [
    "<i18n value=\"e4cafdf4-a346-4729-81a6-fdea70f4929a\"/>\n",
    "\n",
    "更新後のBayviewパーティションのファイルを見てみましょう。このディレクトリ内のファイルは、異なるコミットに対応するDataFrameのスナップショットであることをご注意ください。"
   ]
  },
  {
   "cell_type": "code",
   "execution_count": 0,
   "metadata": {
    "application/vnd.databricks.v1+cell": {
     "cellMetadata": {
      "byteLimit": 2048000,
      "rowLimit": 10000
     },
     "inputWidgets": {},
     "nuid": "3b5bb5d8-97b5-4073-af01-fd487e8f8825",
     "showTitle": false,
     "title": ""
    }
   },
   "outputs": [],
   "source": [
    "display(dbutils.fs.ls(f\"{DA.paths.working_dir}/neighbourhood_cleansed=Bayview/\"))"
   ]
  },
  {
   "cell_type": "markdown",
   "metadata": {
    "application/vnd.databricks.v1+cell": {
     "cellMetadata": {},
     "inputWidgets": {},
     "nuid": "f30a53eb-dadb-40ac-b380-46f84d8268d5",
     "showTitle": false,
     "title": ""
    }
   },
   "source": [
    "<i18n value=\"25ca7489-8077-4b23-96af-8d801982367c\"/>\n",
    "\n",
    "#Delta Time Travel"
   ]
  },
  {
   "cell_type": "markdown",
   "metadata": {
    "application/vnd.databricks.v1+cell": {
     "cellMetadata": {},
     "inputWidgets": {},
     "nuid": "b8e401ae-02a9-405d-b856-4915c1781842",
     "showTitle": false,
     "title": ""
    }
   },
   "source": [
    "<i18n value=\"c6f2e771-502d-46ed-b8d4-b02e3e4f4134\"/>\n",
    "\n",
    "おっと、実は全データセットが必要です!<a href=\"https://databricks.com/blog/2019/02/04/introducing-delta-time-travel-for-large-scale-data-lakes.html\" target=\"_blank\">Delta Time Travel</a>を使用して、デルタテーブルの以前のバージョンにアクセスすることができます。バージョン履歴にアクセスするには、次の2つのセルを使用します。Delta Lakeは、デフォルトで30日間のバージョン履歴を保持しますが、必要であればより長い履歴を保持することもできます。"
   ]
  },
  {
   "cell_type": "code",
   "execution_count": 0,
   "metadata": {
    "application/vnd.databricks.v1+cell": {
     "cellMetadata": {
      "byteLimit": 2048000,
      "implicitDf": true,
      "rowLimit": 10000
     },
     "inputWidgets": {},
     "nuid": "ae59fc09-8474-4577-a4a9-b1e353d329e6",
     "showTitle": false,
     "title": ""
    }
   },
   "outputs": [],
   "source": [
    "%sql\n",
    "DROP TABLE IF EXISTS train_delta;\n",
    "CREATE TABLE train_delta USING DELTA LOCATION '${DA.paths.working_dir}'"
   ]
  },
  {
   "cell_type": "code",
   "execution_count": 0,
   "metadata": {
    "application/vnd.databricks.v1+cell": {
     "cellMetadata": {
      "byteLimit": 2048000,
      "implicitDf": true,
      "rowLimit": 10000
     },
     "inputWidgets": {},
     "nuid": "c49e1e99-ba43-47a9-872c-e00d44e8e645",
     "showTitle": false,
     "title": ""
    }
   },
   "outputs": [],
   "source": [
    "%sql\n",
    "DESCRIBE HISTORY train_delta"
   ]
  },
  {
   "cell_type": "markdown",
   "metadata": {
    "application/vnd.databricks.v1+cell": {
     "cellMetadata": {},
     "inputWidgets": {},
     "nuid": "0ac1f708-49d2-43d1-948a-3971054f2afd",
     "showTitle": false,
     "title": ""
    }
   },
   "source": [
    "<i18n value=\"61faa23f-d940-479c-95fe-5aba72c29ddf\"/>\n",
    "\n",
    "**`versionAsOf`** オプションを使用すると、デルタテーブルの以前のバージョンに簡単にアクセスすることができます。"
   ]
  },
  {
   "cell_type": "code",
   "execution_count": 0,
   "metadata": {
    "application/vnd.databricks.v1+cell": {
     "cellMetadata": {
      "byteLimit": 2048000,
      "rowLimit": 10000
     },
     "inputWidgets": {},
     "nuid": "af7be7a5-933e-42ff-a2f0-10b3c25ed7f3",
     "showTitle": false,
     "title": ""
    }
   },
   "outputs": [],
   "source": [
    "df = spark.read.format(\"delta\").option(\"versionAsOf\", 0).load(DA.paths.working_dir)\n",
    "display(df)"
   ]
  },
  {
   "cell_type": "markdown",
   "metadata": {
    "application/vnd.databricks.v1+cell": {
     "cellMetadata": {},
     "inputWidgets": {},
     "nuid": "4a4f4723-901b-4c77-8832-0a8dc52e9820",
     "showTitle": false,
     "title": ""
    }
   },
   "source": [
    "<i18n value=\"5664be65-8fd2-4746-8065-35ee8b563797\"/>\n",
    "\n",
    "また、タイムスタンプを利用して古いバージョンにアクセスすることも可能です。\n",
    "\n",
    "タイムスタンプ文字列をバージョン履歴の情報に置き換えます。なお、必要に応じて、時間情報を含まない日付を使用することができます。"
   ]
  },
  {
   "cell_type": "code",
   "execution_count": 0,
   "metadata": {
    "application/vnd.databricks.v1+cell": {
     "cellMetadata": {},
     "inputWidgets": {},
     "nuid": "dd5f3c78-cf3a-4410-a795-370e4c94817a",
     "showTitle": false,
     "title": ""
    }
   },
   "outputs": [],
   "source": [
    "# Use your own timestamp \n",
    "# time_stamp_string = \"FILL_IN\"\n",
    "\n",
    "# OR programatically get the first verion's timestamp value\n",
    "time_stamp_string = str(spark.sql(\"DESCRIBE HISTORY train_delta\").collect()[-1][\"timestamp\"])\n",
    "\n",
    "df = spark.read.format(\"delta\").option(\"timestampAsOf\", time_stamp_string).load(DA.paths.working_dir)\n",
    "display(df)"
   ]
  },
  {
   "cell_type": "markdown",
   "metadata": {
    "application/vnd.databricks.v1+cell": {
     "cellMetadata": {},
     "inputWidgets": {},
     "nuid": "b3574923-b8c5-4aeb-8707-cadd46d356d3",
     "showTitle": false,
     "title": ""
    }
   },
   "source": [
    "<i18n value=\"6cbe5204-fe27-438a-af54-87492c2563b5\"/>\n",
    "\n",
    "**`VACUUM`** を使用してディレクトリをクリーンアップすることができます。Vacuumでは、時間単位で保存期間の指定ができます。"
   ]
  },
  {
   "cell_type": "markdown",
   "metadata": {
    "application/vnd.databricks.v1+cell": {
     "cellMetadata": {},
     "inputWidgets": {},
     "nuid": "a0a57da1-18a2-4ceb-9751-c375662d242e",
     "showTitle": false,
     "title": ""
    }
   },
   "source": [
    "<i18n value=\"4da7827c-b312-4b66-8466-f0245f3787f4\"/>\n",
    "\n",
    "あれっ、コードが実行できない！？デフォルトでは、最近のコミットを誤ってvacuumするのを防ぐために、Delta Lakeはユーザーに7日または168時間以内の履歴をvacuumさせないようになっています。一旦vacuumすると、タイムトラベルで以前のコミットに戻ることはできず、最新のDelta Tableのみが保存されます。\n",
    "\n",
    "vacuumのパラメーターを別の値に変更してみてください。"
   ]
  },
  {
   "cell_type": "code",
   "execution_count": 0,
   "metadata": {
    "application/vnd.databricks.v1+cell": {
     "cellMetadata": {},
     "inputWidgets": {},
     "nuid": "3922ac2e-f22a-4e96-b963-b96ec729638a",
     "showTitle": false,
     "title": ""
    }
   },
   "outputs": [],
   "source": [
    "# from delta.tables import DeltaTable\n",
    "\n",
    "# delta_table = DeltaTable.forPath(spark, DA.paths.working_dir)\n",
    "# delta_table.vacuum(0)"
   ]
  },
  {
   "cell_type": "markdown",
   "metadata": {
    "application/vnd.databricks.v1+cell": {
     "cellMetadata": {},
     "inputWidgets": {},
     "nuid": "51273e98-fca7-4ba0-8312-a483accb43f9",
     "showTitle": false,
     "title": ""
    }
   },
   "source": [
    "<i18n value=\"1150e320-5ed2-4a38-b39f-b63157bca94f\"/>\n",
    "\n",
    "デフォルトの保存期間のチェックを通すようなSpark設定をすることで、これを回避することができます。"
   ]
  },
  {
   "cell_type": "code",
   "execution_count": 0,
   "metadata": {
    "application/vnd.databricks.v1+cell": {
     "cellMetadata": {},
     "inputWidgets": {},
     "nuid": "5d2b9de9-ccc7-40b9-9cc8-b31fffa33f50",
     "showTitle": false,
     "title": ""
    }
   },
   "outputs": [],
   "source": [
    "from delta.tables import DeltaTable\n",
    "\n",
    "spark.conf.set(\"spark.databricks.delta.retentionDurationCheck.enabled\", \"false\")\n",
    "delta_table = DeltaTable.forPath(spark, DA.paths.working_dir)\n",
    "delta_table.vacuum(0)"
   ]
  },
  {
   "cell_type": "markdown",
   "metadata": {
    "application/vnd.databricks.v1+cell": {
     "cellMetadata": {},
     "inputWidgets": {},
     "nuid": "952edbb2-20ad-4150-bc35-9f8848723b8c",
     "showTitle": false,
     "title": ""
    }
   },
   "source": [
    "<i18n value=\"b845b2ea-2c11-4d6e-b083-d5908b65d313\"/>\n",
    "\n",
    "それでは、Delta Tableのファイルを見てみましょう。vacuum後、ディレクトリには直近のDelta Tableコミットのパーティションのみが格納されています。"
   ]
  },
  {
   "cell_type": "code",
   "execution_count": 0,
   "metadata": {
    "application/vnd.databricks.v1+cell": {
     "cellMetadata": {},
     "inputWidgets": {},
     "nuid": "707ab6b5-7aef-4ce8-b48e-8a99f323ac2c",
     "showTitle": false,
     "title": ""
    }
   },
   "outputs": [],
   "source": [
    "display(dbutils.fs.ls(f\"{DA.paths.working_dir}/neighbourhood_cleansed=Bayview/\"))"
   ]
  },
  {
   "cell_type": "markdown",
   "metadata": {
    "application/vnd.databricks.v1+cell": {
     "cellMetadata": {},
     "inputWidgets": {},
     "nuid": "007989e3-ba16-4d53-b42e-cf8fa2e8bd39",
     "showTitle": false,
     "title": ""
    }
   },
   "source": [
    "<i18n value=\"a7bcdad3-affb-4b00-b791-07c14f5e59d5\"/>\n",
    "\n",
    "vacuumするとDelta Tableが参照する過去履歴のファイルが削除されるため、過去のバージョンにアクセスできなくなります。以下のコードを実行すると、エラーが発生するはずです。"
   ]
  },
  {
   "cell_type": "code",
   "execution_count": 0,
   "metadata": {
    "application/vnd.databricks.v1+cell": {
     "cellMetadata": {},
     "inputWidgets": {},
     "nuid": "4b3bbbfe-3f1b-44b2-896b-44901c49d7d1",
     "showTitle": false,
     "title": ""
    }
   },
   "outputs": [],
   "source": [
    "# df = spark.read.format(\"delta\").option(\"versionAsOf\", 0).load(DA.paths.working_dir)\n",
    "# display(df)"
   ]
  },
  {
   "cell_type": "markdown",
   "metadata": {
    "application/vnd.databricks.v1+cell": {
     "cellMetadata": {},
     "inputWidgets": {},
     "nuid": "a83dfcf1-33d1-4d9c-be19-657b44d7135e",
     "showTitle": false,
     "title": ""
    }
   },
   "source": [
    "&copy; 2022 Databricks, Inc. All rights reserved.<br/>\n",
    "Apache, Apache Spark, Spark and the Spark logo are trademarks of the <a href=\"https://www.apache.org/\">Apache Software Foundation</a>.<br/>\n",
    "<br/>\n",
    "<a href=\"https://databricks.com/privacy-policy\">Privacy Policy</a> | <a href=\"https://databricks.com/terms-of-use\">Terms of Use</a> | <a href=\"https://help.databricks.com/\">Support</a>"
   ]
  }
 ],
 "metadata": {
  "application/vnd.databricks.v1+notebook": {
   "dashboards": [],
   "language": "python",
   "notebookMetadata": {
    "mostRecentlyExecutedCommandWithImplicitDF": {
     "commandId": 1158389040245640,
     "dataframes": [
      "_sqldf"
     ]
    },
    "pythonIndentUnit": 2
   },
   "notebookName": "ML 00b - Delta Review",
   "widgets": {}
  }
 },
 "nbformat": 4,
 "nbformat_minor": 0
}
