{
 "cells": [
  {
   "cell_type": "markdown",
   "metadata": {
    "application/vnd.databricks.v1+cell": {
     "cellMetadata": {},
     "inputWidgets": {},
     "nuid": "64d34cb8-ebdb-4045-a08e-7754e749af3b",
     "showTitle": false,
     "title": ""
    }
   },
   "source": [
    "\n",
    "<div style=\"text-align: center; line-height: 0; padding-top: 9px;\">\n",
    "  <img src=\"https://databricks.com/wp-content/uploads/2018/03/db-academy-rgb-1200px.png\" alt=\"Databricks Learning\" style=\"width: 600px\">\n",
    "</div>"
   ]
  },
  {
   "cell_type": "markdown",
   "metadata": {
    "application/vnd.databricks.v1+cell": {
     "cellMetadata": {},
     "inputWidgets": {},
     "nuid": "a797161f-452f-4fa1-9596-804d0f8bea4c",
     "showTitle": false,
     "title": ""
    }
   },
   "source": [
    "<i18n value=\"04aa5a94-e0d3-4bec-a9b5-a0590c33a257\"/>\n",
    "\n",
    "# モデルレジストリ (Model Registry)\n",
    "\n",
    "MLflow Model Registryは、チームでMLモデルの共有、実験からオンラインテスト、本番までの共同作業、承認およびガバナンスワークフローとの統合、MLデプロイメントとそのパフォーマンスの監視を行うことができるコラボレーションハブです。 このレッスンでは、MLflow モデルレジストリを使用してモデルを管理する方法について説明します。\n",
    "\n",
    "このデモノートブックではAirbnbのデータセットにscikit-learnを使用しますが、ラボではMLlibを使用します。\n",
    "\n",
    "## ![Spark Logo Tiny](https://files.training.databricks.com/images/105/logo_spark_tiny.png) このレッスンで以下を行います。<br>\n",
    " - MLflowを使ったモデルの登録\n",
    " - モデルライフサイクルの管理\n",
    " - モデルのアーカイブと削除\n",
    " \n",
    "<img src=\"https://files.training.databricks.com/images/icon_note_24.png\"/> モデルサービングのエンドポイントを立ち上げたい場合は、<a href=\"https://docs.databricks.com/applications/mlflow/model-serving.html#requirements\" target=\"_blank\">クラスターの作成</a> 権限が必要です。"
   ]
  },
  {
   "cell_type": "code",
   "execution_count": 0,
   "metadata": {
    "application/vnd.databricks.v1+cell": {
     "cellMetadata": {
      "byteLimit": 2048000,
      "rowLimit": 10000
     },
     "inputWidgets": {},
     "nuid": "19c65529-3486-4817-ae0d-9d01e940a4ad",
     "showTitle": false,
     "title": ""
    }
   },
   "outputs": [],
   "source": [
    "%run \"./Includes/Classroom-Setup\""
   ]
  },
  {
   "cell_type": "markdown",
   "metadata": {
    "application/vnd.databricks.v1+cell": {
     "cellMetadata": {},
     "inputWidgets": {},
     "nuid": "125ff3a9-a48c-4ff6-858b-510ebe9d43ad",
     "showTitle": false,
     "title": ""
    }
   },
   "source": [
    "<i18n value=\"5802ff47-58b5-4789-973d-2fb855bf347a\"/>\n",
    "\n",
    "### モデルレジストリ (Model Registry)\n",
    "\n",
    "MLflow Model Registry コンポーネントは、MLflow モデルの全ライフサイクルを共同管理するための集中型モデルストア、API のセット、および UI です。モデルのリネージ（どの MLflow Experiment と Run でモデルを作成したか）、モデルのバージョン管理、ステージ遷移（例：ステージングから本番へ）、アノテーション（例：コメントやタグ）、デプロイ管理（例：どの本番ジョブから特定のモデルバージョンをリクエストしたか）を提供します。\n",
    "\n",
    "モデルレジストリは以下の機能を備えています：\n",
    "\n",
    "* **中央リポジトリ:** MLflow Model RegistryにMLflowモデルを登録します。登録されたモデルは、一意の名前、バージョン、ステージ、その他のメタデータを持ちます。\n",
    "* **モデルのバージョン管理：** 登録されたモデルの更新時にバージョンを自動的に追跡します。\n",
    "* **モデルステージ：** モデルのライフサイクルを表現するために、「ステージング」や「プロダクション」のように、各モデルのバージョンにプリセットまたはカスタムのステージを割り当てます。\n",
    "* **モデルステージの遷移：** モデルの新規登録または変更のイベントを記録します。ユーザー、変更内容、およびコメントなどの追加メタデータが自動的に記録されます。\n",
    "* **CI/CDワークフローの統合:** コントロールとガバナンス強化のため、CI/CDパイプラインの一部として、モデルステージの遷移、リクエスト、レビューと承認変更を記録します。\n",
    "\n",
    "<div><img src=\"https://files.training.databricks.com/images/eLearning/ML-Part-4/model-registry.png\" style=\"height:400px; margin:20px\"/></div>\n",
    "\n",
    "<img src=\"https://files.training.databricks.com/images/icon_note_24.png\"/> モデルレジストリの詳細については <a href=\"https://mlflow.org/docs/latest/registry.html\" target=\"_blank\">MLflow docs</a> を参照してください。"
   ]
  },
  {
   "cell_type": "markdown",
   "metadata": {
    "application/vnd.databricks.v1+cell": {
     "cellMetadata": {},
     "inputWidgets": {},
     "nuid": "0369d4fe-ebc6-4875-ae63-137754d90366",
     "showTitle": false,
     "title": ""
    }
   },
   "source": [
    "<i18n value=\"7f34f7da-b5d2-42af-b24d-54e1730db95f\"/>\n",
    "\n",
    "### モデルの登録 (Registering a Model)\n",
    "\n",
    "以下のワークフローは、UIでも純粋なPythonでも動作します。 このノートブックでは、純粋なPythonを使用します。\n",
    "\n",
    "<img src=\"https://files.training.databricks.com/images/icon_note_24.png\"/> 画面左側の「モデル」タブをクリックし、UIを探索してください。"
   ]
  },
  {
   "cell_type": "markdown",
   "metadata": {
    "application/vnd.databricks.v1+cell": {
     "cellMetadata": {},
     "inputWidgets": {},
     "nuid": "723d93c3-27a4-4ae7-8873-ade2d22c3d9a",
     "showTitle": false,
     "title": ""
    }
   },
   "source": [
    "<i18n value=\"cbc59424-e45b-4179-a586-8c14a66a61a1\"/>\n",
    "\n",
    "モデルを学習し、<a href=\"https://docs.databricks.com/applications/mlflow/databricks-autologging.html\" target=\"_blank\">autologging (オートロギング)</a> を使って、MLflowにログを記録します。オートロギングにより、明示的なログステートメントを使用せずに、メトリクス、パラメータ、モデルを記録することができます。\n",
    "\n",
    "オートロギングを使うには、いくつかの方法があります。\n",
    "\n",
    "1. 学習コードの前に **`mlflow.autolog()`** を呼び出します。これにより、インポートすると同時に、インストールした各サポートしているライブラリのオートロギングが有効になります。\n",
    "1. 管理コンソールからワークスペース・レベルでオートロギングを有効にします\n",
    "1. コードで使用する各ライブラリには、ライブラリ固有の autolog 呼び出しを使用します。(例: **`mlflow.spark.autolog()`** )\n",
    "\n",
    "ここでは、数値特徴のみを使用して簡単なランダムフォレストを構築します。"
   ]
  },
  {
   "cell_type": "code",
   "execution_count": 0,
   "metadata": {
    "application/vnd.databricks.v1+cell": {
     "cellMetadata": {
      "byteLimit": 2048000,
      "rowLimit": 10000
     },
     "inputWidgets": {},
     "nuid": "3e13903a-54c7-4982-98fd-dc01532e019f",
     "showTitle": false,
     "title": ""
    }
   },
   "outputs": [],
   "source": [
    "import mlflow\n",
    "import mlflow.sklearn\n",
    "from mlflow.models.signature import infer_signature\n",
    "\n",
    "import pandas as pd\n",
    "from sklearn.linear_model import LinearRegression\n",
    "from sklearn.metrics import mean_squared_error\n",
    "from sklearn.model_selection import train_test_split\n",
    "\n",
    "df = pd.read_csv(f\"{DA.paths.datasets}/airbnb/sf-listings/airbnb-cleaned-mlflow.csv\".replace(\"dbfs:/\", \"/dbfs/\"))\n",
    "X_train, X_test, y_train, y_test = train_test_split(df.drop([\"price\"], axis=1), df[[\"price\"]].values.ravel(), random_state=42)\n",
    "\n",
    "with mlflow.start_run(run_name=\"LR Model\") as run:\n",
    "    mlflow.sklearn.autolog(log_input_examples=True, log_model_signatures=True, log_models=True)\n",
    "    lr = LinearRegression()\n",
    "    lr.fit(X_train, y_train)\n",
    "    signature = infer_signature(X_train, lr.predict(X_train))"
   ]
  },
  {
   "cell_type": "markdown",
   "metadata": {
    "application/vnd.databricks.v1+cell": {
     "cellMetadata": {},
     "inputWidgets": {},
     "nuid": "8b624e09-cdc0-4415-8324-0165ed68f980",
     "showTitle": false,
     "title": ""
    }
   },
   "source": [
    "<i18n value=\"1322cac5-9638-4cc9-b050-3545958f3936\"/>\n",
    "\n",
    "ワークスペースのほかのユーザーとぶつからないように、ユニークなモデル名を作成します。\n",
    "\n",
    "モデル名は、空でないUTF-8文字列でなければならず、フォワードスラッシュ(/)、ピリオド(.)、コロン(:)を含むことができないことに注意してください。"
   ]
  },
  {
   "cell_type": "code",
   "execution_count": 0,
   "metadata": {
    "application/vnd.databricks.v1+cell": {
     "cellMetadata": {
      "byteLimit": 2048000,
      "rowLimit": 10000
     },
     "inputWidgets": {},
     "nuid": "53a71780-9fe7-4ece-ba43-21efdd469770",
     "showTitle": false,
     "title": ""
    }
   },
   "outputs": [],
   "source": [
    "model_name = f\"{DA.cleaned_username}_sklearn_lr2\"\n",
    "model_name"
   ]
  },
  {
   "cell_type": "markdown",
   "metadata": {
    "application/vnd.databricks.v1+cell": {
     "cellMetadata": {},
     "inputWidgets": {},
     "nuid": "d202121a-d2be-4cd7-88f8-174fbcc7b584",
     "showTitle": false,
     "title": ""
    }
   },
   "source": [
    "<i18n value=\"0777e3f5-ba7c-41c4-a477-9f0a5a809664\"/>\n",
    "\n",
    "モデルを登録します。"
   ]
  },
  {
   "cell_type": "code",
   "execution_count": 0,
   "metadata": {
    "application/vnd.databricks.v1+cell": {
     "cellMetadata": {
      "byteLimit": 2048000,
      "rowLimit": 10000
     },
     "inputWidgets": {},
     "nuid": "96215d13-a378-42ae-980b-60f8464a9f66",
     "showTitle": false,
     "title": ""
    }
   },
   "outputs": [],
   "source": [
    "run_id = run.info.run_id\n",
    "model_uri = f\"runs:/{run_id}/model\"\n",
    "\n",
    "model_details = mlflow.register_model(model_uri=model_uri, name=model_name)"
   ]
  },
  {
   "cell_type": "markdown",
   "metadata": {
    "application/vnd.databricks.v1+cell": {
     "cellMetadata": {},
     "inputWidgets": {},
     "nuid": "965d00b3-7790-4f11-9267-e033f806bd4f",
     "showTitle": false,
     "title": ""
    }
   },
   "source": [
    "<i18n value=\"22756858-ff7f-4392-826f-f401a81230c4\"/>\n",
    "\n",
    "**画面左の*モデル*タブを開いて、登録されているモデルを探索します。** 以下の点に注意してください。\n",
    "\n",
    "* 誰がモデルを学習させたか、どのコードを使用したかを記録します。\n",
    "* このモデルで行われたアクションの履歴を記録します。\n",
    "* このモデルをバージョン１として記録します。\n",
    "\n",
    "<div><img src=\"https://files.training.databricks.com/images/301/registered_model_new.png\" style=\"height:600px; margin:20px\"/></div>"
   ]
  },
  {
   "cell_type": "markdown",
   "metadata": {
    "application/vnd.databricks.v1+cell": {
     "cellMetadata": {},
     "inputWidgets": {},
     "nuid": "65b3f1ae-75f8-406d-a9f7-b5ac1876f548",
     "showTitle": false,
     "title": ""
    }
   },
   "source": [
    "<i18n value=\"481cba23-661f-4de7-a1d8-06b6be8c57d3\"/>\n",
    "\n",
    "状態を確認します。"
   ]
  },
  {
   "cell_type": "code",
   "execution_count": 0,
   "metadata": {
    "application/vnd.databricks.v1+cell": {
     "cellMetadata": {
      "byteLimit": 2048000,
      "rowLimit": 10000
     },
     "inputWidgets": {},
     "nuid": "ae30be69-5b67-4fc7-a476-6a059fdb7621",
     "showTitle": false,
     "title": ""
    }
   },
   "outputs": [],
   "source": [
    "from mlflow.tracking.client import MlflowClient\n",
    "\n",
    "client = MlflowClient()\n",
    "model_version_details = client.get_model_version(name=model_name, version=1)\n",
    "\n",
    "model_version_details.status"
   ]
  },
  {
   "cell_type": "markdown",
   "metadata": {
    "application/vnd.databricks.v1+cell": {
     "cellMetadata": {},
     "inputWidgets": {},
     "nuid": "7a7e7296-6ec5-4581-b644-5f34a441206b",
     "showTitle": false,
     "title": ""
    }
   },
   "source": [
    "<i18n value=\"10556266-2903-4afc-8af9-3213d244aa21\"/>\n",
    "\n",
    "次に、モデルの説明を追加します。"
   ]
  },
  {
   "cell_type": "code",
   "execution_count": 0,
   "metadata": {
    "application/vnd.databricks.v1+cell": {
     "cellMetadata": {
      "byteLimit": 2048000,
      "rowLimit": 10000
     },
     "inputWidgets": {},
     "nuid": "699cfb58-980a-403e-9ca2-bcc30e7da4b1",
     "showTitle": false,
     "title": ""
    }
   },
   "outputs": [],
   "source": [
    "client.update_registered_model(\n",
    "    name=model_details.name,\n",
    "    description=\"This model forecasts Airbnb housing list prices based on various listing inputs.\"\n",
    ")"
   ]
  },
  {
   "cell_type": "markdown",
   "metadata": {
    "application/vnd.databricks.v1+cell": {
     "cellMetadata": {},
     "inputWidgets": {},
     "nuid": "b2ab059f-8809-4ad9-90e7-0d32164daa9d",
     "showTitle": false,
     "title": ""
    }
   },
   "source": [
    "<i18n value=\"5abeafb2-fd60-4b0d-bf52-79320c10d402\"/>\n",
    "\n",
    "バージョンに応じた説明を追加します。"
   ]
  },
  {
   "cell_type": "code",
   "execution_count": 0,
   "metadata": {
    "application/vnd.databricks.v1+cell": {
     "cellMetadata": {
      "byteLimit": 2048000,
      "rowLimit": 10000
     },
     "inputWidgets": {},
     "nuid": "98490017-39bf-41cf-9cac-7ac27faec469",
     "showTitle": false,
     "title": ""
    }
   },
   "outputs": [],
   "source": [
    "client.update_model_version(\n",
    "    name=model_details.name,\n",
    "    version=model_details.version,\n",
    "    description=\"This model version was built using OLS linear regression with sklearn.\"\n",
    ")"
   ]
  },
  {
   "cell_type": "markdown",
   "metadata": {
    "application/vnd.databricks.v1+cell": {
     "cellMetadata": {},
     "inputWidgets": {},
     "nuid": "f8bfea59-99ed-4d48-abad-126dd2c3096c",
     "showTitle": false,
     "title": ""
    }
   },
   "source": [
    "<i18n value=\"aaac467f-3a52-4428-a119-8286cb0ac158\"/>\n",
    "\n",
    "### モデルのデプロイメント (Deploying a Model)\n",
    "\n",
    "MLflow Model Registryは、4つのモデルステージを定義しています。 **`None`** ,  **`Staging`** , **`Production`** と **`Archived`** です。それぞれのステージには、固有の意味があります。例えば、 **`Staging`** はモデルのテスト用で、 **`Production`** はテストまたはレビュープロセスを完了し、アプリケーションにデプロイされたモデルのものです。\n",
    "\n",
    "適切な権限を持つユーザーは、ステージ間でモデルを移行させることができます。"
   ]
  },
  {
   "cell_type": "markdown",
   "metadata": {
    "application/vnd.databricks.v1+cell": {
     "cellMetadata": {},
     "inputWidgets": {},
     "nuid": "5c8581d0-0b4f-4d53-856b-39939021563c",
     "showTitle": false,
     "title": ""
    }
   },
   "source": [
    "<i18n value=\"dff93671-f891-4779-9e41-a0960739516f\"/>\n",
    "\n",
    "ステージの遷移について学んだので、モデルを **`Production`** ステージに遷移させます。"
   ]
  },
  {
   "cell_type": "code",
   "execution_count": 0,
   "metadata": {
    "application/vnd.databricks.v1+cell": {
     "cellMetadata": {
      "byteLimit": 2048000,
      "rowLimit": 10000
     },
     "inputWidgets": {},
     "nuid": "b7f42313-c914-4986-8217-052004151922",
     "showTitle": false,
     "title": ""
    }
   },
   "outputs": [],
   "source": [
    "import time\n",
    "\n",
    "time.sleep(10) # In case the registration is still pending"
   ]
  },
  {
   "cell_type": "code",
   "execution_count": 0,
   "metadata": {
    "application/vnd.databricks.v1+cell": {
     "cellMetadata": {
      "byteLimit": 2048000,
      "rowLimit": 10000
     },
     "inputWidgets": {},
     "nuid": "dd37332b-3e8d-4cfd-89aa-0cf2fbbd4442",
     "showTitle": false,
     "title": ""
    }
   },
   "outputs": [],
   "source": [
    "client.transition_model_version_stage(\n",
    "    name=model_details.name,\n",
    "    version=model_details.version,\n",
    "    stage=\"Production\"\n",
    ")"
   ]
  },
  {
   "cell_type": "markdown",
   "metadata": {
    "application/vnd.databricks.v1+cell": {
     "cellMetadata": {},
     "inputWidgets": {},
     "nuid": "11623446-d9fa-4ab2-91f5-0ab098797020",
     "showTitle": false,
     "title": ""
    }
   },
   "source": [
    "<i18n value=\"4dc7e8b7-da38-4ce1-a238-39cad74d97c5\"/>\n",
    "\n",
    "モデルの現在の状態を取得します。"
   ]
  },
  {
   "cell_type": "code",
   "execution_count": 0,
   "metadata": {
    "application/vnd.databricks.v1+cell": {
     "cellMetadata": {
      "byteLimit": 2048000,
      "rowLimit": 10000
     },
     "inputWidgets": {},
     "nuid": "0b85b860-016e-481e-9775-2e26dd2ff2c6",
     "showTitle": false,
     "title": ""
    }
   },
   "outputs": [],
   "source": [
    "model_version_details = client.get_model_version(\n",
    "    name=model_details.name,\n",
    "    version=model_details.version\n",
    ")\n",
    "print(f\"The current model stage is: '{model_version_details.current_stage}'\")"
   ]
  },
  {
   "cell_type": "markdown",
   "metadata": {
    "application/vnd.databricks.v1+cell": {
     "cellMetadata": {},
     "inputWidgets": {},
     "nuid": "9f531786-a9fe-47a2-bd7b-c3e7c15671dd",
     "showTitle": false,
     "title": ""
    }
   },
   "source": [
    "<i18n value=\"ba563293-bb74-4318-9618-a1dcf86ec7a3\"/>\n",
    "\n",
    "**`pyfunc`** を使って最新のモデルを取得します。 このようにモデルをロードすると、トレーニングに使用したパッケージに関係なく、モデルを使用することができます。\n",
    "\n",
    "<img src=\"https://files.training.databricks.com/images/icon_note_24.png\"/> 特定のバージョンのモデルも読み込むことができます。"
   ]
  },
  {
   "cell_type": "code",
   "execution_count": 0,
   "metadata": {
    "application/vnd.databricks.v1+cell": {
     "cellMetadata": {
      "byteLimit": 2048000,
      "rowLimit": 10000
     },
     "inputWidgets": {},
     "nuid": "3766284e-0600-48aa-8b14-eccc42297a59",
     "showTitle": false,
     "title": ""
    }
   },
   "outputs": [],
   "source": [
    "import mlflow.pyfunc\n",
    "\n",
    "model_version_uri = f\"models:/{model_name}/1\"\n",
    "\n",
    "print(f\"Loading registered model version from URI: '{model_version_uri}'\")\n",
    "model_version_1 = mlflow.pyfunc.load_model(model_version_uri)"
   ]
  },
  {
   "cell_type": "markdown",
   "metadata": {
    "application/vnd.databricks.v1+cell": {
     "cellMetadata": {},
     "inputWidgets": {},
     "nuid": "b7ea7987-89ad-4400-b386-e0bae0004b26",
     "showTitle": false,
     "title": ""
    }
   },
   "source": [
    "<i18n value=\"e1bb8ae5-6cf3-42c2-aebd-bde925a9ef30\"/>\n",
    "\n",
    "モデルを適用します。"
   ]
  },
  {
   "cell_type": "code",
   "execution_count": 0,
   "metadata": {
    "application/vnd.databricks.v1+cell": {
     "cellMetadata": {
      "byteLimit": 2048000,
      "rowLimit": 10000
     },
     "inputWidgets": {},
     "nuid": "b3ca47ed-0302-4652-a901-06c0eb751212",
     "showTitle": false,
     "title": ""
    }
   },
   "outputs": [],
   "source": [
    "model_version_1.predict(X_test)"
   ]
  },
  {
   "cell_type": "markdown",
   "metadata": {
    "application/vnd.databricks.v1+cell": {
     "cellMetadata": {},
     "inputWidgets": {},
     "nuid": "b508fc56-012c-47ce-bb10-8dbc402a1f4c",
     "showTitle": false,
     "title": ""
    }
   },
   "source": [
    "<i18n value=\"75a9c277-0115-4cef-b4aa-dd69a0a5d8a0\"/>\n",
    "\n",
    "### 新しいバージョンのモデルのデプロイ (Deploying a New Model Version)\n",
    "\n",
    "MLflow Model Registryでは、登録された1つのモデルに対応する複数のモデルバージョンを作成することができます。ステージ遷移を行うことで、新しいバージョンのモデルをステージング環境またはプロダクション環境にシームレスに統合することができます。"
   ]
  },
  {
   "cell_type": "markdown",
   "metadata": {
    "application/vnd.databricks.v1+cell": {
     "cellMetadata": {},
     "inputWidgets": {},
     "nuid": "2cff326e-0661-479e-bf11-85d1c16ae83f",
     "showTitle": false,
     "title": ""
    }
   },
   "source": [
    "<i18n value=\"2ef7acd0-422a-4449-ad27-3a26f217ab15\"/>\n",
    "\n",
    "新しいモデルのバージョンを作成し、ログに記録されたときにそのモデルを登録します。"
   ]
  },
  {
   "cell_type": "code",
   "execution_count": 0,
   "metadata": {
    "application/vnd.databricks.v1+cell": {
     "cellMetadata": {
      "byteLimit": 2048000,
      "rowLimit": 10000
     },
     "inputWidgets": {},
     "nuid": "d9be4b8f-501f-4466-851f-36c9188f2d53",
     "showTitle": false,
     "title": ""
    }
   },
   "outputs": [],
   "source": [
    "from sklearn.linear_model import Ridge\n",
    "\n",
    "with mlflow.start_run(run_name=\"LR Ridge Model\") as run:\n",
    "    alpha = .9\n",
    "    ridge_regression = Ridge(alpha=alpha)\n",
    "    ridge_regression.fit(X_train, y_train)\n",
    "\n",
    "    # Specify the `registered_model_name` parameter of the `mlflow.sklearn.log_model()`\n",
    "    # function to register the model with the MLflow Model Registry. This automatically\n",
    "    # creates a new model version\n",
    "\n",
    "    mlflow.sklearn.log_model(\n",
    "        sk_model=ridge_regression,\n",
    "        artifact_path=\"sklearn-ridge-model\",\n",
    "        registered_model_name=model_name,\n",
    "    )\n",
    "\n",
    "    mlflow.log_params(ridge_regression.get_params())\n",
    "    mlflow.log_metric(\"mse\", mean_squared_error(y_test, ridge_regression.predict(X_test)))"
   ]
  },
  {
   "cell_type": "markdown",
   "metadata": {
    "application/vnd.databricks.v1+cell": {
     "cellMetadata": {},
     "inputWidgets": {},
     "nuid": "b07843b3-3866-4838-aeff-e59ac0ae0f75",
     "showTitle": false,
     "title": ""
    }
   },
   "source": [
    "<i18n value=\"dc1dd6b4-9e9e-45be-93c4-5500a10191ed\"/>\n",
    "\n",
    "新モデルをステージングにします。"
   ]
  },
  {
   "cell_type": "code",
   "execution_count": 0,
   "metadata": {
    "application/vnd.databricks.v1+cell": {
     "cellMetadata": {
      "byteLimit": 2048000,
      "rowLimit": 10000
     },
     "inputWidgets": {},
     "nuid": "b7d6b1e0-2edd-4090-8fcb-b9d5e914c5ba",
     "showTitle": false,
     "title": ""
    }
   },
   "outputs": [],
   "source": [
    "import time\n",
    "\n",
    "time.sleep(10)\n",
    "\n",
    "client.transition_model_version_stage(\n",
    "    name=model_details.name,\n",
    "    version=2,\n",
    "    stage=\"Staging\"\n",
    ")"
   ]
  },
  {
   "cell_type": "markdown",
   "metadata": {
    "application/vnd.databricks.v1+cell": {
     "cellMetadata": {},
     "inputWidgets": {},
     "nuid": "43f87b2c-f0a5-4d83-bd55-d04526072918",
     "showTitle": false,
     "title": ""
    }
   },
   "source": [
    "<i18n value=\"fe857eeb-6119-4927-ad79-77eaa7bffe3a\"/>\n",
    "\n",
    "新モデルのバージョンはUIで確認します。\n",
    "\n",
    "<div><img src=\"https://files.training.databricks.com/images/301/model_version_new.png\" style=\"height:600px; margin:20px\"/></div>"
   ]
  },
  {
   "cell_type": "markdown",
   "metadata": {
    "application/vnd.databricks.v1+cell": {
     "cellMetadata": {},
     "inputWidgets": {},
     "nuid": "de276074-f949-4751-8f56-ce7fa6405b5c",
     "showTitle": false,
     "title": ""
    }
   },
   "source": [
    "<i18n value=\"6f568dd2-0413-4b78-baf6-23debb8a5118\"/>\n",
    "\n",
    "検索機能を使って、モデルの最新バージョンを取得できます。"
   ]
  },
  {
   "cell_type": "code",
   "execution_count": 0,
   "metadata": {
    "application/vnd.databricks.v1+cell": {
     "cellMetadata": {
      "byteLimit": 2048000,
      "rowLimit": 10000
     },
     "inputWidgets": {},
     "nuid": "deba7f20-b012-4212-9a72-e779e932aedd",
     "showTitle": false,
     "title": ""
    }
   },
   "outputs": [],
   "source": [
    "model_version_infos = client.search_model_versions(f\"name = '{model_name}'\")\n",
    "new_model_version = max([model_version_info.version for model_version_info in model_version_infos])"
   ]
  },
  {
   "cell_type": "markdown",
   "metadata": {
    "application/vnd.databricks.v1+cell": {
     "cellMetadata": {},
     "inputWidgets": {},
     "nuid": "093b235d-db87-4728-8757-13bb38d0f00d",
     "showTitle": false,
     "title": ""
    }
   },
   "source": [
    "<i18n value=\"4fb5d7c9-b0c0-49d5-a313-ac95da7e0f91\"/>\n",
    "\n",
    "この新しいバージョンに説明を追加します。"
   ]
  },
  {
   "cell_type": "code",
   "execution_count": 0,
   "metadata": {
    "application/vnd.databricks.v1+cell": {
     "cellMetadata": {
      "byteLimit": 2048000,
      "rowLimit": 10000
     },
     "inputWidgets": {},
     "nuid": "b711b47d-919a-4900-9091-cab7e02d4487",
     "showTitle": false,
     "title": ""
    }
   },
   "outputs": [],
   "source": [
    "client.update_model_version(\n",
    "    name=model_name,\n",
    "    version=new_model_version,\n",
    "    description=f\"This model version is a ridge regression model with an alpha value of {alpha} that was trained in scikit-learn.\"\n",
    ")"
   ]
  },
  {
   "cell_type": "markdown",
   "metadata": {
    "application/vnd.databricks.v1+cell": {
     "cellMetadata": {},
     "inputWidgets": {},
     "nuid": "0b66b727-4671-4317-8092-9dbe7813b5f3",
     "showTitle": false,
     "title": ""
    }
   },
   "source": [
    "<i18n value=\"10adff21-8116-4a01-a309-ce5a7d233fcf\"/>\n",
    "\n",
    "このモデルは現在ステージングにあるので、自動化CI/CDパイプラインを実行して、本番に入る前にモデルをテストすることができます。 それが完成すれば、そのモデルを本番に移行させることができます。"
   ]
  },
  {
   "cell_type": "code",
   "execution_count": 0,
   "metadata": {
    "application/vnd.databricks.v1+cell": {
     "cellMetadata": {
      "byteLimit": 2048000,
      "rowLimit": 10000
     },
     "inputWidgets": {},
     "nuid": "041e2fbd-7b57-44ed-9f7b-a42606c9bfb3",
     "showTitle": false,
     "title": ""
    }
   },
   "outputs": [],
   "source": [
    "client.transition_model_version_stage(\n",
    "    name=model_name,\n",
    "    version=new_model_version,\n",
    "    stage=\"Production\", \n",
    "    archive_existing_versions=True # Archieve existing model in production \n",
    ")"
   ]
  },
  {
   "cell_type": "markdown",
   "metadata": {
    "application/vnd.databricks.v1+cell": {
     "cellMetadata": {},
     "inputWidgets": {},
     "nuid": "496122b1-e195-4dec-a56a-5113dec7f543",
     "showTitle": false,
     "title": ""
    }
   },
   "source": [
    "<i18n value=\"e3caaf08-a721-425b-8765-050c757d1d2e\"/>\n",
    "\n",
    "バージョン1を削除します。 \n",
    "\n",
    "<img src=\"https://files.training.databricks.com/images/icon_note_24.png\"/> アーカイブされていないモデルを削除することはできません。"
   ]
  },
  {
   "cell_type": "code",
   "execution_count": 0,
   "metadata": {
    "application/vnd.databricks.v1+cell": {
     "cellMetadata": {
      "byteLimit": 2048000,
      "rowLimit": 10000
     },
     "inputWidgets": {},
     "nuid": "4177cf6e-6e08-4e7f-b375-2a463c4f88ff",
     "showTitle": false,
     "title": ""
    }
   },
   "outputs": [],
   "source": [
    "client.delete_model_version(\n",
    "    name=model_name,\n",
    "    version=1\n",
    ")"
   ]
  },
  {
   "cell_type": "markdown",
   "metadata": {
    "application/vnd.databricks.v1+cell": {
     "cellMetadata": {},
     "inputWidgets": {},
     "nuid": "c4155470-18fc-4ca9-af13-aa46907003d2",
     "showTitle": false,
     "title": ""
    }
   },
   "source": [
    "<i18n value=\"a896f3e5-d83c-4328-821f-a67d60699f0e\"/>\n",
    "\n",
    "モデルのバージョン2もアーカイブします。"
   ]
  },
  {
   "cell_type": "code",
   "execution_count": 0,
   "metadata": {
    "application/vnd.databricks.v1+cell": {
     "cellMetadata": {
      "byteLimit": 2048000,
      "rowLimit": 10000
     },
     "inputWidgets": {},
     "nuid": "622b8a5d-f973-4575-9d71-883791be164b",
     "showTitle": false,
     "title": ""
    }
   },
   "outputs": [],
   "source": [
    "client.transition_model_version_stage(\n",
    "    name=model_name,\n",
    "    version=2,\n",
    "    stage=\"Archived\"\n",
    ")"
   ]
  },
  {
   "cell_type": "markdown",
   "metadata": {
    "application/vnd.databricks.v1+cell": {
     "cellMetadata": {},
     "inputWidgets": {},
     "nuid": "474dabef-75f0-46d6-990d-8e5e1a795535",
     "showTitle": false,
     "title": ""
    }
   },
   "source": [
    "<i18n value=\"0eb4929d-648b-4ae6-bca3-aff8af50f15f\"/>\n",
    "\n",
    "ここで、登録されているモデル全体を削除します。"
   ]
  },
  {
   "cell_type": "code",
   "execution_count": 0,
   "metadata": {
    "application/vnd.databricks.v1+cell": {
     "cellMetadata": {
      "byteLimit": 2048000,
      "rowLimit": 10000
     },
     "inputWidgets": {},
     "nuid": "ea690db2-f50d-4e1b-8d06-082b832be23d",
     "showTitle": false,
     "title": ""
    }
   },
   "outputs": [],
   "source": [
    "client.delete_registered_model(model_name)"
   ]
  },
  {
   "cell_type": "markdown",
   "metadata": {
    "application/vnd.databricks.v1+cell": {
     "cellMetadata": {},
     "inputWidgets": {},
     "nuid": "604aad55-8363-46e9-95f8-8ed38775af3b",
     "showTitle": false,
     "title": ""
    }
   },
   "source": [
    "<i18n value=\"6fe495ec-f481-4181-a006-bea55a6cef09\"/>\n",
    "\n",
    "## レビュー (Review)\n",
    "* **質問：** MLflow のトラッキングは、モデルレジストリとはどのように違うのですか？ \n",
    "* **回答：** トラッキングは実験と開発のためのものです。 モデルレジストリは、モデルをトラッキングサーバからステージングを経てプロダクションに移行させるためのものです。 これは、データエンジニアや機械学習エンジニアがデプロイメントプロセスの中でよく担当する役割です。\n",
    "\n",
    "* **質問：** なぜ、モデルレジストリが必要なのでしょうか？ \n",
    "* **回答：** MLflowのトラッキングが機械学習のトレーニングプロセスにエンドツーエンドの再現性を提供するように、モデルレジストリはデプロイメントプロセスの再現性とガバナンスを提供します。 本番システムはミッションクリティカルであるため、コンポーネントをACLで分離し、特定のユーザーのみが本番モデルを変更できるようにすることが可能です。 バージョン管理およびCI/CDワークフローの統合も、モデルを本番環境にデプロイする上で重要な側面です。\n",
    "\n",
    "* **質問：** UIと比較して、プログラムでできることは何ですか？ \n",
    "* **回答：** ほとんどの操作は、UIを使用するか、純粋なPythonで行うことができます。 モデルのトラッキングはPythonで行う必要がありますが、そこから先はどちらでも可能です。 例えば、MLflow のトラッキング API を使って記録されたモデルは、UI を使って登録し、本番環境にプッシュすることができます。"
   ]
  },
  {
   "cell_type": "markdown",
   "metadata": {
    "application/vnd.databricks.v1+cell": {
     "cellMetadata": {},
     "inputWidgets": {},
     "nuid": "cd9f499e-2fdf-4165-bc8d-4488a2bbedf7",
     "showTitle": false,
     "title": ""
    }
   },
   "source": [
    "<i18n value=\"ecf5132e-f80d-4374-a325-28b4e96d5b61\"/>\n",
    "\n",
    "## その他のトピックとリソース (Additional Topics & Resources)\n",
    "\n",
    "**Q:** MLflow Model Registry の詳細資料は、どこにありますか？ \n",
    "**A:** <a href=\"https://mlflow.org/docs/latest/registry.html\" target=\"_blank\">MLflowドキュメンテーション</a> をご覧ください。"
   ]
  },
  {
   "cell_type": "markdown",
   "metadata": {
    "application/vnd.databricks.v1+cell": {
     "cellMetadata": {},
     "inputWidgets": {},
     "nuid": "12903d9d-fd66-447b-9050-79aada5c11cb",
     "showTitle": false,
     "title": ""
    }
   },
   "source": [
    "&copy; 2022 Databricks, Inc. All rights reserved.<br/>\n",
    "Apache, Apache Spark, Spark and the Spark logo are trademarks of the <a href=\"https://www.apache.org/\">Apache Software Foundation</a>.<br/>\n",
    "<br/>\n",
    "<a href=\"https://databricks.com/privacy-policy\">Privacy Policy</a> | <a href=\"https://databricks.com/terms-of-use\">Terms of Use</a> | <a href=\"https://help.databricks.com/\">Support</a>"
   ]
  }
 ],
 "metadata": {
  "application/vnd.databricks.v1+notebook": {
   "dashboards": [],
   "language": "python",
   "notebookMetadata": {
    "pythonIndentUnit": 2
   },
   "notebookName": "ML 05 - MLflow Model Registry",
   "widgets": {}
  }
 },
 "nbformat": 4,
 "nbformat_minor": 0
}
