{
 "cells": [
  {
   "cell_type": "code",
   "execution_count": null,
   "metadata": {
    "application/vnd.databricks.v1+cell": {
     "cellMetadata": {
      "byteLimit": 2048000,
      "rowLimit": 10000
     },
     "inputWidgets": {},
     "nuid": "f665952b-bfc8-46d2-a27d-b5b827df8eca",
     "showTitle": false,
     "title": ""
    }
   },
   "outputs": [
    {
     "data": {
      "text/html": [
       "<style scoped>\n",
       "  .ansiout {\n",
       "    display: block;\n",
       "    unicode-bidi: embed;\n",
       "    white-space: pre-wrap;\n",
       "    word-wrap: break-word;\n",
       "    word-break: break-all;\n",
       "    font-family: \"Menlo\", \"Monaco\", \"Consolas\", \"Ubuntu Mono\", \"Source Code Pro\", monospace;\n",
       "    font-size: 13px;\n",
       "    color: #555;\n",
       "    margin-left: 4px;\n",
       "    line-height: 19px;\n",
       "  }\n",
       "</style>\n",
       "<div class=\"ansiout\">Collecting openai==1.3.0\r\n",
       "  Downloading openai-1.3.0-py3-none-any.whl (220 kB)\r\n",
       "█▌                              | 10 kB 34.5 MB/s eta 0:00:01\r     |███                             | 20 kB 26.9 MB/s eta 0:00:01\r     |████▌                           | 30 kB 34.9 MB/s eta 0:00:01\r     |██████                          | 40 kB 18.0 MB/s eta 0:00:01\r     |███████▍                        | 51 kB 21.4 MB/s eta 0:00:01\r     |█████████                       | 61 kB 24.8 MB/s eta 0:00:01\r     |██████████▍                     | 71 kB 19.4 MB/s eta 0:00:01\r     |████████████                    | 81 kB 21.7 MB/s eta 0:00:01\r     |█████████████▍                  | 92 kB 21.6 MB/s eta 0:00:01\r     |██████████████▉                 | 102 kB 21.8 MB/s eta 0:00:01\r     |████████████████▍               | 112 kB 21.8 MB/s eta 0:00:01\r     |█████████████████▉              | 122 kB 21.8 MB/s eta 0:00:01\r     |███████████████████▍            | 133 kB 21.8 MB/s eta 0:00:01\r     |████████████████████▉           | 143 kB 21.8 MB/s eta 0:00:01\r     |██████████████████████▎         | 153 kB 21.8 MB/s eta 0:00:01\r     |███████████████████████▉        | 163 kB 21.8 MB/s eta 0:00:01\r     |█████████████████████████▎      | 174 kB 21.8 MB/s eta 0:00:01\r     |██████████████████████████▊     | 184 kB 21.8 MB/s eta 0:00:01\r     |████████████████████████████▎   | 194 kB 21.8 MB/s eta 0:00:01\r     |█████████████████████████████▊  | 204 kB 21.8 MB/s eta 0:00:01\r     |███████████████████████████████▎| 215 kB 21.8 MB/s eta 0:00:01\r     |████████████████████████████████| 220 kB 21.8 MB/s \r\n",
       "Requirement already satisfied: typing-extensions&lt;5,&gt;=4.5 in /local_disk0/.ephemeral_nfs/envs/pythonEnv-bfd44672-7b28-4ccf-b011-79b042ee1b3d/lib/python3.8/site-packages (from openai==1.3.0) (4.12.2)\r\n",
       "Collecting anyio&lt;4,&gt;=3.5.0\r\n",
       "  Downloading anyio-3.7.1-py3-none-any.whl (80 kB)\r\n",
       "████                            | 10 kB 38.8 MB/s eta 0:00:01\r     |████████                        | 20 kB 49.2 MB/s eta 0:00:01\r     |████████████▏                   | 30 kB 62.0 MB/s eta 0:00:01\r     |████████████████▏               | 40 kB 70.2 MB/s eta 0:00:01\r     |████████████████████▎           | 51 kB 71.8 MB/s eta 0:00:01\r     |████████████████████████▎       | 61 kB 78.5 MB/s eta 0:00:01\r     |████████████████████████████▍   | 71 kB 82.9 MB/s eta 0:00:01\r     |████████████████████████████████| 80 kB 317 kB/s \r\n",
       "Requirement already satisfied: httpx&lt;1,&gt;=0.23.0 in /local_disk0/.ephemeral_nfs/envs/pythonEnv-bfd44672-7b28-4ccf-b011-79b042ee1b3d/lib/python3.8/site-packages (from openai==1.3.0) (0.27.0)\r\n",
       "Requirement already satisfied: pydantic&lt;3,&gt;=1.9.0 in /local_disk0/.ephemeral_nfs/envs/pythonEnv-bfd44672-7b28-4ccf-b011-79b042ee1b3d/lib/python3.8/site-packages (from openai==1.3.0) (2.7.4)\r\n",
       "Requirement already satisfied: tqdm&gt;4 in /databricks/python3/lib/python3.8/site-packages (from openai==1.3.0) (4.59.0)\r\n",
       "Requirement already satisfied: distro&lt;2,&gt;=1.7.0 in /local_disk0/.ephemeral_nfs/envs/pythonEnv-bfd44672-7b28-4ccf-b011-79b042ee1b3d/lib/python3.8/site-packages (from openai==1.3.0) (1.9.0)\r\n",
       "Requirement already satisfied: idna&gt;=2.8 in /databricks/python3/lib/python3.8/site-packages (from anyio&lt;4,&gt;=3.5.0-&gt;openai==1.3.0) (2.10)\r\n",
       "Requirement already satisfied: exceptiongroup in /local_disk0/.ephemeral_nfs/envs/pythonEnv-bfd44672-7b28-4ccf-b011-79b042ee1b3d/lib/python3.8/site-packages (from anyio&lt;4,&gt;=3.5.0-&gt;openai==1.3.0) (1.2.1)\r\n",
       "Requirement already satisfied: sniffio&gt;=1.1 in /local_disk0/.ephemeral_nfs/envs/pythonEnv-bfd44672-7b28-4ccf-b011-79b042ee1b3d/lib/python3.8/site-packages (from anyio&lt;4,&gt;=3.5.0-&gt;openai==1.3.0) (1.3.1)\r\n",
       "Requirement already satisfied: certifi in /databricks/python3/lib/python3.8/site-packages (from httpx&lt;1,&gt;=0.23.0-&gt;openai==1.3.0) (2020.12.5)\r\n",
       "Requirement already satisfied: httpcore==1.* in /local_disk0/.ephemeral_nfs/envs/pythonEnv-bfd44672-7b28-4ccf-b011-79b042ee1b3d/lib/python3.8/site-packages (from httpx&lt;1,&gt;=0.23.0-&gt;openai==1.3.0) (1.0.5)\r\n",
       "Requirement already satisfied: h11&lt;0.15,&gt;=0.13 in /local_disk0/.ephemeral_nfs/envs/pythonEnv-bfd44672-7b28-4ccf-b011-79b042ee1b3d/lib/python3.8/site-packages (from httpcore==1.*-&gt;httpx&lt;1,&gt;=0.23.0-&gt;openai==1.3.0) (0.14.0)\r\n",
       "Requirement already satisfied: pydantic-core==2.18.4 in /local_disk0/.ephemeral_nfs/envs/pythonEnv-bfd44672-7b28-4ccf-b011-79b042ee1b3d/lib/python3.8/site-packages (from pydantic&lt;3,&gt;=1.9.0-&gt;openai==1.3.0) (2.18.4)\r\n",
       "Requirement already satisfied: annotated-types&gt;=0.4.0 in /local_disk0/.ephemeral_nfs/envs/pythonEnv-bfd44672-7b28-4ccf-b011-79b042ee1b3d/lib/python3.8/site-packages (from pydantic&lt;3,&gt;=1.9.0-&gt;openai==1.3.0) (0.7.0)\r\n",
       "Installing collected packages: anyio, openai\r\n",
       "  Attempting uninstall: anyio\r\n",
       "    Found existing installation: anyio 4.4.0\r\n",
       "    Uninstalling anyio-4.4.0:\r\n",
       "      Successfully uninstalled anyio-4.4.0\r\n",
       "  Attempting uninstall: openai\r\n",
       "    Found existing installation: openai 1.34.0\r\n",
       "    Uninstalling openai-1.34.0:\r\n",
       "      Successfully uninstalled openai-1.34.0\r\n",
       "Successfully installed anyio-3.7.1 openai-1.3.0\r\n",
       "<span class=\"ansi-yellow-fg\">WARNING: You are using pip version 21.0.1; however, version 24.0 is available.\r\n",
       "You should consider upgrading via the &#39;/local_disk0/.ephemeral_nfs/envs/pythonEnv-bfd44672-7b28-4ccf-b011-79b042ee1b3d/bin/python -m pip install --upgrade pip&#39; command.</span>\r\n",
       "</div>"
      ]
     },
     "metadata": {
      "application/vnd.databricks.v1+output": {
       "addedWidgets": {},
       "arguments": {},
       "data": "<div class=\"ansiout\">Collecting openai==1.3.0\r\n  Downloading openai-1.3.0-py3-none-any.whl (220 kB)\r\n\r     |█▌                              | 10 kB 34.5 MB/s eta 0:00:01\r     |███                             | 20 kB 26.9 MB/s eta 0:00:01\r     |████▌                           | 30 kB 34.9 MB/s eta 0:00:01\r     |██████                          | 40 kB 18.0 MB/s eta 0:00:01\r     |███████▍                        | 51 kB 21.4 MB/s eta 0:00:01\r     |█████████                       | 61 kB 24.8 MB/s eta 0:00:01\r     |██████████▍                     | 71 kB 19.4 MB/s eta 0:00:01\r     |████████████                    | 81 kB 21.7 MB/s eta 0:00:01\r     |█████████████▍                  | 92 kB 21.6 MB/s eta 0:00:01\r     |██████████████▉                 | 102 kB 21.8 MB/s eta 0:00:01\r     |████████████████▍               | 112 kB 21.8 MB/s eta 0:00:01\r     |█████████████████▉              | 122 kB 21.8 MB/s eta 0:00:01\r     |███████████████████▍            | 133 kB 21.8 MB/s eta 0:00:01\r     |████████████████████▉           | 143 kB 21.8 MB/s eta 0:00:01\r     |██████████████████████▎         | 153 kB 21.8 MB/s eta 0:00:01\r     |███████████████████████▉        | 163 kB 21.8 MB/s eta 0:00:01\r     |█████████████████████████▎      | 174 kB 21.8 MB/s eta 0:00:01\r     |██████████████████████████▊     | 184 kB 21.8 MB/s eta 0:00:01\r     |████████████████████████████▎   | 194 kB 21.8 MB/s eta 0:00:01\r     |█████████████████████████████▊  | 204 kB 21.8 MB/s eta 0:00:01\r     |███████████████████████████████▎| 215 kB 21.8 MB/s eta 0:00:01\r     |████████████████████████████████| 220 kB 21.8 MB/s \r\nRequirement already satisfied: typing-extensions&lt;5,&gt;=4.5 in /local_disk0/.ephemeral_nfs/envs/pythonEnv-bfd44672-7b28-4ccf-b011-79b042ee1b3d/lib/python3.8/site-packages (from openai==1.3.0) (4.12.2)\r\nCollecting anyio&lt;4,&gt;=3.5.0\r\n  Downloading anyio-3.7.1-py3-none-any.whl (80 kB)\r\n\r     |████                            | 10 kB 38.8 MB/s eta 0:00:01\r     |████████                        | 20 kB 49.2 MB/s eta 0:00:01\r     |████████████▏                   | 30 kB 62.0 MB/s eta 0:00:01\r     |████████████████▏               | 40 kB 70.2 MB/s eta 0:00:01\r     |████████████████████▎           | 51 kB 71.8 MB/s eta 0:00:01\r     |████████████████████████▎       | 61 kB 78.5 MB/s eta 0:00:01\r     |████████████████████████████▍   | 71 kB 82.9 MB/s eta 0:00:01\r     |████████████████████████████████| 80 kB 317 kB/s \r\nRequirement already satisfied: httpx&lt;1,&gt;=0.23.0 in /local_disk0/.ephemeral_nfs/envs/pythonEnv-bfd44672-7b28-4ccf-b011-79b042ee1b3d/lib/python3.8/site-packages (from openai==1.3.0) (0.27.0)\r\nRequirement already satisfied: pydantic&lt;3,&gt;=1.9.0 in /local_disk0/.ephemeral_nfs/envs/pythonEnv-bfd44672-7b28-4ccf-b011-79b042ee1b3d/lib/python3.8/site-packages (from openai==1.3.0) (2.7.4)\r\nRequirement already satisfied: tqdm&gt;4 in /databricks/python3/lib/python3.8/site-packages (from openai==1.3.0) (4.59.0)\r\nRequirement already satisfied: distro&lt;2,&gt;=1.7.0 in /local_disk0/.ephemeral_nfs/envs/pythonEnv-bfd44672-7b28-4ccf-b011-79b042ee1b3d/lib/python3.8/site-packages (from openai==1.3.0) (1.9.0)\r\nRequirement already satisfied: idna&gt;=2.8 in /databricks/python3/lib/python3.8/site-packages (from anyio&lt;4,&gt;=3.5.0-&gt;openai==1.3.0) (2.10)\r\nRequirement already satisfied: exceptiongroup in /local_disk0/.ephemeral_nfs/envs/pythonEnv-bfd44672-7b28-4ccf-b011-79b042ee1b3d/lib/python3.8/site-packages (from anyio&lt;4,&gt;=3.5.0-&gt;openai==1.3.0) (1.2.1)\r\nRequirement already satisfied: sniffio&gt;=1.1 in /local_disk0/.ephemeral_nfs/envs/pythonEnv-bfd44672-7b28-4ccf-b011-79b042ee1b3d/lib/python3.8/site-packages (from anyio&lt;4,&gt;=3.5.0-&gt;openai==1.3.0) (1.3.1)\r\nRequirement already satisfied: certifi in /databricks/python3/lib/python3.8/site-packages (from httpx&lt;1,&gt;=0.23.0-&gt;openai==1.3.0) (2020.12.5)\r\nRequirement already satisfied: httpcore==1.* in /local_disk0/.ephemeral_nfs/envs/pythonEnv-bfd44672-7b28-4ccf-b011-79b042ee1b3d/lib/python3.8/site-packages (from httpx&lt;1,&gt;=0.23.0-&gt;openai==1.3.0) (1.0.5)\r\nRequirement already satisfied: h11&lt;0.15,&gt;=0.13 in /local_disk0/.ephemeral_nfs/envs/pythonEnv-bfd44672-7b28-4ccf-b011-79b042ee1b3d/lib/python3.8/site-packages (from httpcore==1.*-&gt;httpx&lt;1,&gt;=0.23.0-&gt;openai==1.3.0) (0.14.0)\r\nRequirement already satisfied: pydantic-core==2.18.4 in /local_disk0/.ephemeral_nfs/envs/pythonEnv-bfd44672-7b28-4ccf-b011-79b042ee1b3d/lib/python3.8/site-packages (from pydantic&lt;3,&gt;=1.9.0-&gt;openai==1.3.0) (2.18.4)\r\nRequirement already satisfied: annotated-types&gt;=0.4.0 in /local_disk0/.ephemeral_nfs/envs/pythonEnv-bfd44672-7b28-4ccf-b011-79b042ee1b3d/lib/python3.8/site-packages (from pydantic&lt;3,&gt;=1.9.0-&gt;openai==1.3.0) (0.7.0)\r\nInstalling collected packages: anyio, openai\r\n  Attempting uninstall: anyio\r\n    Found existing installation: anyio 4.4.0\r\n    Uninstalling anyio-4.4.0:\r\n      Successfully uninstalled anyio-4.4.0\r\n  Attempting uninstall: openai\r\n    Found existing installation: openai 1.34.0\r\n    Uninstalling openai-1.34.0:\r\n      Successfully uninstalled openai-1.34.0\r\nSuccessfully installed anyio-3.7.1 openai-1.3.0\r\n<span class=\"ansi-yellow-fg\">WARNING: You are using pip version 21.0.1; however, version 24.0 is available.\r\nYou should consider upgrading via the &#39;/local_disk0/.ephemeral_nfs/envs/pythonEnv-bfd44672-7b28-4ccf-b011-79b042ee1b3d/bin/python -m pip install --upgrade pip&#39; command.</span>\r\n</div>",
       "datasetInfos": [],
       "metadata": {},
       "removedWidgets": [],
       "type": "html"
      }
     },
     "output_type": "display_data"
    }
   ],
   "source": [
    "# !pip install openai==1.3.0\n",
    "# dbutils.library.restartPython()"
   ]
  },
  {
   "cell_type": "code",
   "execution_count": null,
   "metadata": {
    "application/vnd.databricks.v1+cell": {
     "cellMetadata": {
      "byteLimit": 2048000,
      "rowLimit": 10000
     },
     "inputWidgets": {},
     "nuid": "b5114c8b-38e9-4739-bdbf-04b6961c97f8",
     "showTitle": false,
     "title": ""
    }
   },
   "outputs": [
    {
     "data": {
      "text/html": [
       "<style scoped>\n",
       "  .ansiout {\n",
       "    display: block;\n",
       "    unicode-bidi: embed;\n",
       "    white-space: pre-wrap;\n",
       "    word-wrap: break-word;\n",
       "    word-break: break-all;\n",
       "    font-family: \"Menlo\", \"Monaco\", \"Consolas\", \"Ubuntu Mono\", \"Source Code Pro\", monospace;\n",
       "    font-size: 13px;\n",
       "    color: #555;\n",
       "    margin-left: 4px;\n",
       "    line-height: 19px;\n",
       "  }\n",
       "</style>\n",
       "<div class=\"ansiout\"></div>"
      ]
     },
     "metadata": {
      "application/vnd.databricks.v1+output": {
       "addedWidgets": {},
       "arguments": {},
       "data": "<div class=\"ansiout\"></div>",
       "datasetInfos": [],
       "metadata": {},
       "removedWidgets": [],
       "type": "html"
      }
     },
     "output_type": "display_data"
    }
   ],
   "source": [
    "api_key = \"your-api-key\"\n",
    "endpoint_url = \"your-azure-endpoint\"\n",
    "model = \"gpt-35-turbo-16k\""
   ]
  },
  {
   "cell_type": "code",
   "execution_count": null,
   "metadata": {
    "application/vnd.databricks.v1+cell": {
     "cellMetadata": {
      "byteLimit": 2048000,
      "rowLimit": 10000
     },
     "inputWidgets": {},
     "nuid": "690d77e0-1788-4ee1-83d8-d0679c0fd259",
     "showTitle": false,
     "title": ""
    }
   },
   "outputs": [
    {
     "data": {
      "text/html": [
       "<style scoped>\n",
       "  .ansiout {\n",
       "    display: block;\n",
       "    unicode-bidi: embed;\n",
       "    white-space: pre-wrap;\n",
       "    word-wrap: break-word;\n",
       "    word-break: break-all;\n",
       "    font-family: \"Menlo\", \"Monaco\", \"Consolas\", \"Ubuntu Mono\", \"Source Code Pro\", monospace;\n",
       "    font-size: 13px;\n",
       "    color: #555;\n",
       "    margin-left: 4px;\n",
       "    line-height: 19px;\n",
       "  }\n",
       "</style>\n",
       "<div class=\"ansiout\">{\n",
       "  &#34;id&#34;: &#34;chatcmpl-9azbFXPoDa4SQ6oFacuE3zHT6GbVW&#34;,\n",
       "  &#34;choices&#34;: [\n",
       "    {\n",
       "      &#34;finish_reason&#34;: &#34;stop&#34;,\n",
       "      &#34;index&#34;: 0,\n",
       "      &#34;message&#34;: {\n",
       "        &#34;content&#34;: &#34;The founders of Microsoft are Bill Gates and Paul Allen. They established the company in 1975. Bill Gates served as the CEO and later as the Chairman of Microsoft, while Paul Allen initially served as the Executive Vice President. Together, they played a significant role in building one of the most successful and influential technology companies in the world.&#34;,\n",
       "        &#34;role&#34;: &#34;assistant&#34;,\n",
       "        &#34;function_call&#34;: null,\n",
       "        &#34;tool_calls&#34;: null\n",
       "      }\n",
       "    }\n",
       "  ],\n",
       "  &#34;created&#34;: 1718603625,\n",
       "  &#34;model&#34;: &#34;gpt-35-turbo-16k&#34;,\n",
       "  &#34;object&#34;: &#34;chat.completion&#34;,\n",
       "  &#34;system_fingerprint&#34;: null,\n",
       "  &#34;usage&#34;: {\n",
       "    &#34;completion_tokens&#34;: 67,\n",
       "    &#34;prompt_tokens&#34;: 29,\n",
       "    &#34;total_tokens&#34;: 96\n",
       "  }\n",
       "}\n",
       "The founders of Microsoft are Bill Gates and Paul Allen. They established the company in 1975. Bill Gates served as the CEO and later as the Chairman of Microsoft, while Paul Allen initially served as the Executive Vice President. Together, they played a significant role in building one of the most successful and influential technology companies in the world.\n",
       "</div>"
      ]
     },
     "metadata": {
      "application/vnd.databricks.v1+output": {
       "addedWidgets": {},
       "arguments": {},
       "data": "<div class=\"ansiout\">{\n  &#34;id&#34;: &#34;chatcmpl-9azbFXPoDa4SQ6oFacuE3zHT6GbVW&#34;,\n  &#34;choices&#34;: [\n    {\n      &#34;finish_reason&#34;: &#34;stop&#34;,\n      &#34;index&#34;: 0,\n      &#34;message&#34;: {\n        &#34;content&#34;: &#34;The founders of Microsoft are Bill Gates and Paul Allen. They established the company in 1975. Bill Gates served as the CEO and later as the Chairman of Microsoft, while Paul Allen initially served as the Executive Vice President. Together, they played a significant role in building one of the most successful and influential technology companies in the world.&#34;,\n        &#34;role&#34;: &#34;assistant&#34;,\n        &#34;function_call&#34;: null,\n        &#34;tool_calls&#34;: null\n      }\n    }\n  ],\n  &#34;created&#34;: 1718603625,\n  &#34;model&#34;: &#34;gpt-35-turbo-16k&#34;,\n  &#34;object&#34;: &#34;chat.completion&#34;,\n  &#34;system_fingerprint&#34;: null,\n  &#34;usage&#34;: {\n    &#34;completion_tokens&#34;: 67,\n    &#34;prompt_tokens&#34;: 29,\n    &#34;total_tokens&#34;: 96\n  }\n}\nThe founders of Microsoft are Bill Gates and Paul Allen. They established the company in 1975. Bill Gates served as the CEO and later as the Chairman of Microsoft, while Paul Allen initially served as the Executive Vice President. Together, they played a significant role in building one of the most successful and influential technology companies in the world.\n</div>",
       "datasetInfos": [],
       "metadata": {},
       "removedWidgets": [],
       "type": "html"
      }
     },
     "output_type": "display_data"
    }
   ],
   "source": [
    "from openai import AzureOpenAI\n",
    "import os\n",
    "\n",
    "client = AzureOpenAI(\n",
    "    api_key = \"2f604f3af4884167980aa86575531bfb\",  \n",
    "    api_version = \"2023-05-15\",\n",
    "    azure_endpoint = \"https://oai-aai-dev-jpeast-001.openai.azure.com\"\n",
    ")\n",
    "\n",
    "def chat_with_gpt(messages):\n",
    "    response = client.chat.completions.create(\n",
    "        model=\"gpt-35-turbo-16k\", # model = \"deployment_name\".\n",
    "        messages=messages\n",
    "    )\n",
    "\n",
    "    print(response.model_dump_json(indent=2))\n",
    "    print(response.choices[0].message.content)\n",
    "\n",
    "messages=[\n",
    "    {\"role\": \"system\", \"content\": \"Assistant is a large language model trained by OpenAI.\"},\n",
    "    {\"role\": \"user\", \"content\": \"Who were the founders of Microsoft?\"}\n",
    "]\n",
    "\n",
    "chat_with_gpt(messages)"
   ]
  }
 ],
 "metadata": {
  "application/vnd.databricks.v1+notebook": {
   "dashboards": [],
   "environmentMetadata": null,
   "language": "python",
   "notebookMetadata": {
    "pythonIndentUnit": 4
   },
   "notebookName": "openai-api",
   "widgets": {}
  },
  "language_info": {
   "name": "python"
  }
 },
 "nbformat": 4,
 "nbformat_minor": 0
}
