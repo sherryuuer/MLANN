{
 "cells": [
  {
   "cell_type": "markdown",
   "metadata": {
    "application/vnd.databricks.v1+cell": {
     "cellMetadata": {},
     "inputWidgets": {},
     "nuid": "841efb42-93b7-4053-bd15-ece03fb1547d",
     "showTitle": false,
     "title": ""
    }
   },
   "source": [
    "# LightGBM Regressor training\n",
    "- This is an auto-generated notebook.\n",
    "- To reproduce these results, attach this notebook to a cluster with runtime version **13.3.x-cpu-ml-scala2.12**, and rerun it.\n",
    "- Compare trials in the [MLflow experiment](#mlflow/experiments/3529245064622630).\n",
    "- Clone this notebook into your project folder by selecting **File > Clone** in the notebook toolbar."
   ]
  },
  {
   "cell_type": "code",
   "execution_count": 0,
   "metadata": {
    "application/vnd.databricks.v1+cell": {
     "cellMetadata": {},
     "inputWidgets": {},
     "nuid": "3dda747f-1d4a-4f02-8828-6f7f18520170",
     "showTitle": false,
     "title": ""
    },
    "execution": {
     "iopub.execute_input": "2024-05-06T09:31:02.689840Z",
     "iopub.status.busy": "2024-05-06T09:31:02.689625Z",
     "iopub.status.idle": "2024-05-06T09:31:02.702508Z",
     "shell.execute_reply": "2024-05-06T09:31:02.699666Z"
    }
   },
   "outputs": [],
   "source": [
    "import mlflow\n",
    "import databricks.automl_runtime\n",
    "\n",
    "target_col = \"price\""
   ]
  },
  {
   "cell_type": "markdown",
   "metadata": {
    "application/vnd.databricks.v1+cell": {
     "cellMetadata": {},
     "inputWidgets": {},
     "nuid": "543c2381-10b4-477d-96de-667d30dc51f8",
     "showTitle": false,
     "title": ""
    }
   },
   "source": [
    "## Load Data"
   ]
  },
  {
   "cell_type": "code",
   "execution_count": 0,
   "metadata": {
    "application/vnd.databricks.v1+cell": {
     "cellMetadata": {},
     "inputWidgets": {},
     "nuid": "aeba7147-16ee-4e7e-a00a-7c9d8636ffed",
     "showTitle": false,
     "title": ""
    },
    "execution": {
     "iopub.execute_input": "2024-05-06T09:31:02.706898Z",
     "iopub.status.busy": "2024-05-06T09:31:02.706420Z",
     "iopub.status.idle": "2024-05-06T09:31:03.857244Z",
     "shell.execute_reply": "2024-05-06T09:31:03.856283Z"
    }
   },
   "outputs": [
    {
     "output_type": "execute_result",
     "data": {
      "text/html": [
       "<div>\n",
       "<style scoped>\n",
       "    .dataframe tbody tr th:only-of-type {\n",
       "        vertical-align: middle;\n",
       "    }\n",
       "\n",
       "    .dataframe tbody tr th {\n",
       "        vertical-align: top;\n",
       "    }\n",
       "\n",
       "    .dataframe thead th {\n",
       "        text-align: right;\n",
       "    }\n",
       "</style>\n",
       "<table border=\"1\" class=\"dataframe\">\n",
       "  <thead>\n",
       "    <tr style=\"text-align: right;\">\n",
       "      <th></th>\n",
       "      <th>host_is_superhost</th>\n",
       "      <th>cancellation_policy</th>\n",
       "      <th>instant_bookable</th>\n",
       "      <th>host_total_listings_count</th>\n",
       "      <th>neighbourhood_cleansed</th>\n",
       "      <th>latitude</th>\n",
       "      <th>longitude</th>\n",
       "      <th>property_type</th>\n",
       "      <th>room_type</th>\n",
       "      <th>accommodates</th>\n",
       "      <th>...</th>\n",
       "      <th>beds_na</th>\n",
       "      <th>review_scores_rating_na</th>\n",
       "      <th>review_scores_accuracy_na</th>\n",
       "      <th>review_scores_cleanliness_na</th>\n",
       "      <th>review_scores_checkin_na</th>\n",
       "      <th>review_scores_communication_na</th>\n",
       "      <th>review_scores_location_na</th>\n",
       "      <th>review_scores_value_na</th>\n",
       "      <th>price</th>\n",
       "      <th>_automl_split_col_0000</th>\n",
       "    </tr>\n",
       "  </thead>\n",
       "  <tbody>\n",
       "    <tr>\n",
       "      <th>0</th>\n",
       "      <td>f</td>\n",
       "      <td>flexible</td>\n",
       "      <td>f</td>\n",
       "      <td>1.0</td>\n",
       "      <td>Bayview</td>\n",
       "      <td>37.72001</td>\n",
       "      <td>-122.39249</td>\n",
       "      <td>House</td>\n",
       "      <td>Entire home/apt</td>\n",
       "      <td>2.0</td>\n",
       "      <td>...</td>\n",
       "      <td>0.0</td>\n",
       "      <td>0.0</td>\n",
       "      <td>0.0</td>\n",
       "      <td>0.0</td>\n",
       "      <td>0.0</td>\n",
       "      <td>0.0</td>\n",
       "      <td>0.0</td>\n",
       "      <td>0.0</td>\n",
       "      <td>85.0</td>\n",
       "      <td>train</td>\n",
       "    </tr>\n",
       "    <tr>\n",
       "      <th>1</th>\n",
       "      <td>f</td>\n",
       "      <td>flexible</td>\n",
       "      <td>f</td>\n",
       "      <td>1.0</td>\n",
       "      <td>Bernal Heights</td>\n",
       "      <td>37.74552</td>\n",
       "      <td>-122.41195</td>\n",
       "      <td>Apartment</td>\n",
       "      <td>Entire home/apt</td>\n",
       "      <td>2.0</td>\n",
       "      <td>...</td>\n",
       "      <td>0.0</td>\n",
       "      <td>0.0</td>\n",
       "      <td>0.0</td>\n",
       "      <td>0.0</td>\n",
       "      <td>0.0</td>\n",
       "      <td>0.0</td>\n",
       "      <td>0.0</td>\n",
       "      <td>0.0</td>\n",
       "      <td>250.0</td>\n",
       "      <td>train</td>\n",
       "    </tr>\n",
       "    <tr>\n",
       "      <th>2</th>\n",
       "      <td>f</td>\n",
       "      <td>flexible</td>\n",
       "      <td>f</td>\n",
       "      <td>1.0</td>\n",
       "      <td>Glen Park</td>\n",
       "      <td>37.74185</td>\n",
       "      <td>-122.42977</td>\n",
       "      <td>Apartment</td>\n",
       "      <td>Entire home/apt</td>\n",
       "      <td>3.0</td>\n",
       "      <td>...</td>\n",
       "      <td>0.0</td>\n",
       "      <td>1.0</td>\n",
       "      <td>1.0</td>\n",
       "      <td>1.0</td>\n",
       "      <td>1.0</td>\n",
       "      <td>1.0</td>\n",
       "      <td>1.0</td>\n",
       "      <td>1.0</td>\n",
       "      <td>125.0</td>\n",
       "      <td>train</td>\n",
       "    </tr>\n",
       "    <tr>\n",
       "      <th>3</th>\n",
       "      <td>f</td>\n",
       "      <td>flexible</td>\n",
       "      <td>f</td>\n",
       "      <td>1.0</td>\n",
       "      <td>Haight Ashbury</td>\n",
       "      <td>37.76637</td>\n",
       "      <td>-122.44670</td>\n",
       "      <td>House</td>\n",
       "      <td>Private room</td>\n",
       "      <td>2.0</td>\n",
       "      <td>...</td>\n",
       "      <td>0.0</td>\n",
       "      <td>0.0</td>\n",
       "      <td>0.0</td>\n",
       "      <td>0.0</td>\n",
       "      <td>0.0</td>\n",
       "      <td>0.0</td>\n",
       "      <td>0.0</td>\n",
       "      <td>0.0</td>\n",
       "      <td>80.0</td>\n",
       "      <td>train</td>\n",
       "    </tr>\n",
       "    <tr>\n",
       "      <th>4</th>\n",
       "      <td>f</td>\n",
       "      <td>flexible</td>\n",
       "      <td>f</td>\n",
       "      <td>1.0</td>\n",
       "      <td>Inner Sunset</td>\n",
       "      <td>37.76580</td>\n",
       "      <td>-122.45510</td>\n",
       "      <td>Apartment</td>\n",
       "      <td>Private room</td>\n",
       "      <td>2.0</td>\n",
       "      <td>...</td>\n",
       "      <td>0.0</td>\n",
       "      <td>1.0</td>\n",
       "      <td>1.0</td>\n",
       "      <td>1.0</td>\n",
       "      <td>1.0</td>\n",
       "      <td>1.0</td>\n",
       "      <td>1.0</td>\n",
       "      <td>1.0</td>\n",
       "      <td>86.0</td>\n",
       "      <td>train</td>\n",
       "    </tr>\n",
       "  </tbody>\n",
       "</table>\n",
       "<p>5 rows × 35 columns</p>\n",
       "</div>"
      ],
      "text/plain": [
       "  host_is_superhost cancellation_policy instant_bookable  \\\n",
       "0                 f            flexible                f   \n",
       "1                 f            flexible                f   \n",
       "2                 f            flexible                f   \n",
       "3                 f            flexible                f   \n",
       "4                 f            flexible                f   \n",
       "\n",
       "   host_total_listings_count neighbourhood_cleansed  latitude  longitude  \\\n",
       "0                        1.0                Bayview  37.72001 -122.39249   \n",
       "1                        1.0         Bernal Heights  37.74552 -122.41195   \n",
       "2                        1.0              Glen Park  37.74185 -122.42977   \n",
       "3                        1.0         Haight Ashbury  37.76637 -122.44670   \n",
       "4                        1.0           Inner Sunset  37.76580 -122.45510   \n",
       "\n",
       "  property_type        room_type  accommodates  ...  beds_na  \\\n",
       "0         House  Entire home/apt           2.0  ...      0.0   \n",
       "1     Apartment  Entire home/apt           2.0  ...      0.0   \n",
       "2     Apartment  Entire home/apt           3.0  ...      0.0   \n",
       "3         House     Private room           2.0  ...      0.0   \n",
       "4     Apartment     Private room           2.0  ...      0.0   \n",
       "\n",
       "   review_scores_rating_na  review_scores_accuracy_na  \\\n",
       "0                      0.0                        0.0   \n",
       "1                      0.0                        0.0   \n",
       "2                      1.0                        1.0   \n",
       "3                      0.0                        0.0   \n",
       "4                      1.0                        1.0   \n",
       "\n",
       "  review_scores_cleanliness_na  review_scores_checkin_na  \\\n",
       "0                          0.0                       0.0   \n",
       "1                          0.0                       0.0   \n",
       "2                          1.0                       1.0   \n",
       "3                          0.0                       0.0   \n",
       "4                          1.0                       1.0   \n",
       "\n",
       "   review_scores_communication_na  review_scores_location_na  \\\n",
       "0                             0.0                        0.0   \n",
       "1                             0.0                        0.0   \n",
       "2                             1.0                        1.0   \n",
       "3                             0.0                        0.0   \n",
       "4                             1.0                        1.0   \n",
       "\n",
       "   review_scores_value_na  price  _automl_split_col_0000  \n",
       "0                     0.0   85.0                   train  \n",
       "1                     0.0  250.0                   train  \n",
       "2                     1.0  125.0                   train  \n",
       "3                     0.0   80.0                   train  \n",
       "4                     1.0   86.0                   train  \n",
       "\n",
       "[5 rows x 35 columns]"
      ]
     },
     "execution_count": 3,
     "metadata": {},
     "output_type": "execute_result"
    }
   ],
   "source": [
    "import mlflow\n",
    "import os\n",
    "import uuid\n",
    "import shutil\n",
    "import pandas as pd\n",
    "\n",
    "# Create temp directory to download input data from MLflow\n",
    "input_temp_dir = os.path.join(os.environ[\"SPARK_LOCAL_DIRS\"], \"tmp\", str(uuid.uuid4())[:8])\n",
    "os.makedirs(input_temp_dir)\n",
    "\n",
    "\n",
    "# Download the artifact and read it into a pandas DataFrame\n",
    "input_data_path = mlflow.artifacts.download_artifacts(run_id=\"c5724c690481491e9f2893d48aa3fd1d\", artifact_path=\"data\", dst_path=input_temp_dir)\n",
    "\n",
    "df_loaded = pd.read_parquet(os.path.join(input_data_path, \"training_data\"))\n",
    "# Delete the temp data\n",
    "shutil.rmtree(input_temp_dir)\n",
    "\n",
    "# Preview data\n",
    "df_loaded.head(5)"
   ]
  },
  {
   "cell_type": "markdown",
   "metadata": {
    "application/vnd.databricks.v1+cell": {
     "cellMetadata": {},
     "inputWidgets": {},
     "nuid": "22f0a081-5f1a-486d-a64d-d83d887965ee",
     "showTitle": false,
     "title": ""
    }
   },
   "source": [
    "### Select supported columns\n",
    "Select only the columns that are supported. This allows us to train a model that can predict on a dataset that has extra columns that are not used in training.\n",
    "`[]` are dropped in the pipelines. See the Alerts tab of the AutoML Experiment page for details on why these columns are dropped."
   ]
  },
  {
   "cell_type": "code",
   "execution_count": 0,
   "metadata": {
    "application/vnd.databricks.v1+cell": {
     "cellMetadata": {},
     "inputWidgets": {},
     "nuid": "ca5fb03e-424a-4738-a20a-9e4d45d9a902",
     "showTitle": false,
     "title": ""
    },
    "execution": {
     "iopub.execute_input": "2024-05-06T09:31:03.861951Z",
     "iopub.status.busy": "2024-05-06T09:31:03.861258Z",
     "iopub.status.idle": "2024-05-06T09:31:04.844449Z",
     "shell.execute_reply": "2024-05-06T09:31:04.843512Z"
    }
   },
   "outputs": [],
   "source": [
    "from databricks.automl_runtime.sklearn.column_selector import ColumnSelector\n",
    "supported_cols = [\"review_scores_value\", \"review_scores_checkin\", \"bathrooms_na\", \"review_scores_location\", \"instant_bookable\", \"bathrooms\", \"beds_na\", \"review_scores_rating_na\", \"host_is_superhost\", \"neighbourhood_cleansed\", \"beds\", \"review_scores_cleanliness_na\", \"host_total_listings_count\", \"number_of_reviews\", \"review_scores_communication\", \"latitude\", \"cancellation_policy\", \"property_type\", \"review_scores_checkin_na\", \"review_scores_accuracy_na\", \"review_scores_value_na\", \"review_scores_cleanliness\", \"bedrooms_na\", \"review_scores_location_na\", \"review_scores_accuracy\", \"minimum_nights\", \"longitude\", \"accommodates\", \"room_type\", \"bedrooms\", \"review_scores_communication_na\", \"review_scores_rating\", \"bed_type\"]\n",
    "col_selector = ColumnSelector(supported_cols)"
   ]
  },
  {
   "cell_type": "markdown",
   "metadata": {
    "application/vnd.databricks.v1+cell": {
     "cellMetadata": {},
     "inputWidgets": {},
     "nuid": "42981681-b7f6-4316-800c-babccbc31b3f",
     "showTitle": false,
     "title": ""
    }
   },
   "source": [
    "## Preprocessors"
   ]
  },
  {
   "cell_type": "markdown",
   "metadata": {
    "application/vnd.databricks.v1+cell": {
     "cellMetadata": {},
     "inputWidgets": {},
     "nuid": "0b8d6875-baec-4d46-be3e-ae58d08326b7",
     "showTitle": false,
     "title": ""
    }
   },
   "source": [
    "### Boolean columns\n",
    "For each column, impute missing values and then convert into ones and zeros."
   ]
  },
  {
   "cell_type": "code",
   "execution_count": 0,
   "metadata": {
    "application/vnd.databricks.v1+cell": {
     "cellMetadata": {},
     "inputWidgets": {},
     "nuid": "5b77793b-82ff-4075-ad14-e682dc393c46",
     "showTitle": false,
     "title": ""
    },
    "execution": {
     "iopub.execute_input": "2024-05-06T09:31:04.849772Z",
     "iopub.status.busy": "2024-05-06T09:31:04.849260Z",
     "iopub.status.idle": "2024-05-06T09:31:04.858507Z",
     "shell.execute_reply": "2024-05-06T09:31:04.857057Z"
    }
   },
   "outputs": [],
   "source": [
    "from sklearn.compose import ColumnTransformer\n",
    "from sklearn.impute import SimpleImputer\n",
    "from sklearn.pipeline import Pipeline\n",
    "from sklearn.preprocessing import FunctionTransformer\n",
    "from sklearn.preprocessing import OneHotEncoder as SklearnOneHotEncoder\n",
    "\n",
    "\n",
    "bool_imputers = []\n",
    "\n",
    "bool_pipeline = Pipeline(steps=[\n",
    "    (\"cast_type\", FunctionTransformer(lambda df: df.astype(object))),\n",
    "    (\"imputers\", ColumnTransformer(bool_imputers, remainder=\"passthrough\")),\n",
    "    (\"onehot\", SklearnOneHotEncoder(handle_unknown=\"ignore\", drop=\"first\")),\n",
    "])\n",
    "\n",
    "bool_transformers = [(\"boolean\", bool_pipeline, [\"review_scores_checkin_na\", \"review_scores_accuracy_na\", \"review_scores_value_na\", \"review_scores_cleanliness_na\", \"bathrooms_na\", \"beds_na\", \"bedrooms_na\", \"review_scores_communication_na\", \"instant_bookable\", \"review_scores_location_na\", \"review_scores_rating_na\", \"host_is_superhost\"])]"
   ]
  },
  {
   "cell_type": "markdown",
   "metadata": {
    "application/vnd.databricks.v1+cell": {
     "cellMetadata": {},
     "inputWidgets": {},
     "nuid": "6687d230-ce6c-4bd3-b26f-48204b7a6b45",
     "showTitle": false,
     "title": ""
    }
   },
   "source": [
    "### Numerical columns\n",
    "\n",
    "Missing values for numerical columns are imputed with mean by default."
   ]
  },
  {
   "cell_type": "code",
   "execution_count": 0,
   "metadata": {
    "application/vnd.databricks.v1+cell": {
     "cellMetadata": {},
     "inputWidgets": {},
     "nuid": "27c6800a-c59a-4747-ac44-6aa2fa8db34d",
     "showTitle": false,
     "title": ""
    },
    "execution": {
     "iopub.execute_input": "2024-05-06T09:31:04.862397Z",
     "iopub.status.busy": "2024-05-06T09:31:04.862034Z",
     "iopub.status.idle": "2024-05-06T09:31:04.873748Z",
     "shell.execute_reply": "2024-05-06T09:31:04.873019Z"
    }
   },
   "outputs": [],
   "source": [
    "from sklearn.compose import ColumnTransformer\n",
    "from sklearn.impute import SimpleImputer\n",
    "from sklearn.pipeline import Pipeline\n",
    "from sklearn.preprocessing import FunctionTransformer, StandardScaler\n",
    "\n",
    "num_imputers = []\n",
    "num_imputers.append((\"impute_mean\", SimpleImputer(), [\"accommodates\", \"bathrooms\", \"bathrooms_na\", \"bedrooms\", \"bedrooms_na\", \"beds\", \"beds_na\", \"host_total_listings_count\", \"latitude\", \"longitude\", \"minimum_nights\", \"number_of_reviews\", \"review_scores_accuracy\", \"review_scores_accuracy_na\", \"review_scores_checkin\", \"review_scores_checkin_na\", \"review_scores_cleanliness\", \"review_scores_cleanliness_na\", \"review_scores_communication\", \"review_scores_communication_na\", \"review_scores_location\", \"review_scores_location_na\", \"review_scores_rating\", \"review_scores_rating_na\", \"review_scores_value\", \"review_scores_value_na\"]))\n",
    "\n",
    "numerical_pipeline = Pipeline(steps=[\n",
    "    (\"converter\", FunctionTransformer(lambda df: df.apply(pd.to_numeric, errors='coerce'))),\n",
    "    (\"imputers\", ColumnTransformer(num_imputers)),\n",
    "    (\"standardizer\", StandardScaler()),\n",
    "])\n",
    "\n",
    "numerical_transformers = [(\"numerical\", numerical_pipeline, [\"review_scores_value\", \"review_scores_checkin\", \"bathrooms_na\", \"review_scores_location\", \"bathrooms\", \"review_scores_rating_na\", \"beds_na\", \"beds\", \"review_scores_cleanliness_na\", \"host_total_listings_count\", \"number_of_reviews\", \"review_scores_communication\", \"latitude\", \"review_scores_checkin_na\", \"review_scores_accuracy_na\", \"review_scores_value_na\", \"review_scores_cleanliness\", \"bedrooms_na\", \"review_scores_location_na\", \"review_scores_accuracy\", \"minimum_nights\", \"longitude\", \"accommodates\", \"bedrooms\", \"review_scores_communication_na\", \"review_scores_rating\"])]"
   ]
  },
  {
   "cell_type": "markdown",
   "metadata": {
    "application/vnd.databricks.v1+cell": {
     "cellMetadata": {},
     "inputWidgets": {},
     "nuid": "00b1a5fb-9b9b-459f-9518-0f5a699e4405",
     "showTitle": false,
     "title": ""
    }
   },
   "source": [
    "### Categorical columns"
   ]
  },
  {
   "cell_type": "markdown",
   "metadata": {
    "application/vnd.databricks.v1+cell": {
     "cellMetadata": {},
     "inputWidgets": {},
     "nuid": "d81ef619-44ea-4bdb-820b-3eb4f6fb8ae3",
     "showTitle": false,
     "title": ""
    }
   },
   "source": [
    "#### Low-cardinality categoricals\n",
    "Convert each low-cardinality categorical column into multiple binary columns through one-hot encoding.\n",
    "For each input categorical column (string or numeric), the number of output columns is equal to the number of unique values in the input column."
   ]
  },
  {
   "cell_type": "code",
   "execution_count": 0,
   "metadata": {
    "application/vnd.databricks.v1+cell": {
     "cellMetadata": {},
     "inputWidgets": {},
     "nuid": "62f72377-c03c-4f07-930b-49c3f7ff09eb",
     "showTitle": false,
     "title": ""
    },
    "execution": {
     "iopub.execute_input": "2024-05-06T09:31:04.881575Z",
     "iopub.status.busy": "2024-05-06T09:31:04.881157Z",
     "iopub.status.idle": "2024-05-06T09:31:04.888970Z",
     "shell.execute_reply": "2024-05-06T09:31:04.887870Z"
    }
   },
   "outputs": [],
   "source": [
    "from databricks.automl_runtime.sklearn import OneHotEncoder\n",
    "from sklearn.compose import ColumnTransformer\n",
    "from sklearn.impute import SimpleImputer\n",
    "from sklearn.pipeline import Pipeline\n",
    "\n",
    "one_hot_imputers = []\n",
    "\n",
    "one_hot_pipeline = Pipeline(steps=[\n",
    "    (\"imputers\", ColumnTransformer(one_hot_imputers, remainder=\"passthrough\")),\n",
    "    (\"one_hot_encoder\", OneHotEncoder(handle_unknown=\"indicator\")),\n",
    "])\n",
    "\n",
    "categorical_one_hot_transformers = [(\"onehot\", one_hot_pipeline, [\"bed_type\", \"cancellation_policy\", \"neighbourhood_cleansed\", \"property_type\", \"room_type\"])]"
   ]
  },
  {
   "cell_type": "code",
   "execution_count": 0,
   "metadata": {
    "application/vnd.databricks.v1+cell": {
     "cellMetadata": {},
     "inputWidgets": {},
     "nuid": "afea9f38-6c9f-474b-8e4d-59fcdda6fc3f",
     "showTitle": false,
     "title": ""
    },
    "execution": {
     "iopub.execute_input": "2024-05-06T09:31:04.893072Z",
     "iopub.status.busy": "2024-05-06T09:31:04.892553Z",
     "iopub.status.idle": "2024-05-06T09:31:04.897552Z",
     "shell.execute_reply": "2024-05-06T09:31:04.896864Z"
    }
   },
   "outputs": [],
   "source": [
    "from sklearn.compose import ColumnTransformer\n",
    "\n",
    "transformers = bool_transformers + numerical_transformers + categorical_one_hot_transformers\n",
    "\n",
    "preprocessor = ColumnTransformer(transformers, remainder=\"passthrough\", sparse_threshold=1)"
   ]
  },
  {
   "cell_type": "markdown",
   "metadata": {
    "application/vnd.databricks.v1+cell": {
     "cellMetadata": {},
     "inputWidgets": {},
     "nuid": "4bf52188-1f6b-47de-84b6-fba5f7ff6d01",
     "showTitle": false,
     "title": ""
    }
   },
   "source": [
    "## Train - Validation - Test Split\n",
    "The input data is split by AutoML into 3 sets:\n",
    "- Train (60% of the dataset used to train the model)\n",
    "- Validation (20% of the dataset used to tune the hyperparameters of the model)\n",
    "- Test (20% of the dataset used to report the true performance of the model on an unseen dataset)\n",
    "\n",
    "`_automl_split_col_0000` contains the information of which set a given row belongs to.\n",
    "We use this column to split the dataset into the above 3 sets. \n",
    "The column should not be used for training so it is dropped after split is done."
   ]
  },
  {
   "cell_type": "code",
   "execution_count": 0,
   "metadata": {
    "application/vnd.databricks.v1+cell": {
     "cellMetadata": {},
     "inputWidgets": {},
     "nuid": "64f4fbca-7996-463d-85f6-3b0057c8847a",
     "showTitle": false,
     "title": ""
    },
    "execution": {
     "iopub.execute_input": "2024-05-06T09:31:04.901670Z",
     "iopub.status.busy": "2024-05-06T09:31:04.901280Z",
     "iopub.status.idle": "2024-05-06T09:31:04.918860Z",
     "shell.execute_reply": "2024-05-06T09:31:04.917767Z"
    }
   },
   "outputs": [],
   "source": [
    "# AutoML completed train - validation - test split internally and used _automl_split_col_0000 to specify the set\n",
    "split_train_df = df_loaded.loc[df_loaded._automl_split_col_0000 == \"train\"]\n",
    "split_val_df = df_loaded.loc[df_loaded._automl_split_col_0000 == \"val\"]\n",
    "split_test_df = df_loaded.loc[df_loaded._automl_split_col_0000 == \"test\"]\n",
    "\n",
    "# Separate target column from features and drop _automl_split_col_0000\n",
    "X_train = split_train_df.drop([target_col, \"_automl_split_col_0000\"], axis=1)\n",
    "y_train = split_train_df[target_col]\n",
    "\n",
    "X_val = split_val_df.drop([target_col, \"_automl_split_col_0000\"], axis=1)\n",
    "y_val = split_val_df[target_col]\n",
    "\n",
    "X_test = split_test_df.drop([target_col, \"_automl_split_col_0000\"], axis=1)\n",
    "y_test = split_test_df[target_col]"
   ]
  },
  {
   "cell_type": "markdown",
   "metadata": {
    "application/vnd.databricks.v1+cell": {
     "cellMetadata": {},
     "inputWidgets": {},
     "nuid": "8173c140-4d69-4ce7-927d-342cafe8de40",
     "showTitle": false,
     "title": ""
    }
   },
   "source": [
    "## Train regression model\n",
    "- Log relevant metrics to MLflow to track runs\n",
    "- All the runs are logged under [this MLflow experiment](#mlflow/experiments/3529245064622630)\n",
    "- Change the model parameters and re-run the training cell to log a different trial to the MLflow experiment\n",
    "- To view the full list of tunable hyperparameters, check the output of the cell below"
   ]
  },
  {
   "cell_type": "code",
   "execution_count": 0,
   "metadata": {
    "application/vnd.databricks.v1+cell": {
     "cellMetadata": {},
     "inputWidgets": {},
     "nuid": "56e51454-63b3-4f82-846f-332121dbb983",
     "showTitle": false,
     "title": ""
    },
    "execution": {
     "iopub.execute_input": "2024-05-06T09:31:04.923260Z",
     "iopub.status.busy": "2024-05-06T09:31:04.922791Z",
     "iopub.status.idle": "2024-05-06T09:31:04.957367Z",
     "shell.execute_reply": "2024-05-06T09:31:04.956424Z"
    }
   },
   "outputs": [
    {
     "output_type": "stream",
     "name": "stdout",
     "output_type": "stream",
     "text": [
      "Help on class LGBMRegressor in module lightgbm.sklearn:\n\nclass LGBMRegressor(sklearn.base.RegressorMixin, LGBMModel)\n |  LGBMRegressor(boosting_type: str = 'gbdt', num_leaves: int = 31, max_depth: int = -1, learning_rate: float = 0.1, n_estimators: int = 100, subsample_for_bin: int = 200000, objective: Union[str, Callable, NoneType] = None, class_weight: Union[Dict, str, NoneType] = None, min_split_gain: float = 0.0, min_child_weight: float = 0.001, min_child_samples: int = 20, subsample: float = 1.0, subsample_freq: int = 0, colsample_bytree: float = 1.0, reg_alpha: float = 0.0, reg_lambda: float = 0.0, random_state: Union[int, numpy.random.mtrand.RandomState, NoneType] = None, n_jobs: int = -1, silent: Union[bool, str] = 'warn', importance_type: str = 'split', **kwargs)\n |  \n |  LightGBM regressor.\n |  \n |  Method resolution order:\n |      LGBMRegressor\n |      sklearn.base.RegressorMixin\n |      LGBMModel\n |      sklearn.base.BaseEstimator\n |      builtins.object\n |  \n |  Methods defined here:\n |  \n |  fit(self, X, y, sample_weight=None, init_score=None, eval_set=None, eval_names=None, eval_sample_weight=None, eval_init_score=None, eval_metric=None, early_stopping_rounds=None, verbose='warn', feature_name='auto', categorical_feature='auto', callbacks=None, init_model=None)\n |      Build a gradient boosting model from the training set (X, y).\n |      \n |      Parameters\n |      ----------\n |      X : array-like or sparse matrix of shape = [n_samples, n_features]\n |          Input feature matrix.\n |      y : array-like of shape = [n_samples]\n |          The target values (class labels in classification, real numbers in regression).\n |      sample_weight : array-like of shape = [n_samples] or None, optional (default=None)\n |          Weights of training data.\n |      init_score : array-like of shape = [n_samples] or shape = [n_samples * n_classes] (for multi-class task) or shape = [n_samples, n_classes] (for multi-class task) or None, optional (default=None)\n |          Init score of training data.\n |      eval_set : list or None, optional (default=None)\n |          A list of (X, y) tuple pairs to use as validation sets.\n |      eval_names : list of str, or None, optional (default=None)\n |          Names of eval_set.\n |      eval_sample_weight : list of array, or None, optional (default=None)\n |          Weights of eval data.\n |      eval_init_score : list of array, or None, optional (default=None)\n |          Init score of eval data.\n |      eval_metric : str, callable, list or None, optional (default=None)\n |          If str, it should be a built-in evaluation metric to use.\n |          If callable, it should be a custom evaluation metric, see note below for more details.\n |          If list, it can be a list of built-in metrics, a list of custom evaluation metrics, or a mix of both.\n |          In either case, the ``metric`` from the model parameters will be evaluated and used as well.\n |          Default: 'l2' for LGBMRegressor, 'logloss' for LGBMClassifier, 'ndcg' for LGBMRanker.\n |      early_stopping_rounds : int or None, optional (default=None)\n |          Activates early stopping. The model will train until the validation score stops improving.\n |          Validation score needs to improve at least every ``early_stopping_rounds`` round(s)\n |          to continue training.\n |          Requires at least one validation data and one metric.\n |          If there's more than one, will check all of them. But the training data is ignored anyway.\n |          To check only the first metric, set the ``first_metric_only`` parameter to ``True``\n |          in additional parameters ``**kwargs`` of the model constructor.\n |      verbose : bool or int, optional (default=True)\n |          Requires at least one evaluation data.\n |          If True, the eval metric on the eval set is printed at each boosting stage.\n |          If int, the eval metric on the eval set is printed at every ``verbose`` boosting stage.\n |          The last boosting stage or the boosting stage found by using ``early_stopping_rounds`` is also printed.\n |      \n |          .. rubric:: Example\n |      \n |          With ``verbose`` = 4 and at least one item in ``eval_set``,\n |          an evaluation metric is printed every 4 (instead of 1) boosting stages.\n |      \n |      feature_name : list of str, or 'auto', optional (default='auto')\n |          Feature names.\n |          If 'auto' and data is pandas DataFrame, data columns names are used.\n |      categorical_feature : list of str or int, or 'auto', optional (default='auto')\n |          Categorical features.\n |          If list of int, interpreted as indices.\n |          If list of str, interpreted as feature names (need to specify ``feature_name`` as well).\n |          If 'auto' and data is pandas DataFrame, pandas unordered categorical columns are used.\n |          All values in categorical features should be less than int32 max value (2147483647).\n |          Large values could be memory consuming. Consider using consecutive integers starting from zero.\n |          All negative values in categorical features will be treated as missing values.\n |          The output cannot be monotonically constrained with respect to a categorical feature.\n |      callbacks : list of callable, or None, optional (default=None)\n |          List of callback functions that are applied at each iteration.\n |          See Callbacks in Python API for more information.\n |      init_model : str, pathlib.Path, Booster, LGBMModel or None, optional (default=None)\n |          Filename of LightGBM model, Booster instance or LGBMModel instance used for continue training.\n |      \n |      Returns\n |      -------\n |      self : object\n |          Returns self.\n |      \n |      \n |      \n |      Note\n |      ----\n |      Custom eval function expects a callable with following signatures:\n |      ``func(y_true, y_pred)``, ``func(y_true, y_pred, weight)`` or\n |      ``func(y_true, y_pred, weight, group)``\n |      and returns (eval_name, eval_result, is_higher_better) or\n |      list of (eval_name, eval_result, is_higher_better):\n |      \n |          y_true : array-like of shape = [n_samples]\n |              The target values.\n |          y_pred : array-like of shape = [n_samples] or shape = [n_samples * n_classes] (for multi-class task)\n |              The predicted values.\n |              In case of custom ``objective``, predicted values are returned before any transformation,\n |              e.g. they are raw margin instead of probability of positive class for binary task in this case.\n |          weight : array-like of shape = [n_samples]\n |              The weight of samples.\n |          group : array-like\n |              Group/query data.\n |              Only used in the learning-to-rank task.\n |              sum(group) = n_samples.\n |              For example, if you have a 100-document dataset with ``group = [10, 20, 40, 10, 10, 10]``, that means that you have 6 groups,\n |              where the first 10 records are in the first group, records 11-30 are in the second group, records 31-70 are in the third group, etc.\n |          eval_name : str\n |              The name of evaluation function (without whitespace).\n |          eval_result : float\n |              The eval result.\n |          is_higher_better : bool\n |              Is eval result higher better, e.g. AUC is ``is_higher_better``.\n |      \n |      For multi-class task, the y_pred is group by class_id first, then group by row_id.\n |      If you want to get i-th row y_pred in j-th class, the access way is y_pred[j * num_data + i].\n |  \n |  ----------------------------------------------------------------------\n |  Methods inherited from sklearn.base.RegressorMixin:\n |  \n |  score(self, X, y, sample_weight=None)\n |      Return the coefficient of determination of the prediction.\n |      \n |      The coefficient of determination :math:`R^2` is defined as\n |      :math:`(1 - \\frac{u}{v})`, where :math:`u` is the residual\n |      sum of squares ``((y_true - y_pred)** 2).sum()`` and :math:`v`\n |      is the total sum of squares ``((y_true - y_true.mean()) ** 2).sum()``.\n |      The best possible score is 1.0 and it can be negative (because the\n |      model can be arbitrarily worse). A constant model that always predicts\n |      the expected value of `y`, disregarding the input features, would get\n |      a :math:`R^2` score of 0.0.\n |      \n |      Parameters\n |      ----------\n |      X : array-like of shape (n_samples, n_features)\n |          Test samples. For some estimators this may be a precomputed\n |          kernel matrix or a list of generic objects instead with shape\n |          ``(n_samples, n_samples_fitted)``, where ``n_samples_fitted``\n |          is the number of samples used in the fitting for the estimator.\n |      \n |      y : array-like of shape (n_samples,) or (n_samples, n_outputs)\n |          True values for `X`.\n |      \n |      sample_weight : array-like of shape (n_samples,), default=None\n |          Sample weights.\n |      \n |      Returns\n |      -------\n |      score : float\n |          :math:`R^2` of ``self.predict(X)`` wrt. `y`.\n |      \n |      Notes\n |      -----\n |      The :math:`R^2` score used when calling ``score`` on a regressor uses\n |      ``multioutput='uniform_average'`` from version 0.23 to keep consistent\n |      with default value of :func:`~sklearn.metrics.r2_score`.\n |      This influences the ``score`` method of all the multioutput\n |      regressors (except for\n |      :class:`~sklearn.multioutput.MultiOutputRegressor`).\n |  \n |  ----------------------------------------------------------------------\n |  Data descriptors inherited from sklearn.base.RegressorMixin:\n |  \n |  __dict__\n |      dictionary for instance variables (if defined)\n |  \n |  __weakref__\n |      list of weak references to the object (if defined)\n |  \n |  ----------------------------------------------------------------------\n |  Methods inherited from LGBMModel:\n |  \n |  __init__(self, boosting_type: str = 'gbdt', num_leaves: int = 31, max_depth: int = -1, learning_rate: float = 0.1, n_estimators: int = 100, subsample_for_bin: int = 200000, objective: Union[str, Callable, NoneType] = None, class_weight: Union[Dict, str, NoneType] = None, min_split_gain: float = 0.0, min_child_weight: float = 0.001, min_child_samples: int = 20, subsample: float = 1.0, subsample_freq: int = 0, colsample_bytree: float = 1.0, reg_alpha: float = 0.0, reg_lambda: float = 0.0, random_state: Union[int, numpy.random.mtrand.RandomState, NoneType] = None, n_jobs: int = -1, silent: Union[bool, str] = 'warn', importance_type: str = 'split', **kwargs)\n |      Construct a gradient boosting model.\n |      \n |      Parameters\n |      ----------\n |      boosting_type : str, optional (default='gbdt')\n |          'gbdt', traditional Gradient Boosting Decision Tree.\n |          'dart', Dropouts meet Multiple Additive Regression Trees.\n |          'goss', Gradient-based One-Side Sampling.\n |          'rf', Random Forest.\n |      num_leaves : int, optional (default=31)\n |          Maximum tree leaves for base learners.\n |      max_depth : int, optional (default=-1)\n |          Maximum tree depth for base learners, <=0 means no limit.\n |      learning_rate : float, optional (default=0.1)\n |          Boosting learning rate.\n |          You can use ``callbacks`` parameter of ``fit`` method to shrink/adapt learning rate\n |          in training using ``reset_parameter`` callback.\n |          Note, that this will ignore the ``learning_rate`` argument in training.\n |      n_estimators : int, optional (default=100)\n |          Number of boosted trees to fit.\n |      subsample_for_bin : int, optional (default=200000)\n |          Number of samples for constructing bins.\n |      objective : str, callable or None, optional (default=None)\n |          Specify the learning task and the corresponding learning objective or\n |          a custom objective function to be used (see note below).\n |          Default: 'regression' for LGBMRegressor, 'binary' or 'multiclass' for LGBMClassifier, 'lambdarank' for LGBMRanker.\n |      class_weight : dict, 'balanced' or None, optional (default=None)\n |          Weights associated with classes in the form ``{class_label: weight}``.\n |          Use this parameter only for multi-class classification task;\n |          for binary classification task you may use ``is_unbalance`` or ``scale_pos_weight`` parameters.\n |          Note, that the usage of all these parameters will result in poor estimates of the individual class probabilities.\n |          You may want to consider performing probability calibration\n |          (https://scikit-learn.org/stable/modules/calibration.html) of your model.\n |          The 'balanced' mode uses the values of y to automatically adjust weights\n |          inversely proportional to class frequencies in the input data as ``n_samples / (n_classes * np.bincount(y))``.\n |          If None, all classes are supposed to have weight one.\n |          Note, that these weights will be multiplied with ``sample_weight`` (passed through the ``fit`` method)\n |          if ``sample_weight`` is specified.\n |      min_split_gain : float, optional (default=0.)\n |          Minimum loss reduction required to make a further partition on a leaf node of the tree.\n |      min_child_weight : float, optional (default=1e-3)\n |          Minimum sum of instance weight (hessian) needed in a child (leaf).\n |      min_child_samples : int, optional (default=20)\n |          Minimum number of data needed in a child (leaf).\n |      subsample : float, optional (default=1.)\n |          Subsample ratio of the training instance.\n |      subsample_freq : int, optional (default=0)\n |          Frequency of subsample, <=0 means no enable.\n |      colsample_bytree : float, optional (default=1.)\n |          Subsample ratio of columns when constructing each tree.\n |      reg_alpha : float, optional (default=0.)\n |          L1 regularization term on weights.\n |      reg_lambda : float, optional (default=0.)\n |          L2 regularization term on weights.\n |      random_state : int, RandomState object or None, optional (default=None)\n |          Random number seed.\n |          If int, this number is used to seed the C++ code.\n |          If RandomState object (numpy), a random integer is picked based on its state to seed the C++ code.\n |          If None, default seeds in C++ code are used.\n |      n_jobs : int, optional (default=-1)\n |          Number of parallel threads.\n |      silent : bool, optional (default=True)\n |          Whether to print messages while running boosting.\n |      importance_type : str, optional (default='split')\n |          The type of feature importance to be filled into ``feature_importances_``.\n |          If 'split', result contains numbers of times the feature is used in a model.\n |          If 'gain', result contains total gains of splits which use the feature.\n |      **kwargs\n |          Other parameters for the model.\n |          Check http://lightgbm.readthedocs.io/en/latest/Parameters.html for more parameters.\n |      \n |          .. warning::\n |      \n |              \\*\\*kwargs is not supported in sklearn, it may cause unexpected issues.\n |      \n |      Note\n |      ----\n |      A custom objective function can be provided for the ``objective`` parameter.\n |      In this case, it should have the signature\n |      ``objective(y_true, y_pred) -> grad, hess`` or\n |      ``objective(y_true, y_pred, group) -> grad, hess``:\n |      \n |          y_true : array-like of shape = [n_samples]\n |              The target values.\n |          y_pred : array-like of shape = [n_samples] or shape = [n_samples * n_classes] (for multi-class task)\n |              The predicted values.\n |              Predicted values are returned before any transformation,\n |              e.g. they are raw margin instead of probability of positive class for binary task.\n |          group : array-like\n |              Group/query data.\n |              Only used in the learning-to-rank task.\n |              sum(group) = n_samples.\n |              For example, if you have a 100-document dataset with ``group = [10, 20, 40, 10, 10, 10]``, that means that you have 6 groups,\n |              where the first 10 records are in the first group, records 11-30 are in the second group, records 31-70 are in the third group, etc.\n |          grad : array-like of shape = [n_samples] or shape = [n_samples * n_classes] (for multi-class task)\n |              The value of the first order derivative (gradient) of the loss\n |              with respect to the elements of y_pred for each sample point.\n |          hess : array-like of shape = [n_samples] or shape = [n_samples * n_classes] (for multi-class task)\n |              The value of the second order derivative (Hessian) of the loss\n |              with respect to the elements of y_pred for each sample point.\n |      \n |      For multi-class task, the y_pred is group by class_id first, then group by row_id.\n |      If you want to get i-th row y_pred in j-th class, the access way is y_pred[j * num_data + i]\n |      and you should group grad and hess in this way as well.\n |  \n |  __sklearn_is_fitted__(self) -> bool\n |  \n |  get_params(self, deep=True)\n |      Get parameters for this estimator.\n |      \n |      Parameters\n |      ----------\n |      deep : bool, optional (default=True)\n |          If True, will return the parameters for this estimator and\n |          contained subobjects that are estimators.\n |      \n |      Returns\n |      -------\n |      params : dict\n |          Parameter names mapped to their values.\n |  \n |  predict(self, X, raw_score=False, start_iteration=0, num_iteration=None, pred_leaf=False, pred_contrib=False, **kwargs)\n |      Return the predicted value for each sample.\n |      \n |      Parameters\n |      ----------\n |      X : array-like or sparse matrix of shape = [n_samples, n_features]\n |          Input features matrix.\n |      raw_score : bool, optional (default=False)\n |          Whether to predict raw scores.\n |      start_iteration : int, optional (default=0)\n |          Start index of the iteration to predict.\n |          If <= 0, starts from the first iteration.\n |      num_iteration : int or None, optional (default=None)\n |          Total number of iterations used in the prediction.\n |          If None, if the best iteration exists and start_iteration <= 0, the best iteration is used;\n |          otherwise, all iterations from ``start_iteration`` are used (no limits).\n |          If <= 0, all iterations from ``start_iteration`` are used (no limits).\n |      pred_leaf : bool, optional (default=False)\n |          Whether to predict leaf index.\n |      pred_contrib : bool, optional (default=False)\n |          Whether to predict feature contributions.\n |      \n |          .. note::\n |      \n |              If you want to get more explanations for your model's predictions using SHAP values,\n |              like SHAP interaction values,\n |              you can install the shap package (https://github.com/slundberg/shap).\n |              Note that unlike the shap package, with ``pred_contrib`` we return a matrix with an extra\n |              column, where the last column is the expected value.\n |      \n |      **kwargs\n |          Other parameters for the prediction.\n |      \n |      Returns\n |      -------\n |      predicted_result : array-like of shape = [n_samples] or shape = [n_samples, n_classes]\n |          The predicted values.\n |      X_leaves : array-like of shape = [n_samples, n_trees] or shape = [n_samples, n_trees * n_classes]\n |          If ``pred_leaf=True``, the predicted leaf of every tree for each sample.\n |      X_SHAP_values : array-like of shape = [n_samples, n_features + 1] or shape = [n_samples, (n_features + 1) * n_classes] or list with n_classes length of such objects\n |          If ``pred_contrib=True``, the feature contributions for each sample.\n |  \n |  set_params(self, **params)\n |      Set the parameters of this estimator.\n |      \n |      Parameters\n |      ----------\n |      **params\n |          Parameter names with their new values.\n |      \n |      Returns\n |      -------\n |      self : object\n |          Returns self.\n |  \n |  ----------------------------------------------------------------------\n |  Readonly properties inherited from LGBMModel:\n |  \n |  best_iteration_\n |      :obj:`int` or :obj:`None`: The best iteration of fitted model if ``early_stopping()`` callback has been specified.\n |  \n |  best_score_\n |      :obj:`dict`: The best score of fitted model.\n |  \n |  booster_\n |      Booster: The underlying Booster of this model.\n |  \n |  evals_result_\n |      :obj:`dict` or :obj:`None`: The evaluation results if validation sets have been specified.\n |  \n |  feature_importances_\n |      :obj:`array` of shape = [n_features]: The feature importances (the higher, the more important).\n |      \n |      .. note::\n |      \n |          ``importance_type`` attribute is passed to the function\n |          to configure the type of importance values to be extracted.\n |  \n |  feature_name_\n |      :obj:`array` of shape = [n_features]: The names of features.\n |  \n |  n_features_\n |      :obj:`int`: The number of features of fitted model.\n |  \n |  n_features_in_\n |      :obj:`int`: The number of features of fitted model.\n |  \n |  objective_\n |      :obj:`str` or :obj:`callable`: The concrete objective used while fitting this model.\n |  \n |  ----------------------------------------------------------------------\n |  Methods inherited from sklearn.base.BaseEstimator:\n |  \n |  __getstate__(self)\n |  \n |  __repr__(self, N_CHAR_MAX=700)\n |      Return repr(self).\n |  \n |  __setstate__(self, state)\n\n"
     ]
    }
   ],
   "source": [
    "import lightgbm\n",
    "from lightgbm import LGBMRegressor\n",
    "\n",
    "help(LGBMRegressor)"
   ]
  },
  {
   "cell_type": "markdown",
   "metadata": {
    "application/vnd.databricks.v1+cell": {
     "cellMetadata": {},
     "inputWidgets": {},
     "nuid": "e6fa4ca1-47b5-4eae-bb1f-435ac73b3c2e",
     "showTitle": false,
     "title": ""
    }
   },
   "source": [
    "### Define the objective function\n",
    "The objective function used to find optimal hyperparameters. By default, this notebook only runs\n",
    "this function once (`max_evals=1` in the `hyperopt.fmin` invocation) with fixed hyperparameters, but\n",
    "hyperparameters can be tuned by modifying `space`, defined below. `hyperopt.fmin` will then use this\n",
    "function's return value to search the space to minimize the loss."
   ]
  },
  {
   "cell_type": "code",
   "execution_count": 0,
   "metadata": {
    "application/vnd.databricks.v1+cell": {
     "cellMetadata": {},
     "inputWidgets": {},
     "nuid": "82fc8cb5-39c3-4d46-95a3-e05b75d9b0cf",
     "showTitle": false,
     "title": ""
    },
    "execution": {
     "iopub.execute_input": "2024-05-06T09:31:04.961948Z",
     "iopub.status.busy": "2024-05-06T09:31:04.961570Z",
     "iopub.status.idle": "2024-05-06T09:31:05.538430Z",
     "shell.execute_reply": "2024-05-06T09:31:05.537266Z"
    }
   },
   "outputs": [],
   "source": [
    "import mlflow\n",
    "from mlflow.models import Model, infer_signature, ModelSignature\n",
    "from mlflow.pyfunc import PyFuncModel\n",
    "from mlflow import pyfunc\n",
    "import sklearn\n",
    "from sklearn import set_config\n",
    "from sklearn.pipeline import Pipeline\n",
    "from hyperopt import hp, tpe, fmin, STATUS_OK, Trials\n",
    "\n",
    "\n",
    "# Create a separate pipeline to transform the validation dataset. This is used for early stopping.\n",
    "pipeline_val = Pipeline([\n",
    "    (\"column_selector\", col_selector),\n",
    "    (\"preprocessor\", preprocessor),\n",
    "])\n",
    "\n",
    "mlflow.sklearn.autolog(disable=True)\n",
    "pipeline_val.fit(X_train, y_train)\n",
    "X_val_processed = pipeline_val.transform(X_val)\n",
    "\n",
    "def objective(params):\n",
    "  with mlflow.start_run(experiment_id=\"3529245064622630\") as mlflow_run:\n",
    "    lgbmr_regressor = LGBMRegressor(**params)\n",
    "\n",
    "    model = Pipeline([\n",
    "        (\"column_selector\", col_selector),\n",
    "        (\"preprocessor\", preprocessor),\n",
    "        (\"regressor\", lgbmr_regressor),\n",
    "    ])\n",
    "\n",
    "    # Enable automatic logging of input samples, metrics, parameters, and models\n",
    "    mlflow.sklearn.autolog(\n",
    "        log_input_examples=True,\n",
    "        silent=True,\n",
    "    )\n",
    "\n",
    "    model.fit(X_train, y_train, regressor__callbacks=[lightgbm.early_stopping(5), lightgbm.log_evaluation(0)], regressor__eval_set=[(X_val_processed,y_val)])\n",
    "\n",
    "    \n",
    "    # Log metrics for the training set\n",
    "    mlflow_model = Model()\n",
    "    pyfunc.add_to_model(mlflow_model, loader_module=\"mlflow.sklearn\")\n",
    "    pyfunc_model = PyFuncModel(model_meta=mlflow_model, model_impl=model)\n",
    "    training_eval_result = mlflow.evaluate(\n",
    "        model=pyfunc_model,\n",
    "        data=X_train.assign(**{str(target_col):y_train}),\n",
    "        targets=target_col,\n",
    "        model_type=\"regressor\",\n",
    "        evaluator_config = {\"log_model_explainability\": False,\n",
    "                            \"metric_prefix\": \"training_\"}\n",
    "    )\n",
    "    # Log metrics for the validation set\n",
    "    val_eval_result = mlflow.evaluate(\n",
    "        model=pyfunc_model,\n",
    "        data=X_val.assign(**{str(target_col):y_val}),\n",
    "        targets=target_col,\n",
    "        model_type=\"regressor\",\n",
    "        evaluator_config= {\"log_model_explainability\": False,\n",
    "                           \"metric_prefix\": \"val_\"}\n",
    "   )\n",
    "    lgbmr_val_metrics = val_eval_result.metrics\n",
    "    # Log metrics for the test set\n",
    "    test_eval_result = mlflow.evaluate(\n",
    "        model=pyfunc_model,\n",
    "        data=X_test.assign(**{str(target_col):y_test}),\n",
    "        targets=target_col,\n",
    "        model_type=\"regressor\",\n",
    "        evaluator_config= {\"log_model_explainability\": False,\n",
    "                           \"metric_prefix\": \"test_\"}\n",
    "   )\n",
    "    lgbmr_test_metrics = test_eval_result.metrics\n",
    "\n",
    "    loss = lgbmr_val_metrics[\"val_root_mean_squared_error\"]\n",
    "\n",
    "    # Truncate metric key names so they can be displayed together\n",
    "    lgbmr_val_metrics = {k.replace(\"val_\", \"\"): v for k, v in lgbmr_val_metrics.items()}\n",
    "    lgbmr_test_metrics = {k.replace(\"test_\", \"\"): v for k, v in lgbmr_test_metrics.items()}\n",
    "\n",
    "    return {\n",
    "      \"loss\": loss,\n",
    "      \"status\": STATUS_OK,\n",
    "      \"val_metrics\": lgbmr_val_metrics,\n",
    "      \"test_metrics\": lgbmr_test_metrics,\n",
    "      \"model\": model,\n",
    "      \"run\": mlflow_run,\n",
    "    }"
   ]
  },
  {
   "cell_type": "markdown",
   "metadata": {
    "application/vnd.databricks.v1+cell": {
     "cellMetadata": {},
     "inputWidgets": {},
     "nuid": "8a305a8c-ab9d-45bc-8a85-e583b21d7695",
     "showTitle": false,
     "title": ""
    }
   },
   "source": [
    "### Configure the hyperparameter search space\n",
    "Configure the search space of parameters. Parameters below are all constant expressions but can be\n",
    "modified to widen the search space. For example, when training a decision tree regressor, to allow\n",
    "the maximum tree depth to be either 2 or 3, set the key of 'max_depth' to\n",
    "`hp.choice('max_depth', [2, 3])`. Be sure to also increase `max_evals` in the `fmin` call below.\n",
    "\n",
    "See https://docs.databricks.com/applications/machine-learning/automl-hyperparam-tuning/index.html\n",
    "for more information on hyperparameter tuning as well as\n",
    "http://hyperopt.github.io/hyperopt/getting-started/search_spaces/ for documentation on supported\n",
    "search expressions.\n",
    "\n",
    "For documentation on parameters used by the model in use, please see:\n",
    "https://lightgbm.readthedocs.io/en/stable/pythonapi/lightgbm.LGBMRegressor.html\n",
    "\n",
    "NOTE: The above URL points to a stable version of the documentation corresponding to the last\n",
    "released version of the package. The documentation may differ slightly for the package version\n",
    "used by this notebook."
   ]
  },
  {
   "cell_type": "code",
   "execution_count": 0,
   "metadata": {
    "application/vnd.databricks.v1+cell": {
     "cellMetadata": {},
     "inputWidgets": {},
     "nuid": "844b22f1-89f5-4722-a245-fc2babdd0cb7",
     "showTitle": false,
     "title": ""
    },
    "execution": {
     "iopub.execute_input": "2024-05-06T09:31:05.542755Z",
     "iopub.status.busy": "2024-05-06T09:31:05.542235Z",
     "iopub.status.idle": "2024-05-06T09:31:05.547942Z",
     "shell.execute_reply": "2024-05-06T09:31:05.546775Z"
    }
   },
   "outputs": [],
   "source": [
    "space = {\n",
    "  \"colsample_bytree\": 0.7749452037924934,\n",
    "  \"lambda_l1\": 891.832110361085,\n",
    "  \"lambda_l2\": 715.170179380084,\n",
    "  \"learning_rate\": 0.02759046110596194,\n",
    "  \"max_bin\": 499,\n",
    "  \"max_depth\": 11,\n",
    "  \"min_child_samples\": 21,\n",
    "  \"n_estimators\": 2375,\n",
    "  \"num_leaves\": 867,\n",
    "  \"subsample\": 0.5115074333941863,\n",
    "  \"random_state\": 667218320,\n",
    "}"
   ]
  },
  {
   "cell_type": "markdown",
   "metadata": {
    "application/vnd.databricks.v1+cell": {
     "cellMetadata": {},
     "inputWidgets": {},
     "nuid": "aec267cc-9051-44d3-8728-8e3b2f636ec1",
     "showTitle": false,
     "title": ""
    }
   },
   "source": [
    "### Run trials\n",
    "When widening the search space and training multiple models, switch to `SparkTrials` to parallelize\n",
    "training on Spark:\n",
    "```\n",
    "from hyperopt import SparkTrials\n",
    "trials = SparkTrials()\n",
    "```\n",
    "\n",
    "NOTE: While `Trials` starts an MLFlow run for each set of hyperparameters, `SparkTrials` only starts\n",
    "one top-level run; it will start a subrun for each set of hyperparameters.\n",
    "\n",
    "See http://hyperopt.github.io/hyperopt/scaleout/spark/ for more info."
   ]
  },
  {
   "cell_type": "code",
   "execution_count": 0,
   "metadata": {
    "application/vnd.databricks.v1+cell": {
     "cellMetadata": {},
     "inputWidgets": {},
     "nuid": "300181b6-ea97-4e92-b663-b7a1af779155",
     "showTitle": false,
     "title": ""
    },
    "execution": {
     "iopub.execute_input": "2024-05-06T09:31:05.551620Z",
     "iopub.status.busy": "2024-05-06T09:31:05.551398Z",
     "iopub.status.idle": "2024-05-06T09:31:25.475706Z",
     "shell.execute_reply": "2024-05-06T09:31:25.474563Z"
    }
   },
   "outputs": [
    {
     "output_type": "stream",
     "name": "stdout",
     "output_type": "stream",
     "text": [
      "\r  0%|          | 0/1 [00:00<?, ?trial/s, best loss=?]"
     ]
    },
    {
     "output_type": "stream",
     "name": "stdout",
     "output_type": "stream",
     "text": [
      "\r                                                     "
     ]
    },
    {
     "output_type": "stream",
     "name": "stdout",
     "output_type": "stream",
     "text": [
      "\r"
     ]
    },
    {
     "output_type": "stream",
     "name": "stdout",
     "output_type": "stream",
     "text": [
      "[LightGBM] [Warning] lambda_l1 is set=891.832110361085, reg_alpha=0.0 will be ignored. Current value: lambda_l1=891.832110361085\n\r  0%|          | 0/1 [00:01<?, ?trial/s, best loss=?]"
     ]
    },
    {
     "output_type": "stream",
     "name": "stdout",
     "output_type": "stream",
     "text": [
      "\r                                                     "
     ]
    },
    {
     "output_type": "stream",
     "name": "stdout",
     "output_type": "stream",
     "text": [
      "\r"
     ]
    },
    {
     "output_type": "stream",
     "name": "stdout",
     "output_type": "stream",
     "text": [
      "[LightGBM] [Warning] lambda_l2 is set=715.170179380084, reg_lambda=0.0 will be ignored. Current value: lambda_l2=715.170179380084\n\r  0%|          | 0/1 [00:01<?, ?trial/s, best loss=?]"
     ]
    },
    {
     "output_type": "stream",
     "name": "stdout",
     "output_type": "stream",
     "text": [
      "\r                                                     "
     ]
    },
    {
     "output_type": "stream",
     "name": "stdout",
     "output_type": "stream",
     "text": [
      "\r"
     ]
    },
    {
     "output_type": "stream",
     "name": "stdout",
     "output_type": "stream",
     "text": [
      "Training until validation scores don't improve for 5 rounds\n\r  0%|          | 0/1 [00:01<?, ?trial/s, best loss=?]"
     ]
    },
    {
     "output_type": "stream",
     "name": "stdout",
     "output_type": "stream",
     "text": [
      "\r                                                     "
     ]
    },
    {
     "output_type": "stream",
     "name": "stdout",
     "output_type": "stream",
     "text": [
      "\r"
     ]
    },
    {
     "output_type": "stream",
     "name": "stdout",
     "output_type": "stream",
     "text": [
      "Early stopping, best iteration is:\n[1406]\tvalid_0's l2: 108179\n\r  0%|          | 0/1 [00:04<?, ?trial/s, best loss=?]"
     ]
    },
    {
     "output_type": "stream",
     "name": "stderr",
     "output_type": "stream",
     "text": [
      "2024/05/06 09:31:20 INFO mlflow.models.evaluation.base: Evaluating the model with the default evaluator.\n\n"
     ]
    },
    {
     "output_type": "stream",
     "name": "stderr",
     "output_type": "stream",
     "text": [
      "2024/05/06 09:31:23 INFO mlflow.models.evaluation.base: Evaluating the model with the default evaluator.\n\n"
     ]
    },
    {
     "output_type": "stream",
     "name": "stderr",
     "output_type": "stream",
     "text": [
      "2024/05/06 09:31:24 INFO mlflow.models.evaluation.base: Evaluating the model with the default evaluator.\n\n"
     ]
    },
    {
     "output_type": "stream",
     "name": "stdout",
     "output_type": "stream",
     "text": [
      "\r100%|██████████| 1/1 [00:19<00:00, 19.67s/trial, best loss: 328.9059438170341]"
     ]
    },
    {
     "output_type": "stream",
     "name": "stdout",
     "output_type": "stream",
     "text": [
      "\r100%|██████████| 1/1 [00:19<00:00, 19.67s/trial, best loss: 328.9059438170341]"
     ]
    },
    {
     "output_type": "stream",
     "name": "stdout",
     "output_type": "stream",
     "text": [
      "\n"
     ]
    },
    {
     "output_type": "display_data",
     "data": {
      "text/html": [
       "<div>\n",
       "<style scoped>\n",
       "    .dataframe tbody tr th:only-of-type {\n",
       "        vertical-align: middle;\n",
       "    }\n",
       "\n",
       "    .dataframe tbody tr th {\n",
       "        vertical-align: top;\n",
       "    }\n",
       "\n",
       "    .dataframe thead th {\n",
       "        text-align: right;\n",
       "    }\n",
       "</style>\n",
       "<table border=\"1\" class=\"dataframe\">\n",
       "  <thead>\n",
       "    <tr style=\"text-align: right;\">\n",
       "      <th></th>\n",
       "      <th>score</th>\n",
       "      <th>example_count</th>\n",
       "      <th>mean_absolute_error</th>\n",
       "      <th>mean_squared_error</th>\n",
       "      <th>root_mean_squared_error</th>\n",
       "      <th>sum_on_target</th>\n",
       "      <th>mean_on_target</th>\n",
       "      <th>r2_score</th>\n",
       "      <th>max_error</th>\n",
       "      <th>mean_absolute_percentage_error</th>\n",
       "    </tr>\n",
       "  </thead>\n",
       "  <tbody>\n",
       "    <tr>\n",
       "      <th>validation</th>\n",
       "      <td>0.240445</td>\n",
       "      <td>1169</td>\n",
       "      <td>79.631732</td>\n",
       "      <td>108179.119878</td>\n",
       "      <td>328.905944</td>\n",
       "      <td>256588.0</td>\n",
       "      <td>219.493584</td>\n",
       "      <td>0.240445</td>\n",
       "      <td>7384.221268</td>\n",
       "      <td>0.349551</td>\n",
       "    </tr>\n",
       "    <tr>\n",
       "      <th>test</th>\n",
       "      <td>0.126067</td>\n",
       "      <td>1151</td>\n",
       "      <td>86.697348</td>\n",
       "      <td>147050.780569</td>\n",
       "      <td>383.472008</td>\n",
       "      <td>258113.0</td>\n",
       "      <td>224.251086</td>\n",
       "      <td>0.126067</td>\n",
       "      <td>8532.636287</td>\n",
       "      <td>0.374166</td>\n",
       "    </tr>\n",
       "  </tbody>\n",
       "</table>\n",
       "</div>"
      ],
      "text/plain": [
       "               score  example_count  mean_absolute_error  mean_squared_error  \\\n",
       "validation  0.240445           1169            79.631732       108179.119878   \n",
       "test        0.126067           1151            86.697348       147050.780569   \n",
       "\n",
       "            root_mean_squared_error  sum_on_target  mean_on_target  r2_score  \\\n",
       "validation               328.905944       256588.0      219.493584  0.240445   \n",
       "test                     383.472008       258113.0      224.251086  0.126067   \n",
       "\n",
       "              max_error  mean_absolute_percentage_error  \n",
       "validation  7384.221268                        0.349551  \n",
       "test        8532.636287                        0.374166  "
      ]
     },
     "metadata": {},
     "output_type": "display_data"
    },
    {
     "output_type": "execute_result",
     "data": {
      "text/html": [
       "<style>#sk-container-id-2 {color: black;background-color: white;}#sk-container-id-2 pre{padding: 0;}#sk-container-id-2 div.sk-toggleable {background-color: white;}#sk-container-id-2 label.sk-toggleable__label {cursor: pointer;display: block;width: 100%;margin-bottom: 0;padding: 0.3em;box-sizing: border-box;text-align: center;}#sk-container-id-2 label.sk-toggleable__label-arrow:before {content: \"▸\";float: left;margin-right: 0.25em;color: #696969;}#sk-container-id-2 label.sk-toggleable__label-arrow:hover:before {color: black;}#sk-container-id-2 div.sk-estimator:hover label.sk-toggleable__label-arrow:before {color: black;}#sk-container-id-2 div.sk-toggleable__content {max-height: 0;max-width: 0;overflow: hidden;text-align: left;background-color: #f0f8ff;}#sk-container-id-2 div.sk-toggleable__content pre {margin: 0.2em;color: black;border-radius: 0.25em;background-color: #f0f8ff;}#sk-container-id-2 input.sk-toggleable__control:checked~div.sk-toggleable__content {max-height: 200px;max-width: 100%;overflow: auto;}#sk-container-id-2 input.sk-toggleable__control:checked~label.sk-toggleable__label-arrow:before {content: \"▾\";}#sk-container-id-2 div.sk-estimator input.sk-toggleable__control:checked~label.sk-toggleable__label {background-color: #d4ebff;}#sk-container-id-2 div.sk-label input.sk-toggleable__control:checked~label.sk-toggleable__label {background-color: #d4ebff;}#sk-container-id-2 input.sk-hidden--visually {border: 0;clip: rect(1px 1px 1px 1px);clip: rect(1px, 1px, 1px, 1px);height: 1px;margin: -1px;overflow: hidden;padding: 0;position: absolute;width: 1px;}#sk-container-id-2 div.sk-estimator {font-family: monospace;background-color: #f0f8ff;border: 1px dotted black;border-radius: 0.25em;box-sizing: border-box;margin-bottom: 0.5em;}#sk-container-id-2 div.sk-estimator:hover {background-color: #d4ebff;}#sk-container-id-2 div.sk-parallel-item::after {content: \"\";width: 100%;border-bottom: 1px solid gray;flex-grow: 1;}#sk-container-id-2 div.sk-label:hover label.sk-toggleable__label {background-color: #d4ebff;}#sk-container-id-2 div.sk-serial::before {content: \"\";position: absolute;border-left: 1px solid gray;box-sizing: border-box;top: 0;bottom: 0;left: 50%;z-index: 0;}#sk-container-id-2 div.sk-serial {display: flex;flex-direction: column;align-items: center;background-color: white;padding-right: 0.2em;padding-left: 0.2em;position: relative;}#sk-container-id-2 div.sk-item {position: relative;z-index: 1;}#sk-container-id-2 div.sk-parallel {display: flex;align-items: stretch;justify-content: center;background-color: white;position: relative;}#sk-container-id-2 div.sk-item::before, #sk-container-id-2 div.sk-parallel-item::before {content: \"\";position: absolute;border-left: 1px solid gray;box-sizing: border-box;top: 0;bottom: 0;left: 50%;z-index: -1;}#sk-container-id-2 div.sk-parallel-item {display: flex;flex-direction: column;z-index: 1;position: relative;background-color: white;}#sk-container-id-2 div.sk-parallel-item:first-child::after {align-self: flex-end;width: 50%;}#sk-container-id-2 div.sk-parallel-item:last-child::after {align-self: flex-start;width: 50%;}#sk-container-id-2 div.sk-parallel-item:only-child::after {width: 0;}#sk-container-id-2 div.sk-dashed-wrapped {border: 1px dashed gray;margin: 0 0.4em 0.5em 0.4em;box-sizing: border-box;padding-bottom: 0.4em;background-color: white;}#sk-container-id-2 div.sk-label label {font-family: monospace;font-weight: bold;display: inline-block;line-height: 1.2em;}#sk-container-id-2 div.sk-label-container {text-align: center;}#sk-container-id-2 div.sk-container {/* jupyter's `normalize.less` sets `[hidden] { display: none; }` but bootstrap.min.css set `[hidden] { display: none !important; }` so we also need the `!important` here to be able to override the default hidden behavior on the sphinx rendered scikit-learn.org. See: https://github.com/scikit-learn/scikit-learn/issues/21755 */display: inline-block !important;position: relative;}#sk-container-id-2 div.sk-text-repr-fallback {display: none;}</style><div id=\"sk-container-id-2\" class=\"sk-top-container\"><div class=\"sk-text-repr-fallback\"><pre>Pipeline(steps=[(&#x27;column_selector&#x27;,\n",
       "                 ColumnSelector(cols=[&#x27;review_scores_value&#x27;,\n",
       "                                      &#x27;review_scores_checkin&#x27;, &#x27;bathrooms_na&#x27;,\n",
       "                                      &#x27;review_scores_location&#x27;,\n",
       "                                      &#x27;instant_bookable&#x27;, &#x27;bathrooms&#x27;,\n",
       "                                      &#x27;beds_na&#x27;, &#x27;review_scores_rating_na&#x27;,\n",
       "                                      &#x27;host_is_superhost&#x27;,\n",
       "                                      &#x27;neighbourhood_cleansed&#x27;, &#x27;beds&#x27;,\n",
       "                                      &#x27;review_scores_cleanliness_na&#x27;,\n",
       "                                      &#x27;host_total_listings_count&#x27;,\n",
       "                                      &#x27;number_of_reviews&#x27;,\n",
       "                                      &#x27;review_sc...\n",
       "                                                   &#x27;cancellation_policy&#x27;,\n",
       "                                                   &#x27;neighbourhood_cleansed&#x27;,\n",
       "                                                   &#x27;property_type&#x27;,\n",
       "                                                   &#x27;room_type&#x27;])])),\n",
       "                (&#x27;regressor&#x27;,\n",
       "                 LGBMRegressor(colsample_bytree=0.7749452037924934,\n",
       "                               lambda_l1=891.832110361085,\n",
       "                               lambda_l2=715.170179380084,\n",
       "                               learning_rate=0.02759046110596194, max_bin=499,\n",
       "                               max_depth=11, min_child_samples=21,\n",
       "                               n_estimators=2375, num_leaves=867,\n",
       "                               random_state=667218320,\n",
       "                               subsample=0.5115074333941863))])</pre><b>In a Jupyter environment, please rerun this cell to show the HTML representation or trust the notebook. <br />On GitHub, the HTML representation is unable to render, please try loading this page with nbviewer.org.</b></div><div class=\"sk-container\" hidden><div class=\"sk-item sk-dashed-wrapped\"><div class=\"sk-label-container\"><div class=\"sk-label sk-toggleable\"><input class=\"sk-toggleable__control sk-hidden--visually\" id=\"sk-estimator-id-24\" type=\"checkbox\" ><label for=\"sk-estimator-id-24\" class=\"sk-toggleable__label sk-toggleable__label-arrow\">Pipeline</label><div class=\"sk-toggleable__content\"><pre>Pipeline(steps=[(&#x27;column_selector&#x27;,\n",
       "                 ColumnSelector(cols=[&#x27;review_scores_value&#x27;,\n",
       "                                      &#x27;review_scores_checkin&#x27;, &#x27;bathrooms_na&#x27;,\n",
       "                                      &#x27;review_scores_location&#x27;,\n",
       "                                      &#x27;instant_bookable&#x27;, &#x27;bathrooms&#x27;,\n",
       "                                      &#x27;beds_na&#x27;, &#x27;review_scores_rating_na&#x27;,\n",
       "                                      &#x27;host_is_superhost&#x27;,\n",
       "                                      &#x27;neighbourhood_cleansed&#x27;, &#x27;beds&#x27;,\n",
       "                                      &#x27;review_scores_cleanliness_na&#x27;,\n",
       "                                      &#x27;host_total_listings_count&#x27;,\n",
       "                                      &#x27;number_of_reviews&#x27;,\n",
       "                                      &#x27;review_sc...\n",
       "                                                   &#x27;cancellation_policy&#x27;,\n",
       "                                                   &#x27;neighbourhood_cleansed&#x27;,\n",
       "                                                   &#x27;property_type&#x27;,\n",
       "                                                   &#x27;room_type&#x27;])])),\n",
       "                (&#x27;regressor&#x27;,\n",
       "                 LGBMRegressor(colsample_bytree=0.7749452037924934,\n",
       "                               lambda_l1=891.832110361085,\n",
       "                               lambda_l2=715.170179380084,\n",
       "                               learning_rate=0.02759046110596194, max_bin=499,\n",
       "                               max_depth=11, min_child_samples=21,\n",
       "                               n_estimators=2375, num_leaves=867,\n",
       "                               random_state=667218320,\n",
       "                               subsample=0.5115074333941863))])</pre></div></div></div><div class=\"sk-serial\"><div class=\"sk-item\"><div class=\"sk-estimator sk-toggleable\"><input class=\"sk-toggleable__control sk-hidden--visually\" id=\"sk-estimator-id-25\" type=\"checkbox\" ><label for=\"sk-estimator-id-25\" class=\"sk-toggleable__label sk-toggleable__label-arrow\">ColumnSelector</label><div class=\"sk-toggleable__content\"><pre>ColumnSelector(cols=[&#x27;review_scores_value&#x27;, &#x27;review_scores_checkin&#x27;,\n",
       "                     &#x27;bathrooms_na&#x27;, &#x27;review_scores_location&#x27;,\n",
       "                     &#x27;instant_bookable&#x27;, &#x27;bathrooms&#x27;, &#x27;beds_na&#x27;,\n",
       "                     &#x27;review_scores_rating_na&#x27;, &#x27;host_is_superhost&#x27;,\n",
       "                     &#x27;neighbourhood_cleansed&#x27;, &#x27;beds&#x27;,\n",
       "                     &#x27;review_scores_cleanliness_na&#x27;,\n",
       "                     &#x27;host_total_listings_count&#x27;, &#x27;number_of_reviews&#x27;,\n",
       "                     &#x27;review_scores_communication&#x27;, &#x27;latitude&#x27;,\n",
       "                     &#x27;cancellation_policy&#x27;, &#x27;property_type&#x27;,\n",
       "                     &#x27;review_scores_checkin_na&#x27;, &#x27;review_scores_accuracy_na&#x27;,\n",
       "                     &#x27;review_scores_value_na&#x27;, &#x27;review_scores_cleanliness&#x27;,\n",
       "                     &#x27;bedrooms_na&#x27;, &#x27;review_scores_location_na&#x27;,\n",
       "                     &#x27;review_scores_accuracy&#x27;, &#x27;minimum_nights&#x27;, &#x27;longitude&#x27;,\n",
       "                     &#x27;accommodates&#x27;, &#x27;room_type&#x27;, &#x27;bedrooms&#x27;, ...])</pre></div></div></div><div class=\"sk-item sk-dashed-wrapped\"><div class=\"sk-label-container\"><div class=\"sk-label sk-toggleable\"><input class=\"sk-toggleable__control sk-hidden--visually\" id=\"sk-estimator-id-26\" type=\"checkbox\" ><label for=\"sk-estimator-id-26\" class=\"sk-toggleable__label sk-toggleable__label-arrow\">preprocessor: ColumnTransformer</label><div class=\"sk-toggleable__content\"><pre>ColumnTransformer(remainder=&#x27;passthrough&#x27;, sparse_threshold=1,\n",
       "                  transformers=[(&#x27;boolean&#x27;,\n",
       "                                 Pipeline(steps=[(&#x27;cast_type&#x27;,\n",
       "                                                  FunctionTransformer(func=&lt;function &lt;lambda&gt; at 0x7f2fc0d0a950&gt;)),\n",
       "                                                 (&#x27;imputers&#x27;,\n",
       "                                                  ColumnTransformer(remainder=&#x27;passthrough&#x27;,\n",
       "                                                                    transformers=[])),\n",
       "                                                 (&#x27;onehot&#x27;,\n",
       "                                                  OneHotEncoder(drop=&#x27;first&#x27;,\n",
       "                                                                handle_unknown=&#x27;ignore&#x27;))]),\n",
       "                                 [&#x27;review_scores_checkin_na&#x27;,\n",
       "                                  &#x27;review_...\n",
       "                                  &#x27;review_scores_accuracy&#x27;, &#x27;minimum_nights&#x27;,\n",
       "                                  &#x27;longitude&#x27;, &#x27;accommodates&#x27;, &#x27;bedrooms&#x27;,\n",
       "                                  &#x27;review_scores_communication_na&#x27;,\n",
       "                                  &#x27;review_scores_rating&#x27;]),\n",
       "                                (&#x27;onehot&#x27;,\n",
       "                                 Pipeline(steps=[(&#x27;imputers&#x27;,\n",
       "                                                  ColumnTransformer(remainder=&#x27;passthrough&#x27;,\n",
       "                                                                    transformers=[])),\n",
       "                                                 (&#x27;one_hot_encoder&#x27;,\n",
       "                                                  OneHotEncoder())]),\n",
       "                                 [&#x27;bed_type&#x27;, &#x27;cancellation_policy&#x27;,\n",
       "                                  &#x27;neighbourhood_cleansed&#x27;, &#x27;property_type&#x27;,\n",
       "                                  &#x27;room_type&#x27;])])</pre></div></div></div><div class=\"sk-parallel\"><div class=\"sk-parallel-item\"><div class=\"sk-item\"><div class=\"sk-label-container\"><div class=\"sk-label sk-toggleable\"><input class=\"sk-toggleable__control sk-hidden--visually\" id=\"sk-estimator-id-27\" type=\"checkbox\" ><label for=\"sk-estimator-id-27\" class=\"sk-toggleable__label sk-toggleable__label-arrow\">boolean</label><div class=\"sk-toggleable__content\"><pre>[&#x27;review_scores_checkin_na&#x27;, &#x27;review_scores_accuracy_na&#x27;, &#x27;review_scores_value_na&#x27;, &#x27;review_scores_cleanliness_na&#x27;, &#x27;bathrooms_na&#x27;, &#x27;beds_na&#x27;, &#x27;bedrooms_na&#x27;, &#x27;review_scores_communication_na&#x27;, &#x27;instant_bookable&#x27;, &#x27;review_scores_location_na&#x27;, &#x27;review_scores_rating_na&#x27;, &#x27;host_is_superhost&#x27;]</pre></div></div></div><div class=\"sk-serial\"><div class=\"sk-item\"><div class=\"sk-serial\"><div class=\"sk-item\"><div class=\"sk-estimator sk-toggleable\"><input class=\"sk-toggleable__control sk-hidden--visually\" id=\"sk-estimator-id-28\" type=\"checkbox\" ><label for=\"sk-estimator-id-28\" class=\"sk-toggleable__label sk-toggleable__label-arrow\">FunctionTransformer</label><div class=\"sk-toggleable__content\"><pre>FunctionTransformer(func=&lt;function &lt;lambda&gt; at 0x7f2fc0d0a950&gt;)</pre></div></div></div><div class=\"sk-item sk-dashed-wrapped\"><div class=\"sk-label-container\"><div class=\"sk-label sk-toggleable\"><input class=\"sk-toggleable__control sk-hidden--visually\" id=\"sk-estimator-id-29\" type=\"checkbox\" ><label for=\"sk-estimator-id-29\" class=\"sk-toggleable__label sk-toggleable__label-arrow\">imputers: ColumnTransformer</label><div class=\"sk-toggleable__content\"><pre>ColumnTransformer(remainder=&#x27;passthrough&#x27;, transformers=[])</pre></div></div></div><div class=\"sk-parallel\"><div class=\"sk-parallel-item\"><div class=\"sk-item\"><div class=\"sk-label-container\"><div class=\"sk-label sk-toggleable\"><input class=\"sk-toggleable__control sk-hidden--visually\" id=\"sk-estimator-id-30\" type=\"checkbox\" ><label for=\"sk-estimator-id-30\" class=\"sk-toggleable__label sk-toggleable__label-arrow\">remainder</label><div class=\"sk-toggleable__content\"><pre></pre></div></div></div><div class=\"sk-serial\"><div class=\"sk-item\"><div class=\"sk-estimator sk-toggleable\"><input class=\"sk-toggleable__control sk-hidden--visually\" id=\"sk-estimator-id-31\" type=\"checkbox\" ><label for=\"sk-estimator-id-31\" class=\"sk-toggleable__label sk-toggleable__label-arrow\">passthrough</label><div class=\"sk-toggleable__content\"><pre>passthrough</pre></div></div></div></div></div></div></div></div><div class=\"sk-item\"><div class=\"sk-estimator sk-toggleable\"><input class=\"sk-toggleable__control sk-hidden--visually\" id=\"sk-estimator-id-32\" type=\"checkbox\" ><label for=\"sk-estimator-id-32\" class=\"sk-toggleable__label sk-toggleable__label-arrow\">OneHotEncoder</label><div class=\"sk-toggleable__content\"><pre>OneHotEncoder(drop=&#x27;first&#x27;, handle_unknown=&#x27;ignore&#x27;)</pre></div></div></div></div></div></div></div></div><div class=\"sk-parallel-item\"><div class=\"sk-item\"><div class=\"sk-label-container\"><div class=\"sk-label sk-toggleable\"><input class=\"sk-toggleable__control sk-hidden--visually\" id=\"sk-estimator-id-33\" type=\"checkbox\" ><label for=\"sk-estimator-id-33\" class=\"sk-toggleable__label sk-toggleable__label-arrow\">numerical</label><div class=\"sk-toggleable__content\"><pre>[&#x27;review_scores_value&#x27;, &#x27;review_scores_checkin&#x27;, &#x27;bathrooms_na&#x27;, &#x27;review_scores_location&#x27;, &#x27;bathrooms&#x27;, &#x27;review_scores_rating_na&#x27;, &#x27;beds_na&#x27;, &#x27;beds&#x27;, &#x27;review_scores_cleanliness_na&#x27;, &#x27;host_total_listings_count&#x27;, &#x27;number_of_reviews&#x27;, &#x27;review_scores_communication&#x27;, &#x27;latitude&#x27;, &#x27;review_scores_checkin_na&#x27;, &#x27;review_scores_accuracy_na&#x27;, &#x27;review_scores_value_na&#x27;, &#x27;review_scores_cleanliness&#x27;, &#x27;bedrooms_na&#x27;, &#x27;review_scores_location_na&#x27;, &#x27;review_scores_accuracy&#x27;, &#x27;minimum_nights&#x27;, &#x27;longitude&#x27;, &#x27;accommodates&#x27;, &#x27;bedrooms&#x27;, &#x27;review_scores_communication_na&#x27;, &#x27;review_scores_rating&#x27;]</pre></div></div></div><div class=\"sk-serial\"><div class=\"sk-item\"><div class=\"sk-serial\"><div class=\"sk-item\"><div class=\"sk-estimator sk-toggleable\"><input class=\"sk-toggleable__control sk-hidden--visually\" id=\"sk-estimator-id-34\" type=\"checkbox\" ><label for=\"sk-estimator-id-34\" class=\"sk-toggleable__label sk-toggleable__label-arrow\">FunctionTransformer</label><div class=\"sk-toggleable__content\"><pre>FunctionTransformer(func=&lt;function &lt;lambda&gt; at 0x7f2fc0d0ab90&gt;)</pre></div></div></div><div class=\"sk-item sk-dashed-wrapped\"><div class=\"sk-label-container\"><div class=\"sk-label sk-toggleable\"><input class=\"sk-toggleable__control sk-hidden--visually\" id=\"sk-estimator-id-35\" type=\"checkbox\" ><label for=\"sk-estimator-id-35\" class=\"sk-toggleable__label sk-toggleable__label-arrow\">imputers: ColumnTransformer</label><div class=\"sk-toggleable__content\"><pre>ColumnTransformer(transformers=[(&#x27;impute_mean&#x27;, SimpleImputer(),\n",
       "                                 [&#x27;accommodates&#x27;, &#x27;bathrooms&#x27;, &#x27;bathrooms_na&#x27;,\n",
       "                                  &#x27;bedrooms&#x27;, &#x27;bedrooms_na&#x27;, &#x27;beds&#x27;, &#x27;beds_na&#x27;,\n",
       "                                  &#x27;host_total_listings_count&#x27;, &#x27;latitude&#x27;,\n",
       "                                  &#x27;longitude&#x27;, &#x27;minimum_nights&#x27;,\n",
       "                                  &#x27;number_of_reviews&#x27;, &#x27;review_scores_accuracy&#x27;,\n",
       "                                  &#x27;review_scores_accuracy_na&#x27;,\n",
       "                                  &#x27;review_scores_checkin&#x27;,\n",
       "                                  &#x27;review_scores_checkin_na&#x27;,\n",
       "                                  &#x27;review_scores_cleanliness&#x27;,\n",
       "                                  &#x27;review_scores_cleanliness_na&#x27;,\n",
       "                                  &#x27;review_scores_communication&#x27;,\n",
       "                                  &#x27;review_scores_communication_na&#x27;,\n",
       "                                  &#x27;review_scores_location&#x27;,\n",
       "                                  &#x27;review_scores_location_na&#x27;,\n",
       "                                  &#x27;review_scores_rating&#x27;,\n",
       "                                  &#x27;review_scores_rating_na&#x27;,\n",
       "                                  &#x27;review_scores_value&#x27;,\n",
       "                                  &#x27;review_scores_value_na&#x27;])])</pre></div></div></div><div class=\"sk-parallel\"><div class=\"sk-parallel-item\"><div class=\"sk-item\"><div class=\"sk-label-container\"><div class=\"sk-label sk-toggleable\"><input class=\"sk-toggleable__control sk-hidden--visually\" id=\"sk-estimator-id-36\" type=\"checkbox\" ><label for=\"sk-estimator-id-36\" class=\"sk-toggleable__label sk-toggleable__label-arrow\">impute_mean</label><div class=\"sk-toggleable__content\"><pre>[&#x27;accommodates&#x27;, &#x27;bathrooms&#x27;, &#x27;bathrooms_na&#x27;, &#x27;bedrooms&#x27;, &#x27;bedrooms_na&#x27;, &#x27;beds&#x27;, &#x27;beds_na&#x27;, &#x27;host_total_listings_count&#x27;, &#x27;latitude&#x27;, &#x27;longitude&#x27;, &#x27;minimum_nights&#x27;, &#x27;number_of_reviews&#x27;, &#x27;review_scores_accuracy&#x27;, &#x27;review_scores_accuracy_na&#x27;, &#x27;review_scores_checkin&#x27;, &#x27;review_scores_checkin_na&#x27;, &#x27;review_scores_cleanliness&#x27;, &#x27;review_scores_cleanliness_na&#x27;, &#x27;review_scores_communication&#x27;, &#x27;review_scores_communication_na&#x27;, &#x27;review_scores_location&#x27;, &#x27;review_scores_location_na&#x27;, &#x27;review_scores_rating&#x27;, &#x27;review_scores_rating_na&#x27;, &#x27;review_scores_value&#x27;, &#x27;review_scores_value_na&#x27;]</pre></div></div></div><div class=\"sk-serial\"><div class=\"sk-item\"><div class=\"sk-estimator sk-toggleable\"><input class=\"sk-toggleable__control sk-hidden--visually\" id=\"sk-estimator-id-37\" type=\"checkbox\" ><label for=\"sk-estimator-id-37\" class=\"sk-toggleable__label sk-toggleable__label-arrow\">SimpleImputer</label><div class=\"sk-toggleable__content\"><pre>SimpleImputer()</pre></div></div></div></div></div></div></div></div><div class=\"sk-item\"><div class=\"sk-estimator sk-toggleable\"><input class=\"sk-toggleable__control sk-hidden--visually\" id=\"sk-estimator-id-38\" type=\"checkbox\" ><label for=\"sk-estimator-id-38\" class=\"sk-toggleable__label sk-toggleable__label-arrow\">StandardScaler</label><div class=\"sk-toggleable__content\"><pre>StandardScaler()</pre></div></div></div></div></div></div></div></div><div class=\"sk-parallel-item\"><div class=\"sk-item\"><div class=\"sk-label-container\"><div class=\"sk-label sk-toggleable\"><input class=\"sk-toggleable__control sk-hidden--visually\" id=\"sk-estimator-id-39\" type=\"checkbox\" ><label for=\"sk-estimator-id-39\" class=\"sk-toggleable__label sk-toggleable__label-arrow\">onehot</label><div class=\"sk-toggleable__content\"><pre>[&#x27;bed_type&#x27;, &#x27;cancellation_policy&#x27;, &#x27;neighbourhood_cleansed&#x27;, &#x27;property_type&#x27;, &#x27;room_type&#x27;]</pre></div></div></div><div class=\"sk-serial\"><div class=\"sk-item\"><div class=\"sk-serial\"><div class=\"sk-item sk-dashed-wrapped\"><div class=\"sk-label-container\"><div class=\"sk-label sk-toggleable\"><input class=\"sk-toggleable__control sk-hidden--visually\" id=\"sk-estimator-id-40\" type=\"checkbox\" ><label for=\"sk-estimator-id-40\" class=\"sk-toggleable__label sk-toggleable__label-arrow\">imputers: ColumnTransformer</label><div class=\"sk-toggleable__content\"><pre>ColumnTransformer(remainder=&#x27;passthrough&#x27;, transformers=[])</pre></div></div></div><div class=\"sk-parallel\"><div class=\"sk-parallel-item\"><div class=\"sk-item\"><div class=\"sk-label-container\"><div class=\"sk-label sk-toggleable\"><input class=\"sk-toggleable__control sk-hidden--visually\" id=\"sk-estimator-id-41\" type=\"checkbox\" ><label for=\"sk-estimator-id-41\" class=\"sk-toggleable__label sk-toggleable__label-arrow\">remainder</label><div class=\"sk-toggleable__content\"><pre></pre></div></div></div><div class=\"sk-serial\"><div class=\"sk-item\"><div class=\"sk-estimator sk-toggleable\"><input class=\"sk-toggleable__control sk-hidden--visually\" id=\"sk-estimator-id-42\" type=\"checkbox\" ><label for=\"sk-estimator-id-42\" class=\"sk-toggleable__label sk-toggleable__label-arrow\">passthrough</label><div class=\"sk-toggleable__content\"><pre>passthrough</pre></div></div></div></div></div></div></div></div><div class=\"sk-item\"><div class=\"sk-estimator sk-toggleable\"><input class=\"sk-toggleable__control sk-hidden--visually\" id=\"sk-estimator-id-43\" type=\"checkbox\" ><label for=\"sk-estimator-id-43\" class=\"sk-toggleable__label sk-toggleable__label-arrow\">OneHotEncoder</label><div class=\"sk-toggleable__content\"><pre>OneHotEncoder()</pre></div></div></div></div></div></div></div></div><div class=\"sk-parallel-item\"><div class=\"sk-item\"><div class=\"sk-label-container\"><div class=\"sk-label sk-toggleable\"><input class=\"sk-toggleable__control sk-hidden--visually\" id=\"sk-estimator-id-44\" type=\"checkbox\" ><label for=\"sk-estimator-id-44\" class=\"sk-toggleable__label sk-toggleable__label-arrow\">remainder</label><div class=\"sk-toggleable__content\"><pre>[]</pre></div></div></div><div class=\"sk-serial\"><div class=\"sk-item\"><div class=\"sk-estimator sk-toggleable\"><input class=\"sk-toggleable__control sk-hidden--visually\" id=\"sk-estimator-id-45\" type=\"checkbox\" ><label for=\"sk-estimator-id-45\" class=\"sk-toggleable__label sk-toggleable__label-arrow\">passthrough</label><div class=\"sk-toggleable__content\"><pre>passthrough</pre></div></div></div></div></div></div></div></div><div class=\"sk-item\"><div class=\"sk-estimator sk-toggleable\"><input class=\"sk-toggleable__control sk-hidden--visually\" id=\"sk-estimator-id-46\" type=\"checkbox\" ><label for=\"sk-estimator-id-46\" class=\"sk-toggleable__label sk-toggleable__label-arrow\">LGBMRegressor</label><div class=\"sk-toggleable__content\"><pre>LGBMRegressor(colsample_bytree=0.7749452037924934, lambda_l1=891.832110361085,\n",
       "              lambda_l2=715.170179380084, learning_rate=0.02759046110596194,\n",
       "              max_bin=499, max_depth=11, min_child_samples=21,\n",
       "              n_estimators=2375, num_leaves=867, random_state=667218320,\n",
       "              subsample=0.5115074333941863)</pre></div></div></div></div></div></div></div>"
      ],
      "text/plain": [
       "Pipeline(steps=[('column_selector',\n",
       "                 ColumnSelector(cols=['review_scores_value',\n",
       "                                      'review_scores_checkin', 'bathrooms_na',\n",
       "                                      'review_scores_location',\n",
       "                                      'instant_bookable', 'bathrooms',\n",
       "                                      'beds_na', 'review_scores_rating_na',\n",
       "                                      'host_is_superhost',\n",
       "                                      'neighbourhood_cleansed', 'beds',\n",
       "                                      'review_scores_cleanliness_na',\n",
       "                                      'host_total_listings_count',\n",
       "                                      'number_of_reviews',\n",
       "                                      'review_sc...\n",
       "                                                   'cancellation_policy',\n",
       "                                                   'neighbourhood_cleansed',\n",
       "                                                   'property_type',\n",
       "                                                   'room_type'])])),\n",
       "                ('regressor',\n",
       "                 LGBMRegressor(colsample_bytree=0.7749452037924934,\n",
       "                               lambda_l1=891.832110361085,\n",
       "                               lambda_l2=715.170179380084,\n",
       "                               learning_rate=0.02759046110596194, max_bin=499,\n",
       "                               max_depth=11, min_child_samples=21,\n",
       "                               n_estimators=2375, num_leaves=867,\n",
       "                               random_state=667218320,\n",
       "                               subsample=0.5115074333941863))])"
      ]
     },
     "execution_count": 13,
     "metadata": {},
     "output_type": "execute_result"
    }
   ],
   "source": [
    "trials = Trials()\n",
    "fmin(objective,\n",
    "     space=space,\n",
    "     algo=tpe.suggest,\n",
    "     max_evals=1,  # Increase this when widening the hyperparameter search space.\n",
    "     trials=trials)\n",
    "\n",
    "best_result = trials.best_trial[\"result\"]\n",
    "model = best_result[\"model\"]\n",
    "mlflow_run = best_result[\"run\"]\n",
    "\n",
    "display(\n",
    "  pd.DataFrame(\n",
    "    [best_result[\"val_metrics\"], best_result[\"test_metrics\"]],\n",
    "    index=[\"validation\", \"test\"]))\n",
    "\n",
    "set_config(display=\"diagram\")\n",
    "model"
   ]
  },
  {
   "cell_type": "markdown",
   "metadata": {
    "application/vnd.databricks.v1+cell": {
     "cellMetadata": {},
     "inputWidgets": {},
     "nuid": "055ac1fe-193f-48d3-bf64-3265f1d07e31",
     "showTitle": false,
     "title": ""
    }
   },
   "source": [
    "### Patch pandas version in logged model\n",
    "\n",
    "Ensures that model serving uses the same version of pandas that was used to train the model."
   ]
  },
  {
   "cell_type": "code",
   "execution_count": 0,
   "metadata": {
    "application/vnd.databricks.v1+cell": {
     "cellMetadata": {},
     "inputWidgets": {},
     "nuid": "1aa82c1e-6036-46f5-a058-048c766804b8",
     "showTitle": false,
     "title": ""
    },
    "execution": {
     "iopub.execute_input": "2024-05-06T09:31:25.489271Z",
     "iopub.status.busy": "2024-05-06T09:31:25.487957Z",
     "iopub.status.idle": "2024-05-06T09:31:26.961977Z",
     "shell.execute_reply": "2024-05-06T09:31:26.960997Z"
    }
   },
   "outputs": [
    {
     "output_type": "stream",
     "name": "stdout",
     "output_type": "stream",
     "text": [
      "Adding pandas dependency to conda.yaml\n"
     ]
    },
    {
     "output_type": "stream",
     "name": "stdout",
     "output_type": "stream",
     "text": [
      "Adding pandas dependency to requirements.txt\n"
     ]
    }
   ],
   "source": [
    "import mlflow\n",
    "import os\n",
    "import shutil\n",
    "import tempfile\n",
    "import yaml\n",
    "\n",
    "run_id = mlflow_run.info.run_id\n",
    "\n",
    "# Set up a local dir for downloading the artifacts.\n",
    "tmp_dir = str(tempfile.TemporaryDirectory())\n",
    "os.makedirs(tmp_dir)\n",
    "\n",
    "client = mlflow.tracking.MlflowClient()\n",
    "\n",
    "# Fix conda.yaml\n",
    "conda_file_path = mlflow.artifacts.download_artifacts(artifact_uri=f\"runs:/{run_id}/model/conda.yaml\", dst_path=tmp_dir)\n",
    "with open(conda_file_path) as f:\n",
    "  conda_libs = yaml.load(f, Loader=yaml.FullLoader)\n",
    "pandas_lib_exists = any([lib.startswith(\"pandas==\") for lib in conda_libs[\"dependencies\"][-1][\"pip\"]])\n",
    "if not pandas_lib_exists:\n",
    "  print(\"Adding pandas dependency to conda.yaml\")\n",
    "  conda_libs[\"dependencies\"][-1][\"pip\"].append(f\"pandas=={pd.__version__}\")\n",
    "\n",
    "  with open(f\"{tmp_dir}/conda.yaml\", \"w\") as f:\n",
    "    f.write(yaml.dump(conda_libs))\n",
    "  client.log_artifact(run_id=run_id, local_path=conda_file_path, artifact_path=\"model\")\n",
    "\n",
    "# Fix requirements.txt\n",
    "venv_file_path = mlflow.artifacts.download_artifacts(artifact_uri=f\"runs:/{run_id}/model/requirements.txt\", dst_path=tmp_dir)\n",
    "with open(venv_file_path) as f:\n",
    "  venv_libs = f.readlines()\n",
    "venv_libs = [lib.strip() for lib in venv_libs]\n",
    "pandas_lib_exists = any([lib.startswith(\"pandas==\") for lib in venv_libs])\n",
    "if not pandas_lib_exists:\n",
    "  print(\"Adding pandas dependency to requirements.txt\")\n",
    "  venv_libs.append(f\"pandas=={pd.__version__}\")\n",
    "\n",
    "  with open(f\"{tmp_dir}/requirements.txt\", \"w\") as f:\n",
    "    f.write(\"\\n\".join(venv_libs))\n",
    "  client.log_artifact(run_id=run_id, local_path=venv_file_path, artifact_path=\"model\")\n",
    "\n",
    "shutil.rmtree(tmp_dir)"
   ]
  },
  {
   "cell_type": "markdown",
   "metadata": {
    "application/vnd.databricks.v1+cell": {
     "cellMetadata": {},
     "inputWidgets": {},
     "nuid": "49e2737e-7509-4b69-bdb0-bf807eaae7c3",
     "showTitle": false,
     "title": ""
    }
   },
   "source": [
    "## Feature importance\n",
    "\n",
    "SHAP is a game-theoretic approach to explain machine learning models, providing a summary plot\n",
    "of the relationship between features and model output. Features are ranked in descending order of\n",
    "importance, and impact/color describe the correlation between the feature and the target variable.\n",
    "- Generating SHAP feature importance is a very memory intensive operation, so to ensure that AutoML can run trials without\n",
    "  running out of memory, we disable SHAP by default.<br />\n",
    "  You can set the flag defined below to `shap_enabled = True` and re-run this notebook to see the SHAP plots.\n",
    "- To reduce the computational overhead of each trial, a single example is sampled from the validation set to explain.<br />\n",
    "  For more thorough results, increase the sample size of explanations, or provide your own examples to explain.\n",
    "- SHAP cannot explain models using data with nulls; if your dataset has any, both the background data and\n",
    "  examples to explain will be imputed using the mode (most frequent values). This affects the computed\n",
    "  SHAP values, as the imputed samples may not match the actual data distribution.\n",
    "\n",
    "For more information on how to read Shapley values, see the [SHAP documentation](https://shap.readthedocs.io/en/latest/example_notebooks/overviews/An%20introduction%20to%20explainable%20AI%20with%20Shapley%20values.html)."
   ]
  },
  {
   "cell_type": "code",
   "execution_count": 0,
   "metadata": {
    "application/vnd.databricks.v1+cell": {
     "cellMetadata": {},
     "inputWidgets": {},
     "nuid": "a22c024d-ddad-4a63-91bf-feda209513ea",
     "showTitle": false,
     "title": ""
    },
    "execution": {
     "iopub.execute_input": "2024-05-06T09:31:26.966106Z",
     "iopub.status.busy": "2024-05-06T09:31:26.965875Z",
     "iopub.status.idle": "2024-05-06T09:31:26.971213Z",
     "shell.execute_reply": "2024-05-06T09:31:26.969544Z"
    }
   },
   "outputs": [],
   "source": [
    "# Set this flag to True and re-run the notebook to see the SHAP plots\n",
    "shap_enabled = False"
   ]
  },
  {
   "cell_type": "code",
   "execution_count": 0,
   "metadata": {
    "application/vnd.databricks.v1+cell": {
     "cellMetadata": {},
     "inputWidgets": {},
     "nuid": "2f46bdf5-abf1-4e5f-8f47-e3d90aa42a34",
     "showTitle": false,
     "title": ""
    },
    "execution": {
     "iopub.execute_input": "2024-05-06T09:31:26.975092Z",
     "iopub.status.busy": "2024-05-06T09:31:26.974762Z",
     "iopub.status.idle": "2024-05-06T09:31:26.984638Z",
     "shell.execute_reply": "2024-05-06T09:31:26.983645Z"
    }
   },
   "outputs": [],
   "source": [
    "if shap_enabled:\n",
    "    mlflow.autolog(disable=True)\n",
    "    mlflow.sklearn.autolog(disable=True)\n",
    "    from shap import KernelExplainer, summary_plot\n",
    "    # Sample background data for SHAP Explainer. Increase the sample size to reduce variance.\n",
    "    train_sample = X_train.sample(n=min(100, X_train.shape[0]), random_state=667218320)\n",
    "\n",
    "    # Sample some rows from the validation set to explain. Increase the sample size for more thorough results.\n",
    "    example = X_val.sample(n=min(100, X_val.shape[0]), random_state=667218320)\n",
    "\n",
    "    # Use Kernel SHAP to explain feature importance on the sampled rows from the validation set.\n",
    "    predict = lambda x: model.predict(pd.DataFrame(x, columns=X_train.columns))\n",
    "    explainer = KernelExplainer(predict, train_sample, link=\"identity\")\n",
    "    shap_values = explainer.shap_values(example, l1_reg=False, nsamples=500)\n",
    "    summary_plot(shap_values, example)"
   ]
  },
  {
   "cell_type": "markdown",
   "metadata": {
    "application/vnd.databricks.v1+cell": {
     "cellMetadata": {},
     "inputWidgets": {},
     "nuid": "051f5ab8-63c8-49df-b3d7-99ad959ff871",
     "showTitle": false,
     "title": ""
    }
   },
   "source": [
    "## Inference\n",
    "[The MLflow Model Registry](https://docs.databricks.com/applications/mlflow/model-registry.html) is a collaborative hub where teams can share ML models, work together from experimentation to online testing and production, integrate with approval and governance workflows, and monitor ML deployments and their performance. The snippets below show how to add the model trained in this notebook to the model registry and to retrieve it later for inference.\n",
    "\n",
    "> **NOTE:** The `model_uri` for the model already trained in this notebook can be found in the cell below\n",
    "\n",
    "### Register to Model Registry\n",
    "```\n",
    "model_name = \"Example\"\n",
    "\n",
    "model_uri = f\"runs:/{ mlflow_run.info.run_id }/model\"\n",
    "registered_model_version = mlflow.register_model(model_uri, model_name)\n",
    "```\n",
    "\n",
    "### Load from Model Registry\n",
    "```\n",
    "model_name = \"Example\"\n",
    "model_version = registered_model_version.version\n",
    "\n",
    "model_uri=f\"models:/{model_name}/{model_version}\"\n",
    "model = mlflow.pyfunc.load_model(model_uri=model_uri)\n",
    "model.predict(input_X)\n",
    "```\n",
    "\n",
    "### Load model without registering\n",
    "```\n",
    "model_uri = f\"runs:/{ mlflow_run.info.run_id }/model\"\n",
    "\n",
    "model = mlflow.pyfunc.load_model(model_uri=model_uri)\n",
    "model.predict(input_X)\n",
    "```"
   ]
  },
  {
   "cell_type": "code",
   "execution_count": 0,
   "metadata": {
    "application/vnd.databricks.v1+cell": {
     "cellMetadata": {},
     "inputWidgets": {},
     "nuid": "e7048384-ab18-47d3-a791-c17e00b5f147",
     "showTitle": false,
     "title": ""
    },
    "execution": {
     "iopub.execute_input": "2024-05-06T09:31:26.988690Z",
     "iopub.status.busy": "2024-05-06T09:31:26.988322Z",
     "iopub.status.idle": "2024-05-06T09:31:26.994600Z",
     "shell.execute_reply": "2024-05-06T09:31:26.992468Z"
    }
   },
   "outputs": [
    {
     "output_type": "stream",
     "name": "stdout",
     "output_type": "stream",
     "text": [
      "runs:/b96e349e97de43c999dd1fd2ab5df9f8/model\n"
     ]
    }
   ],
   "source": [
    "# model_uri for the generated model\n",
    "print(f\"runs:/{ mlflow_run.info.run_id }/model\")"
   ]
  }
 ],
 "metadata": {
  "application/vnd.databricks.v1+notebook": {
   "dashboards": [],
   "language": "python",
   "notebookMetadata": {
    "pythonIndentUnit": 4
   },
   "notebookName": "24-05-06-09:27-LightGBMRegressor-fccd753104ed3693085f8fb6296aed15",
   "widgets": {}
  },
  "language_info": {
   "codemirror_mode": {
    "name": "ipython",
    "version": 3
   },
   "file_extension": ".py",
   "mimetype": "text/x-python",
   "name": "python",
   "nbconvert_exporter": "python",
   "pygments_lexer": "ipython3",
   "version": "3.10.12"
  },
  "name": "LightGBMRegressor-fccd753104ed3693085f8fb6296aed15"
 },
 "nbformat": 4,
 "nbformat_minor": 0
}
