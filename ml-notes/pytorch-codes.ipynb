{
 "cells": [
  {
   "cell_type": "code",
   "execution_count": 7,
   "id": "2ce492f5-5d85-4b36-98bd-f77fef1a8729",
   "metadata": {},
   "outputs": [
    {
     "name": "stdout",
     "output_type": "stream",
     "text": [
      "tensor(7)\n"
     ]
    },
    {
     "data": {
      "text/plain": [
       "7"
      ]
     },
     "execution_count": 7,
     "metadata": {},
     "output_type": "execute_result"
    }
   ],
   "source": [
    "import torch\n",
    "# scaler\n",
    "scaler = torch.tensor(7)\n",
    "print(scaler)\n",
    "\n",
    "# get tensor back as python int\n",
    "scaler.item()"
   ]
  },
  {
   "cell_type": "code",
   "execution_count": 8,
   "id": "7b4f23d4-1821-4e76-8b43-389ef7dce79a",
   "metadata": {},
   "outputs": [
    {
     "name": "stdout",
     "output_type": "stream",
     "text": [
      "tensor([7, 7])\n",
      "7\n",
      "7\n"
     ]
    }
   ],
   "source": [
    "# if vector\n",
    "# Vector\n",
    "vector = torch.tensor([7, 7])\n",
    "print(vector)\n",
    "\n",
    "# Get tensor back as Python int\n",
    "for item in vector:\n",
    "    print(item.item())"
   ]
  },
  {
   "cell_type": "code",
   "execution_count": null,
   "id": "eb1208c1-8a70-43bc-8415-ba5d43bf1f71",
   "metadata": {},
   "outputs": [],
   "source": [
    "# squeezing : remove all 1 dimension from tensor\n",
    "x.squeeze()\n",
    "# unsqueezing : add a 1 dimension to tensor\n",
    "x.unsqueeze()\n",
    "# permute : swap dimension of a tensor\n",
    "x = torch.rand(size=(224, 224, 3))\n",
    "torch.permute(x, (2, 0, 1)).size()"
   ]
  },
  {
   "cell_type": "code",
   "execution_count": null,
   "id": "acbb4639",
   "metadata": {},
   "outputs": [],
   "source": [
    "# create a tensor\n",
    "import torch\n",
    "x = torch.arange(1, 10).reshape(1, 3, 3)\n",
    "x.shape"
   ]
  },
  {
   "cell_type": "code",
   "execution_count": null,
   "id": "0ac324e8",
   "metadata": {},
   "outputs": [],
   "source": [
    "# numpy array to tensor, default data type is float64 because of reflact by numpy \n",
    "array = np.arange(1.0, 8.0)\n",
    "tensor = torch.from_numpy(array).type(torch.float32)\n",
    "# tensor to numpy array\n",
    "torch.Tensor.numpy()"
   ]
  }
 ],
 "metadata": {
  "kernelspec": {
   "display_name": "Python 3 (ipykernel)",
   "language": "python",
   "name": "python3"
  },
  "language_info": {
   "codemirror_mode": {
    "name": "ipython",
    "version": 3
   },
   "file_extension": ".py",
   "mimetype": "text/x-python",
   "name": "python",
   "nbconvert_exporter": "python",
   "pygments_lexer": "ipython3",
   "version": "3.12.0"
  }
 },
 "nbformat": 4,
 "nbformat_minor": 5
}
