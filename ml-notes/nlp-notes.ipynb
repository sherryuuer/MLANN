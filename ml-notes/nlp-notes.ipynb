{
 "cells": [
  {
   "cell_type": "markdown",
   "id": "554ba8df-4ca6-472d-bec6-8f25eabc0149",
   "metadata": {},
   "source": [
    "### 自然语言处理的三种历史方法：\n",
    "\n",
    "* 基于同义词词典的方法WordNet\n",
    "\n",
    "问题：难以顺应时代变化，人力成本高，无法表示单词的微妙差异\n",
    "\n",
    "* 基于计数的方法\n",
    "\n",
    "语料库corpus处理。\n",
    "word to id, id to word\n",
    "\n",
    "* 基于推理的方法word2vec"
   ]
  },
  {
   "cell_type": "code",
   "execution_count": 4,
   "id": "b0149845-9e87-45a9-a28d-90c773c395db",
   "metadata": {},
   "outputs": [],
   "source": [
    "# function to process word\n",
    "import numpy as np\n",
    "def preprocess(text):\n",
    "    text = text.lower()\n",
    "    text = text.replace(\".\", \" .\")\n",
    "    words = text.split(\" \")\n",
    "\n",
    "    word_to_id = {}\n",
    "    id_to_word = {}\n",
    "\n",
    "    for word in words:\n",
    "        if word not in word_to_id:\n",
    "            new_id = len(word_to_id)\n",
    "            word_to_id[word] = new_id\n",
    "            id_to_word[new_id] = word\n",
    "\n",
    "    corpus = np.array([word_to_id[w] for w in words])\n",
    "    return corpus, word_to_id, id_to_word"
   ]
  },
  {
   "cell_type": "code",
   "execution_count": 5,
   "id": "06a7c0e8-c0b1-4ed0-b83a-0f7163baac8d",
   "metadata": {},
   "outputs": [
    {
     "data": {
      "text/plain": [
       "(array([0, 1, 2, 3, 4, 1, 5, 6]),\n",
       " {'you': 0, 'say': 1, 'goodbye': 2, 'and': 3, 'i': 4, 'hello': 5, '.': 6},\n",
       " {0: 'you', 1: 'say', 2: 'goodbye', 3: 'and', 4: 'i', 5: 'hello', 6: '.'})"
      ]
     },
     "execution_count": 5,
     "metadata": {},
     "output_type": "execute_result"
    }
   ],
   "source": [
    "text = \"You say goodbye and I say hello.\"\n",
    "corpus, word_to_id, id_to_word = preprocess(text)\n",
    "corpus, word_to_id, id_to_word"
   ]
  },
  {
   "cell_type": "markdown",
   "id": "4450d5a9-47c4-4342-8c34-69beda1a7e92",
   "metadata": {},
   "source": [
    "分布式假设：某个单词的含义由他周围的单词表示。\n",
    "\n",
    "窗口大小：上下文的大小。\n",
    "\n",
    "共现矩阵co-accurence matrix：对单词周围的单词出现的次数进行统计，也是一种基于计数的方法。矩阵中每一个单词的向量，都是它周围的单词出现的次数，意味着，数字越高，同时出现的概率越大。"
   ]
  },
  {
   "cell_type": "code",
   "execution_count": 11,
   "id": "fd23722f-faaf-4e5f-b5ca-f6c18daf8266",
   "metadata": {},
   "outputs": [],
   "source": [
    "# create co-accurence matrix\n",
    "def create_co_matrix(corpus, vocab_size, window_size=1):\n",
    "    corpus_size = len(corpus)\n",
    "    co_matrix = np.zeros((vocab_size, vocab_size), dtype=np.int32)\n",
    "    for idx, word_id in enumerate(corpus):\n",
    "        for i in range(1,  window_size + 1):\n",
    "            left_idx = idx - i\n",
    "            right_idx = idx + i\n",
    "            if left_idx >= 0 :\n",
    "                left_word_id = corpus[left_idx]\n",
    "                co_matrix[word_id, left_word_id] += 1\n",
    "            if right_idx < corpus_size:\n",
    "                right_word_id = corpus[right_idx]\n",
    "                co_matrix[word_id, right_word_id] += 1\n",
    "    return co_matrix"
   ]
  },
  {
   "cell_type": "code",
   "execution_count": 20,
   "id": "71e2159e-7470-4562-9af1-ebf5f4f28372",
   "metadata": {},
   "outputs": [],
   "source": [
    "word_matrix = create_co_matrix(corpus, len(id_to_word), 1)"
   ]
  },
  {
   "cell_type": "markdown",
   "id": "4957321a-8cb5-4bba-b2a0-d72a726bd352",
   "metadata": {},
   "source": [
    "向量间的相似度用**余弦相似度**cosine similarity,分子是向量的内积，分母是各个向量的范数。范数表示向量的大小，L2范数，是各个元素的平方和的平方根。\n",
    "\n",
    "余弦相似度直观地表示了两个向量在多大程度上指向同一个方向。完全指向同一个方向为1，完全相反为-1."
   ]
  },
  {
   "cell_type": "code",
   "execution_count": 27,
   "id": "b5072d30-4f38-468e-a983-396f3b7dd0d2",
   "metadata": {},
   "outputs": [],
   "source": [
    "def cos_similarity(x, y, eps=1e-8):\n",
    "    # 正规化可以去除大小，保留向量方向，内积就是余弦夹角了, eps是一个微小值，防止除数为0\n",
    "    nx = x / np.sqrt(np.sum(x**2) + eps) # x的正规化\n",
    "    ny = y / np.sqrt(np.sum(y**2) + eps) # y的正规化\n",
    "    return np.dot(nx, ny)"
   ]
  },
  {
   "cell_type": "code",
   "execution_count": 25,
   "id": "721ab545-fe76-4d60-a13a-a5549efc7de2",
   "metadata": {},
   "outputs": [],
   "source": [
    "# 相似单词的top排序\n",
    "def most_similar(query, word_to_id, id_to_word, word_matrix, top=5):\n",
    "    if query not in word_to_id:\n",
    "        print(f\"{query} is not found.\")\n",
    "        return\n",
    "    query_id = word_to_id[query]\n",
    "    query_vec = word_matrix[query_id]\n",
    "    # calculate the co accurence\n",
    "    vocab_size = len(id_to_word)\n",
    "    similarity = np.zeros(vocab_size)\n",
    "    for i in range(vocab_size):\n",
    "        similarity[i] = cos_similarity(word_matrix[i], query_vec)\n",
    "    # output by the similarity\n",
    "    count = 0\n",
    "    for i in (-1 * similarity).argsort():\n",
    "        if id_to_word[i] == query:\n",
    "            continue\n",
    "        print(f\"{id_to_word[i]}:{similarity[i]}\")\n",
    "        count += 1\n",
    "        if count >= top:\n",
    "            return"
   ]
  },
  {
   "cell_type": "code",
   "execution_count": 26,
   "id": "1dfa29fa-90ff-4dde-b7cf-9463344e23cd",
   "metadata": {},
   "outputs": [
    {
     "name": "stdout",
     "output_type": "stream",
     "text": [
      "goodbye:0.7071067811865475\n",
      "i:0.7071067811865475\n",
      "hello:0.7071067811865475\n",
      "say:0.0\n",
      "and:0.0\n"
     ]
    }
   ],
   "source": [
    "most_similar(\"you\", word_to_id, id_to_word, word_matrix, 5)"
   ]
  },
  {
   "cell_type": "markdown",
   "id": "2c2f9cdd-2b97-4c0b-ba80-bbd5bfccb7a5",
   "metadata": {},
   "source": [
    "**点互信息**：两个点的相关性。PMI，当其中一个单词的出现频率本来就很高的时候，就会拉低点互信息。这里为了防止负无穷，使用正点互信息。"
   ]
  },
  {
   "cell_type": "code",
   "execution_count": 28,
   "id": "e1a4dc9c-f813-4ea8-9791-9a67b90d8ce4",
   "metadata": {},
   "outputs": [],
   "source": [
    "def ppmi(C, verbose=False, eps=1e-8):\n",
    "    M = np.zeros_like(C, dtype=np.float32)\n",
    "    N = np.sum(C)\n",
    "    S = np.sum(C, axis=0)\n",
    "    total = C.shape[0] * C.shape[1]\n",
    "    cnt = 0\n",
    "    for i in range(C.shape[0]):\n",
    "        for j in range(C.shape[1]):\n",
    "            pmi = np.log2(C[i, j] * N / (S[j] * S[i]) + eps)\n",
    "            M[i, j] = max(0, pmi)\n",
    "            if verbose:\n",
    "                cnt += 1\n",
    "                if cnt % (total // 100 + 1) == 0:\n",
    "                    print(f\"{100*cnt/total:.1f}% done\")\n",
    "    return M"
   ]
  },
  {
   "cell_type": "code",
   "execution_count": 30,
   "id": "4fe6b6c1-e8de-494b-8b54-3b4744927a05",
   "metadata": {},
   "outputs": [],
   "source": [
    "W = ppmi(word_matrix)"
   ]
  },
  {
   "cell_type": "markdown",
   "id": "072672c9-e59e-446d-a093-eb1f720ab51b",
   "metadata": {},
   "source": [
    "**降维**：将稀疏矩阵（大多数为0的矩阵）变为密集矩阵。奇异值SVD分解！"
   ]
  },
  {
   "cell_type": "code",
   "execution_count": 31,
   "id": "e65ffa75-c9aa-4811-bac3-6f0399185e17",
   "metadata": {},
   "outputs": [],
   "source": [
    "U, S, V = np.linalg.svd(W)"
   ]
  },
  {
   "cell_type": "code",
   "execution_count": 32,
   "id": "4f49b6a1-0940-4346-ba27-86b4ed6237f8",
   "metadata": {},
   "outputs": [
    {
     "data": {
      "text/plain": [
       "array([-3.4094876e-01, -1.1102230e-16, -4.4408921e-16,  1.2051624e-01,\n",
       "        9.3232495e-01,  0.0000000e+00,  3.2068993e-16], dtype=float32)"
      ]
     },
     "execution_count": 32,
     "metadata": {},
     "output_type": "execute_result"
    }
   ],
   "source": [
    "U[0]"
   ]
  },
  {
   "cell_type": "code",
   "execution_count": 33,
   "id": "bf7f04ea-d311-45d2-901b-57ee5940541f",
   "metadata": {},
   "outputs": [
    {
     "data": {
      "text/plain": [
       "array([-3.4094876e-01, -1.1102230e-16], dtype=float32)"
      ]
     },
     "execution_count": 33,
     "metadata": {},
     "output_type": "execute_result"
    }
   ],
   "source": [
    "# 要降到二维，取出前两个元素即可\n",
    "U[0, :2]"
   ]
  },
  {
   "cell_type": "code",
   "execution_count": 34,
   "id": "8021448b-38c4-455f-910e-f6659cedfcf6",
   "metadata": {},
   "outputs": [
    {
     "data": {
      "text/plain": [
       "array([[-3.4094876e-01, -1.1102230e-16, -4.4408921e-16,  1.2051624e-01,\n",
       "         9.3232495e-01,  0.0000000e+00,  3.2068993e-16],\n",
       "       [ 0.0000000e+00, -5.9763640e-01,  1.8023790e-01,  0.0000000e+00,\n",
       "         0.0000000e+00, -7.8124583e-01,  0.0000000e+00],\n",
       "       [-4.3631220e-01, -5.5511151e-17, -2.2204460e-16,  5.0878286e-01,\n",
       "        -2.2532563e-01, -1.3877788e-17, -7.0710677e-01],\n",
       "       [-3.5786838e-16, -4.9782813e-01,  6.8039632e-01,  1.2400618e-16,\n",
       "         8.1837114e-17,  5.3779924e-01, -8.8459581e-17],\n",
       "       [-4.3631220e-01, -4.3286940e-17, -2.2171540e-16,  5.0878286e-01,\n",
       "        -2.2532563e-01, -1.8037431e-17,  7.0710677e-01],\n",
       "       [-7.0923710e-01, -4.3286940e-17, -2.2171540e-16, -6.8392676e-01,\n",
       "        -1.7095888e-01, -1.8037431e-17, -1.0477132e-16],\n",
       "       [ 4.8989860e-16, -6.2848860e-01, -7.1033454e-01, -1.7064894e-16,\n",
       "        -2.2404199e-16,  3.1690210e-01,  1.1389929e-16]], dtype=float32)"
      ]
     },
     "execution_count": 34,
     "metadata": {},
     "output_type": "execute_result"
    }
   ],
   "source": [
    "U"
   ]
  },
  {
   "cell_type": "code",
   "execution_count": 37,
   "id": "4da9763f-95ca-451b-b0fa-0baf83579b88",
   "metadata": {},
   "outputs": [
    {
     "data": {
      "image/png": "[encoded data removed]",
      "text/plain": [
       "<Figure size 640x480 with 1 Axes>"
      ]
     },
     "metadata": {},
     "output_type": "display_data"
    }
   ],
   "source": [
    "# 用二维向量表示各个单词，并画在图上\n",
    "import matplotlib.pyplot as plt\n",
    "for word, word_id in word_to_id.items():\n",
    "    plt.annotate(word, (U[word_id, 0], U[word_id, 1]))\n",
    "plt.scatter(U[:, 0], U[:, 1], alpha=0.5)\n",
    "plt.show()"
   ]
  },
  {
   "cell_type": "markdown",
   "id": "b684b8a9-a65d-4144-9b10-670b87f098f1",
   "metadata": {},
   "source": [
    "### word2vec"
   ]
  },
  {
   "cell_type": "code",
   "execution_count": null,
   "id": "9ec8b3d3-220c-4aa4-8606-ae9ca7cd6d6c",
   "metadata": {},
   "outputs": [],
   "source": []
  }
 ],
 "metadata": {
  "kernelspec": {
   "display_name": "Python 3 (ipykernel)",
   "language": "python",
   "name": "python3"
  },
  "language_info": {
   "codemirror_mode": {
    "name": "ipython",
    "version": 3
   },
   "file_extension": ".py",
   "mimetype": "text/x-python",
   "name": "python",
   "nbconvert_exporter": "python",
   "pygments_lexer": "ipython3",
   "version": "3.11.5"
  }
 },
 "nbformat": 4,
 "nbformat_minor": 5
}
